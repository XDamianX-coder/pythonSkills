{
 "cells": [
  {
   "cell_type": "code",
   "execution_count": 1,
   "metadata": {},
   "outputs": [],
   "source": [
    "from rdkit import Chem"
   ]
  },
  {
   "cell_type": "code",
   "execution_count": 2,
   "metadata": {},
   "outputs": [],
   "source": [
    "from __future__ import print_function"
   ]
  },
  {
   "cell_type": "code",
   "execution_count": 3,
   "metadata": {},
   "outputs": [],
   "source": [
    "from rdkit.Chem.Draw import IPythonConsole\n",
    "from rdkit.Chem import Draw\n",
    "IPythonConsole.ipython_useSVG=True"
   ]
  },
  {
   "cell_type": "code",
   "execution_count": 4,
   "metadata": {},
   "outputs": [],
   "source": [
    "from rdkit.Chem.Draw import IPythonConsole"
   ]
  },
  {
   "cell_type": "code",
   "execution_count": 5,
   "metadata": {},
   "outputs": [],
   "source": [
    "from rdkit.Chem import Draw"
   ]
  },
  {
   "cell_type": "code",
   "execution_count": 6,
   "metadata": {},
   "outputs": [],
   "source": [
    "import pandas as pd"
   ]
  },
  {
   "cell_type": "code",
   "execution_count": 7,
   "metadata": {},
   "outputs": [],
   "source": [
    "from rdkit.Chem import Descriptors"
   ]
  },
  {
   "cell_type": "code",
   "execution_count": 8,
   "metadata": {},
   "outputs": [
    {
     "ename": "ModuleNotFoundError",
     "evalue": "No module named 'sampleMolecues'",
     "output_type": "error",
     "traceback": [
      "\u001b[1;31m---------------------------------------------------------------------------\u001b[0m",
      "\u001b[1;31mModuleNotFoundError\u001b[0m                       Traceback (most recent call last)",
      "\u001b[1;32m<ipython-input-8-4a92fc419736>\u001b[0m in \u001b[0;36m<module>\u001b[1;34m\u001b[0m\n\u001b[1;32m----> 1\u001b[1;33m \u001b[1;32mimport\u001b[0m \u001b[0msampleMolecues\u001b[0m\u001b[1;33m.\u001b[0m\u001b[0mcsv\u001b[0m\u001b[1;33m\u001b[0m\u001b[1;33m\u001b[0m\u001b[0m\n\u001b[0m",
      "\u001b[1;31mModuleNotFoundError\u001b[0m: No module named 'sampleMolecues'"
     ]
    }
   ],
   "source": [
    "import sampleMolecues.csv"
   ]
  },
  {
   "cell_type": "code",
   "execution_count": 9,
   "metadata": {},
   "outputs": [],
   "source": [
    "data = pd.read_csv(\"sampleMolecules.csv\", index_col = \"canonicalSmiles\")"
   ]
  },
  {
   "cell_type": "code",
   "execution_count": 10,
   "metadata": {},
   "outputs": [],
   "source": [
    "df = pd.DataFrame(data)"
   ]
  },
  {
   "cell_type": "code",
   "execution_count": 11,
   "metadata": {},
   "outputs": [
    {
     "name": "stdout",
     "output_type": "stream",
     "text": [
      "                                                    molregNoMin  \\\n",
      "canonicalSmiles                                                   \n",
      "CNC(=S)NN=C(c1ccc(OC)c(OC)c1)c1cccc(C)n1                1522827   \n",
      "Cn1cc(C2=C(c3cccc(NCC(O)CO)c3)C(=O)NC2=O)c2cc(C...       612901   \n",
      "CC(C)c1cccc(C(C)C)c1-n1sc2ncccc2c1=O                     171018   \n",
      "O=S(=O)(Nc1ccc(CCNCC(O)COc2ccc(O)cc2)cc1)c1ccc(...        11414   \n",
      "CC(=CCCC1=CC(=O)OC1O)CC=C(C)CCC1=C(C)CCCC1(C)C           135826   \n",
      "CNC(=O)C1(C)CCC2(C)CCC3(C)C4=CC=C5C(=CC(=O)C(O)...      1840523   \n",
      "C#Cc1cncc(-c2ccsc2)c1                                   1973470   \n",
      "C=C(C)C(O)C(O)CC(C)C1=C2C=CC3C4(C)CCC(=O)C(C)(C...      1970195   \n",
      "CNCCCOc1c(Br)cc(-c2c[nH]c(=O)c(Cc3c[nH]c4ccccc3...      1576644   \n",
      "\n",
      "                                                    molregNoCount  \\\n",
      "canonicalSmiles                                                     \n",
      "CNC(=S)NN=C(c1ccc(OC)c(OC)c1)c1cccc(C)n1                        2   \n",
      "Cn1cc(C2=C(c3cccc(NCC(O)CO)c3)C(=O)NC2=O)c2cc(C...              2   \n",
      "CC(C)c1cccc(C(C)C)c1-n1sc2ncccc2c1=O                            1   \n",
      "O=S(=O)(Nc1ccc(CCNCC(O)COc2ccc(O)cc2)cc1)c1ccc(...              4   \n",
      "CC(=CCCC1=CC(=O)OC1O)CC=C(C)CCC1=C(C)CCCC1(C)C                  1   \n",
      "CNC(=O)C1(C)CCC2(C)CCC3(C)C4=CC=C5C(=CC(=O)C(O)...              5   \n",
      "C#Cc1cncc(-c2ccsc2)c1                                           1   \n",
      "C=C(C)C(O)C(O)CC(C)C1=C2C=CC3C4(C)CCC(=O)C(C)(C...              1   \n",
      "CNCCCOc1c(Br)cc(-c2c[nH]c(=O)c(Cc3c[nH]c4ccccc3...              3   \n",
      "\n",
      "                                                                                         chemblSmiles  \\\n",
      "canonicalSmiles                                                                                         \n",
      "CNC(=S)NN=C(c1ccc(OC)c(OC)c1)c1cccc(C)n1                  CNC(=S)N\\N=C(\\c1ccc(OC)c(OC)c1)/c2cccc(C)n2   \n",
      "Cn1cc(C2=C(c3cccc(NCC(O)CO)c3)C(=O)NC2=O)c2cc(C...  Cn1cc(C2=C(C(=O)NC2=O)c3cccc(NCC(O)CO)c3)c4cc(...   \n",
      "CC(C)c1cccc(C(C)C)c1-n1sc2ncccc2c1=O                              CC(C)c1cccc(C(C)C)c1N2Sc3ncccc3C2=O   \n",
      "O=S(=O)(Nc1ccc(CCNCC(O)COc2ccc(O)cc2)cc1)c1ccc(...  O[C@@H](CNCCc1ccc(NS(=O)(=O)c2ccc(I)cc2)cc1)CO...   \n",
      "CC(=CCCC1=CC(=O)OC1O)CC=C(C)CCC1=C(C)CCCC1(C)C      C\\C(=C/C\\C(=C\\CCC1=CC(=O)OC1O)\\C)\\CCC2=C(C)CCC...   \n",
      "CNC(=O)C1(C)CCC2(C)CCC3(C)C4=CC=C5C(=CC(=O)C(O)...  CNC(=O)[C@]1(C)CC[C@]2(C)CC[C@]3(C)C4=CC=C5C(=...   \n",
      "C#Cc1cncc(-c2ccsc2)c1                                                            C#Cc1cncc(c1)c2ccsc2   \n",
      "C=C(C)C(O)C(O)CC(C)C1=C2C=CC3C4(C)CCC(=O)C(C)(C...  C[C@H](C[C@H](O)[C@H](O)C(=C)C)C1=C2C=C[C@H]3[...   \n",
      "CNCCCOc1c(Br)cc(-c2c[nH]c(=O)c(Cc3c[nH]c4ccccc3...  CNCCCOc1c(Br)cc(cc1Br)C2=CNC(=O)C(=N2)Cc3c[nH]...   \n",
      "\n",
      "                                                    standardMin  standardMax  \\\n",
      "canonicalSmiles                                                                \n",
      "CNC(=S)NN=C(c1ccc(OC)c(OC)c1)c1cccc(C)n1                 6250.0       6250.0   \n",
      "Cn1cc(C2=C(c3cccc(NCC(O)CO)c3)C(=O)NC2=O)c2cc(C...          0.4        260.0   \n",
      "CC(C)c1cccc(C(C)C)c1-n1sc2ncccc2c1=O                    12000.0      12000.0   \n",
      "O=S(=O)(Nc1ccc(CCNCC(O)COc2ccc(O)cc2)cc1)c1ccc(...        120.0        170.0   \n",
      "CC(=CCCC1=CC(=O)OC1O)CC=C(C)CCC1=C(C)CCCC1(C)C         990000.0     990000.0   \n",
      "CNC(=O)C1(C)CCC2(C)CCC3(C)C4=CC=C5C(=CC(=O)C(O)...       7620.0      24100.0   \n",
      "C#Cc1cncc(-c2ccsc2)c1                                   12900.0      12900.0   \n",
      "C=C(C)C(O)C(O)CC(C)C1=C2C=CC3C4(C)CCC(=O)C(C)(C...       8680.0       8680.0   \n",
      "CNCCCOc1c(Br)cc(-c2c[nH]c(=O)c(Cc3c[nH]c4ccccc3...       4000.0       5770.0   \n",
      "\n",
      "                                                    standardMean  \\\n",
      "canonicalSmiles                                                    \n",
      "CNC(=S)NN=C(c1ccc(OC)c(OC)c1)c1cccc(C)n1                  6250.0   \n",
      "Cn1cc(C2=C(c3cccc(NCC(O)CO)c3)C(=O)NC2=O)c2cc(C...         130.2   \n",
      "CC(C)c1cccc(C(C)C)c1-n1sc2ncccc2c1=O                     12000.0   \n",
      "O=S(=O)(Nc1ccc(CCNCC(O)COc2ccc(O)cc2)cc1)c1ccc(...         145.0   \n",
      "CC(=CCCC1=CC(=O)OC1O)CC=C(C)CCC1=C(C)CCCC1(C)C          990000.0   \n",
      "CNC(=O)C1(C)CCC2(C)CCC3(C)C4=CC=C5C(=CC(=O)C(O)...       13360.0   \n",
      "C#Cc1cncc(-c2ccsc2)c1                                    12900.0   \n",
      "C=C(C)C(O)C(O)CC(C)C1=C2C=CC3C4(C)CCC(=O)C(C)(C...        8680.0   \n",
      "CNCCCOc1c(Br)cc(-c2c[nH]c(=O)c(Cc3c[nH]c4ccccc3...        4700.0   \n",
      "\n",
      "                                                    publishedMain  \\\n",
      "canonicalSmiles                                                     \n",
      "CNC(=S)NN=C(c1ccc(OC)c(OC)c1)c1cccc(C)n1                     6.25   \n",
      "Cn1cc(C2=C(c3cccc(NCC(O)CO)c3)C(=O)NC2=O)c2cc(C...           0.40   \n",
      "CC(C)c1cccc(C(C)C)c1-n1sc2ncccc2c1=O                        12.00   \n",
      "O=S(=O)(Nc1ccc(CCNCC(O)COc2ccc(O)cc2)cc1)c1ccc(...         120.00   \n",
      "CC(=CCCC1=CC(=O)OC1O)CC=C(C)CCC1=C(C)CCCC1(C)C             990.00   \n",
      "CNC(=O)C1(C)CCC2(C)CCC3(C)C4=CC=C5C(=CC(=O)C(O)...           7.62   \n",
      "C#Cc1cncc(-c2ccsc2)c1                                    12900.00   \n",
      "C=C(C)C(O)C(O)CC(C)C1=C2C=CC3C4(C)CCC(=O)C(C)(C...           8.68   \n",
      "CNCCCOc1c(Br)cc(-c2c[nH]c(=O)c(Cc3c[nH]c4ccccc3...           4.00   \n",
      "\n",
      "                                                    publishedMax  \\\n",
      "canonicalSmiles                                                    \n",
      "CNC(=S)NN=C(c1ccc(OC)c(OC)c1)c1cccc(C)n1                    6.25   \n",
      "Cn1cc(C2=C(c3cccc(NCC(O)CO)c3)C(=O)NC2=O)c2cc(C...        260.00   \n",
      "CC(C)c1cccc(C(C)C)c1-n1sc2ncccc2c1=O                       12.00   \n",
      "O=S(=O)(Nc1ccc(CCNCC(O)COc2ccc(O)cc2)cc1)c1ccc(...        170.00   \n",
      "CC(=CCCC1=CC(=O)OC1O)CC=C(C)CCC1=C(C)CCCC1(C)C            990.00   \n",
      "CNC(=O)C1(C)CCC2(C)CCC3(C)C4=CC=C5C(=CC(=O)C(O)...         24.10   \n",
      "C#Cc1cncc(-c2ccsc2)c1                                   12900.00   \n",
      "C=C(C)C(O)C(O)CC(C)C1=C2C=CC3C4(C)CCC(=O)C(C)(C...          8.68   \n",
      "CNCCCOc1c(Br)cc(-c2c[nH]c(=O)c(Cc3c[nH]c4ccccc3...          5.77   \n",
      "\n",
      "                                                    publishedMean  \\\n",
      "canonicalSmiles                                                     \n",
      "CNC(=S)NN=C(c1ccc(OC)c(OC)c1)c1cccc(C)n1                     6.25   \n",
      "Cn1cc(C2=C(c3cccc(NCC(O)CO)c3)C(=O)NC2=O)c2cc(C...         130.20   \n",
      "CC(C)c1cccc(C(C)C)c1-n1sc2ncccc2c1=O                        12.00   \n",
      "O=S(=O)(Nc1ccc(CCNCC(O)COc2ccc(O)cc2)cc1)c1ccc(...         145.00   \n",
      "CC(=CCCC1=CC(=O)OC1O)CC=C(C)CCC1=C(C)CCCC1(C)C             990.00   \n",
      "CNC(=O)C1(C)CCC2(C)CCC3(C)C4=CC=C5C(=CC(=O)C(O)...          13.36   \n",
      "C#Cc1cncc(-c2ccsc2)c1                                    12900.00   \n",
      "C=C(C)C(O)C(O)CC(C)C1=C2C=CC3C4(C)CCC(=O)C(C)(C...           8.68   \n",
      "CNCCCOc1c(Br)cc(-c2c[nH]c(=O)c(Cc3c[nH]c4ccccc3...           4.70   \n",
      "\n",
      "                                                    negativeCharged  \\\n",
      "canonicalSmiles                                                       \n",
      "CNC(=S)NN=C(c1ccc(OC)c(OC)c1)c1cccc(C)n1                        0.0   \n",
      "Cn1cc(C2=C(c3cccc(NCC(O)CO)c3)C(=O)NC2=O)c2cc(C...              0.0   \n",
      "CC(C)c1cccc(C(C)C)c1-n1sc2ncccc2c1=O                            0.0   \n",
      "O=S(=O)(Nc1ccc(CCNCC(O)COc2ccc(O)cc2)cc1)c1ccc(...              0.0   \n",
      "CC(=CCCC1=CC(=O)OC1O)CC=C(C)CCC1=C(C)CCCC1(C)C                  0.0   \n",
      "CNC(=O)C1(C)CCC2(C)CCC3(C)C4=CC=C5C(=CC(=O)C(O)...              0.0   \n",
      "C#Cc1cncc(-c2ccsc2)c1                                           0.0   \n",
      "C=C(C)C(O)C(O)CC(C)C1=C2C=CC3C4(C)CCC(=O)C(C)(C...              0.0   \n",
      "CNCCCOc1c(Br)cc(-c2c[nH]c(=O)c(Cc3c[nH]c4ccccc3...              0.0   \n",
      "\n",
      "                                                    positiveCharged  \\\n",
      "canonicalSmiles                                                       \n",
      "CNC(=S)NN=C(c1ccc(OC)c(OC)c1)c1cccc(C)n1                        0.0   \n",
      "Cn1cc(C2=C(c3cccc(NCC(O)CO)c3)C(=O)NC2=O)c2cc(C...              0.0   \n",
      "CC(C)c1cccc(C(C)C)c1-n1sc2ncccc2c1=O                            0.0   \n",
      "O=S(=O)(Nc1ccc(CCNCC(O)COc2ccc(O)cc2)cc1)c1ccc(...              0.0   \n",
      "CC(=CCCC1=CC(=O)OC1O)CC=C(C)CCC1=C(C)CCCC1(C)C                  0.0   \n",
      "CNC(=O)C1(C)CCC2(C)CCC3(C)C4=CC=C5C(=CC(=O)C(O)...              0.0   \n",
      "C#Cc1cncc(-c2ccsc2)c1                                           0.0   \n",
      "C=C(C)C(O)C(O)CC(C)C1=C2C=CC3C4(C)CCC(=O)C(C)(C...              0.0   \n",
      "CNCCCOc1c(Br)cc(-c2c[nH]c(=O)c(Cc3c[nH]c4ccccc3...              0.0   \n",
      "\n",
      "                                                                  elementsSet  \\\n",
      "canonicalSmiles                                                                 \n",
      "CNC(=S)NN=C(c1ccc(OC)c(OC)c1)c1cccc(C)n1                 ['S', 'N', 'C', 'O']   \n",
      "Cn1cc(C2=C(c3cccc(NCC(O)CO)c3)C(=O)NC2=O)c2cc(C...      ['Cl', 'N', 'C', 'O']   \n",
      "CC(C)c1cccc(C(C)C)c1-n1sc2ncccc2c1=O                     ['S', 'N', 'C', 'O']   \n",
      "O=S(=O)(Nc1ccc(CCNCC(O)COc2ccc(O)cc2)cc1)c1ccc(...  ['N', 'S', 'C', 'O', 'I']   \n",
      "CC(=CCCC1=CC(=O)OC1O)CC=C(C)CCC1=C(C)CCCC1(C)C                     ['C', 'O']   \n",
      "CNC(=O)C1(C)CCC2(C)CCC3(C)C4=CC=C5C(=CC(=O)C(O)...            ['N', 'C', 'O']   \n",
      "C#Cc1cncc(-c2ccsc2)c1                                         ['S', 'N', 'C']   \n",
      "C=C(C)C(O)C(O)CC(C)C1=C2C=CC3C4(C)CCC(=O)C(C)(C...                 ['C', 'O']   \n",
      "CNCCCOc1c(Br)cc(-c2c[nH]c(=O)c(Cc3c[nH]c4ccccc3...      ['Br', 'N', 'C', 'O']   \n",
      "\n",
      "                                                    numberOfRings  \\\n",
      "canonicalSmiles                                                     \n",
      "CNC(=S)NN=C(c1ccc(OC)c(OC)c1)c1cccc(C)n1                      2.0   \n",
      "Cn1cc(C2=C(c3cccc(NCC(O)CO)c3)C(=O)NC2=O)c2cc(C...            4.0   \n",
      "CC(C)c1cccc(C(C)C)c1-n1sc2ncccc2c1=O                          3.0   \n",
      "O=S(=O)(Nc1ccc(CCNCC(O)COc2ccc(O)cc2)cc1)c1ccc(...            3.0   \n",
      "CC(=CCCC1=CC(=O)OC1O)CC=C(C)CCC1=C(C)CCCC1(C)C                2.0   \n",
      "CNC(=O)C1(C)CCC2(C)CCC3(C)C4=CC=C5C(=CC(=O)C(O)...            5.0   \n",
      "C#Cc1cncc(-c2ccsc2)c1                                         2.0   \n",
      "C=C(C)C(O)C(O)CC(C)C1=C2C=CC3C4(C)CCC(=O)C(C)(C...            4.0   \n",
      "CNCCCOc1c(Br)cc(-c2c[nH]c(=O)c(Cc3c[nH]c4ccccc3...            4.0   \n",
      "\n",
      "                                                    organicChemistryElementsOnly  \\\n",
      "canonicalSmiles                                                                    \n",
      "CNC(=S)NN=C(c1ccc(OC)c(OC)c1)c1cccc(C)n1                                    True   \n",
      "Cn1cc(C2=C(c3cccc(NCC(O)CO)c3)C(=O)NC2=O)c2cc(C...                          True   \n",
      "CC(C)c1cccc(C(C)C)c1-n1sc2ncccc2c1=O                                        True   \n",
      "O=S(=O)(Nc1ccc(CCNCC(O)COc2ccc(O)cc2)cc1)c1ccc(...                          True   \n",
      "CC(=CCCC1=CC(=O)OC1O)CC=C(C)CCC1=C(C)CCCC1(C)C                              True   \n",
      "CNC(=O)C1(C)CCC2(C)CCC3(C)C4=CC=C5C(=CC(=O)C(O)...                          True   \n",
      "C#Cc1cncc(-c2ccsc2)c1                                                       True   \n",
      "C=C(C)C(O)C(O)CC(C)C1=C2C=CC3C4(C)CCC(=O)C(C)(C...                          True   \n",
      "CNCCCOc1c(Br)cc(-c2c[nH]c(=O)c(Cc3c[nH]c4ccccc3...                          True   \n",
      "\n",
      "                                                    smilesLength  \\\n",
      "canonicalSmiles                                                    \n",
      "CNC(=S)NN=C(c1ccc(OC)c(OC)c1)c1cccc(C)n1                      40   \n",
      "Cn1cc(C2=C(c3cccc(NCC(O)CO)c3)C(=O)NC2=O)c2cc(C...            54   \n",
      "CC(C)c1cccc(C(C)C)c1-n1sc2ncccc2c1=O                          36   \n",
      "O=S(=O)(Nc1ccc(CCNCC(O)COc2ccc(O)cc2)cc1)c1ccc(...            52   \n",
      "CC(=CCCC1=CC(=O)OC1O)CC=C(C)CCC1=C(C)CCCC1(C)C                46   \n",
      "CNC(=O)C1(C)CCC2(C)CCC3(C)C4=CC=C5C(=CC(=O)C(O)...            68   \n",
      "C#Cc1cncc(-c2ccsc2)c1                                         21   \n",
      "C=C(C)C(O)C(O)CC(C)C1=C2C=CC3C4(C)CCC(=O)C(C)(C...            67   \n",
      "CNCCCOc1c(Br)cc(-c2c[nH]c(=O)c(Cc3c[nH]c4ccccc3...            57   \n",
      "\n",
      "                                                                                        encodedSmiles  \\\n",
      "canonicalSmiles                                                                                         \n",
      "CNC(=S)NN=C(c1ccc(OC)c(OC)c1)c1cccc(C)n1                     CNC(=S)NN=C(c1ccc(OC)c(OC)c1)c1cccc(C)n1   \n",
      "Cn1cc(C2=C(c3cccc(NCC(O)CO)c3)C(=O)NC2=O)c2cc(C...  Cn1cc(C2=C(c3cccc(NCC(O)CO)c3)C(=O)NC2=O)c2cc(...   \n",
      "CC(C)c1cccc(C(C)C)c1-n1sc2ncccc2c1=O                             CC(C)c1cccc(C(C)C)c1-n1sc2ncccc2c1=O   \n",
      "O=S(=O)(Nc1ccc(CCNCC(O)COc2ccc(O)cc2)cc1)c1ccc(...  O=S(=O)(Nc1ccc(CCNCC(O)COc2ccc(O)cc2)cc1)c1ccc...   \n",
      "CC(=CCCC1=CC(=O)OC1O)CC=C(C)CCC1=C(C)CCCC1(C)C         CC(=CCCC1=CC(=O)OC1O)CC=C(C)CCC1=C(C)CCCC1(C)C   \n",
      "CNC(=O)C1(C)CCC2(C)CCC3(C)C4=CC=C5C(=CC(=O)C(O)...  CNC(=O)C1(C)CCC2(C)CCC3(C)C4=CC=C5C(=CC(=O)C(O...   \n",
      "C#Cc1cncc(-c2ccsc2)c1                                                           C#Cc1cncc(-c2ccsc2)c1   \n",
      "C=C(C)C(O)C(O)CC(C)C1=C2C=CC3C4(C)CCC(=O)C(C)(C...  C=C(C)C(O)C(O)CC(C)C1=C2C=CC3C4(C)CCC(=O)C(C)(...   \n",
      "CNCCCOc1c(Br)cc(-c2c[nH]c(=O)c(Cc3c[nH]c4ccccc3...  CNCCCOc1c(G)cc(-c2cWc(=O)c(Cc3cWc4ccccc34)n2)cc1G   \n",
      "\n",
      "                                                                           encodedSmilesPostprocessed  \n",
      "canonicalSmiles                                                                                        \n",
      "CNC(=S)NN=C(c1ccc(OC)c(OC)c1)c1cccc(C)n1                    CNC(=S)NN=C(c1ccc(OC)c(OC)c1)c1cccc(C)n1Q  \n",
      "Cn1cc(C2=C(c3cccc(NCC(O)CO)c3)C(=O)NC2=O)c2cc(C...  Cn1cc(C2=C(c3cccc(NCC(O)CO)c3)C(=O)NC2=O)c2cc(...  \n",
      "CC(C)c1cccc(C(C)C)c1-n1sc2ncccc2c1=O                            CC(C)c1cccc(C(C)C)c1-n1sc2ncccc2c1=OQ  \n",
      "O=S(=O)(Nc1ccc(CCNCC(O)COc2ccc(O)cc2)cc1)c1ccc(...  O=S(=O)(Nc1ccc(CCNCC(O)COc2ccc(O)cc2)cc1)c1ccc...  \n",
      "CC(=CCCC1=CC(=O)OC1O)CC=C(C)CCC1=C(C)CCCC1(C)C        CC(=CCCC1=CC(=O)OC1O)CC=C(C)CCC1=C(C)CCCC1(C)CQ  \n",
      "CNC(=O)C1(C)CCC2(C)CCC3(C)C4=CC=C5C(=CC(=O)C(O)...  CNC(=O)C1(C)CCC2(C)CCC3(C)C4=CC=C5C(=CC(=O)C(O...  \n",
      "C#Cc1cncc(-c2ccsc2)c1                                                          C#Cc1cncc(-c2ccsc2)c1Q  \n",
      "C=C(C)C(O)C(O)CC(C)C1=C2C=CC3C4(C)CCC(=O)C(C)(C...  C=C(C)C(O)C(O)CC(C)C1=C2C=CC3C4(C)CCC(=O)C(C)(...  \n",
      "CNCCCOc1c(Br)cc(-c2c[nH]c(=O)c(Cc3c[nH]c4ccccc3...  CNCCCOc1c(G)cc(-c2cWc(=O)c(Cc3cWc4ccccc34)n2)c...  \n"
     ]
    }
   ],
   "source": [
    "print(df)"
   ]
  },
  {
   "cell_type": "code",
   "execution_count": 12,
   "metadata": {},
   "outputs": [],
   "source": [
    "def calculateDescriptors(smilesCode):\n",
    "    \"CNC(=S)NN=C(c1ccc(OC)c(OC)c1)c1cccc(C)n1\"\n",
    "    \"Cn1cc(C2=C(c3cccc(NCC(O)CO)c3)C(=O)NC2=O)c2cc(Cl)ccc21\"\n",
    "    \"CC(C)c1cccc(C(C)C)c1-n1sc2ncccc2c1=O\"\n",
    "    \"O=S(=O)(Nc1ccc(CCNCC(O)COc2ccc(O)cc2)cc1)c1ccc(I)cc1\"\n",
    "    \"CC(=CCCC1=CC(=O)OC1O)CC=C(C)CCC1=C(C)CCCC1(C)C\"\n",
    "    \"CNC(=O)C1(C)CCC2(C)CCC3(C)C4=CC=C5C(=CC(=O)C(O)=C5C)C4(C)CCC3(C)C2C1\"\n",
    "    \"C#Cc1cncc(-c2ccsc2)c1\"\n",
    "    \"C=C(C)C(O)C(O)CC(C)C1=C2C=CC3C4(C)CCC(=O)C(C)(C)C4CCC3(C)C2(C)CC1=O\"\n",
    "    \"CNCCCOc1c(Br)cc(-c2c[nH]c(=O)c(Cc3c[nH]c4ccccc34)n2)cc1Br\"\n",
    "    return [molecularWeight, numberOfValenceElectrons]"
   ]
  },
  {
   "cell_type": "code",
   "execution_count": 18,
   "metadata": {},
   "outputs": [
    {
     "name": "stdout",
     "output_type": "stream",
     "text": [
      "CanonicalSmiles Cn1cc(C2=C(c3cccc(NCC(O)CO)c3)C(=O)NC2=O)c2cc(Cl)ccc21\n",
      "CanonicalSmiles Cn1cc(C2=C(c3cccc(NCC(O)CO)c3)C(=O)NC2=O)c2cc(Cl)ccc21\n",
      "CanonicalSmiles Cn1cc(C2=C(c3cccc(NCC(O)CO)c3)C(=O)NC2=O)c2cc(Cl)ccc21\n",
      "CanonicalSmiles Cn1cc(C2=C(c3cccc(NCC(O)CO)c3)C(=O)NC2=O)c2cc(Cl)ccc21\n",
      "CanonicalSmiles Cn1cc(C2=C(c3cccc(NCC(O)CO)c3)C(=O)NC2=O)c2cc(Cl)ccc21\n",
      "CanonicalSmiles Cn1cc(C2=C(c3cccc(NCC(O)CO)c3)C(=O)NC2=O)c2cc(Cl)ccc21\n",
      "CanonicalSmiles Cn1cc(C2=C(c3cccc(NCC(O)CO)c3)C(=O)NC2=O)c2cc(Cl)ccc21\n",
      "CanonicalSmiles Cn1cc(C2=C(c3cccc(NCC(O)CO)c3)C(=O)NC2=O)c2cc(Cl)ccc21\n",
      "CanonicalSmiles Cn1cc(C2=C(c3cccc(NCC(O)CO)c3)C(=O)NC2=O)c2cc(Cl)ccc21\n"
     ]
    }
   ],
   "source": [
    "SmilesCode = [\"CNC(=S)NN=C(c1ccc(OC)c(OC)c1)c1cccc(C)n1\", \"Cn1cc(C2=C(c3cccc(NCC(O)CO)c3)C(=O)NC2=O)c2cc(Cl)ccc21\", \"CC(C)c1cccc(C(C)C)c1-n1sc2ncccc2c1=O\", \"O=S(=O)(Nc1ccc(CCNCC(O)COc2ccc(O)cc2)cc1)c1ccc(I)cc1\", \"CC(=CCCC1=CC(=O)OC1O)CC=C(C)CCC1=C(C)CCCC1(C)C\", \"CNC(=O)C1(C)CCC2(C)CCC3(C)C4=CC=C5C(=CC(=O)C(O)=C5C)C4(C)CCC3(C)C2C1\", \"C#Cc1cncc(-c2ccsc2)c1\", \"C=C(C)C(O)C(O)CC(C)C1=C2C=CC3C4(C)CCC(=O)C(C)(C)C4CCC3(C)C2(C)CC1=O\", \"CNCCCOc1c(Br)cc(-c2c[nH]c(=O)c(Cc3c[nH]c4ccccc34)n2)cc1Br\"]\n",
    "for i in range (9):\n",
    "    print(\"CanonicalSmiles\", SmilesCode[1])"
   ]
  },
  {
   "cell_type": "markdown",
   "metadata": {},
   "source": [
    "Jeden '\"\"' za dużo"
   ]
  },
  {
   "cell_type": "code",
   "execution_count": 19,
   "metadata": {},
   "outputs": [
    {
     "name": "stdout",
     "output_type": "stream",
     "text": [
      "CanonicalSmiles CNC(=S)NN=C(c1ccc(OC)c(OC)c1)c1cccc(C)n1\n",
      "CanonicalSmiles Cn1cc(C2=C(c3cccc(NCC(O)CO)c3)C(=O)NC2=O)c2cc(Cl)ccc21\n",
      "CanonicalSmiles CC(C)c1cccc(C(C)C)c1-n1sc2ncccc2c1=O\n",
      "CanonicalSmiles O=S(=O)(Nc1ccc(CCNCC(O)COc2ccc(O)cc2)cc1)c1ccc(I)cc1\n",
      "CanonicalSmiles CC(=CCCC1=CC(=O)OC1O)CC=C(C)CCC1=C(C)CCCC1(C)C\n",
      "CanonicalSmiles CNC(=O)C1(C)CCC2(C)CCC3(C)C4=CC=C5C(=CC(=O)C(O)=C5C)C4(C)CCC3(C)C2C1\n",
      "CanonicalSmiles C#Cc1cncc(-c2ccsc2)c1\n",
      "CanonicalSmiles C=C(C)C(O)C(O)CC(C)C1=C2C=CC3C4(C)CCC(=O)C(C)(C)C4CCC3(C)C2(C)CC1=O\n",
      "CanonicalSmiles CNCCCOc1c(Br)cc(-c2c[nH]c(=O)c(Cc3c[nH]c4ccccc34)n2)cc1Br\n"
     ]
    }
   ],
   "source": [
    "SmilesCode = [\"CNC(=S)NN=C(c1ccc(OC)c(OC)c1)c1cccc(C)n1\", \"Cn1cc(C2=C(c3cccc(NCC(O)CO)c3)C(=O)NC2=O)c2cc(Cl)ccc21\", \"CC(C)c1cccc(C(C)C)c1-n1sc2ncccc2c1=O\", \"O=S(=O)(Nc1ccc(CCNCC(O)COc2ccc(O)cc2)cc1)c1ccc(I)cc1\", \"CC(=CCCC1=CC(=O)OC1O)CC=C(C)CCC1=C(C)CCCC1(C)C\", \"CNC(=O)C1(C)CCC2(C)CCC3(C)C4=CC=C5C(=CC(=O)C(O)=C5C)C4(C)CCC3(C)C2C1\", \"C#Cc1cncc(-c2ccsc2)c1\", \"C=C(C)C(O)C(O)CC(C)C1=C2C=CC3C4(C)CCC(=O)C(C)(C)C4CCC3(C)C2(C)CC1=O\", \"CNCCCOc1c(Br)cc(-c2c[nH]c(=O)c(Cc3c[nH]c4ccccc34)n2)cc1Br\"]\n",
    "for i in range (9):\n",
    "    print(\"CanonicalSmiles\", SmilesCode[i])"
   ]
  },
  {
   "cell_type": "code",
   "execution_count": 20,
   "metadata": {},
   "outputs": [
    {
     "name": "stdout",
     "output_type": "stream",
     "text": [
      "['CNC(=S)NN=C(c1ccc(OC)c(OC)c1)c1cccc(C)n1', 'Cn1cc(C2=C(c3cccc(NCC(O)CO)c3)C(=O)NC2=O)c2cc(Cl)ccc21', 'CC(C)c1cccc(C(C)C)c1-n1sc2ncccc2c1=O', 'O=S(=O)(Nc1ccc(CCNCC(O)COc2ccc(O)cc2)cc1)c1ccc(I)cc1', 'CC(=CCCC1=CC(=O)OC1O)CC=C(C)CCC1=C(C)CCCC1(C)C', 'CNC(=O)C1(C)CCC2(C)CCC3(C)C4=CC=C5C(=CC(=O)C(O)=C5C)C4(C)CCC3(C)C2C1', 'C#Cc1cncc(-c2ccsc2)c1', 'C=C(C)C(O)C(O)CC(C)C1=C2C=CC3C4(C)CCC(=O)C(C)(C)C4CCC3(C)C2(C)CC1=O', 'CNCCCOc1c(Br)cc(-c2c[nH]c(=O)c(Cc3c[nH]c4ccccc34)n2)cc1Br']\n"
     ]
    }
   ],
   "source": [
    "print(SmilesCode)"
   ]
  },
  {
   "cell_type": "code",
   "execution_count": 21,
   "metadata": {},
   "outputs": [
    {
     "ename": "NameError",
     "evalue": "name 'molecularWeight' is not defined",
     "output_type": "error",
     "traceback": [
      "\u001b[1;31m---------------------------------------------------------------------------\u001b[0m",
      "\u001b[1;31mNameError\u001b[0m                                 Traceback (most recent call last)",
      "\u001b[1;32m<ipython-input-21-201db6216375>\u001b[0m in \u001b[0;36m<module>\u001b[1;34m\u001b[0m\n\u001b[0;32m      1\u001b[0m data = {'CanonicalSmiles': [SmilesCode],\n\u001b[1;32m----> 2\u001b[1;33m        \u001b[1;34m'molecularWeight'\u001b[0m\u001b[1;33m:\u001b[0m \u001b[1;33m[\u001b[0m\u001b[0mmolecularWeight\u001b[0m\u001b[1;33m]\u001b[0m\u001b[1;33m,\u001b[0m\u001b[1;33m\u001b[0m\u001b[1;33m\u001b[0m\u001b[0m\n\u001b[0m\u001b[0;32m      3\u001b[0m         'numberOfValenceElectrons': [numberOfValenceElectrons]}\n",
      "\u001b[1;31mNameError\u001b[0m: name 'molecularWeight' is not defined"
     ]
    }
   ],
   "source": [
    "data = {'CanonicalSmiles': [SmilesCode],\n",
    "       'molecularWeight': [molecularWeight],\n",
    "        'numberOfValenceElectrons': [numberOfValenceElectrons]}"
   ]
  },
  {
   "cell_type": "code",
   "execution_count": 29,
   "metadata": {},
   "outputs": [
    {
     "ename": "SyntaxError",
     "evalue": "invalid syntax (<ipython-input-29-27c3cb17ed21>, line 1)",
     "output_type": "error",
     "traceback": [
      "\u001b[1;36m  File \u001b[1;32m\"<ipython-input-29-27c3cb17ed21>\"\u001b[1;36m, line \u001b[1;32m1\u001b[0m\n\u001b[1;33m    def calculateDescriptors(\"CNC(=S)NN=C(c1ccc(OC)c(OC)c1)c1cccc(C)n1\"\u001b[0m\n\u001b[1;37m                                                                      ^\u001b[0m\n\u001b[1;31mSyntaxError\u001b[0m\u001b[1;31m:\u001b[0m invalid syntax\n"
     ]
    }
   ],
   "source": [
    "def calculateDescriptors(\"CNC(=S)NN=C(c1ccc(OC)c(OC)c1)c1cccc(C)n1\"\n",
    "    \"Cn1cc(C2=C(c3cccc(NCC(O)CO)c3)C(=O)NC2=O)c2cc(Cl)ccc21\"\n",
    "    \"CC(C)c1cccc(C(C)C)c1-n1sc2ncccc2c1=O\"\n",
    "    \"O=S(=O)(Nc1ccc(CCNCC(O)COc2ccc(O)cc2)cc1)c1ccc(I)cc1\"\n",
    "    \"CC(=CCCC1=CC(=O)OC1O)CC=C(C)CCC1=C(C)CCCC1(C)C\"\n",
    "    \"CNC(=O)C1(C)CCC2(C)CCC3(C)C4=CC=C5C(=CC(=O)C(O)=C5C)C4(C)CCC3(C)C2C1\"\n",
    "    \"C#Cc1cncc(-c2ccsc2)c1\"\n",
    "    \"C=C(C)C(O)C(O)CC(C)C1=C2C=CC3C4(C)CCC(=O)C(C)(C)C4CCC3(C)C2(C)CC1=O\"\n",
    "    \"CNCCCOc1c(Br)cc(-c2c[nH]c(=O)c(Cc3c[nH]c4ccccc34)n2)cc1Br\"):\n",
    "    \n",
    "    \n",
    "    return [molecularWeight, numberOfValenceElectrons]"
   ]
  },
  {
   "cell_type": "code",
   "execution_count": 30,
   "metadata": {},
   "outputs": [],
   "source": [
    "def calculateDescriptors(smilesCode):\n",
    "    \"CNC(=S)NN=C(c1ccc(OC)c(OC)c1)c1cccc(C)n1\"\n",
    "    \"Cn1cc(C2=C(c3cccc(NCC(O)CO)c3)C(=O)NC2=O)c2cc(Cl)ccc21\"\n",
    "    \"CC(C)c1cccc(C(C)C)c1-n1sc2ncccc2c1=O\"\n",
    "    \"O=S(=O)(Nc1ccc(CCNCC(O)COc2ccc(O)cc2)cc1)c1ccc(I)cc1\"\n",
    "    \"CC(=CCCC1=CC(=O)OC1O)CC=C(C)CCC1=C(C)CCCC1(C)C\"\n",
    "    \"CNC(=O)C1(C)CCC2(C)CCC3(C)C4=CC=C5C(=CC(=O)C(O)=C5C)C4(C)CCC3(C)C2C1\"\n",
    "    \"C#Cc1cncc(-c2ccsc2)c1\"\n",
    "    \"C=C(C)C(O)C(O)CC(C)C1=C2C=CC3C4(C)CCC(=O)C(C)(C)C4CCC3(C)C2(C)CC1=O\"\n",
    "    \"CNCCCOc1c(Br)cc(-c2c[nH]c(=O)c(Cc3c[nH]c4ccccc34)n2)cc1Br\"\n",
    "    return [molecularWeight, numberOfValenceElectrons]"
   ]
  },
  {
   "cell_type": "code",
   "execution_count": 31,
   "metadata": {},
   "outputs": [],
   "source": [
    "def calculateDescriptors(SmilesCode):\n",
    "    return [molecularWeight, numberOfValenceElectrons]"
   ]
  },
  {
   "cell_type": "code",
   "execution_count": 32,
   "metadata": {},
   "outputs": [
    {
     "name": "stdout",
     "output_type": "stream",
     "text": [
      "['CNC(=S)NN=C(c1ccc(OC)c(OC)c1)c1cccc(C)n1', 'Cn1cc(C2=C(c3cccc(NCC(O)CO)c3)C(=O)NC2=O)c2cc(Cl)ccc21', 'CC(C)c1cccc(C(C)C)c1-n1sc2ncccc2c1=O', 'O=S(=O)(Nc1ccc(CCNCC(O)COc2ccc(O)cc2)cc1)c1ccc(I)cc1', 'CC(=CCCC1=CC(=O)OC1O)CC=C(C)CCC1=C(C)CCCC1(C)C', 'CNC(=O)C1(C)CCC2(C)CCC3(C)C4=CC=C5C(=CC(=O)C(O)=C5C)C4(C)CCC3(C)C2C1', 'C#Cc1cncc(-c2ccsc2)c1', 'C=C(C)C(O)C(O)CC(C)C1=C2C=CC3C4(C)CCC(=O)C(C)(C)C4CCC3(C)C2(C)CC1=O', 'CNCCCOc1c(Br)cc(-c2c[nH]c(=O)c(Cc3c[nH]c4ccccc34)n2)cc1Br']\n"
     ]
    }
   ],
   "source": [
    "print(SmilesCode)"
   ]
  },
  {
   "cell_type": "code",
   "execution_count": 34,
   "metadata": {},
   "outputs": [
    {
     "name": "stdout",
     "output_type": "stream",
     "text": [
      "<function calculateDescriptors at 0x00000260E12E88C8>\n"
     ]
    }
   ],
   "source": [
    "print(calculateDescriptors)"
   ]
  },
  {
   "cell_type": "code",
   "execution_count": 39,
   "metadata": {},
   "outputs": [],
   "source": [
    "def calculateDescriptors(SmilesCode):\n",
    "    return [Descriptors.MolWt[i], Descriptors.NumValenceElectrons[i]]"
   ]
  },
  {
   "cell_type": "code",
   "execution_count": 37,
   "metadata": {},
   "outputs": [
    {
     "name": "stdout",
     "output_type": "stream",
     "text": [
      "Cn1cc(C2=C(c3cccc(NCC(O)CO)c3)C(=O)NC2=O)c2cc(Cl)ccc21\n"
     ]
    }
   ],
   "source": [
    "print(SmilesCode[1])"
   ]
  },
  {
   "cell_type": "code",
   "execution_count": 40,
   "metadata": {},
   "outputs": [
    {
     "name": "stdout",
     "output_type": "stream",
     "text": [
      "CC(=CCCC1=CC(=O)OC1O)CC=C(C)CCC1=C(C)CCCC1(C)C\n"
     ]
    }
   ],
   "source": [
    "print(SmilesCode[4])"
   ]
  },
  {
   "cell_type": "code",
   "execution_count": null,
   "metadata": {},
   "outputs": [],
   "source": []
  },
  {
   "cell_type": "code",
   "execution_count": null,
   "metadata": {},
   "outputs": [],
   "source": []
  },
  {
   "cell_type": "code",
   "execution_count": null,
   "metadata": {},
   "outputs": [],
   "source": []
  },
  {
   "cell_type": "code",
   "execution_count": null,
   "metadata": {},
   "outputs": [],
   "source": []
  },
  {
   "cell_type": "code",
   "execution_count": null,
   "metadata": {},
   "outputs": [],
   "source": []
  },
  {
   "cell_type": "code",
   "execution_count": null,
   "metadata": {},
   "outputs": [],
   "source": []
  },
  {
   "cell_type": "code",
   "execution_count": null,
   "metadata": {},
   "outputs": [],
   "source": []
  },
  {
   "cell_type": "code",
   "execution_count": null,
   "metadata": {},
   "outputs": [],
   "source": []
  },
  {
   "cell_type": "code",
   "execution_count": null,
   "metadata": {},
   "outputs": [],
   "source": []
  },
  {
   "cell_type": "code",
   "execution_count": null,
   "metadata": {},
   "outputs": [],
   "source": []
  },
  {
   "cell_type": "code",
   "execution_count": null,
   "metadata": {},
   "outputs": [],
   "source": []
  },
  {
   "cell_type": "code",
   "execution_count": null,
   "metadata": {},
   "outputs": [],
   "source": []
  },
  {
   "cell_type": "code",
   "execution_count": null,
   "metadata": {},
   "outputs": [],
   "source": []
  },
  {
   "cell_type": "code",
   "execution_count": null,
   "metadata": {},
   "outputs": [],
   "source": []
  },
  {
   "cell_type": "code",
   "execution_count": null,
   "metadata": {},
   "outputs": [],
   "source": []
  },
  {
   "cell_type": "code",
   "execution_count": null,
   "metadata": {},
   "outputs": [],
   "source": []
  },
  {
   "cell_type": "code",
   "execution_count": null,
   "metadata": {},
   "outputs": [],
   "source": []
  },
  {
   "cell_type": "code",
   "execution_count": null,
   "metadata": {},
   "outputs": [],
   "source": []
  },
  {
   "cell_type": "code",
   "execution_count": null,
   "metadata": {},
   "outputs": [],
   "source": []
  },
  {
   "cell_type": "code",
   "execution_count": null,
   "metadata": {},
   "outputs": [],
   "source": []
  },
  {
   "cell_type": "code",
   "execution_count": null,
   "metadata": {},
   "outputs": [],
   "source": []
  },
  {
   "cell_type": "code",
   "execution_count": null,
   "metadata": {},
   "outputs": [],
   "source": []
  },
  {
   "cell_type": "code",
   "execution_count": null,
   "metadata": {},
   "outputs": [],
   "source": []
  },
  {
   "cell_type": "code",
   "execution_count": null,
   "metadata": {},
   "outputs": [],
   "source": []
  },
  {
   "cell_type": "code",
   "execution_count": null,
   "metadata": {},
   "outputs": [],
   "source": []
  },
  {
   "cell_type": "code",
   "execution_count": null,
   "metadata": {},
   "outputs": [],
   "source": []
  },
  {
   "cell_type": "code",
   "execution_count": null,
   "metadata": {},
   "outputs": [],
   "source": []
  },
  {
   "cell_type": "code",
   "execution_count": null,
   "metadata": {},
   "outputs": [],
   "source": []
  },
  {
   "cell_type": "code",
   "execution_count": null,
   "metadata": {},
   "outputs": [],
   "source": []
  },
  {
   "cell_type": "code",
   "execution_count": null,
   "metadata": {},
   "outputs": [],
   "source": []
  },
  {
   "cell_type": "code",
   "execution_count": null,
   "metadata": {},
   "outputs": [],
   "source": []
  },
  {
   "cell_type": "code",
   "execution_count": null,
   "metadata": {},
   "outputs": [],
   "source": []
  },
  {
   "cell_type": "code",
   "execution_count": null,
   "metadata": {},
   "outputs": [],
   "source": []
  },
  {
   "cell_type": "code",
   "execution_count": null,
   "metadata": {},
   "outputs": [],
   "source": []
  },
  {
   "cell_type": "code",
   "execution_count": null,
   "metadata": {},
   "outputs": [],
   "source": []
  },
  {
   "cell_type": "code",
   "execution_count": null,
   "metadata": {},
   "outputs": [],
   "source": []
  },
  {
   "cell_type": "code",
   "execution_count": null,
   "metadata": {},
   "outputs": [],
   "source": []
  },
  {
   "cell_type": "code",
   "execution_count": null,
   "metadata": {},
   "outputs": [],
   "source": []
  },
  {
   "cell_type": "code",
   "execution_count": null,
   "metadata": {},
   "outputs": [],
   "source": []
  },
  {
   "cell_type": "code",
   "execution_count": null,
   "metadata": {},
   "outputs": [],
   "source": []
  },
  {
   "cell_type": "code",
   "execution_count": null,
   "metadata": {},
   "outputs": [],
   "source": []
  },
  {
   "cell_type": "code",
   "execution_count": null,
   "metadata": {},
   "outputs": [],
   "source": []
  },
  {
   "cell_type": "code",
   "execution_count": null,
   "metadata": {},
   "outputs": [],
   "source": []
  },
  {
   "cell_type": "code",
   "execution_count": null,
   "metadata": {},
   "outputs": [],
   "source": []
  },
  {
   "cell_type": "code",
   "execution_count": null,
   "metadata": {},
   "outputs": [],
   "source": []
  },
  {
   "cell_type": "code",
   "execution_count": null,
   "metadata": {},
   "outputs": [],
   "source": []
  },
  {
   "cell_type": "code",
   "execution_count": null,
   "metadata": {},
   "outputs": [],
   "source": []
  },
  {
   "cell_type": "code",
   "execution_count": null,
   "metadata": {},
   "outputs": [],
   "source": []
  },
  {
   "cell_type": "code",
   "execution_count": null,
   "metadata": {},
   "outputs": [],
   "source": []
  }
 ],
 "metadata": {
  "kernelspec": {
   "display_name": "Python (testenv)",
   "language": "python",
   "name": "testenv"
  },
  "language_info": {
   "codemirror_mode": {
    "name": "ipython",
    "version": 3
   },
   "file_extension": ".py",
   "mimetype": "text/x-python",
   "name": "python",
   "nbconvert_exporter": "python",
   "pygments_lexer": "ipython3",
   "version": "3.7.3"
  }
 },
 "nbformat": 4,
 "nbformat_minor": 2
}
