{
 "cells": [
  {
   "cell_type": "code",
   "execution_count": 1,
   "metadata": {},
   "outputs": [],
   "source": [
    "import sys\n",
    "from rdkit import Chem\n",
    "from rdkit.Chem import AllChem, TorsionFingerprints\n",
    "from rdkit.ML.Cluster import Butina"
   ]
  },
  {
   "cell_type": "code",
   "execution_count": 3,
   "metadata": {},
   "outputs": [],
   "source": [
    "from rdkit import Chem\n",
    "import pandas as pd\n",
    "from rdkit.Chem import Descriptors"
   ]
  },
  {
   "cell_type": "code",
   "execution_count": 4,
   "metadata": {},
   "outputs": [],
   "source": [
    "data = pd.read_csv(\"sampleMolecules.csv\")"
   ]
  },
  {
   "cell_type": "code",
   "execution_count": 5,
   "metadata": {},
   "outputs": [
    {
     "data": {
      "text/html": [
       "<div>\n",
       "<style scoped>\n",
       "    .dataframe tbody tr th:only-of-type {\n",
       "        vertical-align: middle;\n",
       "    }\n",
       "\n",
       "    .dataframe tbody tr th {\n",
       "        vertical-align: top;\n",
       "    }\n",
       "\n",
       "    .dataframe thead th {\n",
       "        text-align: right;\n",
       "    }\n",
       "</style>\n",
       "<table border=\"1\" class=\"dataframe\">\n",
       "  <thead>\n",
       "    <tr style=\"text-align: right;\">\n",
       "      <th></th>\n",
       "      <th>molregNoMin</th>\n",
       "      <th>molregNoCount</th>\n",
       "      <th>chemblSmiles</th>\n",
       "      <th>standardMin</th>\n",
       "      <th>standardMax</th>\n",
       "      <th>standardMean</th>\n",
       "      <th>publishedMain</th>\n",
       "      <th>publishedMax</th>\n",
       "      <th>publishedMean</th>\n",
       "      <th>canonicalSmiles</th>\n",
       "      <th>negativeCharged</th>\n",
       "      <th>positiveCharged</th>\n",
       "      <th>elementsSet</th>\n",
       "      <th>numberOfRings</th>\n",
       "      <th>organicChemistryElementsOnly</th>\n",
       "      <th>smilesLength</th>\n",
       "      <th>encodedSmiles</th>\n",
       "      <th>encodedSmilesPostprocessed</th>\n",
       "    </tr>\n",
       "  </thead>\n",
       "  <tbody>\n",
       "    <tr>\n",
       "      <th>0</th>\n",
       "      <td>1522827</td>\n",
       "      <td>2</td>\n",
       "      <td>CNC(=S)N\\N=C(\\c1ccc(OC)c(OC)c1)/c2cccc(C)n2</td>\n",
       "      <td>6250.0</td>\n",
       "      <td>6250.0</td>\n",
       "      <td>6250.0</td>\n",
       "      <td>6.25</td>\n",
       "      <td>6.25</td>\n",
       "      <td>6.25</td>\n",
       "      <td>CNC(=S)NN=C(c1ccc(OC)c(OC)c1)c1cccc(C)n1</td>\n",
       "      <td>0.0</td>\n",
       "      <td>0.0</td>\n",
       "      <td>['S', 'N', 'C', 'O']</td>\n",
       "      <td>2.0</td>\n",
       "      <td>True</td>\n",
       "      <td>40</td>\n",
       "      <td>CNC(=S)NN=C(c1ccc(OC)c(OC)c1)c1cccc(C)n1</td>\n",
       "      <td>CNC(=S)NN=C(c1ccc(OC)c(OC)c1)c1cccc(C)n1Q</td>\n",
       "    </tr>\n",
       "    <tr>\n",
       "      <th>1</th>\n",
       "      <td>612901</td>\n",
       "      <td>2</td>\n",
       "      <td>Cn1cc(C2=C(C(=O)NC2=O)c3cccc(NCC(O)CO)c3)c4cc(...</td>\n",
       "      <td>0.4</td>\n",
       "      <td>260.0</td>\n",
       "      <td>130.2</td>\n",
       "      <td>0.40</td>\n",
       "      <td>260.00</td>\n",
       "      <td>130.20</td>\n",
       "      <td>Cn1cc(C2=C(c3cccc(NCC(O)CO)c3)C(=O)NC2=O)c2cc(...</td>\n",
       "      <td>0.0</td>\n",
       "      <td>0.0</td>\n",
       "      <td>['Cl', 'N', 'C', 'O']</td>\n",
       "      <td>4.0</td>\n",
       "      <td>True</td>\n",
       "      <td>54</td>\n",
       "      <td>Cn1cc(C2=C(c3cccc(NCC(O)CO)c3)C(=O)NC2=O)c2cc(...</td>\n",
       "      <td>Cn1cc(C2=C(c3cccc(NCC(O)CO)c3)C(=O)NC2=O)c2cc(...</td>\n",
       "    </tr>\n",
       "    <tr>\n",
       "      <th>2</th>\n",
       "      <td>171018</td>\n",
       "      <td>1</td>\n",
       "      <td>CC(C)c1cccc(C(C)C)c1N2Sc3ncccc3C2=O</td>\n",
       "      <td>12000.0</td>\n",
       "      <td>12000.0</td>\n",
       "      <td>12000.0</td>\n",
       "      <td>12.00</td>\n",
       "      <td>12.00</td>\n",
       "      <td>12.00</td>\n",
       "      <td>CC(C)c1cccc(C(C)C)c1-n1sc2ncccc2c1=O</td>\n",
       "      <td>0.0</td>\n",
       "      <td>0.0</td>\n",
       "      <td>['S', 'N', 'C', 'O']</td>\n",
       "      <td>3.0</td>\n",
       "      <td>True</td>\n",
       "      <td>36</td>\n",
       "      <td>CC(C)c1cccc(C(C)C)c1-n1sc2ncccc2c1=O</td>\n",
       "      <td>CC(C)c1cccc(C(C)C)c1-n1sc2ncccc2c1=OQ</td>\n",
       "    </tr>\n",
       "    <tr>\n",
       "      <th>3</th>\n",
       "      <td>11414</td>\n",
       "      <td>4</td>\n",
       "      <td>O[C@@H](CNCCc1ccc(NS(=O)(=O)c2ccc(I)cc2)cc1)CO...</td>\n",
       "      <td>120.0</td>\n",
       "      <td>170.0</td>\n",
       "      <td>145.0</td>\n",
       "      <td>120.00</td>\n",
       "      <td>170.00</td>\n",
       "      <td>145.00</td>\n",
       "      <td>O=S(=O)(Nc1ccc(CCNCC(O)COc2ccc(O)cc2)cc1)c1ccc...</td>\n",
       "      <td>0.0</td>\n",
       "      <td>0.0</td>\n",
       "      <td>['N', 'S', 'C', 'O', 'I']</td>\n",
       "      <td>3.0</td>\n",
       "      <td>True</td>\n",
       "      <td>52</td>\n",
       "      <td>O=S(=O)(Nc1ccc(CCNCC(O)COc2ccc(O)cc2)cc1)c1ccc...</td>\n",
       "      <td>O=S(=O)(Nc1ccc(CCNCC(O)COc2ccc(O)cc2)cc1)c1ccc...</td>\n",
       "    </tr>\n",
       "    <tr>\n",
       "      <th>4</th>\n",
       "      <td>135826</td>\n",
       "      <td>1</td>\n",
       "      <td>C\\C(=C/C\\C(=C\\CCC1=CC(=O)OC1O)\\C)\\CCC2=C(C)CCC...</td>\n",
       "      <td>990000.0</td>\n",
       "      <td>990000.0</td>\n",
       "      <td>990000.0</td>\n",
       "      <td>990.00</td>\n",
       "      <td>990.00</td>\n",
       "      <td>990.00</td>\n",
       "      <td>CC(=CCCC1=CC(=O)OC1O)CC=C(C)CCC1=C(C)CCCC1(C)C</td>\n",
       "      <td>0.0</td>\n",
       "      <td>0.0</td>\n",
       "      <td>['C', 'O']</td>\n",
       "      <td>2.0</td>\n",
       "      <td>True</td>\n",
       "      <td>46</td>\n",
       "      <td>CC(=CCCC1=CC(=O)OC1O)CC=C(C)CCC1=C(C)CCCC1(C)C</td>\n",
       "      <td>CC(=CCCC1=CC(=O)OC1O)CC=C(C)CCC1=C(C)CCCC1(C)CQ</td>\n",
       "    </tr>\n",
       "    <tr>\n",
       "      <th>5</th>\n",
       "      <td>1840523</td>\n",
       "      <td>5</td>\n",
       "      <td>CNC(=O)[C@]1(C)CC[C@]2(C)CC[C@]3(C)C4=CC=C5C(=...</td>\n",
       "      <td>7620.0</td>\n",
       "      <td>24100.0</td>\n",
       "      <td>13360.0</td>\n",
       "      <td>7.62</td>\n",
       "      <td>24.10</td>\n",
       "      <td>13.36</td>\n",
       "      <td>CNC(=O)C1(C)CCC2(C)CCC3(C)C4=CC=C5C(=CC(=O)C(O...</td>\n",
       "      <td>0.0</td>\n",
       "      <td>0.0</td>\n",
       "      <td>['N', 'C', 'O']</td>\n",
       "      <td>5.0</td>\n",
       "      <td>True</td>\n",
       "      <td>68</td>\n",
       "      <td>CNC(=O)C1(C)CCC2(C)CCC3(C)C4=CC=C5C(=CC(=O)C(O...</td>\n",
       "      <td>CNC(=O)C1(C)CCC2(C)CCC3(C)C4=CC=C5C(=CC(=O)C(O...</td>\n",
       "    </tr>\n",
       "    <tr>\n",
       "      <th>6</th>\n",
       "      <td>1973470</td>\n",
       "      <td>1</td>\n",
       "      <td>C#Cc1cncc(c1)c2ccsc2</td>\n",
       "      <td>12900.0</td>\n",
       "      <td>12900.0</td>\n",
       "      <td>12900.0</td>\n",
       "      <td>12900.00</td>\n",
       "      <td>12900.00</td>\n",
       "      <td>12900.00</td>\n",
       "      <td>C#Cc1cncc(-c2ccsc2)c1</td>\n",
       "      <td>0.0</td>\n",
       "      <td>0.0</td>\n",
       "      <td>['S', 'N', 'C']</td>\n",
       "      <td>2.0</td>\n",
       "      <td>True</td>\n",
       "      <td>21</td>\n",
       "      <td>C#Cc1cncc(-c2ccsc2)c1</td>\n",
       "      <td>C#Cc1cncc(-c2ccsc2)c1Q</td>\n",
       "    </tr>\n",
       "    <tr>\n",
       "      <th>7</th>\n",
       "      <td>1970195</td>\n",
       "      <td>1</td>\n",
       "      <td>C[C@H](C[C@H](O)[C@H](O)C(=C)C)C1=C2C=C[C@H]3[...</td>\n",
       "      <td>8680.0</td>\n",
       "      <td>8680.0</td>\n",
       "      <td>8680.0</td>\n",
       "      <td>8.68</td>\n",
       "      <td>8.68</td>\n",
       "      <td>8.68</td>\n",
       "      <td>C=C(C)C(O)C(O)CC(C)C1=C2C=CC3C4(C)CCC(=O)C(C)(...</td>\n",
       "      <td>0.0</td>\n",
       "      <td>0.0</td>\n",
       "      <td>['C', 'O']</td>\n",
       "      <td>4.0</td>\n",
       "      <td>True</td>\n",
       "      <td>67</td>\n",
       "      <td>C=C(C)C(O)C(O)CC(C)C1=C2C=CC3C4(C)CCC(=O)C(C)(...</td>\n",
       "      <td>C=C(C)C(O)C(O)CC(C)C1=C2C=CC3C4(C)CCC(=O)C(C)(...</td>\n",
       "    </tr>\n",
       "    <tr>\n",
       "      <th>8</th>\n",
       "      <td>1576644</td>\n",
       "      <td>3</td>\n",
       "      <td>CNCCCOc1c(Br)cc(cc1Br)C2=CNC(=O)C(=N2)Cc3c[nH]...</td>\n",
       "      <td>4000.0</td>\n",
       "      <td>5770.0</td>\n",
       "      <td>4700.0</td>\n",
       "      <td>4.00</td>\n",
       "      <td>5.77</td>\n",
       "      <td>4.70</td>\n",
       "      <td>CNCCCOc1c(Br)cc(-c2c[nH]c(=O)c(Cc3c[nH]c4ccccc...</td>\n",
       "      <td>0.0</td>\n",
       "      <td>0.0</td>\n",
       "      <td>['Br', 'N', 'C', 'O']</td>\n",
       "      <td>4.0</td>\n",
       "      <td>True</td>\n",
       "      <td>57</td>\n",
       "      <td>CNCCCOc1c(G)cc(-c2cWc(=O)c(Cc3cWc4ccccc34)n2)cc1G</td>\n",
       "      <td>CNCCCOc1c(G)cc(-c2cWc(=O)c(Cc3cWc4ccccc34)n2)c...</td>\n",
       "    </tr>\n",
       "  </tbody>\n",
       "</table>\n",
       "</div>"
      ],
      "text/plain": [
       "   molregNoMin  molregNoCount  \\\n",
       "0      1522827              2   \n",
       "1       612901              2   \n",
       "2       171018              1   \n",
       "3        11414              4   \n",
       "4       135826              1   \n",
       "5      1840523              5   \n",
       "6      1973470              1   \n",
       "7      1970195              1   \n",
       "8      1576644              3   \n",
       "\n",
       "                                        chemblSmiles  standardMin  \\\n",
       "0        CNC(=S)N\\N=C(\\c1ccc(OC)c(OC)c1)/c2cccc(C)n2       6250.0   \n",
       "1  Cn1cc(C2=C(C(=O)NC2=O)c3cccc(NCC(O)CO)c3)c4cc(...          0.4   \n",
       "2                CC(C)c1cccc(C(C)C)c1N2Sc3ncccc3C2=O      12000.0   \n",
       "3  O[C@@H](CNCCc1ccc(NS(=O)(=O)c2ccc(I)cc2)cc1)CO...        120.0   \n",
       "4  C\\C(=C/C\\C(=C\\CCC1=CC(=O)OC1O)\\C)\\CCC2=C(C)CCC...     990000.0   \n",
       "5  CNC(=O)[C@]1(C)CC[C@]2(C)CC[C@]3(C)C4=CC=C5C(=...       7620.0   \n",
       "6                               C#Cc1cncc(c1)c2ccsc2      12900.0   \n",
       "7  C[C@H](C[C@H](O)[C@H](O)C(=C)C)C1=C2C=C[C@H]3[...       8680.0   \n",
       "8  CNCCCOc1c(Br)cc(cc1Br)C2=CNC(=O)C(=N2)Cc3c[nH]...       4000.0   \n",
       "\n",
       "   standardMax  standardMean  publishedMain  publishedMax  publishedMean  \\\n",
       "0       6250.0        6250.0           6.25          6.25           6.25   \n",
       "1        260.0         130.2           0.40        260.00         130.20   \n",
       "2      12000.0       12000.0          12.00         12.00          12.00   \n",
       "3        170.0         145.0         120.00        170.00         145.00   \n",
       "4     990000.0      990000.0         990.00        990.00         990.00   \n",
       "5      24100.0       13360.0           7.62         24.10          13.36   \n",
       "6      12900.0       12900.0       12900.00      12900.00       12900.00   \n",
       "7       8680.0        8680.0           8.68          8.68           8.68   \n",
       "8       5770.0        4700.0           4.00          5.77           4.70   \n",
       "\n",
       "                                     canonicalSmiles  negativeCharged  \\\n",
       "0           CNC(=S)NN=C(c1ccc(OC)c(OC)c1)c1cccc(C)n1              0.0   \n",
       "1  Cn1cc(C2=C(c3cccc(NCC(O)CO)c3)C(=O)NC2=O)c2cc(...              0.0   \n",
       "2               CC(C)c1cccc(C(C)C)c1-n1sc2ncccc2c1=O              0.0   \n",
       "3  O=S(=O)(Nc1ccc(CCNCC(O)COc2ccc(O)cc2)cc1)c1ccc...              0.0   \n",
       "4     CC(=CCCC1=CC(=O)OC1O)CC=C(C)CCC1=C(C)CCCC1(C)C              0.0   \n",
       "5  CNC(=O)C1(C)CCC2(C)CCC3(C)C4=CC=C5C(=CC(=O)C(O...              0.0   \n",
       "6                              C#Cc1cncc(-c2ccsc2)c1              0.0   \n",
       "7  C=C(C)C(O)C(O)CC(C)C1=C2C=CC3C4(C)CCC(=O)C(C)(...              0.0   \n",
       "8  CNCCCOc1c(Br)cc(-c2c[nH]c(=O)c(Cc3c[nH]c4ccccc...              0.0   \n",
       "\n",
       "   positiveCharged                elementsSet  numberOfRings  \\\n",
       "0              0.0       ['S', 'N', 'C', 'O']            2.0   \n",
       "1              0.0      ['Cl', 'N', 'C', 'O']            4.0   \n",
       "2              0.0       ['S', 'N', 'C', 'O']            3.0   \n",
       "3              0.0  ['N', 'S', 'C', 'O', 'I']            3.0   \n",
       "4              0.0                 ['C', 'O']            2.0   \n",
       "5              0.0            ['N', 'C', 'O']            5.0   \n",
       "6              0.0            ['S', 'N', 'C']            2.0   \n",
       "7              0.0                 ['C', 'O']            4.0   \n",
       "8              0.0      ['Br', 'N', 'C', 'O']            4.0   \n",
       "\n",
       "   organicChemistryElementsOnly  smilesLength  \\\n",
       "0                          True            40   \n",
       "1                          True            54   \n",
       "2                          True            36   \n",
       "3                          True            52   \n",
       "4                          True            46   \n",
       "5                          True            68   \n",
       "6                          True            21   \n",
       "7                          True            67   \n",
       "8                          True            57   \n",
       "\n",
       "                                       encodedSmiles  \\\n",
       "0           CNC(=S)NN=C(c1ccc(OC)c(OC)c1)c1cccc(C)n1   \n",
       "1  Cn1cc(C2=C(c3cccc(NCC(O)CO)c3)C(=O)NC2=O)c2cc(...   \n",
       "2               CC(C)c1cccc(C(C)C)c1-n1sc2ncccc2c1=O   \n",
       "3  O=S(=O)(Nc1ccc(CCNCC(O)COc2ccc(O)cc2)cc1)c1ccc...   \n",
       "4     CC(=CCCC1=CC(=O)OC1O)CC=C(C)CCC1=C(C)CCCC1(C)C   \n",
       "5  CNC(=O)C1(C)CCC2(C)CCC3(C)C4=CC=C5C(=CC(=O)C(O...   \n",
       "6                              C#Cc1cncc(-c2ccsc2)c1   \n",
       "7  C=C(C)C(O)C(O)CC(C)C1=C2C=CC3C4(C)CCC(=O)C(C)(...   \n",
       "8  CNCCCOc1c(G)cc(-c2cWc(=O)c(Cc3cWc4ccccc34)n2)cc1G   \n",
       "\n",
       "                          encodedSmilesPostprocessed  \n",
       "0          CNC(=S)NN=C(c1ccc(OC)c(OC)c1)c1cccc(C)n1Q  \n",
       "1  Cn1cc(C2=C(c3cccc(NCC(O)CO)c3)C(=O)NC2=O)c2cc(...  \n",
       "2              CC(C)c1cccc(C(C)C)c1-n1sc2ncccc2c1=OQ  \n",
       "3  O=S(=O)(Nc1ccc(CCNCC(O)COc2ccc(O)cc2)cc1)c1ccc...  \n",
       "4    CC(=CCCC1=CC(=O)OC1O)CC=C(C)CCC1=C(C)CCCC1(C)CQ  \n",
       "5  CNC(=O)C1(C)CCC2(C)CCC3(C)C4=CC=C5C(=CC(=O)C(O...  \n",
       "6                             C#Cc1cncc(-c2ccsc2)c1Q  \n",
       "7  C=C(C)C(O)C(O)CC(C)C1=C2C=CC3C4(C)CCC(=O)C(C)(...  \n",
       "8  CNCCCOc1c(G)cc(-c2cWc(=O)c(Cc3cWc4ccccc34)n2)c...  "
      ]
     },
     "execution_count": 5,
     "metadata": {},
     "output_type": "execute_result"
    }
   ],
   "source": [
    "data"
   ]
  },
  {
   "cell_type": "code",
   "execution_count": 27,
   "metadata": {},
   "outputs": [],
   "source": [
    "smi_input_file = sys.argv[1]"
   ]
  },
  {
   "cell_type": "code",
   "execution_count": 28,
   "metadata": {},
   "outputs": [],
   "source": [
    "sdf_output_file = sys.argv[2]"
   ]
  },
  {
   "cell_type": "code",
   "execution_count": 29,
   "metadata": {},
   "outputs": [
    {
     "ename": "ValueError",
     "evalue": "invalid literal for int() with base 10: 'C:\\\\Users\\\\DamianAleksanderMiko\\\\Anaconda3\\\\envs\\\\testenv\\\\lib\\\\site-packages\\\\ipykernel_launcher.py'",
     "output_type": "error",
     "traceback": [
      "\u001b[1;31m---------------------------------------------------------------------------\u001b[0m",
      "\u001b[1;31mValueError\u001b[0m                                Traceback (most recent call last)",
      "\u001b[1;32m<ipython-input-29-920037447947>\u001b[0m in \u001b[0;36m<module>\u001b[1;34m\u001b[0m\n\u001b[1;32m----> 1\u001b[1;33m \u001b[0mn\u001b[0m \u001b[1;33m=\u001b[0m \u001b[0mint\u001b[0m\u001b[1;33m(\u001b[0m\u001b[0msys\u001b[0m\u001b[1;33m.\u001b[0m\u001b[0margv\u001b[0m\u001b[1;33m[\u001b[0m\u001b[1;36m0\u001b[0m\u001b[1;33m]\u001b[0m\u001b[1;33m)\u001b[0m\u001b[1;33m\u001b[0m\u001b[1;33m\u001b[0m\u001b[0m\n\u001b[0m",
      "\u001b[1;31mValueError\u001b[0m: invalid literal for int() with base 10: 'C:\\\\Users\\\\DamianAleksanderMiko\\\\Anaconda3\\\\envs\\\\testenv\\\\lib\\\\site-packages\\\\ipykernel_launcher.py'"
     ]
    }
   ],
   "source": [
    "n = int(sys.argv[0])"
   ]
  },
  {
   "cell_type": "code",
   "execution_count": null,
   "metadata": {},
   "outputs": [],
   "source": []
  },
  {
   "cell_type": "code",
   "execution_count": 19,
   "metadata": {},
   "outputs": [],
   "source": [
    "smilesCodes = data['canonicalSmiles'].values"
   ]
  },
  {
   "cell_type": "code",
   "execution_count": 22,
   "metadata": {},
   "outputs": [],
   "source": [
    "from rdkit.Chem import AllChem"
   ]
  },
  {
   "cell_type": "code",
   "execution_count": 33,
   "metadata": {},
   "outputs": [],
   "source": [
    "def addhydrogens(smilesCodes):\n",
    "    m = Chem.MolFromSmiles(smilesCodes)\n",
    "    return(Chem.MolFromSmiles(m),Chem.AddHs(m),m1_H.GetNumAtoms(m))"
   ]
  },
  {
   "cell_type": "code",
   "execution_count": 35,
   "metadata": {},
   "outputs": [
    {
     "ename": "TypeError",
     "evalue": "No registered converter was able to produce a C++ rvalue of type class std::basic_string<wchar_t,struct std::char_traits<wchar_t>,class std::allocator<wchar_t> > from this Python object of type Mol",
     "output_type": "error",
     "traceback": [
      "\u001b[1;31m---------------------------------------------------------------------------\u001b[0m",
      "\u001b[1;31mTypeError\u001b[0m                                 Traceback (most recent call last)",
      "\u001b[1;32m<ipython-input-35-b935e0767bf3>\u001b[0m in \u001b[0;36m<module>\u001b[1;34m\u001b[0m\n\u001b[1;32m----> 1\u001b[1;33m \u001b[0maddhydrogens\u001b[0m\u001b[1;33m(\u001b[0m\u001b[0msmilesCodes\u001b[0m\u001b[1;33m[\u001b[0m\u001b[1;36m1\u001b[0m\u001b[1;33m]\u001b[0m\u001b[1;33m)\u001b[0m\u001b[1;33m\u001b[0m\u001b[1;33m\u001b[0m\u001b[0m\n\u001b[0m",
      "\u001b[1;32m<ipython-input-33-29b183bb7dc9>\u001b[0m in \u001b[0;36maddhydrogens\u001b[1;34m(smilesCodes)\u001b[0m\n\u001b[0;32m      1\u001b[0m \u001b[1;32mdef\u001b[0m \u001b[0maddhydrogens\u001b[0m\u001b[1;33m(\u001b[0m\u001b[0msmilesCodes\u001b[0m\u001b[1;33m)\u001b[0m\u001b[1;33m:\u001b[0m\u001b[1;33m\u001b[0m\u001b[1;33m\u001b[0m\u001b[0m\n\u001b[0;32m      2\u001b[0m     \u001b[0mm\u001b[0m \u001b[1;33m=\u001b[0m \u001b[0mChem\u001b[0m\u001b[1;33m.\u001b[0m\u001b[0mMolFromSmiles\u001b[0m\u001b[1;33m(\u001b[0m\u001b[0msmilesCodes\u001b[0m\u001b[1;33m)\u001b[0m\u001b[1;33m\u001b[0m\u001b[1;33m\u001b[0m\u001b[0m\n\u001b[1;32m----> 3\u001b[1;33m     \u001b[1;32mreturn\u001b[0m\u001b[1;33m(\u001b[0m\u001b[0mChem\u001b[0m\u001b[1;33m.\u001b[0m\u001b[0mMolFromSmiles\u001b[0m\u001b[1;33m(\u001b[0m\u001b[0mm\u001b[0m\u001b[1;33m)\u001b[0m\u001b[1;33m,\u001b[0m\u001b[0mChem\u001b[0m\u001b[1;33m.\u001b[0m\u001b[0mAddHs\u001b[0m\u001b[1;33m(\u001b[0m\u001b[0mm\u001b[0m\u001b[1;33m)\u001b[0m\u001b[1;33m,\u001b[0m\u001b[0mm1_H\u001b[0m\u001b[1;33m.\u001b[0m\u001b[0mGetNumAtoms\u001b[0m\u001b[1;33m(\u001b[0m\u001b[0mm\u001b[0m\u001b[1;33m)\u001b[0m\u001b[1;33m)\u001b[0m\u001b[1;33m\u001b[0m\u001b[1;33m\u001b[0m\u001b[0m\n\u001b[0m",
      "\u001b[1;31mTypeError\u001b[0m: No registered converter was able to produce a C++ rvalue of type class std::basic_string<wchar_t,struct std::char_traits<wchar_t>,class std::allocator<wchar_t> > from this Python object of type Mol"
     ]
    }
   ],
   "source": [
    "addhydrogens(smilesCodes[1])"
   ]
  },
  {
   "cell_type": "code",
   "execution_count": 36,
   "metadata": {},
   "outputs": [],
   "source": [
    "def molfromsmiles(smilesCodes):\n",
    "    m = Chem.MolFromSmiles(smilesCodes)\n",
    "    return(Chem.AddHs(m))"
   ]
  },
  {
   "cell_type": "code",
   "execution_count": 37,
   "metadata": {},
   "outputs": [
    {
     "data": {
      "text/plain": [
       "<rdkit.Chem.rdchem.Mol at 0x28ceb7077b0>"
      ]
     },
     "execution_count": 37,
     "metadata": {},
     "output_type": "execute_result"
    }
   ],
   "source": [
    "molfromsmiles(smilesCodes[2])"
   ]
  },
  {
   "cell_type": "code",
   "execution_count": 38,
   "metadata": {},
   "outputs": [],
   "source": [
    "from rdkit.Chem import AllChem as Chem"
   ]
  },
  {
   "cell_type": "code",
   "execution_count": 40,
   "metadata": {},
   "outputs": [],
   "source": [
    "m = Chem.MolFromSmiles('CCC')"
   ]
  },
  {
   "cell_type": "code",
   "execution_count": 41,
   "metadata": {},
   "outputs": [
    {
     "data": {
      "text/plain": [
       "<rdkit.Chem.rdchem.Mol at 0x28ceb707ad0>"
      ]
     },
     "execution_count": 41,
     "metadata": {},
     "output_type": "execute_result"
    }
   ],
   "source": [
    "m"
   ]
  },
  {
   "cell_type": "code",
   "execution_count": 42,
   "metadata": {},
   "outputs": [],
   "source": [
    "from rdkit import Chem"
   ]
  },
  {
   "cell_type": "code",
   "execution_count": 43,
   "metadata": {},
   "outputs": [],
   "source": [
    "m = Chem.MolFromSmiles('N1C=Cc2ccccc12')"
   ]
  },
  {
   "cell_type": "code",
   "execution_count": 44,
   "metadata": {},
   "outputs": [
    {
     "ename": "NameError",
     "evalue": "name 'suppl' is not defined",
     "output_type": "error",
     "traceback": [
      "\u001b[1;31m---------------------------------------------------------------------------\u001b[0m",
      "\u001b[1;31mNameError\u001b[0m                                 Traceback (most recent call last)",
      "\u001b[1;32m<ipython-input-44-a72778bee5f5>\u001b[0m in \u001b[0;36m<module>\u001b[1;34m\u001b[0m\n\u001b[1;32m----> 1\u001b[1;33m \u001b[1;32mfor\u001b[0m \u001b[0mmol\u001b[0m \u001b[1;32min\u001b[0m \u001b[0msuppl\u001b[0m\u001b[1;33m:\u001b[0m\u001b[1;33m\u001b[0m\u001b[1;33m\u001b[0m\u001b[0m\n\u001b[0m\u001b[0;32m      2\u001b[0m     \u001b[1;32mif\u001b[0m \u001b[0mmol\u001b[0m\u001b[1;33m:\u001b[0m\u001b[1;33m\u001b[0m\u001b[1;33m\u001b[0m\u001b[0m\n\u001b[0;32m      3\u001b[0m         \u001b[0mmolH\u001b[0m \u001b[1;33m=\u001b[0m \u001b[0mChem\u001b[0m\u001b[1;33m.\u001b[0m\u001b[0mAddHs\u001b[0m\u001b[1;33m(\u001b[0m\u001b[0mmol\u001b[0m\u001b[1;33m)\u001b[0m\u001b[1;33m\u001b[0m\u001b[1;33m\u001b[0m\u001b[0m\n\u001b[0;32m      4\u001b[0m         \u001b[0mconfIds\u001b[0m \u001b[1;33m=\u001b[0m \u001b[0mAllChem\u001b[0m\u001b[1;33m.\u001b[0m\u001b[0mEmbedMultipleConfs\u001b[0m\u001b[1;33m(\u001b[0m\u001b[0mmolH\u001b[0m\u001b[1;33m,\u001b[0m \u001b[1;36m10\u001b[0m\u001b[1;33m)\u001b[0m\u001b[1;33m\u001b[0m\u001b[1;33m\u001b[0m\u001b[0m\n",
      "\u001b[1;31mNameError\u001b[0m: name 'suppl' is not defined"
     ]
    }
   ],
   "source": [
    "for mol in suppl:\n",
    "    if mol:\n",
    "        molH = Chem.AddHs(mol)\n",
    "        confIds = AllChem.EmbedMultipleConfs(molH, 10)"
   ]
  },
  {
   "cell_type": "code",
   "execution_count": null,
   "metadata": {},
   "outputs": [],
   "source": []
  },
  {
   "cell_type": "code",
   "execution_count": null,
   "metadata": {},
   "outputs": [],
   "source": []
  },
  {
   "cell_type": "code",
   "execution_count": null,
   "metadata": {},
   "outputs": [],
   "source": []
  },
  {
   "cell_type": "code",
   "execution_count": null,
   "metadata": {},
   "outputs": [],
   "source": []
  },
  {
   "cell_type": "code",
   "execution_count": null,
   "metadata": {},
   "outputs": [],
   "source": []
  },
  {
   "cell_type": "code",
   "execution_count": null,
   "metadata": {},
   "outputs": [],
   "source": []
  },
  {
   "cell_type": "code",
   "execution_count": null,
   "metadata": {},
   "outputs": [],
   "source": []
  },
  {
   "cell_type": "code",
   "execution_count": null,
   "metadata": {},
   "outputs": [],
   "source": []
  },
  {
   "cell_type": "code",
   "execution_count": null,
   "metadata": {},
   "outputs": [],
   "source": []
  },
  {
   "cell_type": "code",
   "execution_count": null,
   "metadata": {},
   "outputs": [],
   "source": []
  }
 ],
 "metadata": {
  "kernelspec": {
   "display_name": "Python (testenv)",
   "language": "python",
   "name": "testenv"
  },
  "language_info": {
   "codemirror_mode": {
    "name": "ipython",
    "version": 2
   },
   "file_extension": ".py",
   "mimetype": "text/x-python",
   "name": "python",
   "nbconvert_exporter": "python",
   "pygments_lexer": "ipython2",
   "version": "2.7.16"
  }
 },
 "nbformat": 4,
 "nbformat_minor": 2
}
