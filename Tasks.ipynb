{
 "cells": [
  {
   "cell_type": "code",
   "execution_count": 2,
   "metadata": {},
   "outputs": [
    {
     "name": "stdout",
     "output_type": "stream",
     "text": [
      "Welcome\n"
     ]
    }
   ],
   "source": [
    "print('Welcome')"
   ]
  },
  {
   "cell_type": "code",
   "execution_count": 3,
   "metadata": {},
   "outputs": [
    {
     "name": "stdout",
     "output_type": "stream",
     "text": [
      "Welcome\n"
     ]
    }
   ],
   "source": [
    "print('Welcome')"
   ]
  },
  {
   "cell_type": "code",
   "execution_count": 5,
   "metadata": {},
   "outputs": [
    {
     "name": "stdout",
     "output_type": "stream",
     "text": [
      "test\n"
     ]
    }
   ],
   "source": [
    ">>> print('test')"
   ]
  },
  {
   "cell_type": "code",
   "execution_count": 6,
   "metadata": {},
   "outputs": [
    {
     "name": "stdout",
     "output_type": "stream",
     "text": [
      "111122227778889\n"
     ]
    }
   ],
   "source": [
    ">>> print(111122227778888+1)"
   ]
  },
  {
   "cell_type": "code",
   "execution_count": 10,
   "metadata": {},
   "outputs": [
    {
     "name": "stdout",
     "output_type": "stream",
     "text": [
      "2\n"
     ]
    }
   ],
   "source": [
    ">>> print(0B10)"
   ]
  },
  {
   "cell_type": "markdown",
   "metadata": {},
   "source": [
    "interpretacja binarna"
   ]
  },
  {
   "cell_type": "code",
   "execution_count": 11,
   "metadata": {},
   "outputs": [
    {
     "name": "stdout",
     "output_type": "stream",
     "text": [
      "32\n"
     ]
    }
   ],
   "source": [
    ">>> print(0x20)"
   ]
  },
  {
   "cell_type": "markdown",
   "metadata": {},
   "source": [
    "Interpretacja heksadecymalna"
   ]
  },
  {
   "cell_type": "code",
   "execution_count": 12,
   "metadata": {},
   "outputs": [
    {
     "name": "stdout",
     "output_type": "stream",
     "text": [
      "24\n"
     ]
    }
   ],
   "source": [
    ">>> print(0o30)"
   ]
  },
  {
   "cell_type": "markdown",
   "metadata": {},
   "source": [
    "Interpretacja oktalna"
   ]
  },
  {
   "cell_type": "code",
   "execution_count": 13,
   "metadata": {},
   "outputs": [
    {
     "data": {
      "text/plain": [
       "int"
      ]
     },
     "execution_count": 13,
     "metadata": {},
     "output_type": "execute_result"
    }
   ],
   "source": [
    ">>> type(10)"
   ]
  },
  {
   "cell_type": "code",
   "execution_count": 14,
   "metadata": {},
   "outputs": [
    {
     "data": {
      "text/plain": [
       "80"
      ]
     },
     "execution_count": 14,
     "metadata": {},
     "output_type": "execute_result"
    }
   ],
   "source": [
    ">>> 0x50"
   ]
  },
  {
   "cell_type": "code",
   "execution_count": 15,
   "metadata": {},
   "outputs": [
    {
     "data": {
      "text/plain": [
       "4.3e-05"
      ]
     },
     "execution_count": 15,
     "metadata": {},
     "output_type": "execute_result"
    }
   ],
   "source": [
    ">>> 4.3e-5"
   ]
  },
  {
   "cell_type": "code",
   "execution_count": 16,
   "metadata": {},
   "outputs": [
    {
     "data": {
      "text/plain": [
       "4.3e-05"
      ]
     },
     "execution_count": 16,
     "metadata": {},
     "output_type": "execute_result"
    }
   ],
   "source": [
    ">>> float(4.3e-5)"
   ]
  },
  {
   "cell_type": "code",
   "execution_count": 17,
   "metadata": {},
   "outputs": [
    {
     "data": {
      "text/plain": [
       "5.00991"
      ]
     },
     "execution_count": 17,
     "metadata": {},
     "output_type": "execute_result"
    }
   ],
   "source": [
    "float(5.00991)"
   ]
  },
  {
   "cell_type": "code",
   "execution_count": 20,
   "metadata": {},
   "outputs": [
    {
     "data": {
      "text/plain": [
       "19699999999999998952520105158630790982190533637969951168078043752430265744300888414674596064518699958425337248888921574367554401466438211703783062277430136654950414314901067237476078979313501854408594610712093140583223949775650436842622469403736683723272881651633803587047731052800790867978061850083328"
      ]
     },
     "execution_count": 20,
     "metadata": {},
     "output_type": "execute_result"
    }
   ],
   "source": [
    ">>> int(1.97e301)"
   ]
  },
  {
   "cell_type": "markdown",
   "metadata": {},
   "source": [
    "powyższy wynik powstał z działania: 1.97X10^301"
   ]
  },
  {
   "cell_type": "code",
   "execution_count": 21,
   "metadata": {},
   "outputs": [
    {
     "data": {
      "text/plain": [
       "0.0"
      ]
     },
     "execution_count": 21,
     "metadata": {},
     "output_type": "execute_result"
    }
   ],
   "source": [
    ">>> 5e-826"
   ]
  },
  {
   "cell_type": "markdown",
   "metadata": {},
   "source": [
    "wynik jest równy 0, gdyż wartość działania 5X10^-826 jest mniejsza niż 5.0X10^-324, dla której to oznaczany jest zbiór cyfr zbliżony do zera"
   ]
  },
  {
   "cell_type": "code",
   "execution_count": 22,
   "metadata": {},
   "outputs": [
    {
     "data": {
      "text/plain": [
       "(4+5j)"
      ]
     },
     "execution_count": 22,
     "metadata": {},
     "output_type": "execute_result"
    }
   ],
   "source": [
    ">>> 4+5j"
   ]
  },
  {
   "cell_type": "markdown",
   "metadata": {},
   "source": [
    "w powyższym wyniku mamy część rzeczywistą oraz urojoną (oznaczoną za pomocą litery \"j\") "
   ]
  },
  {
   "cell_type": "code",
   "execution_count": 23,
   "metadata": {},
   "outputs": [
    {
     "data": {
      "text/plain": [
       "(3+7j)"
      ]
     },
     "execution_count": 23,
     "metadata": {},
     "output_type": "execute_result"
    }
   ],
   "source": [
    "complex(3+7j)"
   ]
  },
  {
   "cell_type": "code",
   "execution_count": 24,
   "metadata": {},
   "outputs": [
    {
     "data": {
      "text/plain": [
       "(6+0j)"
      ]
     },
     "execution_count": 24,
     "metadata": {},
     "output_type": "execute_result"
    }
   ],
   "source": [
    "complex(4+2)"
   ]
  },
  {
   "cell_type": "code",
   "execution_count": 25,
   "metadata": {},
   "outputs": [
    {
     "name": "stdout",
     "output_type": "stream",
     "text": [
      "abcdh36+1\n"
     ]
    }
   ],
   "source": [
    "print('a\\\n",
    "b\\\n",
    "c\\\n",
    "d\\\n",
    "h\\\n",
    "3\\\n",
    "6+1')"
   ]
  },
  {
   "cell_type": "code",
   "execution_count": 26,
   "metadata": {},
   "outputs": [
    {
     "name": "stdout",
     "output_type": "stream",
     "text": [
      "a\tj\n"
     ]
    }
   ],
   "source": [
    "print('a\\tj')"
   ]
  },
  {
   "cell_type": "code",
   "execution_count": 31,
   "metadata": {},
   "outputs": [
    {
     "name": "stdout",
     "output_type": "stream",
     "text": [
      "a\u0007bh\n"
     ]
    }
   ],
   "source": [
    "print('a\\abh')"
   ]
  },
  {
   "cell_type": "code",
   "execution_count": 29,
   "metadata": {},
   "outputs": [
    {
     "name": "stdout",
     "output_type": "stream",
     "text": [
      "d\bh\n"
     ]
    }
   ],
   "source": [
    "print('d\\bh')"
   ]
  },
  {
   "cell_type": "code",
   "execution_count": 30,
   "metadata": {},
   "outputs": [
    {
     "name": "stdout",
     "output_type": "stream",
     "text": [
      "g\f",
      "j\n"
     ]
    }
   ],
   "source": [
    "print('g\\fj')"
   ]
  },
  {
   "cell_type": "code",
   "execution_count": 32,
   "metadata": {},
   "outputs": [
    {
     "name": "stdout",
     "output_type": "stream",
     "text": [
      "gas\n",
      "tree\n"
     ]
    }
   ],
   "source": [
    "print('gas\\ntree')"
   ]
  },
  {
   "cell_type": "code",
   "execution_count": 39,
   "metadata": {},
   "outputs": [
    {
     "ename": "SyntaxError",
     "evalue": "(unicode error) 'unicodeescape' codec can't decode bytes in position 1-10: unknown Unicode character name (<ipython-input-39-e778f4512385>, line 1)",
     "output_type": "error",
     "traceback": [
      "\u001b[1;36m  File \u001b[1;32m\"<ipython-input-39-e778f4512385>\"\u001b[1;36m, line \u001b[1;32m1\u001b[0m\n\u001b[1;33m    print('a\\N{<name>}tree')\u001b[0m\n\u001b[1;37m         ^\u001b[0m\n\u001b[1;31mSyntaxError\u001b[0m\u001b[1;31m:\u001b[0m (unicode error) 'unicodeescape' codec can't decode bytes in position 1-10: unknown Unicode character name\n"
     ]
    }
   ],
   "source": [
    "print('a\\N{<name>}tree')"
   ]
  },
  {
   "cell_type": "code",
   "execution_count": 42,
   "metadata": {},
   "outputs": [
    {
     "ename": "SyntaxError",
     "evalue": "(unicode error) 'unicodeescape' codec can't decode bytes in position 7-28: unknown Unicode character name (<ipython-input-42-b5590f8abc26>, line 1)",
     "output_type": "error",
     "traceback": [
      "\u001b[1;36m  File \u001b[1;32m\"<ipython-input-42-b5590f8abc26>\"\u001b[1;36m, line \u001b[1;32m1\u001b[0m\n\u001b[1;33m    print('\\u2192 \\N{<rightwards arrow>}')\u001b[0m\n\u001b[1;37m         ^\u001b[0m\n\u001b[1;31mSyntaxError\u001b[0m\u001b[1;31m:\u001b[0m (unicode error) 'unicodeescape' codec can't decode bytes in position 7-28: unknown Unicode character name\n"
     ]
    }
   ],
   "source": [
    ">>> print('\\u2192 \\N{<rightwards arrow>}')"
   ]
  },
  {
   "cell_type": "code",
   "execution_count": 43,
   "metadata": {},
   "outputs": [
    {
     "name": "stdout",
     "output_type": "stream",
     "text": [
      "→ →\n"
     ]
    }
   ],
   "source": [
    "print('\\u2192 \\N{rightwards arrow}')"
   ]
  },
  {
   "cell_type": "markdown",
   "metadata": {},
   "source": [
    "Problem został rozwiązany, okazuje się, że przy wskazaniu znaku, nie należy używać \"<\" \">\"."
   ]
  },
  {
   "cell_type": "code",
   "execution_count": 44,
   "metadata": {},
   "outputs": [
    {
     "name": "stdout",
     "output_type": "stream",
     "text": [
      "abc\r",
      "cca\n"
     ]
    }
   ],
   "source": [
    "print('abc\\rcca')"
   ]
  },
  {
   "cell_type": "code",
   "execution_count": 46,
   "metadata": {},
   "outputs": [
    {
     "name": "stdout",
     "output_type": "stream",
     "text": [
      "aas\tlla\n"
     ]
    }
   ],
   "source": [
    "print('aas\\tlla')"
   ]
  },
  {
   "cell_type": "code",
   "execution_count": 51,
   "metadata": {},
   "outputs": [
    {
     "name": "stdout",
     "output_type": "stream",
     "text": [
      "321ℳ\n"
     ]
    }
   ],
   "source": [
    "print('321\\u2133')"
   ]
  },
  {
   "cell_type": "code",
   "execution_count": 52,
   "metadata": {},
   "outputs": [
    {
     "name": "stdout",
     "output_type": "stream",
     "text": [
      "∢\n"
     ]
    }
   ],
   "source": [
    "print('\\u2222')"
   ]
  },
  {
   "cell_type": "code",
   "execution_count": 69,
   "metadata": {},
   "outputs": [
    {
     "name": "stdout",
     "output_type": "stream",
     "text": [
      "\u0001\n"
     ]
    }
   ],
   "source": [
    "print('\\U00000001')"
   ]
  },
  {
   "cell_type": "code",
   "execution_count": 70,
   "metadata": {},
   "outputs": [],
   "source": [
    ">>> m=300"
   ]
  },
  {
   "cell_type": "code",
   "execution_count": 72,
   "metadata": {},
   "outputs": [
    {
     "name": "stdout",
     "output_type": "stream",
     "text": [
      "300\n"
     ]
    }
   ],
   "source": [
    "print(m)"
   ]
  },
  {
   "cell_type": "code",
   "execution_count": 73,
   "metadata": {},
   "outputs": [
    {
     "data": {
      "text/plain": [
       "300"
      ]
     },
     "execution_count": 73,
     "metadata": {},
     "output_type": "execute_result"
    }
   ],
   "source": [
    ">>> m"
   ]
  },
  {
   "cell_type": "code",
   "execution_count": 88,
   "metadata": {},
   "outputs": [],
   "source": [
    ">>> a = b = c = 423"
   ]
  },
  {
   "cell_type": "code",
   "execution_count": 89,
   "metadata": {},
   "outputs": [
    {
     "name": "stdout",
     "output_type": "stream",
     "text": [
      "423 423 423\n"
     ]
    }
   ],
   "source": [
    ">>> print(a, b, c)"
   ]
  },
  {
   "cell_type": "markdown",
   "metadata": {},
   "source": [
    "Ta ilość prób została spowodowana faktem, iż chciałem wprowadzić wartość d, która miałabyć różna od a,b,c."
   ]
  },
  {
   "cell_type": "code",
   "execution_count": 90,
   "metadata": {},
   "outputs": [],
   "source": [
    "hdn = \"It's hard to learn\""
   ]
  },
  {
   "cell_type": "code",
   "execution_count": 91,
   "metadata": {},
   "outputs": [
    {
     "name": "stdout",
     "output_type": "stream",
     "text": [
      "It's hard to learn\n"
     ]
    }
   ],
   "source": [
    "print(hdn)"
   ]
  },
  {
   "cell_type": "code",
   "execution_count": 92,
   "metadata": {},
   "outputs": [],
   "source": [
    "j=500"
   ]
  },
  {
   "cell_type": "code",
   "execution_count": 93,
   "metadata": {},
   "outputs": [],
   "source": [
    "k=j"
   ]
  },
  {
   "cell_type": "code",
   "execution_count": 94,
   "metadata": {},
   "outputs": [
    {
     "data": {
      "text/plain": [
       "2947359025808"
      ]
     },
     "execution_count": 94,
     "metadata": {},
     "output_type": "execute_result"
    }
   ],
   "source": [
    "id(j)"
   ]
  },
  {
   "cell_type": "code",
   "execution_count": 95,
   "metadata": {},
   "outputs": [
    {
     "data": {
      "text/plain": [
       "2947359025808"
      ]
     },
     "execution_count": 95,
     "metadata": {},
     "output_type": "execute_result"
    }
   ],
   "source": [
    "id(k)"
   ]
  },
  {
   "cell_type": "markdown",
   "metadata": {},
   "source": [
    "obiekty j i k odwołują się do tego samego obiektu"
   ]
  },
  {
   "cell_type": "code",
   "execution_count": 96,
   "metadata": {},
   "outputs": [],
   "source": [
    "name = \"Jane\""
   ]
  },
  {
   "cell_type": "code",
   "execution_count": 97,
   "metadata": {},
   "outputs": [],
   "source": [
    "Age = \"34\""
   ]
  },
  {
   "cell_type": "code",
   "execution_count": 98,
   "metadata": {},
   "outputs": [],
   "source": [
    "has_w8 = \"True\""
   ]
  },
  {
   "cell_type": "code",
   "execution_count": 99,
   "metadata": {},
   "outputs": [
    {
     "name": "stdout",
     "output_type": "stream",
     "text": [
      "Jane 34 True\n"
     ]
    }
   ],
   "source": [
    "print(name, Age, has_w8)"
   ]
  },
  {
   "cell_type": "code",
   "execution_count": 100,
   "metadata": {},
   "outputs": [],
   "source": [
    "a = 9"
   ]
  },
  {
   "cell_type": "code",
   "execution_count": 101,
   "metadata": {},
   "outputs": [],
   "source": [
    "b = 18"
   ]
  },
  {
   "cell_type": "code",
   "execution_count": 102,
   "metadata": {},
   "outputs": [
    {
     "data": {
      "text/plain": [
       "27"
      ]
     },
     "execution_count": 102,
     "metadata": {},
     "output_type": "execute_result"
    }
   ],
   "source": [
    "a + b"
   ]
  },
  {
   "cell_type": "code",
   "execution_count": 103,
   "metadata": {},
   "outputs": [
    {
     "data": {
      "text/plain": [
       "21"
      ]
     },
     "execution_count": 103,
     "metadata": {},
     "output_type": "execute_result"
    }
   ],
   "source": [
    "a + b - 6"
   ]
  },
  {
   "cell_type": "code",
   "execution_count": 104,
   "metadata": {},
   "outputs": [
    {
     "data": {
      "text/plain": [
       "162"
      ]
     },
     "execution_count": 104,
     "metadata": {},
     "output_type": "execute_result"
    }
   ],
   "source": [
    "a * b"
   ]
  },
  {
   "cell_type": "code",
   "execution_count": 105,
   "metadata": {},
   "outputs": [
    {
     "data": {
      "text/plain": [
       "0.5"
      ]
     },
     "execution_count": 105,
     "metadata": {},
     "output_type": "execute_result"
    }
   ],
   "source": [
    "a / b"
   ]
  },
  {
   "cell_type": "code",
   "execution_count": 106,
   "metadata": {},
   "outputs": [
    {
     "data": {
      "text/plain": [
       "9"
      ]
     },
     "execution_count": 106,
     "metadata": {},
     "output_type": "execute_result"
    }
   ],
   "source": [
    "a % b"
   ]
  },
  {
   "cell_type": "code",
   "execution_count": 107,
   "metadata": {},
   "outputs": [
    {
     "data": {
      "text/plain": [
       "0"
      ]
     },
     "execution_count": 107,
     "metadata": {},
     "output_type": "execute_result"
    }
   ],
   "source": [
    "a // b"
   ]
  },
  {
   "cell_type": "code",
   "execution_count": 108,
   "metadata": {},
   "outputs": [
    {
     "data": {
      "text/plain": [
       "150094635296999121"
      ]
     },
     "execution_count": 108,
     "metadata": {},
     "output_type": "execute_result"
    }
   ],
   "source": [
    "a ** b"
   ]
  },
  {
   "cell_type": "code",
   "execution_count": 109,
   "metadata": {},
   "outputs": [
    {
     "data": {
      "text/plain": [
       "198359290368"
      ]
     },
     "execution_count": 109,
     "metadata": {},
     "output_type": "execute_result"
    }
   ],
   "source": [
    "b ** a"
   ]
  },
  {
   "cell_type": "code",
   "execution_count": 113,
   "metadata": {},
   "outputs": [],
   "source": [
    "cc = 12"
   ]
  },
  {
   "cell_type": "code",
   "execution_count": 114,
   "metadata": {},
   "outputs": [],
   "source": [
    "dd = 6"
   ]
  },
  {
   "cell_type": "code",
   "execution_count": 115,
   "metadata": {},
   "outputs": [
    {
     "data": {
      "text/plain": [
       "2"
      ]
     },
     "execution_count": 115,
     "metadata": {},
     "output_type": "execute_result"
    }
   ],
   "source": [
    "cc // dd"
   ]
  },
  {
   "cell_type": "code",
   "execution_count": 116,
   "metadata": {},
   "outputs": [
    {
     "data": {
      "text/plain": [
       "2.0"
      ]
     },
     "execution_count": 116,
     "metadata": {},
     "output_type": "execute_result"
    }
   ],
   "source": [
    "float(cc/dd)"
   ]
  },
  {
   "cell_type": "code",
   "execution_count": 117,
   "metadata": {},
   "outputs": [
    {
     "data": {
      "text/plain": [
       "72.0"
      ]
     },
     "execution_count": 117,
     "metadata": {},
     "output_type": "execute_result"
    }
   ],
   "source": [
    "float(cc*dd)"
   ]
  },
  {
   "cell_type": "code",
   "execution_count": 118,
   "metadata": {},
   "outputs": [],
   "source": [
    "a = 5"
   ]
  },
  {
   "cell_type": "code",
   "execution_count": 119,
   "metadata": {},
   "outputs": [],
   "source": [
    "v = 9"
   ]
  },
  {
   "cell_type": "code",
   "execution_count": 120,
   "metadata": {},
   "outputs": [
    {
     "data": {
      "text/plain": [
       "False"
      ]
     },
     "execution_count": 120,
     "metadata": {},
     "output_type": "execute_result"
    }
   ],
   "source": [
    "a == v"
   ]
  },
  {
   "cell_type": "code",
   "execution_count": 121,
   "metadata": {},
   "outputs": [
    {
     "data": {
      "text/plain": [
       "True"
      ]
     },
     "execution_count": 121,
     "metadata": {},
     "output_type": "execute_result"
    }
   ],
   "source": [
    "v != a"
   ]
  },
  {
   "cell_type": "markdown",
   "metadata": {},
   "source": [
    "jest różne"
   ]
  },
  {
   "cell_type": "code",
   "execution_count": 122,
   "metadata": {},
   "outputs": [
    {
     "data": {
      "text/plain": [
       "False"
      ]
     },
     "execution_count": 122,
     "metadata": {},
     "output_type": "execute_result"
    }
   ],
   "source": [
    "v < a"
   ]
  },
  {
   "cell_type": "code",
   "execution_count": 123,
   "metadata": {},
   "outputs": [
    {
     "data": {
      "text/plain": [
       "True"
      ]
     },
     "execution_count": 123,
     "metadata": {},
     "output_type": "execute_result"
    }
   ],
   "source": [
    "v > a "
   ]
  },
  {
   "cell_type": "code",
   "execution_count": 124,
   "metadata": {},
   "outputs": [
    {
     "data": {
      "text/plain": [
       "False"
      ]
     },
     "execution_count": 124,
     "metadata": {},
     "output_type": "execute_result"
    }
   ],
   "source": [
    "a >= v"
   ]
  },
  {
   "cell_type": "code",
   "execution_count": 125,
   "metadata": {},
   "outputs": [
    {
     "data": {
      "text/plain": [
       "True"
      ]
     },
     "execution_count": 125,
     "metadata": {},
     "output_type": "execute_result"
    }
   ],
   "source": [
    "a <= v"
   ]
  },
  {
   "cell_type": "code",
   "execution_count": 126,
   "metadata": {},
   "outputs": [],
   "source": [
    "x = 1.1 + 2.2"
   ]
  },
  {
   "cell_type": "code",
   "execution_count": 127,
   "metadata": {},
   "outputs": [
    {
     "data": {
      "text/plain": [
       "False"
      ]
     },
     "execution_count": 127,
     "metadata": {},
     "output_type": "execute_result"
    }
   ],
   "source": [
    "x == 3.3"
   ]
  },
  {
   "cell_type": "code",
   "execution_count": 128,
   "metadata": {},
   "outputs": [],
   "source": [
    "tolerance = 0.0001"
   ]
  },
  {
   "cell_type": "code",
   "execution_count": 129,
   "metadata": {},
   "outputs": [],
   "source": [
    "x = 1.3 + 2.0"
   ]
  },
  {
   "cell_type": "code",
   "execution_count": 130,
   "metadata": {},
   "outputs": [
    {
     "data": {
      "text/plain": [
       "True"
      ]
     },
     "execution_count": 130,
     "metadata": {},
     "output_type": "execute_result"
    }
   ],
   "source": [
    "abs(x -3.3) < tolerance"
   ]
  },
  {
   "cell_type": "code",
   "execution_count": 131,
   "metadata": {},
   "outputs": [
    {
     "data": {
      "text/plain": [
       "True"
      ]
     },
     "execution_count": 131,
     "metadata": {},
     "output_type": "execute_result"
    }
   ],
   "source": [
    "abs(x -3.1) > tolerance"
   ]
  },
  {
   "cell_type": "code",
   "execution_count": 132,
   "metadata": {},
   "outputs": [
    {
     "data": {
      "text/plain": [
       "False"
      ]
     },
     "execution_count": 132,
     "metadata": {},
     "output_type": "execute_result"
    }
   ],
   "source": [
    "abs(x -3.1) < tolerance"
   ]
  },
  {
   "cell_type": "code",
   "execution_count": 133,
   "metadata": {},
   "outputs": [],
   "source": [
    "x = 6"
   ]
  },
  {
   "cell_type": "code",
   "execution_count": 134,
   "metadata": {},
   "outputs": [
    {
     "data": {
      "text/plain": [
       "False"
      ]
     },
     "execution_count": 134,
     "metadata": {},
     "output_type": "execute_result"
    }
   ],
   "source": [
    "not x > 2"
   ]
  },
  {
   "cell_type": "code",
   "execution_count": 135,
   "metadata": {},
   "outputs": [
    {
     "data": {
      "text/plain": [
       "True"
      ]
     },
     "execution_count": 135,
     "metadata": {},
     "output_type": "execute_result"
    }
   ],
   "source": [
    "not x > 8"
   ]
  },
  {
   "cell_type": "code",
   "execution_count": 136,
   "metadata": {},
   "outputs": [
    {
     "data": {
      "text/plain": [
       "False"
      ]
     },
     "execution_count": 136,
     "metadata": {},
     "output_type": "execute_result"
    }
   ],
   "source": [
    "callable(x)"
   ]
  },
  {
   "cell_type": "code",
   "execution_count": 137,
   "metadata": {},
   "outputs": [
    {
     "data": {
      "text/plain": [
       "True"
      ]
     },
     "execution_count": 137,
     "metadata": {},
     "output_type": "execute_result"
    }
   ],
   "source": [
    "x < 10 or callable(x)"
   ]
  },
  {
   "cell_type": "code",
   "execution_count": 138,
   "metadata": {},
   "outputs": [
    {
     "data": {
      "text/plain": [
       "False"
      ]
     },
     "execution_count": 138,
     "metadata": {},
     "output_type": "execute_result"
    }
   ],
   "source": [
    "x <3 and not callable(x)"
   ]
  },
  {
   "cell_type": "code",
   "execution_count": 139,
   "metadata": {},
   "outputs": [
    {
     "name": "stdout",
     "output_type": "stream",
     "text": [
      "False True True\n"
     ]
    }
   ],
   "source": [
    "print(bool(0), bool(0.1), bool(0.1+1j))"
   ]
  },
  {
   "cell_type": "code",
   "execution_count": 140,
   "metadata": {},
   "outputs": [
    {
     "name": "stdout",
     "output_type": "stream",
     "text": [
      "True False True\n"
     ]
    }
   ],
   "source": [
    "print(bool(\"  \"), bool(''), bool('u'))"
   ]
  },
  {
   "cell_type": "code",
   "execution_count": 141,
   "metadata": {},
   "outputs": [
    {
     "data": {
      "text/plain": [
       "list"
      ]
     },
     "execution_count": 141,
     "metadata": {},
     "output_type": "execute_result"
    }
   ],
   "source": [
    "type([])"
   ]
  },
  {
   "cell_type": "code",
   "execution_count": 142,
   "metadata": {},
   "outputs": [
    {
     "data": {
      "text/plain": [
       "False"
      ]
     },
     "execution_count": 142,
     "metadata": {},
     "output_type": "execute_result"
    }
   ],
   "source": [
    "bool([])"
   ]
  },
  {
   "cell_type": "code",
   "execution_count": 143,
   "metadata": {},
   "outputs": [
    {
     "data": {
      "text/plain": [
       "list"
      ]
     },
     "execution_count": 143,
     "metadata": {},
     "output_type": "execute_result"
    }
   ],
   "source": [
    "type([1, 2, 3])"
   ]
  },
  {
   "cell_type": "code",
   "execution_count": 144,
   "metadata": {},
   "outputs": [
    {
     "data": {
      "text/plain": [
       "True"
      ]
     },
     "execution_count": 144,
     "metadata": {},
     "output_type": "execute_result"
    }
   ],
   "source": [
    "bool([1, 4, 6])"
   ]
  },
  {
   "cell_type": "code",
   "execution_count": 146,
   "metadata": {},
   "outputs": [
    {
     "data": {
      "text/plain": [
       "False"
      ]
     },
     "execution_count": 146,
     "metadata": {},
     "output_type": "execute_result"
    }
   ],
   "source": [
    "bool(None)"
   ]
  },
  {
   "cell_type": "code",
   "execution_count": 1,
   "metadata": {},
   "outputs": [],
   "source": [
    "x = 4"
   ]
  },
  {
   "cell_type": "code",
   "execution_count": 2,
   "metadata": {},
   "outputs": [
    {
     "data": {
      "text/plain": [
       "True"
      ]
     },
     "execution_count": 2,
     "metadata": {},
     "output_type": "execute_result"
    }
   ],
   "source": [
    "bool(x)"
   ]
  },
  {
   "cell_type": "code",
   "execution_count": 3,
   "metadata": {},
   "outputs": [
    {
     "data": {
      "text/plain": [
       "False"
      ]
     },
     "execution_count": 3,
     "metadata": {},
     "output_type": "execute_result"
    }
   ],
   "source": [
    "not(x)"
   ]
  },
  {
   "cell_type": "code",
   "execution_count": 4,
   "metadata": {},
   "outputs": [],
   "source": [
    "y = 0.00000"
   ]
  },
  {
   "cell_type": "code",
   "execution_count": 6,
   "metadata": {},
   "outputs": [
    {
     "data": {
      "text/plain": [
       "False"
      ]
     },
     "execution_count": 6,
     "metadata": {},
     "output_type": "execute_result"
    }
   ],
   "source": [
    "bool(y)"
   ]
  },
  {
   "cell_type": "code",
   "execution_count": 7,
   "metadata": {},
   "outputs": [
    {
     "data": {
      "text/plain": [
       "True"
      ]
     },
     "execution_count": 7,
     "metadata": {},
     "output_type": "execute_result"
    }
   ],
   "source": [
    "not(y)"
   ]
  },
  {
   "cell_type": "code",
   "execution_count": 8,
   "metadata": {},
   "outputs": [
    {
     "data": {
      "text/plain": [
       "4"
      ]
     },
     "execution_count": 8,
     "metadata": {},
     "output_type": "execute_result"
    }
   ],
   "source": [
    "x or y"
   ]
  },
  {
   "cell_type": "code",
   "execution_count": 9,
   "metadata": {},
   "outputs": [
    {
     "data": {
      "text/plain": [
       "4"
      ]
     },
     "execution_count": 9,
     "metadata": {},
     "output_type": "execute_result"
    }
   ],
   "source": [
    "y or x"
   ]
  },
  {
   "cell_type": "code",
   "execution_count": 10,
   "metadata": {},
   "outputs": [
    {
     "data": {
      "text/plain": [
       "0.0"
      ]
     },
     "execution_count": 10,
     "metadata": {},
     "output_type": "execute_result"
    }
   ],
   "source": [
    "y or y"
   ]
  },
  {
   "cell_type": "code",
   "execution_count": 11,
   "metadata": {},
   "outputs": [],
   "source": [
    "a = 6"
   ]
  },
  {
   "cell_type": "code",
   "execution_count": 12,
   "metadata": {},
   "outputs": [],
   "source": [
    "u = 0"
   ]
  },
  {
   "cell_type": "code",
   "execution_count": 13,
   "metadata": {},
   "outputs": [
    {
     "data": {
      "text/plain": [
       "0"
      ]
     },
     "execution_count": 13,
     "metadata": {},
     "output_type": "execute_result"
    }
   ],
   "source": [
    "a and u"
   ]
  },
  {
   "cell_type": "code",
   "execution_count": 14,
   "metadata": {},
   "outputs": [
    {
     "data": {
      "text/plain": [
       "0"
      ]
     },
     "execution_count": 14,
     "metadata": {},
     "output_type": "execute_result"
    }
   ],
   "source": [
    "u and a"
   ]
  },
  {
   "cell_type": "code",
   "execution_count": 15,
   "metadata": {},
   "outputs": [],
   "source": [
    "y = 2"
   ]
  },
  {
   "cell_type": "code",
   "execution_count": 16,
   "metadata": {},
   "outputs": [],
   "source": [
    "p = 1"
   ]
  },
  {
   "cell_type": "code",
   "execution_count": 17,
   "metadata": {},
   "outputs": [
    {
     "data": {
      "text/plain": [
       "2"
      ]
     },
     "execution_count": 17,
     "metadata": {},
     "output_type": "execute_result"
    }
   ],
   "source": [
    "p and y"
   ]
  },
  {
   "cell_type": "code",
   "execution_count": 18,
   "metadata": {},
   "outputs": [
    {
     "data": {
      "text/plain": [
       "2"
      ]
     },
     "execution_count": 18,
     "metadata": {},
     "output_type": "execute_result"
    }
   ],
   "source": [
    "p and y"
   ]
  },
  {
   "cell_type": "code",
   "execution_count": 24,
   "metadata": {},
   "outputs": [
    {
     "ename": "NameError",
     "evalue": "name 'f' is not defined",
     "output_type": "error",
     "traceback": [
      "\u001b[1;31m---------------------------------------------------------------------------\u001b[0m",
      "\u001b[1;31mNameError\u001b[0m                                 Traceback (most recent call last)",
      "\u001b[1;32m<ipython-input-24-aa6e46998560>\u001b[0m in \u001b[0;36m<module>\u001b[1;34m\u001b[0m\n\u001b[1;32m----> 1\u001b[1;33m \u001b[0mf\u001b[0m\u001b[1;33m(\u001b[0m\u001b[1;36m0\u001b[0m\u001b[1;33m)\u001b[0m \u001b[1;32mor\u001b[0m \u001b[0mf\u001b[0m\u001b[1;33m(\u001b[0m\u001b[0mfalse\u001b[0m\u001b[1;33m)\u001b[0m \u001b[1;32mor\u001b[0m \u001b[0mf\u001b[0m\u001b[1;33m(\u001b[0m\u001b[1;36m3\u001b[0m\u001b[1;33m)\u001b[0m\u001b[1;33m\u001b[0m\u001b[1;33m\u001b[0m\u001b[0m\n\u001b[0m",
      "\u001b[1;31mNameError\u001b[0m: name 'f' is not defined"
     ]
    }
   ],
   "source": [
    ">>> f(0) or f(false) or f(3)"
   ]
  },
  {
   "cell_type": "markdown",
   "metadata": {},
   "source": [
    "Funkcja f opisana na załaczonej stronie nie działa https://realpython.com/python-operators-expressions/."
   ]
  },
  {
   "cell_type": "code",
   "execution_count": 25,
   "metadata": {},
   "outputs": [],
   "source": [
    "a = 5"
   ]
  },
  {
   "cell_type": "code",
   "execution_count": 26,
   "metadata": {},
   "outputs": [],
   "source": [
    "b = 6"
   ]
  },
  {
   "cell_type": "code",
   "execution_count": 27,
   "metadata": {},
   "outputs": [
    {
     "data": {
      "text/plain": [
       "False"
      ]
     },
     "execution_count": 27,
     "metadata": {},
     "output_type": "execute_result"
    }
   ],
   "source": [
    "(b/a) > 2"
   ]
  },
  {
   "cell_type": "code",
   "execution_count": 29,
   "metadata": {},
   "outputs": [
    {
     "data": {
      "text/plain": [
       "True"
      ]
     },
     "execution_count": 29,
     "metadata": {},
     "output_type": "execute_result"
    }
   ],
   "source": [
    "(a/b) < 5"
   ]
  },
  {
   "cell_type": "code",
   "execution_count": 30,
   "metadata": {},
   "outputs": [],
   "source": [
    "string = ''"
   ]
  },
  {
   "cell_type": "code",
   "execution_count": 31,
   "metadata": {},
   "outputs": [],
   "source": [
    "str = string or '<deaful_value>'"
   ]
  },
  {
   "cell_type": "code",
   "execution_count": 32,
   "metadata": {},
   "outputs": [],
   "source": [
    "s = string or '<default_value>'"
   ]
  },
  {
   "cell_type": "code",
   "execution_count": 33,
   "metadata": {},
   "outputs": [
    {
     "data": {
      "text/plain": [
       "'<default_value>'"
      ]
     },
     "execution_count": 33,
     "metadata": {},
     "output_type": "execute_result"
    }
   ],
   "source": [
    "s"
   ]
  },
  {
   "cell_type": "code",
   "execution_count": 34,
   "metadata": {},
   "outputs": [
    {
     "data": {
      "text/plain": [
       "'<deaful_value>'"
      ]
     },
     "execution_count": 34,
     "metadata": {},
     "output_type": "execute_result"
    }
   ],
   "source": [
    "str"
   ]
  },
  {
   "cell_type": "markdown",
   "metadata": {},
   "source": [
    "czyli s = str = string"
   ]
  },
  {
   "cell_type": "code",
   "execution_count": 35,
   "metadata": {},
   "outputs": [
    {
     "data": {
      "text/plain": [
       "False"
      ]
     },
     "execution_count": 35,
     "metadata": {},
     "output_type": "execute_result"
    }
   ],
   "source": [
    "x < y <= z"
   ]
  },
  {
   "cell_type": "code",
   "execution_count": 36,
   "metadata": {},
   "outputs": [
    {
     "data": {
      "text/plain": [
       "False"
      ]
     },
     "execution_count": 36,
     "metadata": {},
     "output_type": "execute_result"
    }
   ],
   "source": [
    "x < y and y <= z"
   ]
  },
  {
   "cell_type": "code",
   "execution_count": 37,
   "metadata": {},
   "outputs": [],
   "source": [
    "x = 2"
   ]
  },
  {
   "cell_type": "code",
   "execution_count": 38,
   "metadata": {},
   "outputs": [],
   "source": [
    "y = 3"
   ]
  },
  {
   "cell_type": "code",
   "execution_count": 39,
   "metadata": {},
   "outputs": [],
   "source": [
    "z = 4"
   ]
  },
  {
   "cell_type": "code",
   "execution_count": 40,
   "metadata": {},
   "outputs": [
    {
     "data": {
      "text/plain": [
       "True"
      ]
     },
     "execution_count": 40,
     "metadata": {},
     "output_type": "execute_result"
    }
   ],
   "source": [
    "x < y and y <= z"
   ]
  },
  {
   "cell_type": "code",
   "execution_count": 45,
   "metadata": {},
   "outputs": [
    {
     "ename": "NameError",
     "evalue": "name 'f' is not defined",
     "output_type": "error",
     "traceback": [
      "\u001b[1;31m---------------------------------------------------------------------------\u001b[0m",
      "\u001b[1;31mNameError\u001b[0m                                 Traceback (most recent call last)",
      "\u001b[1;32m<ipython-input-45-44b4a257c2b6>\u001b[0m in \u001b[0;36m<module>\u001b[1;34m\u001b[0m\n\u001b[1;32m----> 1\u001b[1;33m \u001b[0mx\u001b[0m \u001b[1;33m<\u001b[0m \u001b[0mf\u001b[0m\u001b[1;33m(\u001b[0m\u001b[0msin\u001b[0m\u001b[1;33m)\u001b[0m \u001b[1;33m<=\u001b[0m \u001b[0mz\u001b[0m\u001b[1;33m\u001b[0m\u001b[1;33m\u001b[0m\u001b[0m\n\u001b[0m",
      "\u001b[1;31mNameError\u001b[0m: name 'f' is not defined"
     ]
    }
   ],
   "source": [
    ">>> x < f(sin) <= z"
   ]
  },
  {
   "cell_type": "code",
   "execution_count": 46,
   "metadata": {},
   "outputs": [],
   "source": [
    "x = 6"
   ]
  },
  {
   "cell_type": "code",
   "execution_count": 47,
   "metadata": {},
   "outputs": [],
   "source": [
    "y = 5 + 1"
   ]
  },
  {
   "cell_type": "code",
   "execution_count": 48,
   "metadata": {},
   "outputs": [
    {
     "name": "stdout",
     "output_type": "stream",
     "text": [
      "6 6\n"
     ]
    }
   ],
   "source": [
    "print(x, y)"
   ]
  },
  {
   "cell_type": "code",
   "execution_count": 51,
   "metadata": {},
   "outputs": [
    {
     "data": {
      "text/plain": [
       "True"
      ]
     },
     "execution_count": 51,
     "metadata": {},
     "output_type": "execute_result"
    }
   ],
   "source": [
    "x == y"
   ]
  },
  {
   "cell_type": "code",
   "execution_count": 52,
   "metadata": {},
   "outputs": [
    {
     "data": {
      "text/plain": [
       "True"
      ]
     },
     "execution_count": 52,
     "metadata": {},
     "output_type": "execute_result"
    }
   ],
   "source": [
    "x is y"
   ]
  },
  {
   "cell_type": "code",
   "execution_count": 53,
   "metadata": {},
   "outputs": [
    {
     "data": {
      "text/plain": [
       "140704814371808"
      ]
     },
     "execution_count": 53,
     "metadata": {},
     "output_type": "execute_result"
    }
   ],
   "source": [
    "id(x)"
   ]
  },
  {
   "cell_type": "code",
   "execution_count": 54,
   "metadata": {},
   "outputs": [
    {
     "data": {
      "text/plain": [
       "140704814371808"
      ]
     },
     "execution_count": 54,
     "metadata": {},
     "output_type": "execute_result"
    }
   ],
   "source": [
    "id(y)"
   ]
  },
  {
   "cell_type": "markdown",
   "metadata": {},
   "source": [
    "Dlaczego obie wartości odwołują się do tego samego obiektu?"
   ]
  },
  {
   "cell_type": "code",
   "execution_count": 55,
   "metadata": {},
   "outputs": [],
   "source": [
    "p = 'wallstreet'"
   ]
  },
  {
   "cell_type": "code",
   "execution_count": 56,
   "metadata": {},
   "outputs": [],
   "source": [
    "g = p"
   ]
  },
  {
   "cell_type": "code",
   "execution_count": 57,
   "metadata": {},
   "outputs": [
    {
     "data": {
      "text/plain": [
       "2187275255984"
      ]
     },
     "execution_count": 57,
     "metadata": {},
     "output_type": "execute_result"
    }
   ],
   "source": [
    "id(g)"
   ]
  },
  {
   "cell_type": "code",
   "execution_count": 58,
   "metadata": {},
   "outputs": [
    {
     "data": {
      "text/plain": [
       "2187275255984"
      ]
     },
     "execution_count": 58,
     "metadata": {},
     "output_type": "execute_result"
    }
   ],
   "source": [
    "id(p)"
   ]
  },
  {
   "cell_type": "code",
   "execution_count": 59,
   "metadata": {},
   "outputs": [],
   "source": [
    "r = 6"
   ]
  },
  {
   "cell_type": "code",
   "execution_count": 60,
   "metadata": {},
   "outputs": [],
   "source": [
    "t = 4"
   ]
  },
  {
   "cell_type": "code",
   "execution_count": 61,
   "metadata": {},
   "outputs": [
    {
     "data": {
      "text/plain": [
       "True"
      ]
     },
     "execution_count": 61,
     "metadata": {},
     "output_type": "execute_result"
    }
   ],
   "source": [
    "t is not r"
   ]
  },
  {
   "cell_type": "code",
   "execution_count": 62,
   "metadata": {},
   "outputs": [
    {
     "data": {
      "text/plain": [
       "False"
      ]
     },
     "execution_count": 62,
     "metadata": {},
     "output_type": "execute_result"
    }
   ],
   "source": [
    "t is r"
   ]
  },
  {
   "cell_type": "code",
   "execution_count": 63,
   "metadata": {},
   "outputs": [
    {
     "data": {
      "text/plain": [
       "40"
      ]
     },
     "execution_count": 63,
     "metadata": {},
     "output_type": "execute_result"
    }
   ],
   "source": [
    "20 + 5 * 4 + 0 * 5"
   ]
  },
  {
   "cell_type": "code",
   "execution_count": 64,
   "metadata": {},
   "outputs": [
    {
     "data": {
      "text/plain": [
       "15625"
      ]
     },
     "execution_count": 64,
     "metadata": {},
     "output_type": "execute_result"
    }
   ],
   "source": [
    "5 ** 6"
   ]
  },
  {
   "cell_type": "code",
   "execution_count": 66,
   "metadata": {},
   "outputs": [
    {
     "data": {
      "text/plain": [
       "7662477704329444291791735135751545918093695610918010880"
      ]
     },
     "execution_count": 66,
     "metadata": {},
     "output_type": "execute_result"
    }
   ],
   "source": [
    "20 * 4 ** 89"
   ]
  },
  {
   "cell_type": "code",
   "execution_count": 67,
   "metadata": {},
   "outputs": [
    {
     "data": {
      "text/plain": [
       "443426488243037769948249630619149892803"
      ]
     },
     "execution_count": 67,
     "metadata": {},
     "output_type": "execute_result"
    }
   ],
   "source": [
    "27 ** 27"
   ]
  },
  {
   "cell_type": "code",
   "execution_count": 68,
   "metadata": {},
   "outputs": [
    {
     "data": {
      "text/plain": [
       "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"
      ]
     },
     "execution_count": 68,
     "metadata": {},
     "output_type": "execute_result"
    }
   ],
   "source": [
    "258 ** 2672"
   ]
  },
  {
   "cell_type": "code",
   "execution_count": 69,
   "metadata": {},
   "outputs": [],
   "source": [
    "a = 6"
   ]
  },
  {
   "cell_type": "code",
   "execution_count": 70,
   "metadata": {},
   "outputs": [],
   "source": [
    "v = 8"
   ]
  },
  {
   "cell_type": "code",
   "execution_count": 71,
   "metadata": {},
   "outputs": [],
   "source": [
    "c = a**v"
   ]
  },
  {
   "cell_type": "code",
   "execution_count": 72,
   "metadata": {},
   "outputs": [
    {
     "data": {
      "text/plain": [
       "1679616"
      ]
     },
     "execution_count": 72,
     "metadata": {},
     "output_type": "execute_result"
    }
   ],
   "source": [
    "c"
   ]
  },
  {
   "cell_type": "code",
   "execution_count": 73,
   "metadata": {},
   "outputs": [],
   "source": [
    "a +=6"
   ]
  },
  {
   "cell_type": "code",
   "execution_count": 74,
   "metadata": {},
   "outputs": [
    {
     "data": {
      "text/plain": [
       "12"
      ]
     },
     "execution_count": 74,
     "metadata": {},
     "output_type": "execute_result"
    }
   ],
   "source": [
    "a"
   ]
  },
  {
   "cell_type": "code",
   "execution_count": 75,
   "metadata": {},
   "outputs": [],
   "source": [
    "r /=8"
   ]
  },
  {
   "cell_type": "code",
   "execution_count": 76,
   "metadata": {},
   "outputs": [
    {
     "data": {
      "text/plain": [
       "0.75"
      ]
     },
     "execution_count": 76,
     "metadata": {},
     "output_type": "execute_result"
    }
   ],
   "source": [
    "r"
   ]
  },
  {
   "cell_type": "code",
   "execution_count": 77,
   "metadata": {},
   "outputs": [],
   "source": [
    "a /=7"
   ]
  },
  {
   "cell_type": "code",
   "execution_count": 78,
   "metadata": {},
   "outputs": [
    {
     "data": {
      "text/plain": [
       "1.7142857142857142"
      ]
     },
     "execution_count": 78,
     "metadata": {},
     "output_type": "execute_result"
    }
   ],
   "source": [
    "a"
   ]
  },
  {
   "cell_type": "code",
   "execution_count": 83,
   "metadata": {},
   "outputs": [
    {
     "ename": "SyntaxError",
     "evalue": "invalid syntax (<ipython-input-83-617823f5f1b0>, line 1)",
     "output_type": "error",
     "traceback": [
      "\u001b[1;36m  File \u001b[1;32m\"<ipython-input-83-617823f5f1b0>\"\u001b[1;36m, line \u001b[1;32m1\u001b[0m\n\u001b[1;33m    (a ^=6)\u001b[0m\n\u001b[1;37m        ^\u001b[0m\n\u001b[1;31mSyntaxError\u001b[0m\u001b[1;31m:\u001b[0m invalid syntax\n"
     ]
    }
   ],
   "source": [
    "(a ^=6)"
   ]
  },
  {
   "cell_type": "markdown",
   "metadata": {},
   "source": [
    "a ^= b  powyżej chciałem zastosować wskazany wzór"
   ]
  },
  {
   "cell_type": "code",
   "execution_count": 84,
   "metadata": {},
   "outputs": [],
   "source": [
    "s = 'ch'"
   ]
  },
  {
   "cell_type": "code",
   "execution_count": 85,
   "metadata": {},
   "outputs": [],
   "source": [
    "t = 'em'"
   ]
  },
  {
   "cell_type": "code",
   "execution_count": 86,
   "metadata": {},
   "outputs": [],
   "source": [
    "y = 'istry'"
   ]
  },
  {
   "cell_type": "code",
   "execution_count": 87,
   "metadata": {},
   "outputs": [
    {
     "data": {
      "text/plain": [
       "'chemistry'"
      ]
     },
     "execution_count": 87,
     "metadata": {},
     "output_type": "execute_result"
    }
   ],
   "source": [
    "s + t + y"
   ]
  },
  {
   "cell_type": "code",
   "execution_count": 88,
   "metadata": {},
   "outputs": [
    {
     "data": {
      "text/plain": [
       "'chistryem'"
      ]
     },
     "execution_count": 88,
     "metadata": {},
     "output_type": "execute_result"
    }
   ],
   "source": [
    "s + y + t"
   ]
  },
  {
   "cell_type": "code",
   "execution_count": 89,
   "metadata": {},
   "outputs": [
    {
     "ename": "TypeError",
     "evalue": "unsupported operand type(s) for -: 'str' and 'str'",
     "output_type": "error",
     "traceback": [
      "\u001b[1;31m---------------------------------------------------------------------------\u001b[0m",
      "\u001b[1;31mTypeError\u001b[0m                                 Traceback (most recent call last)",
      "\u001b[1;32m<ipython-input-89-24dae2b1ff73>\u001b[0m in \u001b[0;36m<module>\u001b[1;34m\u001b[0m\n\u001b[1;32m----> 1\u001b[1;33m \u001b[0ms\u001b[0m \u001b[1;33m-\u001b[0m \u001b[0my\u001b[0m\u001b[1;33m\u001b[0m\u001b[1;33m\u001b[0m\u001b[0m\n\u001b[0m",
      "\u001b[1;31mTypeError\u001b[0m: unsupported operand type(s) for -: 'str' and 'str'"
     ]
    }
   ],
   "source": [
    "s - y"
   ]
  },
  {
   "cell_type": "markdown",
   "metadata": {},
   "source": [
    "tak jak sie spodziewałem, nie można odjąć indywiduum, które nie ma określonej wartości"
   ]
  },
  {
   "cell_type": "code",
   "execution_count": 91,
   "metadata": {},
   "outputs": [
    {
     "name": "stdout",
     "output_type": "stream",
     "text": [
      "Let's go to work!!!\n"
     ]
    }
   ],
   "source": [
    "print(\"Let's go to work\" + \"!!!\")"
   ]
  },
  {
   "cell_type": "code",
   "execution_count": 92,
   "metadata": {},
   "outputs": [],
   "source": [
    "f = 'cho'"
   ]
  },
  {
   "cell_type": "code",
   "execution_count": 93,
   "metadata": {},
   "outputs": [
    {
     "data": {
      "text/plain": [
       "'chochochochochocho'"
      ]
     },
     "execution_count": 93,
     "metadata": {},
     "output_type": "execute_result"
    }
   ],
   "source": [
    "f * 6"
   ]
  },
  {
   "cell_type": "code",
   "execution_count": 94,
   "metadata": {},
   "outputs": [
    {
     "data": {
      "text/plain": [
       "'chchchchchchch'"
      ]
     },
     "execution_count": 94,
     "metadata": {},
     "output_type": "execute_result"
    }
   ],
   "source": [
    "7 * s"
   ]
  },
  {
   "cell_type": "code",
   "execution_count": 95,
   "metadata": {},
   "outputs": [
    {
     "data": {
      "text/plain": [
       "''"
      ]
     },
     "execution_count": 95,
     "metadata": {},
     "output_type": "execute_result"
    }
   ],
   "source": [
    "'hd' * -8"
   ]
  },
  {
   "cell_type": "code",
   "execution_count": 96,
   "metadata": {},
   "outputs": [
    {
     "data": {
      "text/plain": [
       "'go go go go go go go go go '"
      ]
     },
     "execution_count": 96,
     "metadata": {},
     "output_type": "execute_result"
    }
   ],
   "source": [
    "'go ' * 9"
   ]
  },
  {
   "cell_type": "code",
   "execution_count": 97,
   "metadata": {},
   "outputs": [],
   "source": [
    "l = 'med'"
   ]
  },
  {
   "cell_type": "code",
   "execution_count": 98,
   "metadata": {},
   "outputs": [
    {
     "data": {
      "text/plain": [
       "True"
      ]
     },
     "execution_count": 98,
     "metadata": {},
     "output_type": "execute_result"
    }
   ],
   "source": [
    "l in 'medicine'"
   ]
  },
  {
   "cell_type": "code",
   "execution_count": 99,
   "metadata": {},
   "outputs": [
    {
     "data": {
      "text/plain": [
       "False"
      ]
     },
     "execution_count": 99,
     "metadata": {},
     "output_type": "execute_result"
    }
   ],
   "source": [
    "l in 'red'"
   ]
  },
  {
   "cell_type": "code",
   "execution_count": 101,
   "metadata": {},
   "outputs": [
    {
     "data": {
      "text/plain": [
       "True"
      ]
     },
     "execution_count": 101,
     "metadata": {},
     "output_type": "execute_result"
    }
   ],
   "source": [
    "'c' in 'cheer'"
   ]
  },
  {
   "cell_type": "code",
   "execution_count": 102,
   "metadata": {},
   "outputs": [
    {
     "data": {
      "text/plain": [
       "False"
      ]
     },
     "execution_count": 102,
     "metadata": {},
     "output_type": "execute_result"
    }
   ],
   "source": [
    "'a' in 'crew'"
   ]
  },
  {
   "cell_type": "code",
   "execution_count": 105,
   "metadata": {},
   "outputs": [
    {
     "data": {
      "text/plain": [
       "118"
      ]
     },
     "execution_count": 105,
     "metadata": {},
     "output_type": "execute_result"
    }
   ],
   "source": [
    "ord('v')"
   ]
  },
  {
   "cell_type": "code",
   "execution_count": 106,
   "metadata": {},
   "outputs": [
    {
     "data": {
      "text/plain": [
       "51"
      ]
     },
     "execution_count": 106,
     "metadata": {},
     "output_type": "execute_result"
    }
   ],
   "source": [
    "ord('3')"
   ]
  },
  {
   "cell_type": "code",
   "execution_count": 107,
   "metadata": {},
   "outputs": [
    {
     "data": {
      "text/plain": [
       "63"
      ]
     },
     "execution_count": 107,
     "metadata": {},
     "output_type": "execute_result"
    }
   ],
   "source": [
    "ord('?')"
   ]
  },
  {
   "cell_type": "code",
   "execution_count": 108,
   "metadata": {},
   "outputs": [
    {
     "data": {
      "text/plain": [
       "'L'"
      ]
     },
     "execution_count": 108,
     "metadata": {},
     "output_type": "execute_result"
    }
   ],
   "source": [
    "chr(76)"
   ]
  },
  {
   "cell_type": "code",
   "execution_count": 109,
   "metadata": {},
   "outputs": [
    {
     "data": {
      "text/plain": [
       "'6'"
      ]
     },
     "execution_count": 109,
     "metadata": {},
     "output_type": "execute_result"
    }
   ],
   "source": [
    "chr(54)"
   ]
  },
  {
   "cell_type": "code",
   "execution_count": 110,
   "metadata": {},
   "outputs": [
    {
     "data": {
      "text/plain": [
       "'\\x01'"
      ]
     },
     "execution_count": 110,
     "metadata": {},
     "output_type": "execute_result"
    }
   ],
   "source": [
    "chr(1)"
   ]
  },
  {
   "cell_type": "code",
   "execution_count": 111,
   "metadata": {},
   "outputs": [
    {
     "data": {
      "text/plain": [
       "'\\x02'"
      ]
     },
     "execution_count": 111,
     "metadata": {},
     "output_type": "execute_result"
    }
   ],
   "source": [
    "chr(2)"
   ]
  },
  {
   "cell_type": "code",
   "execution_count": 112,
   "metadata": {},
   "outputs": [
    {
     "data": {
      "text/plain": [
       "'\\t'"
      ]
     },
     "execution_count": 112,
     "metadata": {},
     "output_type": "execute_result"
    }
   ],
   "source": [
    "chr(9)"
   ]
  },
  {
   "cell_type": "code",
   "execution_count": 113,
   "metadata": {},
   "outputs": [
    {
     "data": {
      "text/plain": [
       "'⊸'"
      ]
     },
     "execution_count": 113,
     "metadata": {},
     "output_type": "execute_result"
    }
   ],
   "source": [
    "chr(8888)"
   ]
  },
  {
   "cell_type": "code",
   "execution_count": 114,
   "metadata": {},
   "outputs": [
    {
     "data": {
      "text/plain": [
       "'∑'"
      ]
     },
     "execution_count": 114,
     "metadata": {},
     "output_type": "execute_result"
    }
   ],
   "source": [
    "chr(8721)"
   ]
  },
  {
   "cell_type": "code",
   "execution_count": 115,
   "metadata": {},
   "outputs": [],
   "source": [
    "s = 'The White House revolving door: Who\\'s gone?'"
   ]
  },
  {
   "cell_type": "code",
   "execution_count": 116,
   "metadata": {},
   "outputs": [
    {
     "data": {
      "text/plain": [
       "43"
      ]
     },
     "execution_count": 116,
     "metadata": {},
     "output_type": "execute_result"
    }
   ],
   "source": [
    "len(s)"
   ]
  },
  {
   "cell_type": "code",
   "execution_count": 117,
   "metadata": {},
   "outputs": [],
   "source": [
    "a = 'Turkey has signed up to buying 100 US F-35 warplanes and has invested heavily in the F-35 programme. Turkish companies produce 937 of the plane\\'s parts.'"
   ]
  },
  {
   "cell_type": "code",
   "execution_count": 118,
   "metadata": {},
   "outputs": [
    {
     "data": {
      "text/plain": [
       "152"
      ]
     },
     "execution_count": 118,
     "metadata": {},
     "output_type": "execute_result"
    }
   ],
   "source": [
    "len(a)"
   ]
  },
  {
   "cell_type": "code",
   "execution_count": 125,
   "metadata": {},
   "outputs": [],
   "source": [
    "str = 40 + 4j"
   ]
  },
  {
   "cell_type": "code",
   "execution_count": 126,
   "metadata": {},
   "outputs": [
    {
     "data": {
      "text/plain": [
       "(40+4j)"
      ]
     },
     "execution_count": 126,
     "metadata": {},
     "output_type": "execute_result"
    }
   ],
   "source": [
    "str"
   ]
  },
  {
   "cell_type": "markdown",
   "metadata": {},
   "source": [
    "taka forma zapisu str(40 + 4j) nie działa poprawnie"
   ]
  },
  {
   "cell_type": "code",
   "execution_count": 127,
   "metadata": {},
   "outputs": [],
   "source": [
    "i = 'miele impuro'"
   ]
  },
  {
   "cell_type": "code",
   "execution_count": 128,
   "metadata": {},
   "outputs": [
    {
     "data": {
      "text/plain": [
       "' '"
      ]
     },
     "execution_count": 128,
     "metadata": {},
     "output_type": "execute_result"
    }
   ],
   "source": [
    "s [3]"
   ]
  },
  {
   "cell_type": "code",
   "execution_count": 129,
   "metadata": {},
   "outputs": [
    {
     "data": {
      "text/plain": [
       "' '"
      ]
     },
     "execution_count": 129,
     "metadata": {},
     "output_type": "execute_result"
    }
   ],
   "source": [
    "s[3]"
   ]
  },
  {
   "cell_type": "code",
   "execution_count": 130,
   "metadata": {},
   "outputs": [
    {
     "data": {
      "text/plain": [
       "'e'"
      ]
     },
     "execution_count": 130,
     "metadata": {},
     "output_type": "execute_result"
    }
   ],
   "source": [
    ">>> s[2]"
   ]
  },
  {
   "cell_type": "code",
   "execution_count": 131,
   "metadata": {},
   "outputs": [
    {
     "data": {
      "text/plain": [
       "'l'"
      ]
     },
     "execution_count": 131,
     "metadata": {},
     "output_type": "execute_result"
    }
   ],
   "source": [
    "i[3]"
   ]
  },
  {
   "cell_type": "code",
   "execution_count": 132,
   "metadata": {},
   "outputs": [
    {
     "data": {
      "text/plain": [
       "'p'"
      ]
     },
     "execution_count": 132,
     "metadata": {},
     "output_type": "execute_result"
    }
   ],
   "source": [
    "i[8]"
   ]
  },
  {
   "cell_type": "code",
   "execution_count": 133,
   "metadata": {},
   "outputs": [
    {
     "data": {
      "text/plain": [
       "12"
      ]
     },
     "execution_count": 133,
     "metadata": {},
     "output_type": "execute_result"
    }
   ],
   "source": [
    "len(i)"
   ]
  },
  {
   "cell_type": "code",
   "execution_count": 136,
   "metadata": {},
   "outputs": [
    {
     "data": {
      "text/plain": [
       "'o'"
      ]
     },
     "execution_count": 136,
     "metadata": {},
     "output_type": "execute_result"
    }
   ],
   "source": [
    "i[len(i)-1]"
   ]
  },
  {
   "cell_type": "code",
   "execution_count": 137,
   "metadata": {},
   "outputs": [
    {
     "data": {
      "text/plain": [
       "'p'"
      ]
     },
     "execution_count": 137,
     "metadata": {},
     "output_type": "execute_result"
    }
   ],
   "source": [
    "i[-4]"
   ]
  },
  {
   "cell_type": "code",
   "execution_count": 138,
   "metadata": {},
   "outputs": [
    {
     "data": {
      "text/plain": [
       "'m'"
      ]
     },
     "execution_count": 138,
     "metadata": {},
     "output_type": "execute_result"
    }
   ],
   "source": [
    "i[-len(i)]"
   ]
  },
  {
   "cell_type": "code",
   "execution_count": 139,
   "metadata": {},
   "outputs": [
    {
     "data": {
      "text/plain": [
       "'le'"
      ]
     },
     "execution_count": 139,
     "metadata": {},
     "output_type": "execute_result"
    }
   ],
   "source": [
    "i[3:5]"
   ]
  },
  {
   "cell_type": "code",
   "execution_count": 140,
   "metadata": {},
   "outputs": [
    {
     "data": {
      "text/plain": [
       "'ele im'"
      ]
     },
     "execution_count": 140,
     "metadata": {},
     "output_type": "execute_result"
    }
   ],
   "source": [
    "i[2:8]"
   ]
  },
  {
   "cell_type": "code",
   "execution_count": 141,
   "metadata": {},
   "outputs": [
    {
     "data": {
      "text/plain": [
       "'miele'"
      ]
     },
     "execution_count": 141,
     "metadata": {},
     "output_type": "execute_result"
    }
   ],
   "source": [
    "i[:5]"
   ]
  },
  {
   "cell_type": "code",
   "execution_count": 142,
   "metadata": {},
   "outputs": [
    {
     "data": {
      "text/plain": [
       "'miele imp'"
      ]
     },
     "execution_count": 142,
     "metadata": {},
     "output_type": "execute_result"
    }
   ],
   "source": [
    "i[:9]"
   ]
  },
  {
   "cell_type": "code",
   "execution_count": 143,
   "metadata": {},
   "outputs": [
    {
     "data": {
      "text/plain": [
       "'le impuro'"
      ]
     },
     "execution_count": 143,
     "metadata": {},
     "output_type": "execute_result"
    }
   ],
   "source": [
    "i[3:]"
   ]
  },
  {
   "cell_type": "code",
   "execution_count": 144,
   "metadata": {},
   "outputs": [
    {
     "data": {
      "text/plain": [
       "'miele impuro'"
      ]
     },
     "execution_count": 144,
     "metadata": {},
     "output_type": "execute_result"
    }
   ],
   "source": [
    "i[:4] + i[4:]"
   ]
  },
  {
   "cell_type": "code",
   "execution_count": 145,
   "metadata": {},
   "outputs": [
    {
     "data": {
      "text/plain": [
       "True"
      ]
     },
     "execution_count": 145,
     "metadata": {},
     "output_type": "execute_result"
    }
   ],
   "source": [
    "i[:4] + i[4:] == i"
   ]
  },
  {
   "cell_type": "code",
   "execution_count": 146,
   "metadata": {},
   "outputs": [],
   "source": [
    "a = 'quantum chemistry'"
   ]
  },
  {
   "cell_type": "code",
   "execution_count": 148,
   "metadata": {},
   "outputs": [],
   "source": [
    "b= a[:]"
   ]
  },
  {
   "cell_type": "code",
   "execution_count": 149,
   "metadata": {},
   "outputs": [
    {
     "data": {
      "text/plain": [
       "True"
      ]
     },
     "execution_count": 149,
     "metadata": {},
     "output_type": "execute_result"
    }
   ],
   "source": [
    "a is b"
   ]
  },
  {
   "cell_type": "code",
   "execution_count": 151,
   "metadata": {},
   "outputs": [
    {
     "data": {
      "text/plain": [
       "False"
      ]
     },
     "execution_count": 151,
     "metadata": {},
     "output_type": "execute_result"
    }
   ],
   "source": [
    "a[-5:3] == b[3:-5]"
   ]
  },
  {
   "cell_type": "code",
   "execution_count": 152,
   "metadata": {},
   "outputs": [
    {
     "data": {
      "text/plain": [
       "False"
      ]
     },
     "execution_count": 152,
     "metadata": {},
     "output_type": "execute_result"
    }
   ],
   "source": [
    "a[-5:3] == b[-5:-3]"
   ]
  },
  {
   "cell_type": "code",
   "execution_count": 153,
   "metadata": {},
   "outputs": [
    {
     "data": {
      "text/plain": [
       "True"
      ]
     },
     "execution_count": 153,
     "metadata": {},
     "output_type": "execute_result"
    }
   ],
   "source": [
    "a[-5:3] == b[-5:3]"
   ]
  },
  {
   "cell_type": "code",
   "execution_count": 156,
   "metadata": {},
   "outputs": [
    {
     "data": {
      "text/plain": [
       "'a'"
      ]
     },
     "execution_count": 156,
     "metadata": {},
     "output_type": "execute_result"
    }
   ],
   "source": [
    ">>> a[2:5:7]"
   ]
  },
  {
   "cell_type": "code",
   "execution_count": 157,
   "metadata": {},
   "outputs": [
    {
     "data": {
      "text/plain": [
       "'q'"
      ]
     },
     "execution_count": 157,
     "metadata": {},
     "output_type": "execute_result"
    }
   ],
   "source": [
    "b[0:4:5]"
   ]
  },
  {
   "cell_type": "code",
   "execution_count": 163,
   "metadata": {},
   "outputs": [],
   "source": [
    "v = '4332' *5 "
   ]
  },
  {
   "cell_type": "code",
   "execution_count": 164,
   "metadata": {},
   "outputs": [
    {
     "data": {
      "text/plain": [
       "'43324332433243324332'"
      ]
     },
     "execution_count": 164,
     "metadata": {},
     "output_type": "execute_result"
    }
   ],
   "source": [
    "v"
   ]
  },
  {
   "cell_type": "code",
   "execution_count": 165,
   "metadata": {},
   "outputs": [
    {
     "data": {
      "text/plain": [
       "'4332'"
      ]
     },
     "execution_count": 165,
     "metadata": {},
     "output_type": "execute_result"
    }
   ],
   "source": [
    "v[:4]"
   ]
  },
  {
   "cell_type": "code",
   "execution_count": 166,
   "metadata": {},
   "outputs": [
    {
     "data": {
      "text/plain": [
       "'232'"
      ]
     },
     "execution_count": 166,
     "metadata": {},
     "output_type": "execute_result"
    }
   ],
   "source": [
    "v[3::6]"
   ]
  },
  {
   "cell_type": "code",
   "execution_count": 168,
   "metadata": {},
   "outputs": [],
   "source": [
    "m =('The raid was part of a series of drug seizure operations in the Eastern Pacific Ocean which has captured 39,000lb (18,000kg) of cocaine in total.')"
   ]
  },
  {
   "cell_type": "code",
   "execution_count": 169,
   "metadata": {},
   "outputs": [
    {
     "data": {
      "text/plain": [
       "'.latot ni eniacoc fo )gk000,81( bl000,93 derutpac sah hcihw naecO cificaP nretsaE eht ni snoitarepo eruzies gurd fo seires a fo trap saw diar ehT'"
      ]
     },
     "execution_count": 169,
     "metadata": {},
     "output_type": "execute_result"
    }
   ],
   "source": [
    "m[::-1]"
   ]
  },
  {
   "cell_type": "code",
   "execution_count": 6,
   "metadata": {},
   "outputs": [],
   "source": [
    "b = 322"
   ]
  },
  {
   "cell_type": "code",
   "execution_count": 7,
   "metadata": {},
   "outputs": [],
   "source": [
    "m = 76"
   ]
  },
  {
   "cell_type": "code",
   "execution_count": 8,
   "metadata": {},
   "outputs": [],
   "source": [
    "prod = b * m"
   ]
  },
  {
   "cell_type": "code",
   "execution_count": 11,
   "metadata": {},
   "outputs": [
    {
     "name": "stdout",
     "output_type": "stream",
     "text": [
      "The product of 322 and 76 is 24472\n"
     ]
    }
   ],
   "source": [
    "print('The product of', b, 'and', m, 'is', prod)"
   ]
  },
  {
   "cell_type": "code",
   "execution_count": 12,
   "metadata": {},
   "outputs": [],
   "source": [
    "var = 'Bark'"
   ]
  },
  {
   "cell_type": "code",
   "execution_count": 13,
   "metadata": {},
   "outputs": [
    {
     "name": "stdout",
     "output_type": "stream",
     "text": [
      "A dog says Bark!\n"
     ]
    }
   ],
   "source": [
    "print(f'A dog says {var}!')"
   ]
  },
  {
   "cell_type": "code",
   "execution_count": 14,
   "metadata": {},
   "outputs": [],
   "source": [
    "mn = 'alarm'"
   ]
  },
  {
   "cell_type": "code",
   "execution_count": 15,
   "metadata": {},
   "outputs": [
    {
     "name": "stdout",
     "output_type": "stream",
     "text": [
      "He shouted alarm!\n"
     ]
    }
   ],
   "source": [
    "print(f'He shouted {mn}!' )"
   ]
  },
  {
   "cell_type": "code",
   "execution_count": 1,
   "metadata": {},
   "outputs": [
    {
     "data": {
      "text/plain": [
       "19131707501039358112999114010666833634036552749367623446262520459427420925983387771389894800639096120891464136495873961625349698958627124648905121199613241019664711423557250040247868999717676090343589571359649917205914919859597236747505354193279856483566403792039445464932235177720393524806713597798381744972255613093935431386957201426444010102133237192013363495905568839479614780396953871041900717990308909942349972455921043861838832003124550226231144401158759195207208347400784788918548085560568799524035077019804950913833053581869020809780732610239425415826818464175676888613650985077238940751461450965933740346236290190744605950309746334945120174953498272135637274024711678891564423183851048658508385210758059095191986508337756816772974565968770651234412099563936079441893129591340307768727949525175297862617919676186761354358004574676548078060587334346650601128040824854665247988032432761308371546417268475259413920889469722902757136441133890007195750170242566010524797888119201047558239949644004216146967927319201142373030078920436929702920686628329167058701762366831554160062851668011960086610173653727754852763972028373364200372626813751926096200462809375799571579687915136724668982176331772363247665879295324552028166229752764981574425766792304119028275264589771320944690224895564579387900343308451723177640404281608775904224020655190947077314440077998603321580690500924035112575131458258986165216910535222221574935272764584661369274513942615530873766531404465492555991473837484849545939439126217080363949034467841707853336188514157068437648402553285623395473949824446545209957696357604893750008622247095135854154171694890142290774873485368610466288890872477828377685786467146948819168058121237675926753097882550135455234083256040778810416844269605385207633798843219362366367659700836662463735735294821573162822732510174741935012539016106726981114405111625961493571692644450697504649629697432410764823841945015794131669523961977412116607621618061978017128318474514625728685153807409798016325785415689751070947501495135744861900453031282445962548254248358174606834095004885042913853968778532888571332988329866792527415661554074051435704022013872474469246742512938497576379824598983454649744355514328123232445603655037351683446552009340556495400898517234548103594470847845458001260517778324274571633095962882209831364290810284047307683740426659205083278591292171531842891776683172564539948621033610666942581324884883594837345276879538260114823368034063884292558307912644113072878704964414002687637883056596756782429019382483189933883187662680719546567731041279907706098274401680239685289168393089690130398460259545406267107361995780037923631747968471039079331311006247137479654523168586922313866703675635038795200493242526928335037295410655415560150860358910908632335975525697589613009221240798089620750885011613118101572217123002035106065889784795374994499732304621814489156440812074670725244826073774326105891874351631590413652671943547830197723118568569908897768308098836484101936025059933722651774120349958966430551047819199775493335732756530357865637905951458219830013912159174672071287182112770871877163319882272246513084246027787161094596884833117861437088747195863290137092968860122424266497697421748866262120212291683806421045429430787460988681131640556645518894356101424225867792661894209981952487970197900099450504992248489418584496534184199090743152265182452553305280218112629835624888821844727633324186208374143413958904559981485968170030800895973265649536009643834990169468547667933283395807981804608302249226902387949923046559817613508588689219321331950038464209976099145921116532102703387998138037812962436314374351032864877176787723543941373231911323443899651201140585114264797995866188738201180465209133271950442217332206212354717458068738235096020013012222387146570518049568275268439253524489767826832006462170355423355873220577050906637476246182578273840356972177334466644686832570009595671309463417894475557215172802097488963627549084104973576666894111166878540003061500526174284325200476177839343683026814579721443108745410063340318113912472234680305549626524902328296907866185352415794132608591696102116233129658950912167859336493742589936807993471627837823074201875171338690630656823478044316230823188522933841948724710138766608683501626328875898492282578775095431882116321869790204428395734205014722026945181548896717383180347039865276582489018003858002896628099038377638177455898282422080114566855241727635828799147312318384863659916268117588810593203278408810181677002749754775374380898894408068127648225528371883154500842322125989227782804962656576605279818371565506986249585631769697278517043800154623656001943324122267573388453732842766415012558859832758215303703457892698426296219440062148137982976738273540594406656562412117600450249466656688400157239205145188095462558677145128468295601189073339524246750680844353640411255998146308823307324380243494623561302166924182184966178046252425071991081325358383900810981009239708998014044387586606662748716858756686771514678724200998324825249349478303787949714945660955716371332578029989252745411432962040485703454978732017703311933564955898252547399358639904852070000563799674549737414425922893857593843968207143355092939744754120694960670084311949030455116817693072473323022950221418194097885315344841768020388553160201373936236003748198852537499174326757218744547625555008090384871917490446317862663184894358070672171272865116226124968782150706585177140059241442634773047927439116670295884239806955466544083598624876536567018841621361747276420887053067419302556054572576888319264123201772781950366855497371272627616421997025165030582449247174877387989712071541207539387037903450410409442566438595842770247176787010322689452394132205773977219249926283659343077291257997604188386557623124648233711582242132053997126801488615726877481766495537885268912634849861638646090768086963289339914823381246196078322249495537701326151986917760004283757530346125452932913139553035870985656513568096277937269414087605099977144121706367098069814184537265482262370708089792025537362072567761457356850357156519303952054835107540835377827230909534290459706178403491357746521501338353990245477032604159495758565230479251478628202467615684917420136759777653312384393011803268183488730796605089707541142707898719400515958536096204429312187886073221622201569874564353341625643187889219469748172214837968748720483372351773556492483998608834781201121023643416806197836026290392488288875240282475719095077008184985311358943989726238963042774358282498517015331064371896595097777545842293181533032610767041406687926817411639306277306105469652866855204563056349586536463314783245111685834188926496482125900249421484597223661065960947135060997196606151793476747726753027767444013481147904654793461278950524315267190790987141988111129543118305882091362900957681285149597895641944066471374723290876536274752727022800565325308786061331932269066398059439930321927027015222167759534190955494602422771983375520311915720878563344391862240795071158255352822131897518438978366375720850160942580673247383352467938450335697577317710128014077550385951469274672940945425357409114737809578870096228214907040720426128021275397185553101337733947695662544978217094145566591141222889153411679472547758511770393361326498645387738917770728416401042458980674488042538696389100571798118163877628939630791715290899240341457717642341135192915436565129870731390753230845102868263290218462002625271783447896995882849919019969069029642047786159446519316562349507257453303539011581998701457458544145970393714211908877937888059257044457719001856251163208440186356157834392254069402616044775482670209869439533564956779867893940949671019059904802283824288135114803253349975251274291506485876861880687661702895757048984678998608008508650793602777656177843273299756106973775084191628316838619574786696325146409269100440128511407468013426681579122028275458778991377864738652740132958515227044669831534624298447456149168708224064318983545004647370811422579943125522460157927241746100766323509736872991046100803353075801738584342821792164799409155051241042920722869980298140401542748799135607291286460064079195043794554048826280464953055312541956268772476402997769012927072462453042199762553932662122899078238319723613723999611964109827010770254393949640517104426294436483805904244174850714747266213208742607955702939838124790508862886876417718249612306701036266521970502052482422966499288056843874412202678077951747918629305028036731410892070221347417211712631610367242927983887932238828545395626387381627160859010739607973654756530857181988233695894711226304624789480245644341460842485110851336421936798331964907385576319693818723832683737491385259613694461855314832477268988633736431971356917793309584634223412018453995035626356428654634033420502746134019588235898733853878474278947623648480457735457660491842828485787198519675063079110966045088314363287061838595715734202098423347353439438101903542472610152399347984588753095861917397128656410141324776901818136790919371363215373494313518381900099901516386184387262617163232874902872920363935020623089565802865773327483470726178926086168036103703610959534739950351121676138168973408499307726717756656421118907220656452649433939332097092169165112989358490729327516593493390826507329482733840439689512958663453643424950917549953343468662120011419618678362262147715385318871523675696543251391406387560245415586083988904590435962420194169693024910487254568707915764226740554394643718249912806004725350544676130933711840969721749546089077891705020215344568061101722834111633419848811667656523867148415580475848692088392839354449541483121158463441950583652531476761764161453412031834205094766584500847239079755115912560066080465040667562946420185633136876142115821382939986612963013848125465955360413933237829168522992763414718223171654768354352917633655481960132273868917815620782913768752522276005416291536455755416996021613343718300760594414064159405857341491912212828763234476003997218558945781292622074569395661094328651638809574475372854059811747585947552252661993051263789109363144027632544959088276277305170148938714604111621438743128109280102830289713959172335365950342070385155627931577526464699961336930366568011869386080230147560816700335173530860622425415301621189705540271457659533442634122563259396135029628403568385318104703110391287111357276506732572403126628580807460527888629311233504755363351197165642316903728242563535026151527241576637998945233500376010409864667783180008116918336248782914500143862661685997066156596572300839762574298380853314601683549566539912747514651273625291089249653203496903365545649760122267308248876177096847846229035675786877982858380143026143682766602957357562680139355004833917330999576968658016476996278602047773866786894349562992385622771455831394683808751777769774630313022400180183607822084673909870443123747873292811330794347398763568490170854485253452037344057073513377668047818993757040027144209350918781717175822891414801395741858583427014850494328588308346647338984498340521668172833094972471437144439457590465898868641480735359442894170524576656496541202884954708078089440863655579923513344701793731109716085117923974263728859978207387937006610071984815144569892120077773398133671321106268401684411334872042734836027183284712613784767072659846776476482666630763621342014772906120431603857038231280760209965861512507194051867465966503519226009826154457206620238339883038839842000938197976303746573603226555979243960628912663281013229382432952182544912125887631119857567536751878657732324185397498813864143405583118994693728305626851484235586607261028699036513650147801337589229090457697706938354858672260525742834935777282490490917890163586467315276760379965811780976815013735128605925340661189123620206683097546788283146916759537253840422197872184234152737059049452262070896141895788005983324161803264181600021411182587898346580553124570521692698660961743354925129431330941446059704115724159391690511062308783613978108158244544839189815616586917523608228344961699306031893394035463681222412703433161365036217920381129843369335801731151864933075542523282717253022460865332682530702586944590771425618655139765185435040243545869655378178769419778689175053208160427195046638835802138653702133127385214138293895418683826798790540514925776580401838823347839870080817994304168563605837489359415140000112910527930792385768020627409543458303324134475410761041132707356629936306778629598850871620372935804593876929957094745193164694191616340489435116944664529824686690585277930426352716002939391148955977946819228986236122594485518456321572034018134087356709025093917196970570596196121133615643730203135296207664136997568218528967064451959555258532099747137382316420011006729563008659977260914512379078732012510737305433475318327852593976713568203165918159596864114578288423387012723675181280972121688478300406544545832692317050182756005461862845327995941900950477168829201485553638577845256796184129784829776961254686401674387582588529712923467571508001748588170084397626831331240176554175686002854343568507651624974609409651227426444064652147469538080808233847166793507302093656209473950022106360081049156916749790342047290805326705040457058346643812028296126520143799345649523325589555831614183649586779476875379890034441462635942907583796902587004689630151459769019682957582357492219795736697466274944272477305331449469318324691833673522272341547344761448210861462896933023736721334608336515489130432611775321831836899059323718158635968104433247252667720684004321935958734039428935282611093685499815441887704965552545860573325577588732133301199059975021977561242078616622834529931688125958937318869710191007219922343804859090617550787786559822868997621675649665143181085811680085419796685686541523023944377114161739271293186353660892141730996223963556800150215862143685479863854656996473920754265737009375808451686691745936573673429475078545477077885373195916328313578941928154001095874867976178182310980583935734936064845141125860911878848894408378843023377084507209742924193871562139789553608186688566133086240053036591293279072278966601109837587532471967047576532081235018890353150103895387788535867238609365153699391351187048818029605939564508143489745766802541040381814897046372067668743818318445915908708469701697043578311175959935939325972842167938133762411880595395866557220821282714467559257905014886685249825202124357613369478135729908197508762690871860657527981609123760462699254706207717444573926115122117002734099512057381081653036236729924738536644599714853001385032649708870537390851401999798635623874570568714444118647735016660191560536768507180750158817909644842885722517389139829949774092989830670990284008604749775621321819775224818453868014594199353844241493856416740541359918632814682991769535539046233597516498306123737571709449815786192841327884812669483335641820196686916403245442603945709566114591620836999138841274582043376743614412527460043044418392675525566391798475002381379864487606012449007810236884641428406642331602086447969576568844760335663932628454586924206905617514923073204499710916633881106043137769909901800862878521558273699205890754008358983972703435867066665980089881938472337515948971505492360410453525414502783738403934291653113289543803022344919136971148382039693825500139109064810769276162434322273539875060735649077760563576471434909634107927206856786005821318898666418730920401184089828977028775073537582050148998625515981681658310468558729908289644270242904584565550709553601164142789173398095605331487245754027786730237600902861649787849264051469498974024118086298702419794719131766542106819862199522978773249798650099088932305765817135023766335396344932247859276743647014611976122031863078716812320582743415596082017451282783571127161609495519501210677985970067195955510826788354618125833783520628293645178247304789197539090729110945518996811549503971574971534951809430279908059386933288040123039281654077265239440199455526367716387550706862118963105545303284059465866845970757034278139748956018910348740700464663084614657409756050208178565934288437415489942810654772931971215884588123035524027360623687359608380919093242064051092025951954019257065962138878007267396140262380457595986709697123101425087007205764425338309951950254201989458640977225038898012222093249515828622629847602689883009434307861127586297949659878020868297808792890185362321169063200280173172815582847748198384045906807916534672327710001703494847934601496163670381730546507871258640232689136709921736807609639937695827205209872722248971243674469515922730394131199750097026085438875001089311160603234036968958540331869754160119144252248325576264136430949160608353483782859564608062073435451555981979208911282836619150323656069897738927781343728284734376122876954205169340545314150592695383049342248006162391125421654165717004415845276360049820093745485099667575264360368475257981634485553749753838307764707004068688129357943576293553577920122576239575350147255628387485051621927487693707130993967928435132454721995404640134781697562526661379915430952563645352833055749854954826913230306243609088057178839278111101815734075343689601949319053622737438015741397713632323679990294514976426588075892257347241384083138135929063195719105652859350111051992551698890564535899771540169811941385857339222779909551885313027564143573717084128788225874146765411101582252290441789696471495955116307143827901799862355997471638411309662744704144256928781831130016604361443759510152407167015871212484927985420445494788278741708733216309667385015799087807897707212418765364511990850645027314945571640771607737426768937701391725924324681617867152381039466412474719647611988477921717615473653935330765276476888623923793954715760561560382356030704964260403796692302601338842493064640991368148775465177140509477872668945184985299846123872092680195947693811360138374550936668076938829349774511933148743259809413697967490982961861837914939106096823169721180216970206690125082859341580145391698822049408530495609508409779469663740721228397215444839717142858060416422772046648158414190189945296238941306299863205483296367100278170969576578785957643941293018675513693697349480006714095167932933180158156947521117572142677567629482446219249143128017285191233902029842938971896207406576124428291359136171565018806415855839746731111782057687629841635667636446152136346653667242659523786902719641861747457233235167246805889238111513044569583581436911202290498206834129274755245033826003210133603974666511761798330490464116937500658408435490883409509415814500544670028127886176617461415293465527769366323295542782327295033279455317529609675189874766359959031468330867322148161566923951171308042268136442970568055489957352078403961951393352663881473281349059087060965902628753512561928473671551591007702405138132032038809027179334279224062610875835988869683783061954974799769466753064674693947184553980528857158669098512601994845962977555256756653487871569947650049541492591568969610469468455171511217698112096886941197515629419992941392859355498351778417170934531565581904112468072757512136181769653380438478085578059238426890200302891867007455446611361019758060466445844530874435627127995526802302814142993119907035384903385017857325542092820538647303632624626382946617143492199181234096584602997771990370159344144205386003663765322496818978571969965757588688693029331543933556224601115089937469151196892404100230079559798117164983207679153887570882331947523563317761736064430525484790129017918777059965350864216760336164254376625513399308940961904687177321039644740771989835568663206893718392501670404883564032692038784941054155849538034268180850832155981761624644877155496385090102438804828284780850754842684267013999886658107397543922397985131615558169917386682572052637504429434699770758921773422544864427119889715529159987382064439454235054120700080368236445312509019130666661704928611671073392891883098204683686265612811408342237959348259578705594286524174621779611066579500245243381950807157334930445379031978530542268121472555259134761964946359822078737457608124656899840878997199156175535888744203507161994560405798319786711564588427411229293157409066774559436416784370640225345920228830873901577449553384903207490638733386338723522759116308213961359032805019500060925339384405400713800686965248072974688572920792918810667790580329945500785240151502732338479748550232884097719291045831472343007099762944086866938030257850261889593359052187664665991224626625535269831832443661784293089285659398441653778014310025483787429430277900670080891522015915416126150084359096820796045551553968176938729515711835323861690636970710035972748781147793785379541574776164763027194576703270664349750667649294241734474173826852517325578179998212229056351141815582208931509502455840737414140978068607039343011891122265656106494890062499713763583930811338946390341988612279125415868998990562602438002684339998529672490618174527048971208531824546138323570131070146632452976290757699194193051415588879948835171239158882942805993260111028212096231867725233557334074271472638047239223320278945076516276186708913761557299177146492999522027171655164839239654090802831098963309647948280222655983489353748362352710255303927713760911919041396383753801471446122532445553547964504721884703182113657513894241196693358086278615102035961330232684560414282211172163163339206338824537695404971694660795225994121756175460554065631761385671883663358360543734535155569884770637900805387025328614588118359628335772972012023811713824751721926880864133507279134764246787463658535904146573460507512481892142490079781448045784636148830738470074126253946808944991662315638907955483887206576842711824013259575949213472356056814143118155174079529388753210522992076558793425993509583037454299157088730193429235740578483472119598319811486845514639380091418625524594127687854087079047474154518179754263618810020185744948287244640345686597216996742013468640321226601563450923999662660070008609679975267017079670619204316126842921132500682260735107614776878608882985511046118385857639750549061706735216115098072765287056429968108015249313010156864677188860714423809348256657833574538011658889655394485869728450876556013902455699080864180660796852472227840212686384318843723586942940110142538353798869692749995028445406357679042311975869404407188519260877886357167151866740867609213818350901949650803021602381284304607941867125013910857201549803585671086620714207967002255461962051862295507883866835086928532272524874577453143693865228374185099231061700674355118269603968688263718932070000295369427598727767921692709265737064455900259573703191090439942738931288877681376737525348415404731026159593979883144123841373248958125289514365348194359240913438072579455198079042318042492944968468149390543467722480987055894521450251442509055870630621259638411503893764463083890484608915294094262134636961514514787270335528712673240450170429299463667388538598351219308941011079946879237055940845911795969922023605395123088242953635779974869208587739327433289849821067540680359323875542310636451496133245147443090794364275686882237760376203808331932534647764284078721660512322350674073015047524645527600328896136904375905844472502351873175836451619060804937485813937027272503495515168608392306589708087542481632624721487935911211174685701758074033650740396218335899528184960035799010423581117998424439001385356983796271388090535248087411526162717564710203587295863424345943504213152087072086500079630734712255829181407915265469106711949860807460159732637259297445166047284341030135605680804559027373096266080628134406567404232216692686989927126528018804852545890784020779637233501511593309815389633023218675825500845618279958990711982840240891902270754420186537376556826349136298131328957187165590579330618716074546743954812557671706515242777059675139177778311726302513888899304274201486102945912353736251847401740242396559612330825151673665625552935651629502425496396222495823654877876577425645642962912468192745309529713409572757994789950024033907537428099972835268659457832396623730250401554501627362981192992241245546535314161818430902948706896390408953785327755903190748054469986758452735384687703008832768591678167959764404917964231070760793384666620493247097210961416100311126850113369771277270951249600559329115596411902653331450950272336954581589083039004038370520306253008490785076894589480584261208781880468768281205385128959608782137405072400102620820255851105930338483487669668534750385168138668729894393729945179961012855841913664460497569987104230442537822607511609852067955522374342738911712249849059031553179856841565843674077251038162530831437549157540484638014266181451879598724102876503975473757391864237346336453635106574276515303234278395803903150857014008156278305011273243888880384797557373603794425202317708814541622705170437098701554550177037121117146764757674809402277685747413407191337773117975317609921978660761240332965413594212814437742512955973105586489374854231848917887765496924821670115044658603449479094737864566326237490418094441343002191898585722086531300624001949781029322075168762049308461250734760454798658555854944359420080054523257109437881162648119178637715710969433609716132116690437436116247363026565138899484857281760333289660086014747029659240029832445913494938055230826572288062154846284222476973683716867747804435970853706206261126265772587988039866861937740417750416433482542138019472690160933980383576845704707752500100613916918018415183503661881395288408190843874267233378311806099096640306241428511991651956437588910924685278822927421691021475033141512469288114383633292401891941244216107302091429169966655378811274934959349151083876216979062744870601192938519450458129533987757583960987277374522982502572723982576437512149763480517505558951326056257311871644703959695542729360041316261742462295673785531109949537312555822433244612174786044529676810826739423760885076445657199887548715410355107548905067562274944233507396505645183997152185698839675922907397609279697839187270346094995370416377458219183611604154809647581265292992553656803884388705566631757214697804377025591609843052510056369656836789084782031351326915287929962257159377756924938652672114679296643768920784623925710505461613709083108514935198370369404750531502416749952672814109576768771493859460827445502054895060747043259421634734518497706691309752021619823396174267363184326541034076991597457974546509373555630935462755895550436650705864413554156702042971342150343456423684302120557909213830063615777759703308470398894360320311955523307173237968530877752051363333710731849191579139571867271541578798624367414447844119803375080592186039906166759084280193597205500245602561540732089579645161544118919037675863398445612898108847280822811507061075036345280249053161915840257375261840422106171165153051157544273177580515783827977519305660340269535128530563150392872784123467899965391840044509838102867766220259627124360499626943588193398063689588886822481873168583056878264994624414440753346946988659909478941368232726087580727848670524836787602523760657865526326551339175742452254091637539664400276392831404702304947126125279817268436732236957941756163474957983464943185006594714542025910251300557190885213533871071450756418158259576613791842268368037919971664788669447210321964339205397146603751721147885368883205959933663947652074017036836859453246349929969249861784653250123368739562636214441924793447401941825217584915060358716893582421764779969419631460563903287781309603942504526496458326146445622784726844425732426240224555852573112995064299315278783434453566120011528955584588654868632746042187773945604153724747389643005247924689942100659288407667058503742850093478628471541601291920073141518012045969971298782902688112248727237662698215780862617429995636811355242898527271628032796615560728804921175779548032614432031293425668932099449470507980936709199723804942954274173869033187162134607522674171016312525021671856871164706218737844820313296245323205150927511692548012876527958575793539556604207068543139057088088392057231156355319524599630133719650534595076376698319616356471370371635060861026564331901388725138158360208381453078944452451665870152812578811929630255548077539332749509333586003755017240391870608541181736826272155246554365206029650452174019868773456339443026232800354442318508181440316576505202662641181466021935764653164859886876308648903661307740461027715104408547991122662208819495227774911029766469821601702573336831953829105347645350365322966444985637443041566380722644336588024843834372310712572155871633315004924547925666801246777453710686960134212927676598778173613921200947111682711230865782425669030315957720563530161480785934387262477306937022934909940182919114669977299489002525411199922385839681629228447590438422928268641357270180368560565415895179112121797253979785528301808557570024643424804830953818332803162395506653390720359367963657884237812478856436527416753043767680721790963479724984082866966904931306598326606332334209024100976620642137708070886829844978661261019556325492578385365013297974553148190136022773583340685918212345825918033048614258548465409584020756356339033971637957424795578365471250955642447815575717489858880773075849621848987028760377104840960264908915009249139185756110172588516636867252838459628024358774886638610181546368475332147880811789103759172296632067516438854145236673535493129492378638045301071905453770506906918865544677372791078816530481132680078051948331912010589280508913402694493108637956087619344145281050788623337131074114901692204249984905399056209642095248359072053421674733992934333997295044658690413677656403422009713474551124222719826795886964867689925255016019346380511873983975201531415870050499510355460003607937204418737595284165527973295556816287874876521637011388763032056767465424885520274147319579708184716421648218912613644511030822512561992791265720293660487224462179030152294340427656704917637218927476246907519743643691522424151349526725064898073748952640532309501692338132689767774457143882270372186986188724156577875052952728170712241661229274746917858724056531119059866861837468923117439778560537834312118034499199017156977181225405174398928747345616375882083454951243169900852340845824976228112729419308907226190663463932695834305400457661696818932049885993437534287469731439168109087851953375257562419045272144178067929594972650845512836743208742672110497752590832099899071828653497518494973406193158887937562327684224776440957779977738506650232548768131292078495202955961444875370159663408584917402898908971528684438640470522811526920161584223738849887043191359924824979999020927824851900563062916860218665701297197330148044108775611340903328971437518155446897580512866661179170232536762649796724082591098652363332355107745747015845954310937042228530121649256395469900840900636647976728462106705420379449824243567568803203639259930159476647925187639497470415978995900076142088225659025578915235260746345833542051690268345887780706912647098589779430098956066649137949233043083778350649535223346286227711614063214460428055611399276365836270428906153386876672641791747811048885044036147725516355618131149135133267097058729239063479561052319991427417002654651556875146647940015050812812562055310974139777646394734075856637141046888022141891475241309541969377824861545527916738919472209586417738883308918404103522206066105989404324600358742941421196642097562655167841521683811646496443059903876652170773517121054223525713923277102085335781872799732408635466447159284183297478703619334438279046685044956423545952923172408949910097624738245707869709264903891818560237966258659441837124438164580980595109552805930712879496671306619002608788205560621632789521993122079556664826985699026088666776726709583948611543039575614315992997748361818734639526832013350632366439997402979313087746310254420417258702406422597406438194751206301654771466117168899248829975080294122583950962728582247354360971127728780896409093593243704891839867003968412354564572175890641757371174140044207897037711727791273637078150493469560565068237094680043279819032095747721630805609677612082520426570918720165074853105039378574130199967300969920362978462525192954016862147721563840412671957062761100332402125406742852281067917690058101956947526166391028379834332897348426266731261549012944693391065238426525204918657373166397954019714839463456001187257975291702249470751065842609776078968045261525059180703856356762568906873327890536490536369653291793290300306288572593655121697988719324578225077192218428210877069570305771137515511994603634414102868859971903564865103711184792172459814355644223403531456280480500277763033350302172954166826116049451919288248235882409849106081805197574694883768072756176617912145008508611444905189488175459522240953865254448259482054947669149445519067502582680930749757594818745974823356513995520045181739328405897330696442234357566160321205721334979525745689517307414827074521941239359067193018726162749096542109723634379356923087329054418004927788865498898142563459992401148292308136139642373387757493263380949437575696964172904938557201832505638629528386384674274122986875565296934104621763816611772604681249478633066173772920070386877515276702714891561241591966006400349300143433092557756547695833005634656103441129571003172820444574579882314857183457278281008275176836218971093724620797027816251157838854811693056538267469942845025165608350974099830680302543903817423872777086994467846172999821681341942084677636872032173582874893257568858444965612425881436859394092329456490504463041354373131090285987124649164696794563328082288648959354813025698266279249816113429862326833832647428687244430996746276356546205200345494301363077967976321110313223474410444877651581921079805226328408611855012085113192189100260707879318372935568537586504551923237249124050518568257222151879122932542861435961670233537008204081100247712421675785108932316549845160597600458458814113956988832485086442132457735145134615984168503191063194734680350610795378797414787219409057117814926193722036506851512991846965392676456573837539281811196256360318821681270744509511381913340536669391841367990386244710157693619733438727189873040108995347553370177898971510547429051925405277248577752432560597483248414445472723387518053443611331284116278335293501018832731360801143406207498426007725289910028464294561216486079632242507598000532898705995115185032048637272959759794257112523399908150484007878758975349336631549419909577183827874001312465613870047140130245072808445550593286292868422293203768254595175340264672992278239021707304031009228224667321261694475394307042162608259606940997381552236413144566470529985765981972597465843706739678738300944982246666209898392734668292411325732843009265833872558737688065724107188814176106759095523467493510012505631874802100931936037470876192990877724210799431058324242773789514503754519017674273342641016748648380245681708226715454087193430498868017270098240409493357237648934907509900736832741672384189003944075925286268606127396185672173350239553684686907121840014098262775380071565143405364883929120665389935306016938084164989750429350692427827063279264081098476860722822431489592778963336714422805820612534351248737706211256503144061411428541998600481242484679319193422489470068511909876957967627280349847314673675158161053827993266353672494028615828728847851080483699536129073625476273032741914068551323867808400968657771645068790661119077168621828088503370823051698578700035233256317384709547499388603304621841404320431462556626174775014997508705014208135033471158326377126437020629006194914549315605995691953650209760951924400310554275648882368575435839216526552577577612660269408095381295051420956669463730071416009354294283676386134725659688488025343529212182240134165463192878920262521936035630044729226957002181325864676054251612837791875735978379191772057707546105605982655794699160225852818519062358425399971900978686687545290894487586500267488204180340479625118542047305632322744433172314062487451634695552844692277865667245698859666405905780125603380812908804722803845393561232963129048338110576109965961968620314122196051692070573850235248435498204415357733712450496276025745466873718834478146388198907467990623194930685170039273943925440783546288259200532617179654066403913392438009307915951058038651416150457385924013582871378185294229210696675590271570405174575851724915913840201622825416575149250109538489682313741904341069627741825708877685158195134521186587595755212111443354648632356354807745095749676286853703811681576327530108546250913600400315159827185913070316303309352823130920426988558519071981284717739788098606168555062814597557475456699658820977839249359340201882357348452107873000951518157816225954080238894338251899757061469420361139277927555555321403508445580711527870296298383978587157259079211387240625256756612775836911829873539374621156719027498343366714518962567231767803986528632435830150256353715581451883753261641410235335663097516466080830613266426043851953860227802123118776947460355178651350026156272761031278281555377265453965398295940595808200015935840086908949270544112774396010555457957328652504489358217970149122528980475791040379550845283857450696233750190207691046421431292642110845078505817245579410302684258182612763151627304141999067953600079442378445430394557499414730850231026147317959695764045443208121215915122935717544046028512910338794216108942355301939162488080124710893307358438204819005883767108646435860869295578008318779014136859701160286846123347436252285117514047380529626354474484959445652194809435333155601713502197934400117914046658429671833040406595867273587245426734518708763846747985411158887977512069591108884017623248305182792376633637362890377631449074378425339975731905725741242768578515812296064041604750751369036310670781331445081121789098363882057718261213893544149931711826066369064801222597381381781362366654824909196965914469459700331922475163990376398511293668286113877063445145643187072432858031114650154985980869006356522272780095936910597379934608971167536923712980608006301729709512743972329377366088061440516687271596504074949715440792044030420791707463605667622356651508813129181384051873455791757243257705041388015840354959736405027496117854374429276018760348710685455988955519634178138865142292165262744546806866989589726216948754507087047917460048160382464137570519169737302687734787635336558047265485973391923421514231733835163118354839035414089402905776654773596608861445611106251521742654051817638769825817074936054460597490699086615526754449922230871373245416079918414576451761614073870447194181368226709000813296975880301313198734841671935958523451824760594483611065502113080565415166138775385641816682924920135038417449350442257386032385603054771506254160190876273556522793684376553508355429205657891002090323572222259117907224614924347812294785864840316092329764547059301806992366685268375412060015816436971276988079577859589229708366739874098427140408797845974466284279126945751243267047026624908670441626789435776631534839534221755572762294737238222896640690277768725199062055790187949815624347769729182917304416583959306659120640116435230035445226878684217379940444043389558598016352870883866841896996618394289725713861331726377813373403328183677184472068741251607778774443545895423676642676907357665414232452414097233865209937717732277782881027832923056213889800059579579722534969355735476776375816311369780572912999561139179203504437372681778730454844134147219167196013871311289743008381238019935837556952926748852479250767974791056324839977621968106048690664938036933384314556051275213427776206878152544414389971332478588724132227449370075658483261602196955202207585695842530745402092004005676922190629353857497582335469829396184293556735957006868799893011456393427618002438852083624902507928880629335990563803699549382431797205135751800954767675305007033668785854933517399115065493424682535398290854347618687052653293780252326298239769539372520140873052127170064374147758923672187476023511487863588268128243306174768041300990877956817166320944975742972666926751531670702558777610673097434121123568405092253611213070954796491345868980860816779339000642274098829025596882796580436763109666703418517657322618587080791807789687408331286950735321316695974922826926457349064117694366371659144351116036377511522159801921563212586561429692730485540503869894213408500103071919054363854096037533046835193195054963661538028783391188718893716373307482282054752655843749131996688627884670659501265555222367238722184853110482024900261704922319779697408276684911185219755865600043298246533411790272814740258578754817238038346458590715917351139883422749994434988243070535903132796678058179855262628911405929151377516445565320247377538183750470581758541143131343521802760200460314847973196422286660531959985631860298819655229227475138644872737831535790940216642492156879236088728916691466599040447271732038900285776999743497165675394859147442605267321746893446638141308911023221253340742780315910009398863312770647334780921367965776963611952168048290269678811116234535067805847356424149708428562735566725871719056016538767454994009688265987038799723840187638343716138145579902080711883405488118686103929846674929678860231058181273942780560692535730213022105178489716821494186892500661122551846634736958580371664872579786313364442604236472403304246324365486582135804121968049278148570568854117774769123550838152453395957965798373589119546800162121912930452396595100977858414082229320516052429731059859611874075506074430066743585385155518622891111225083403659020429356261504926396941826958423656567327028591544657966650775675853668066990276488413788694391969234217977355816257371569360017720723154105566593919591199047405953286755794543971177684868119803902244675188774032005459809955645403656403915763971843464364948301848828888471346670756861139645268836069501739012219346758628038463223052445143857722254810767157736814658028636912118938447976477506417380243013737435537574877662025331987451024728470087902882981045943281326084110763341765408380082171023438490261116817840736492319514951545402877887912342029860890998817578788487097097108725616243347156856760083699292735611721664415058236481922961546713615643326597047923017662902851872528351827893874157849765738498665594926505094612480785761026229204909806164369272904559955017151593636153032575627217209055595082606276712831404914233984776873865786683905388565791328766962658108034558126464451998377952490485503278249706440579988693845578782312374678226580278796572818593190485170814329026075041923994921137780642002007314077353115642575990415984429003113385295079155861620761579522323087131222153717203818951824012902129189184989387334312163051623471837220472463359651197893245197238628948428504253813316273539544757138761468348385024089933251831497435761980959880571442930299051609582970772007504102936920579422057599590321183338890600041410108365194719171507925502286390662195802617950032872127224045021859898810542879772786229352418996631972312465915630414401604710639818342933818531582593137219037658815017912172936740086628038899589337812498167287117025759471307092475753202745361720254930111532278045515833979947801565762788163410277950160157172021174201100693622425392472086953605061569696912685305291827798217191170807660129205562201052602083950362914241338400101436847588709780210277477929537217882724876537327336835173689688878647169032752421065971747122740307853257085164196260080733436164269506915313074710379331862584295604528041130315695094212949480140186433617762268219405737234366026436835542266511614045716658044153666529127965191436866025163304023968653633663537629792558920727668680616872555958239345024975425576210642881637076712741053704691125948861092956184140289594086511196709488187074930009509549314486025134129667320749565729056292595356052504048525320421502616551142249897367402249277242623664115930421023805544269512814187955352921423285340970255488462778719627721647175489623477349150430025169352157844809209691841774797989535277947743414230232819699199861404937289741087290191747299891754096374290567458374755345620070008759638804128929335358434271422228788459112348425514749655134076484802058454628875216696692927675483777064367915393784852357931164692817322135156717588257313625659546507380563312255956063637081891922920057501469315740989752592595542528670481875738731990487008789016771784207528521549766317529745479728177791838024657297982554404814678835115661808277197907151112864325397847847928192959672747480102355325599883913890470007979062856987559489847734851026043137235509454069008836848305768717209566825981337771305321695036530317486852174432851080478229697076407912815827110759144950722293343099691894760787345523239661230370960553238633290396471063706537796040688046987718044388433446756128211254258796205350524429542619685424053608925960991708394228677478674437780822519159455650833737449346162897765445590979430132294093934758929617636936483333293044479664280261094314429497753146805756980468003085774655455630842149217627344222859407345422414725430373768430812780806796382481659140083121883923454977573655597486943176990077459531662852684553080249733991641199798370547755449596326599608443341011759366233328853633255535946588159082522266700855185685837354099890321790875418702441294053989441184935585298226812328803977151680834723848874154925821507904780629905427777375408886728805609271986732249970915723691551741607777496869555319677306426226230315143075053298108537558249915151195104485402526060568484664699112831095727662913831108890296666099943265471567806301679289641382216332063694625318864903960878556230150213536364992628559252289154651716207101914137562946012218340175735517315701726017850922099330703977783893049215434252803939834060206914992122656335981127522881908941162408138451110733407577795414215770151207095460015527370768375101361989911405848665576830476616489970060665494208647047259992687791438184999250404559836795191604000742525595805915054555946154556232001409867710304005667358397081806948630603247606577099740686943218863297859752356734495995230750715145485735813404934174557691886886894766452882184108990251206386140948199720899338346292005080134235065895885493252116530005980022787447363536019682714932346032831645755508526425596804159959062172082480351740728184025336472894899431416742680577551557333119399374985776034416901600041666010728427143949750153523155315052066965664451991035011197756316337307217147384105523734357189715790850111929853953717394718347744422485642954847283257215270869377623598230461208277413450475749295400205830264484688885884563206781659855991724873620706709793116930033744720993435072209711331009197675315389637344321453732564673976426283361331448603231034023317716620799349872566986920020847267998690997746936528143188925444037915842113499996514844114176276007970028731833288180118015820729761117136773115171904986818882553852687856813929505020583583074474897910147469777939937097443854480658613278286267928062068993837018299637793093837841374419711440221883370140155267924518574891698258885952291705586867321792599854055187009030144239187866355281549131500978010248362228112406273392808792346801770935353977916945859826138347111425717820122499706105032750051491782163709029362521788121061130324641835632199755136136072677380490840414529654185029955379050876930516126535547912340879948576662265798455787681304535692196597534114712884694982907739644722575636906659424351833664740771761850780246704843043992984572576202214591339726511006086834161414367833644800862868437280625656785426426570870584045130007962944954815632005646156666199408679649000471831826480562243353881448330127447418054404297614460270213294194253924749218337521699208875460739383067034044984400036570336017780132053911119160312294976439471802702795733153198488290500608408402178844572357912065836948339061185673789170296610269847639837927262431231723891424463014126474271780115123262257895041775344370689153000452757372178073788847461824075311091869128339631467212429213981382119407299535924601840180103750553123036484094136739108851880428404845767954933551314477167142544405446559324104449845896134130477751216038677680247370303790207395024642640281373749798620305231265508560545938992932313961962252767411347965100566142665311568935340186378149816763100485299696684572409243117444502678195543299219404887490647762943096865863651115989572508507698215817537977833172568978053169099548863235161546977384228093486928004416216345271167108716535065291704856553134431211019909670413995257046714306797586589590518844097904488045664087926507959577493081921290975085264050362769254376913054038310761764611901392573993666520353368043910627463578528884081288209107680950601626124734161871014653291606185268843303175164311905205519566759483760174088664813767700769395442952457469418369859147016599385537038081123900171900696558305882284637303244074467516489944911232494843263176482504772473355411116865171092221586956787042610292019143092156926132331143522763505909182852164041644974034211856125737366946115104467861612704450348990970396618028149039192015635229833109046892094920626231769739341066506221730256852413621376646641334787159238279453134122086071893444537830971399559600633928544619488874533112165477223268481531054408006366693661287071289157149477118934068999028551054147861302664784664873189291483459545559383864564219870584823646516351064150658566314320160587244069055580685122220087153604481806072680113556944173532299068177338867534571956551679965031839202983760873041542895779369502180695330492458955560652852425526155994919636952195389082892878838382246232471119931536512752636618903481460705280134341656396975456402775401839294443880905123270027618704297761779834202391336439174510489287712829642769528603892566536915751160521304248176739457160514242942803803187487354012185832617458425357824664559502153311536324731289615827218691482119876642841512934558471449744556005582436727592756406565415797943612950226231593871945001493611105388161754618028986470032399614862629228918327950380702910059711756774736928644383978507692881597224993333388077471939477434628717554274160012755951291611962102453740944783505832213094620455542263183736183429609414433121744445841604773628818693503739270454382160713993789110052016887987579144033233715629877473394979677544529781729219108026603401671951190139251058501735684458526733207488420245339111132734770337521124286349822598553810672850736053406225124570947814838863382496747677010939042141617722648630458424888108928703178015763520275457392049177897143284684166955515932282481560504062584915995312959353938585171382479252766574642968342243153412245490647437114374480993564630689852809275788142279089730666316550387095747813345909713301643438953697700658681554679713265669343217360028864211030388000183340213644040273817177996423618884484904472429723877874387750897431736147839657255533286133397292154767231963241552782247916874431483119637989346677311441737893539721371166276782561573201685844479614932491634832418821018220062591661495095424091565953448804925697244385365669335806960502080664656657380952486809084741435157959054980816545349520209144303448863760883211938587161781659510321318262530642707777213941484234892798820521943772487298043424212790687867604455951388416356123925607654656212312618860149643009680888814574417148732298364004652693353789414270287386081928370294684552183223609246954395427082253012843616166563862215007489807953808406164637313936687412953725367377417996757725585196657195450386670660747799186905022033994053676895511993757736865761545384548116130990926221024949415192284042036926449866465859812067360773459955089255255485191431852171029441904680746779941536162609797689610958099620787317969487304317034052897448270249584394389358261382321823105784960727791926272078212195961902573027778323499514971161963650934666338530604331484949758261989716239743978227934585292006334417204708463621606839568814508893073213567310779616057080307372981869435625823379150696271643838709847437401727326971637235646802886372782504676218389208728271941224996858592789315883090526723000425345260913969326707256420249309603745806852513540954862085002625592540594547752991418356211204121673398307479704146964077939316245530765277323541542231525873558440078502454733118725594652593541967074167209530018339853672330759120870695150321540607246514393719853802288843647834618608069051258221835599247017520405835032788647803233365206746160843574641478522549532642216770137116569264920920553858940069697196207911999208028056025841062729113924400002196205559965525137305175607867217743368552601855278495184439152797858291087182572803491562749042597727019621160567624006384995687300883505533026872618339052329319451569040609964631127762014739078167420824240649128216287175638406319006662417929027503787932971908540046518903476522276890449154930456607158501100470233852728088538738364345046694973880803743376607043105861940080933888955726596478033400376543147860522090985042722715560951702031917460723625448507244278343560688878899036387426096895493956372161978796499406833146076293113919467827995262517906600536816300325992912300627098228477652755971505693739316311371454894615351758062988467354356895464364306855387186630242337742897922860294494103796663020092766556691698296366011395887975081201189572746823688369018900031911830602341876729678684512991186660868986942187603615934019585010978243140800977736043325654097807820612819035911491589332524294767206324147376974218110591761005140663170937950104146209251439104439981312767985402586620090993219139735355478631163196552855393290842994461630626744145122054378659371826799141347956089596984275676485711281921172650669737205990776542971997814465032991628858653920689210796333863876874876971127987994945552883149074972515112500387361651093099162651923178830904856008581713945571153909040918610250824576382356872368533967535558915391295710162293318481621673738621295701874945895763928548353656977649653324551315853368442398225732879247413420849133415799659963650986128962734101101176784115233744812887330770970075561480519057116975413207753527913624942233596529019580747908833194666271741979718482025732421946905265977653306881130652120936870625127732910609773664528978508877754101351155166729170568930275932941662908434671925510094630778947061125435621744114256263110056607394267310902426108232724287842197384608949416754358186992563089252407459483453934663487346586988984766395136102574787620875949967630017952784673060970373443446825252610038827852974934403353681940237308702210585041279682798379715018873380874644425501380814865090711064694124934955494783422755264964585228006891403208788064135615089354791441470604516962608170637360531994270560244506240695459653798771332444112518913013755612896244504452787223391764332562805418950091688237825080336679914572536365542318925194232301797551064510173669005727583624399813698700343497452655289578411894389072800923582493791196614496916225367226789705232034020867881990846670964456455807232229889861345773478849588248641305917412274839797205896308346681367300281781935371901318701859515484404952063245314603877548257853085261489926171604811640412867294246750464646530391912566612800910534518106819727075595448901775311649483625122901351746152247633289785165470534681345905800033364574434695065004983107669258138065190840427462297916553434155341605820161230284643912232175725021100881986505859248287269456118403515832722973463719001430565934778496885661488045671434615935822234894786093246465839620398719657425157477366134728801413726745768742556327006225404025799866462586037986554673803220420688747346207560118509987263610801976258830865686612099086934965658852940499030234087415928852430781629070302480556130921607811352576749701175809574480640342671372212186219075417446220794814110275887192445656540901903666788068100606560303842805981381756614951529547888983233961513993867374781447801724350921566483818028227136583671043048129321553685592125345958523730899638649822204779973656516394878769934978481435967632285241143333217146834177878929116733417986555412361709294100289428568042323098394020841262612364081211019770376103369593502861695198452466731944964764166714530833838845019126001404573134032329614039158669612443031214385387578459314225788725309379722850798819649972078912515213735279448411505600185143617758604762097739721929859606934730311611664652948798213593567479411278064996448066533363812260987713268796947769920437564732604978091119475695846450211370377484997017103785989574697169337259915143226380369102664275726062955866726143678328155609901417207618245791928641514231225991357700413185023169176507831407191972557894024490527215465799018004737870347786398773442029827433726474157238863567759929537477048361507898225999173813919019329584187657436140453649783827257817119023132177955593899599485516224537551646589107012542667933160720144298325070394207272982762837402858946423796543560459951916780461120129035563585067289154288862111058530688585389254227572078470311915862378139447650737936577767432917542348522357852219548543550568026277207438559818976208968953120241251034754457240453375082788292703721043888577555369372999134172665612360742769922202601721071920843369535072989185673453618721479887282699159922663250926340186153967954078437894364179654758368229560699715297820377583400288610597350478431574633733440663698842866899923619657690182884200128789129527922423152682061393399342059181861111214520957308928535424691229151202798819604182222100987165811548785984083501373966477908940525756382262067813105493471043318573353292323860202725459805659804072474852151500372071636382003680322633855084734761515554003049433103357591168249291733533230333463709789846027977869258950446600001593653987585205163907529684449128258114066383219829630514521829669176360005486817295265418589648656730197897966657415189712700658956989295205058716406186545919867085139470731706357640404657078544267944537952530933963686718452815798289995868917145757919346353220645126065038258114926289114034693420562229287298288064463658485521994876612571475081820528987059327290732148554795885212967362273644177212557711363922969294077963787931223018039227994956563392507232732086803594382722960360767884659819887814255145779618661634830855350711359436180553532125024369430002573080372142609150740015741561080975484610585937427724023604055663013330670295883169941150377387764084804043356946754723013606722503306420670646541449339505864382200614128457081472120177808132470353772066844822706513952899337469130563712908478302446358322950591678969266318442069948872436657234110390489492365091353325568092085333347504570345870946714285000833330379911332395498887774875016550407022040710776926216805574994254479557284854341049206009595150570052888887744627482352196949971143845515852811119416227466634335434883090678150045859138448052864600767290666704312738434691011557086970736674668879624541051695455143848928141387452968735127378237017687732100403141790534753225328190005731798441484712877515318733831560587355356178520640317871914616122569968615144848735870045960804222307965243257336589309352667311770207336343616625640998725586129102100069128318151722409930335213147119785649259863708122873987773462908534947528984576157547547194307506551852225136513751949949492229215559640725291759902508044503888259557605189665992254996528182037532997498709221556045197376390827960148090918998704328220995086676729718045484393868330326940755763157779372850714592375510039345890716578634097689833045278540244856700936159710348640242395182618983931995834204874501167130031949728709902794793852955063080747292844423229521322303373026482094708275756168590128136252353426978188116656484839555984116473150857164992215322932713962203778754507556236506139588174089052033830387666111418725104192815017813159601471697952572771252684759151934621061126584571891856640451921831809036255074680418019806511672514760130403294060122975715677202758238848296816640134333642355532923463136241624263458209447934619345086119647713403509346597567547526218884618617138312658357339645878357159628178418579603001971098691821586058308763047508290712816201659964508652587729523978624623654522138461611427017733712061239718190674461370792802221683016748994447005654361741834517412547202881117817740936677401499440432965469727199162767727481741204369524021872332020368674906307262074333229422750402595810353573445580662407452465230739349957423691623617302671455025747948941256292240663637689814834478703862054751870260698182425388698271861344584008898178906850127907805341287825475731312737455289791445788232317189232939225588422561732311558965313734611888217668184507545836420475255848587482687921621233925606323886061192449801565626540047168494517216376542193018084381181053334109045662580226148461210925006908612858207163312148167887027783746292388918748864593592508097654746111599916341197748562398051858059242675786789896066775724660065438209831150345790041231122289417651254717048460769523146918072729739307706799090867595029947469806823272847333053195282986116647532577762397206782366508654570499269793912099490548630871773690955905830773880032815952959629075794105585911513120897472556990568549623170515862692572326874186483588965439431613615035820041965261377478061720607428716776967710908479532435173491596177193321691568268785957777928069087962187426163100323601284194402507148068027521336343626846739151354909570063265456745435901516040511028861941501583245349566608748310711134182071399404834854507697880469226617944987303547368437080781567672671006551901218941124397563982821140529564543927267598060918890694709448838375826289257866682684308328375580343833659283230724395047608588997251669325484020486785577871461407046694772566287415761027737741809757352797126966292412210267783912534641175751755017219712776218635343220659750477665244050226178663869953891748171616105486409683250067057755613484323505857682157204691985142301714855149234174610742708215386095848765250979403132803654381258036129164421413862098832935739317477538869089220035246940741962290273104864750101134444744324804228146091010556727159591563337554165769884612602235013922610029342480885854139364177786431976645948464908787267493089860827331198002595061101528635388454995876871095576221977995623534991311896364726205983872624969077701613647215400597767112875156836519554665827683937900180865607222189063407396350575119608077315355579159958320599413385896876904488324645095981796155571894851273056554914984963386172581279758452531663218013984488780031759013434339484073604280148615518782236721726472214745175562410871231500945220416709968059487169315890096036346686159018007858906357359807050234617295359519929833252090606198990143696603961719184324313917438178786563602316153543659508519662162879418660784604950845882800865094013081807686218275056023025254354065937370753703930155857047609315606416523705275602950572813121639807319597039001911618208433717852216078609693514396619447656704745455316838460869039743580100917112368151308014334490272686908077044080014693880547189130268555485014683982450810723370493814720788236790759122513921274269933678253891109133860437021326511537029417631502712572660734087668474907126792325566167673747241760205367934583689504893809512884421664444212616226847645139940756020354409788787499615653871398926911722290813626150333552933305893555579748018759635061995132955661287259910335357746523353898215244180361579864178575227353130761541633129458762225270470298366629902432563994994451801598493120131086610323174481279345066266841222348875189696386397081522719765949035975664736213940464577513478116673164621506698296128386243701668929747371464001346097877599064294327829541023225285136580710672440916466458867213392669501844769532010635863860076034856819764531964437141981869207137042770220671517911498912047506935993029503057039814417523200809493857655400194206598340254607525375663202319513399877501259694841776596006740135749458704672373927702539238856517777111587862832594041269872975874798289715839416043466017488893407370662764006478223491857575099604300817803000412629457193397442765767872755977184827299560802785181592571612395464753777560303227335311307520566583161001363630767741263145132055068432263503270985907372242536456717024383321842742176385290390951571331681462536966165193441699708915323187928108403355766048665065627173956929896809681820855252275906035338302670458110823966713365943126398744315984869972871739534734239964186523691069847223162311364902286012152482017448411352100444465076938783056999569229725972946002425123341359937090020563119681749583353424013723459591754854372776309726581083376704492695226750943314430534727422896598000517169264450291552207682839652343047458238148753649615236930493352341550100953480584928634263643695428872097274047708141678067143604210038491015563817830553500942638653972608403997014554678454663891561096833644248312099503858159872582420621494075537953885031656928878099425282670300292355066016285197498485246897015940505532349262370558961814894270580862943784212748944014292182624910649853286631571721773644796607453898966297326655306957008150251318529479758047761687724748062919523205935386139759918921621224582601639855188351602321778992458790297219611410432064446691834368489346584615551928300947962912095191986294740237513818275629649693745633925569688355173231388337398709503534175636767205587455481345836910042753307009218091453421380962034935774171737405910071200454709863060349307975725810346789090593067596825510655035522024511513908525841045575958241494266660705476101362545729428579260225860721966076972956910372460508512973490954190311292273902837055960615909129372250499790647579467248122469252632390729028971870257863492418362115958109850859219435282009695174169300087459144819375497414857251843225836481480577874993018681055200191468685434686221330658865854896249503350094899924792177817505939084501307480414577716243862482291142744764346762241953141173407211696075102561265363754392483638282881477233227657922892356072579822102700135440780281807773181791791955405035637258900447613289918339077749199919253262908642642776923829053117365743572047530437211772291241705144825052291670858510456870014025739621443798754795289564335180053783373984442200816589898599620740430214102818712477671028757150781813521976053719568097959432318955258433490312499780907319911346761623934858084341143564871333476411048510133883148767201555768936776487591651541377518713848512752322441643955537034244880206329317573943716552160064580759224250462382435458698625448304466210609208283542185709104269216342402663739388122173101011934363214324798555644359697353701577574407383941585842005614868533788680915362236334757866585908259917976258640759639605103569048349548450248001369638797598666855388139913005601155168149015332344963931846575657178513531632647598370954855020347597234218989041211052027224381021328248527109542869693449944685576147962237299627732226295511698705147560976677326887850348132568231254111478631992359343992802752797201722401545710713675711680321114833351380609039494062903711857994414182858073553611441820618367649772533678050109219410453396789869575279900134708125985792888853098072866095443242607742112414677233117979609593080232466531412581702639012676824223534172938653088174157277421246226711075981664920024368687880052672838772051160701136863147814061434448968678998589581602308398243790493654810379672846003301516333267191018191548029841362904361302918793248779461879015842003879878494890313931757982128289221415040976151677655525452605435414478056153658187710149486798691906276591279218068486224648820798212093308394329365009838485899419101681359923795360019020201390373425896793312971060525663509586046862717006296331144456038660168824007244052810839809948391069122628682185981739280219774998759607631496202400818225665611047019182938973035931602080196619820889811168194371552081150492432753660727814079720581932568147694061962456847419298811330806557460850496590852157668442528461310545852736647879559867006483507108017394643064960968797381737782593305031584275713388657255134935460940800822327534496779396079393096005035510345623230530815933430601224576694178887857664069578998151290319662688203796601782486094113219566139172190705133860919009833229929120823222839032354909540458283153721312656702236383990281810000636216211050377585015023813115281708507599379802821671884126902906404410884314540858339386732976743133454509946883064080900455151926206919553436113411594045202989877884781083107020576367933423816847275246111147418669328624104219877620336378661077349038950468655160470611522683919928523316707841869407139491296131313924729306065315772084650258774944308530727085391459093421087043012772812706853423385839955229602169807561113702864455441222906020245129572481937036951616441012614195321655167826649479906334096978849079733358981366141576532695866422705524031668960540302820187931017516407810412079085628213794290312330874572002485278266576296588840314871835316040067340608461785149291547792654694702579765072009269817127873171114417911199645090776978428730493868323580823115003953870975971830091287423045795900708698320279323395682676994449479000343658755297957308580957471291494422629093567559441692267457388902130674982507458838774761083511348683777695726009422835570447925551178425013026838142627642466010929929748216639678138191186290598350416195489709732339074788436922209368157992294299113079314947552953807990806442872672584828134652205252619222627707914282958488365338929823703177521181606836658291381018083087648033217892139346143691555031116906852930128383097854681843845388943968152128492189630360538243836287258390370307649593696240633661388377058154549236500251455850014822011216730584178745042054550536351397666846902861987603606089284170754664009333774655408105555376090642975569362969623292844594617236262401506242976017205733460421039790434222086245841227516739824330688205530357707453534386779387289585090188510181226115474374024644405270660216085086941884437732289086216777160609149415504582590366593607441517403798354475276939001221141854706049794641398142085919298571928506225999801548376856867806340081280034984140418081613500107548228848689057433429209689784952766047278933289864392707217165210666254057231728639720608453934683686434722220424443598371646840096282080012797078532763456915845809228908571894959189612422886604138066043974436916954104968882262123186911740723148169062601826434137607886181921776316725128931620352384929068437980354646143788939852277986264452323471778359635330264895786045480321076799266350339477747640601371873598468761584968025584780944692638725490833646402986752389963312038170505873988104246440391612625864760009509384779752754380239031157090259303088261488699341639791070920720422428755333852250307024056776320899526249916815068512093872730794644681991713457346392154774579627471098540284402327095986742197246353050418636837998203990992170192411504188439841235353180650875414620250105061695891294842535730522484101670324811289524413641929398129225689160437586713036413132151180980032033716063304449389922064296977510187667491725476302328887169078131725309637791370924863412041311940814620805514837088863292177300651951743688643316852430386396638723125493458468750787373216824103042588348009500092951561245951467018017492742681681421215281594046208536848430571135723532868050620210755084960039821034506346753073914795568361840931390149374773990036054510568544201522477018724729405097275867748378212407838560283661438402306442715992342032977791474108683941833963112624507838123107111525667131746345483995359410159003533164391757656454729852590888462425376342936875665223975069571373094149223325364302711888446105974421191045194380347028908320588682803519628762416741637676190413789736370307744345389562433769448668091026489996352764964347987157513771599084979063515738114053732122853790680489572486985897411982769008745505672951056714737879666336359182046606709800685671070362103444024075699692652691695306112082205228454599553216975615454814314915304192775252800007025405686452835454765868830612451765406326948827047154951727176907708777615186885710898918013433345094132374385415262397618789235668324034522428369087030675699134055505150357515474341082908339799932464861916948194463838273588365990028521787317558463455760098781424515877556379739202733871832247602645260203463974001402975970847282715461596872958897153022204924062250406199977879781495383385910219579647650591606874267723213475331047385427897120247169720231056656870890266188927301035128652079280838171263788755995391368520864644724928575249784715809256265628316862895581817505123650125313126908357232804571340564910765137576312640150085917255772427774318916219765369015555067000200682699915946548924659106477179086224311413242218779992100165951523863100331643134701224289559927179816597853617282657582667147824585959511469054601002218312204419021594862507580080631984244056565611467183298691356066633000371228183811189203250099409889997581644015182120795364239661067668906964362893719372611643636695594251650822191039379023346198205934263836944624432733331961962874774105005373163745957811212510862564827566408660963875569383522220330349641951469179159417195192268031801098612469052253822176601329845922951528531331625214099469565423052073929982489878273347097255918425092999092886502687202035040225360707986781026295376281525534020537547861961022389312333433847743013331666165929477967699575535095156384192085733591201300625614890859853491611175366407222979803102427425737565078571237454083534935356958892677320640877315226238991279233413975723841383445537992548453540227434963184359613970708010732664723578797890437345275225819672627723283996886978685105801768474594996988313834580200006225926678971221928406053712895439963042527807148162868840508946367524423370111291650949248117292563151762772948929721026014493045101452957888109610665632401141813455881528256764375072828663619923719256451016573716717368613241710253541027830964403881870652498856867874072688243338175086835080307780721121152777926770036109512017370902732269434130549619902198448351361315765840847301642220258020008705009183645212711687180291033392305890840127242948202702259400396499640745060951788293753868346672887129989477277219915980804648075379537337479140502318906875926468398799662206781961174918085880843277857077407667694545411801393297845610594453278948520183183497957656985248735773417418329651462901374200300753084291477140250484755275358615766122628591088057969780344022530471743363553448049761640292734981107455497756214599384794131064596781598505483529984907525195912102619608390812837699360495005773447470985189522799981167864898228990470872698733382824010776140150022114030797397539311065559120245629011326849331914781248012306810408439121188637715958268580701511503735981409766289487487946408618777132331274159121492453605511291926414915138047327117681278262171291593702435403809999809500500548628088115953979337220669904360095082290662190427426903191538639703572142899220840834093492371228418847461614236030434477520275543048642126884476476985807363960210347645639021935539557997362502549182489138698214609738501512160513461372310116131705221429066892938429120112695105130802165472502742721873742365131574485685345077064240552749152390096088894256968328004997231356041055645917725729577126691855677215454128749996937673420898165437436074151289702261938175470757225293483601479660953164199773298909931477239405204644017707108906265967293945231298384947545662172600860177311356633017534889312969609297058893867758971447920571875562290397555725710837037413826519856094804358436233431425624805288054171794850118038678328785829347975943603044447377429298097501392884376599665039044310065369228265806623181558573659691275664825650530023758997828603184645253262021814552207775586940546926935402587185626277550135087988528542833674531190247650846537598464241807522902490145334942704652450208162089674022928583002821749194489354630109112542740002222445765033825979360388889214362409646238186466995793080757780744225418943868823120691813257871045654695219870724969125596707388466076788538075779922441370718355622639414766911432963844130260557093616797082252250831675128197410874674822860935566699124906997589212931497735281166730281627759427996908437378150693011398789287082624450054462740400855826008242987644590067978108590211051471440246935091583426078001280245469784865518796080212730239724461852886950607012198714629341406327940370206668510283462523349912019128822318913295170443397497202735494197941188303320126478747045301398832783925702546997024564374201282782047941626428035017110380387724856496112384009913238174136975142536083841654704579249371971961529579494899418985600730111599153770230590325690412904390800312749387026242131681958429930364017490895193736103027815063242344357613390615279012256063524253049771735304191592770430394749007145198994205084120586199854283258176401361125514755601947844061738167998334327471229438169492674996227244682869111439986859038137408742319695761289856114107116794066110140363650191943234003539303933848307585124122322473713669639877934124259531650427038957231269161074762612408234055712100471011089221694779873130115391866747006616153812579861757382293798182215559983580576682520382633549243312266100577257877524498445651508567562775649775115500897176994207935373644277094198244367229396155161194474483350244252475815687939400301522754321147626046529623632145558976059185491891960542687120139279040883078619203958062036518838373988403053880276991101501663106942788278076064493208230694535135398530711658383446397042769307117106011562997896149608707707629056998530386961260431658330548010238042563964476302405249122029278142658915626038481331157415425337823148731364341151480242455568446821277994717878299979610698733442503196577990805557514079651947253351808371048019710649481058040529539810372322721646350251259607160383885047164621354085521938374718800579604365058704346017819294504725288063106629890718122383305842504514680871762866816102995706626531846649459015928945433252923175203081356120572250533593526471454086170626577962462302537040110930967385051368179573472725664801690436710904613160271971614543480308808513610005188191302395626724600481767524082315658230272135769226129837840601646247772507443269107607584610304675531357253303834509137811584515758017146403052639994548499139496016329364357695922119151018125430152222119684009612009610607237224722576177562726197035640466777968587718669882864621060035848257536823073933383040292362386109235904158683336417382297957607918435153022765404539491133446949551961507823139788537798405960952088831853505441377630551620326962175811565298145139405676789271352502409735870963812245587696414860882367146408437685841964663736223098010727584760639731769741337664477626650773016684336832719601824429804555455411589656829338301396402885787727080241673303664327741973324260107884013428958135232441912039897691500805220881801793296810480143807520521717103068396379231109638783555266669668252269519645143741384299831581277383938795584783014237594148077454799206487112327293408986629612039677882920819984097121022875309578364758426375536750509305793833800060334133318596159082522415027727736234348444014897974441399056355824908078062062296271395977208932971741264015316579476780285949563698888300197951925332186207266648917449527886751411209524286472454671301515010206973411165307237296113156510763383073117414170477016135272948065639505123115664268741404092873291409037790195199074350136166337415152863447415178612460956945300033919120669956208238762508718070129320673823551928529175629886797426445681997459971266574347657546381646311958791973947293686744770598781174502407108998616263471115553859723736565207851583631701654499684705480946361717396330292561465290114532278314851449846008251851162639007944585579854421545879199501545419101043703027243294488024724921295916115011704680986302274047322095029306548087503281812410230973135703910255505343254198769454387692253789067057628130045033145079991903973475477916462567526777892699791678908424987556765989798228044728810712346085201275944430500901515054740801174203455967467806521265908198130307496291252986925659613161374707325656818334005867652157207485890782346678204937007838785365491585675874546102060694161426800611280983941994463097590856393320929624107784557234601265566347834990194248485120157150307024910110110515762214906760103105478323647109342852484715287286051753025595146391418784731519364484587101725292642428577894156518042677289080997548643780912353839871868131199542096596910715596565581787545614407885556780561052824709782275112750238378839431415747540661833878386116734608809011821020033646378647288538156502474742669371126510471974795501826184708892232673145213630450121367388244011246038054443840252374228271996130697175736911180508591490514689385352032889648552704630331668066682245259928410760556910437703595705287102638332287724467892948381202639856601159281450169928995534793745821377722872648162443602791086587086193798424747370826216493722931730011949031266354866704387468112374312086811197785495256235681175709282427236315355277160941718047505868717943926757053083557393107343512921123459459738125302013919113709332143115131470556939994196447313365406384731387412816231468086621049026198319484445947558923278118473896095610590103139270081868806907357264161992919517098937599460538201059144121994111068082284472930372618874098689012120245798760558179694881585371393626380065275945097844615609104502052541080645850304076355258900164626556210477514724947268152283023523194193324120070570144605200316523696465018460586190612140444214539601665305996550203060242282187834054947845466801759980650474277161095998012048200200173106848915235743918441724688820544300625430042005253450613351184453398518543604524912296928775338077623698135856683191467542325195979934866485399117220515366416342786216453322964242704625711477725909917714809541584808602412398993959796513826092893543277540298476895396410517591168255647494764784394275689867068291143737655251772546150336946350654533038153414108627089244615955473909442269334133729453478713226071630576815854042840356406951500654213268044473755739306148761997843361138876131480583681839417710384852523035269266622548622045475715882500900171467781138804904240185053189592324080318304894185677257242171292014139367213205527596045909648537245159202476678448997154410294896258550472571304458383083614694518404638777853906728705705953596949335782558560857437794980180052772609272591855496572160672467865439922784641142587358173400126608768987730996525393151807518769909136799656336370655624577427890372732500737009612683831162148119094995860917231799620514670445229125208565097478018805823132432501802777911892302350965042306871727488276585125718731310444592763280528383767553721542346325950609227681897876465972277719165377189206425423460497231332800888807360486645692014343895335837886831924142926487992845956250448339848261808794780698244475974807448542738529746080802213546019715100064190652575152230996957332845768563436912413262232605047723291961882042125019807873361580727742485249569643529359291099003561262864001351036130743355714438969095614915692754438602564993499666449781979687182803851770962482225056798077394759093577485283213296868178721901104816765330973128290783431531887571581104804256411304414464378657088949273922706628400949633845505413410429837727210838543508268215515689602354363628912340728181591382244948196223653754898685187223864156214123290256769669197668366101881306608605822666400793129888563390562334435578820235110891392622423208358045813528444973627192793011940300573185855910621125902622148634566794672780302182005711397297226644514595498153929036756498936397306499900120278817167682655464803264083268731334540422596011381125448797207600040902995087341317163092027024176047416059775489062871058120393474031120591087377230876945530918394240908817901030935912438217997389579677734358804891362655837855475493020287379415497293591273755220644422716275189875989096768365828664068225212788589971811601580526307512901878259073915255455072783648426635509832803798821970357088193124051654022144110297723165216028399664618970851934206100267886167216153624891678048215344055282199617715395350345585300563775767514075622205998008779596155727912985520126035168254672207018319466853656898371014251637358682735994560744612932031556885415321860697607580904907194646456316626871963537603796438287764184330438249427971887351612510368819221452108980816490340696935817602675800468088871993307224366355403381266087094932264104081359519137402784001954495715804324028959586774234378349298457849909022507424767061307825096145038143444656493471437461473065034535898018241667351279706464521461071192793424882868332882599575343002733010912594841924204293702713794265834639271043406059215156477588191531301967353668750496569076744120760085335287789534920765869977060428206676300352503057058837870383475380198703443015266450357043110020079990111504374136563784327556583579729843581001115789745105452719007516988999306251618571830796272003035850429207678683275820990356393539528352232806142023318936213109825615745702309579852642792468874959353872291049972850739182333493038489715198645279513671327458031619136999690047725946200035258983780482904457647322714565567619109628933528871285116780950724055858248255127726183973798504122661227127433459110739707812580872873774759399604947916787499192272401184748924325946094445133410713543634927188908904567771676556848456277541766347017160137094995956359376634234980841338182734029291779142652730584424293334158747600831774816576657051878625512272884551554977107144115146202056769774934503145201122282617136175694592251121136028069468957831332879890343144926378305436238663005037084780626819126348958027304780160627027206749805299990247087713572380923363594142448559785144914018654927754121213232718139188702201521807763830736714949466505088528574351060802617602161163526247735132395148553870358626423077286906142480770088541142175084897259579859664409853312295047052979373528848000476932037910301223992178565720595792549039062463719042279150921058610155828963425558802416519218833575123834887380179014595028956169310895104265065191265902722561101890121313690075218770635013579160858372546083118533355277503620086146239444862042588440182931576154404176847138890042610389232040551482931573954755225823424603525269363300878386916663366404273003095475670987072983449235566107005784462839774315071477135355882417040450827022749140502731152374119808665345856852143522748022459378421567055749395429130041165229101880409384483471298468930862859542115033666784185276178162832452391141614716677497590498134078205371848169749080053293336337763681816698962772514390351625549087126062044186129206502810668629742429765396623575630280186829080167807763612290908422132597554285737283502954706105079584473273541724881229521926164657487563943829423458656421835967618742173367682800276693840674901413032356116600756984582412557116381772134076701821876354223341188201006012250994033188394580639988608169641233182888523347167901519334617082855575736263533076790588265602738773592974565808004745770397987046864277858348059604659459080739356119500323343035001775325695892505483027684721098539944430780955298045091117534890728634988891767566476809712444163665772464213618118607239887631851524422335001837560517538737118529856041680395683582203799556117157350836688690419274596313350663521557823675564346353814486571877035494743927665652252674057681287681087529380849717359085408229157569438561583976852219045209374776913410898319016452053167068366738431304362326393901850379362599100030379985698686198264039041918239939972893250914156024897447926868722532315008454462048019922582962470932346817543167832150448413510104071260228278522846793759596309520000027540142799578950879014030655268471069899969265282688677942117722615151851432508051433567056068797013820776131820964902842499716155665211077323077407347876348680618060629016293643779106840807656780426037485592958401348675500270525582297922740861883910011858892456761395251715163875494384455873253246209972275182513958028766839662785523576782991574053926953190884568009123393520378365378219709583735308021617735515878355462393784057595868885374148108476666836199981334247318976034509699517257385166225784821554804239157682809230237109375752495583882554890728527966471598370757694289289930346018537649778583144661206127166173648750391501751654073658010854866572470542154799907600753384308580268776181646376312500911210841654107238263704722934830158110054654570393582658448095107569545318821665173423211463023283123361945192687660344458915519519436975123457318119606700380359914029027224227677761843309104045958107732622717030834242057400759548571466020576406704147497640220587682484931272265100642402693334859228919062516648498463721005140449735122026392759818868430646272126990595096797714095150294440704100183160668174036847954171896301852813896681237216838595950774601621363160048070407505917012958788717106073983816760499875301396547073202202135983596525956276646304088315415241860266590391386652024192137400817385261087082178983702505008077585380530225170545282944151107588903284451416659557946361827257235834012163475381302510592306876920568822285468091291627667367324961081907840959250660627203468861863872483260762003467976579673809039167017085496425172113520889710480046221342723220115637015429987642145724688476369308884143807001059267406192166536955659957215585695475488083397311190904674700572454680246439441179825819803790419996400514378660105031328776550773112423190478720384007340153768354695347170472413459545850410249607980862988359802997347848658375650083883182150696640045850393461873004273909373515135360037611692434983443578631912233771159624018657848853107960991044824282364363829227919662374699856607955600512552766010615755737196947538055840646735817707717232106017489371935126438183714349591690935723642811735554584523608623485432991415352970665535672207212573893482976660858004498046704295129571728708025365137507584168562743557312939756016218157056297933488911959377895321857808897624143394280721742491537054938710536541373351569375337331986200482433819177252681455008665994820701815302832777416315674316014610504804363014828615682131776288651578792633214386937405535002350517752962181801176478925333221924868139161897684175613405225903140747381666034377271316618042451784347999508730735876581111188843741122332629732970267475305761725790644297390957693487332468446458808368755083129959304141936471319206846841088987969293832413746557131830121151162294334428810197757785760790197615266814726060027724153809180449434591290225476705970710387089093021862633330547966623227393598131552938126095513319720203406833082535657573152982448262003550872897883179838745849037950282033528388502710322285355848592490346701934617505206263347708117550544578004089339811103100735775670355101488800572297815808983710082615030280310858296922210287909145715848865254291867974727627719473807741848382646032849522498470973657470554081854017784499791376883203637792304835643761908840761556400173393300158010312622131648484112653036489229563737054931930426761553296462512957132929999134327048750736559249498246259541519381520789351581251736617878652273021409875110553545410551797624895114512302338961254210628200029629043018019691533323707997793259337759190298948839325522847124547472142423588798975849235947675914584345454195798176750613383890975213528311982283273566741702138044453716240869751001504555735357208309614704397388530248337618032199099763208524764952026238447490377441363159249043854903465129714992167773660818313952744007302502059175786131951983779347975908423094150149323297186043530262824154862779344628819266012150727060511603162093936712675846949421217093827042086557608381337949853709537574611321453595008489285452391200326753947160666798889873889005506785789837056097538279492431472318399862155883628584660304234586559676236183103871486134176643561115048178749423275875427429097186024749996209346797291728795802657022259601666179633406942580885216994711970005117338196660647101875696697973164850494547397322945231707728564894643090815144936663907450266082599595491261641044364219270098690962231025129395022762760287502601619909243354680054001645847536461451696299931854256872975860754308142453246480213698888597935784016763494038479431315448974721580217358353485888062694855650914668130476002493536052247293184477343370971050686312352074258261625261057695601366646368115739470859990115244118522953109545719523210668841982747530779507369557616827631081257887604909881106676152276443732201549664045003440436586789312990992947340430774177678998005506544221599924265705320018268727460343944782524670916643917373677474529666641490280607271458905824690987882588121852672207139208843172622628704458583794190269557605304363925894467216877360759740476209144520637771338287970475338816398823061968409082607435605473235993174434370372150749689808562331983871886056043191091142424047840805760113838149394584439571242559233780316750280671237918925660558753913468657354650844515232154176296884507947734478250196201933414532759462702129167084763571292638915079078357742170838355187047643554289286444998307336305037915339351386234531558878494443364076926760531684421345379378657244000047916447543430518438499927195859529364351957973606000269092464716442382951940049882874205846909014616693761356186995012613131178179441657488543940779593578245261570490916128327203662145350214296137279024100823839794153490883823179503517073093939952173409381100452607807070834526489650411058342066388422725309447433176590259962900178838172513344229181353099338780447404057574296280022550030370780393737494256962051656340941058984300257801568086305339491926254111153846683495786501781280885125132716952166319954894887112459531544830030970285832655596365515438306495030780001789483591141282328564352611945490877931163743340519132157335197997808148954112251715028705353469624917441238518682471849057968566858245814091855853775703342710138056959127565308855979208622352634135171226891662417079402787290070800464212063448826131235093720365176240563533219036441692425220451898600373860393970016705121966263698252850617062126745044829942951832846342149130707798921367245805570582552938262421234901875213684762656927792668367308227979118622906905933460736650677582580521587335029053751258179428459483656196971272474921598381674005572556333411323641653999160024422340024933609851096773074880409526646015523178259970451108009631960447259283248453434070458517868328542830303963335023493865860190926317977892232474098258254703311801903622275773821230728603094324447057134132303860955458623995406049751826292052115271941224772359654128361535117185156621176225000102941307110152572347639083162988270675042291607182798804182034694714957387149323957211886794515485295626659968484818004189409616908713305831128924966714953679511672689340691343205506898719402268230687317731756754416891406482960967798650752423772596161398203116712950483408561393427428762259216681705970685121413882156911537482699246727738028151879623428732685498797137800609950926038341752442349432933475059134296682097198356467915134205763197888075294160639149512212767608242628384001282298903507121874676675595331329413441751369698456914334301800418029203870562909105928644574191075645319556699027933822849239248028364273421536529364328007103398667177352730306741023664047010393944971052559879595865793367886319146999092447136261607506486939429367191452476427693039633720591932645268474790353912126896735344894080022958874589063571690624460862557502568549463115244776901691090842429608044868121706899021686900467596903057715334362358093027611609231494235047541205459583999778081820757995581348189642950642157508443767126862063928512567508733716011338699933075655682031424604612945633953242008503763020599131876071743459459922059104130596805366173126051184409086288357635837710614290215339630063900810269094007998687510944416923986984907592949225759636098496316418285255539330001901295775850736647963278716009517929242848801724471883058200558927487870809376317092740139058813570537241527034644894769286532374929708123173619631878184888789113371881330780370043864524272351757902870807407971909534116731596221560950045669840958554208509253873968671313214432126256855669165529870580934802998159169949262042144904529129060473373378696192079843597894501709093349339537606686392236715801756276542362565086440735004188939451327186970112536376148425280568029690756639795989713361289805333018531779510526339886275167147731453335526339600251327790969638822926813349135413091822873629396351920161223511382826913750849223460027582190714227875700319630286603902412651114855913922718802797894320326818631728426338261196499863110579162905716957815669097122707056044269515122887516454793227633323956695910596554685174522342764562967418162735755300217235346692166261333131565362762376397825877641205409621805599228309170743796327422171358369257010828730851506006779892096825494299046395693909889071165529337079430750511624125353090094063329049088085609883644731342243374437293346926602322352528041721307010956842226004788143051326625270773324102030173791966138701288456293062583270254153694485065551425486109531159431267427626488975019323400508925957333233689237081712687165127692120682307623596499059002624623831735939149193500198153733332058475957426327566745540359995411672121700627866140200631541368679117507050820236664844217956625425571694707285637329604813790311126930111427243000703032976015350148119760916967982411835017460130131795324633394952073360488513680109031466004823416232285048701625667475317723216057153256344137370453115830674035233984868933301840345091532468122298160486794396117260649814573383791977223883785866001328413444231530315470899145788254094618822019855952974045073255598270612878566051435273075562205107087012465113301655421549550980502326283787928987528051401171440796409607596619154743673679795660197298953642913579713415154556862222051257937165721442471288614946293291302375870079447474889998435276966796375522990994233410100654739813180485528640833871539166455189169088056580200623370151802813496449311245670559058206259273885364320336406814489997578284343995303488136451782369874865462031157701036848703609468306816834772723321036438650801997553796361532324669249521453422583996822062324156641126273867967675516244540984965734115589369334032794921539834703275780254656934233501486107502851667303248306750872443400956528041309069792247434386691228547699825270531423683755990572391524554069186057705214114975543747583924697642271376059723742387470653904416002615309062879660873412128139321756093760637732023482358902585424891112722670306234924573851723894944075343173478446898662292921502774437791220313381847208967728789456398015468528704745627671377570176919459240334021288354435304625009263294890248638586376430923722074272049624361961303960732229879205562575606897693761559868249300365154165826149971351048090819151589468641529857079559580378612257425831339862017000774372575198424453366779130806148854965011497288561806478228086258265447696248481244711839528125052752721697515532678514890287510765154859576062879064168449105570692832901014133094619619981138137635480744306555992071672641087853020036014218379149032124443533224592058692539473546343407224835224105408516504828833596285331908825174166641156328458913290087882427657123018965738160125457599962567729773445012899233868594979332355145623643999043059360244924523042072079901925207801417779242043681330622977576980138274210323564762963406881670435865513727697721512907756694074744874618632953160090696574272290326178916200841120745649341049118615473239855944885946553620578176570434459139842494627214023695335746112676750088631708170371606306576538360916360788040026805809999288796007648432449225995544819010564786783847752402766906731363981234163853039434300653473948751423226620289576243320636499310894118602019613516591127181434106257231491397067571095635242410932455429062222247162448005922358107323930181732623037024150868315025702424915578344840331104521091178626363725672738654987956565192157220742912236027681898847001523469352353970406593633579119600056243664232782773102214017061175817263166183229006635952865402159761041669108049214004854875162700209304344821101072010113028758402594195699218909136686553686151832341229413796656526594526124685673993828520854774488123520609839768253695472314200495661535813402700382445351644047474873164574013057283376002133637631568126257378476710384387043603715630197149778097050455736628837011473808242706178083002514891511952250107750608573946892073797834868327669559233741458985335253521457065730613648947979585231996026626595019550665425176542657148270824827745807360162232775752759753943955905693562187380650918475770868902981346561090652953871495493471876455900097456317199854025191876046113187680323670557282971662691833646174488181311641932531813741578679777851941183901800797104655760082228921415056980483296282443551380866280535024647159239332193847971419568737237569239254941640462210095254433652027268632068667580028688944154087331397295673932585148073157792031668225533120598374381679628152112501787571788896108921069175410743307633506998507299138654475763521533503771703746856206015935432520381817117224799601341335754820544283175939286534743324524744623117999500719425429518218473756532753310914459135254486292542532265159275432506956862221839970710767657353562718714474869097011163347979519397699123035808166997820615430153272397270154476687381468112723825229693191726868914391974758742917547065946476523033739081276098649165702749451020176779127000816579141195873291044682902172765576067713926891216360570720861649291073512126293470955906878859350748064275999368425939657198724442677923256890396095613843133950400646219888166766084980522556229329715244012532987891202704197885659340730141007038865560994899823927349050522226001888344209896862584450830051661265113200159631946535863456008064376715566831670591174105353959899547725462758260184990896666788095125114658088870440604942991950471575003353051894131787526103393692351094179578350365677695876071011001261297041659556876194924646629533773040368423755444583745298419217581856389323350328422235122594250847853758765024825132387480624115620313444081191884159943924976798341976061843724431032697835379513877148968847502573512925448476384810251360325826646592045650355103627251775887137107904572115185084999702906788230841743124153605744993220392521563431015015881493809984521024301763920824260864640116846340205796869227878802751826863821701829441754744906454290782666213957403423389264495137398455064305788738527981760678682541992336793842746517619234009897929152751415473603018210548779958652320042915491236905705471538682034640574388475892153564561100871816840224665676387145702192085018282244857094399637501436440560444810125592690787413975782313921911987330933388712877997057871207006323786265088511973958757436860597543023170706558282622511334305272503275722588649292055966440310528599354735477802583470442055469626116911471094060761469428903610871916046969192741226223189052693484727906922828124580543785983281583179363328478004340183906365767840011849813019536770182886140201784360260256816174130119711293184509676521958849106218762265526533875364364302217603743831189224782820715945747229122292406807343851565197019854012239439780056538019107232445552451999147021764836796846473473506528520851283871170915173615371584920964856723363555522846305228164933905180840922097852524512108873810119410799893926043441652855118701896622329488078848112525805381776390502011377104047341327178457841547413582137736225814395212649197690443724026896784313651579487101408886346978677296754494912612831222784994995016554999303545647516470957073778275399268005317676653571363066508870189352768354504225723639793087161492769551481744751485018134216154901442750813045088265836276702114273794656486564188523169176155107798699359049255789796785795080026077050780714862704669830771026641027663483618029331160913872606414705458581773465056367897219159210189050638516760236771805069780850234573770196371003940761953787963915411734709878648201250071407324103807170508691253205571831070550553584248809502047646335113070462360265934178133048444241230241065000829108362715657138763628547343382745638920119493543105418742510278418786498229517720872448159795039556038161802755407239990350679950847970806099250790635549223010845788677512487190628403828901320611852361796505218147162412154282736189172654845868318263903695235159214118010656661208739548682478017887739226386590378852643428977058134362728794229698117009030451144060510186928268440561972673454967374822060392978974172643921179815111454870435646454551314989578886672131076839463733834832014872658730892505294500583571342100264811779254575379913956830806580490448119342531665933890471960814323560544927801569230776079664685010958853929569164955080237640890849582780318463771921136823992332868502449728570825665424078973587527908118380847557009584525347715674031048581466514590487080633689579950587480205022828961838696081090999704996741096573495319941729443353419462129652029780109140523215524722672368643785468683374400696574962434938878609738799493147623943996590573806492834557079470466751950736434149390896734315317596595276925194711051085434124526571315760168100236203982146555518064293123687468377562943566773894607885418524197905470860428882263016946105440401128963933930584309706743301171596477085491132321476476932369242238217963723957982214001719902686057573735862806924096094197311714412034977060484503076594007890348959554057078152685260348493564275498650672848092590904074811670576118898998492881351580881919680373588931780465182248622630081046534152173073331327703786103883362531618616238403549107671782732362825312929355003863428147287454039056578519252728990365694467061867777984677816783768514097121733039892212042239864674330764483852535287937916067175658618807761824331343052092082859183901098103749277377135716074300086800930835704387530447216393210091146754667487485167608473097385427283563721479885240228173787147032079639258911734314612020811808390258876896000206793592599951638393351384233551866799179079711257631609939155602056243724511329321278062200068636668440079631992124088381305505945153745015656600247091296976362413152668833070749452655755188464365786483389042274776359773251271653095348288649976950020518721899763065616631667893307444551220141856165633388533674037164174415879043785357217936831457413257850995357608027177541882192095366669343504306998549011730400395148811520495611664371804933520739779984738380299866680414677537444305368843620533283093277905325868991467314041788236125826476341476140901777726301482217422641006526452840960759708708603104213986871840333379941536341214619393784620925508052832825478275511333544642384194686423704306122864531243541275270111361833895529187122101190923510480122875129732779470849804184959070393912572866642032425974056956511965847051583925131281530056734954209922140784112673074811196492572387692995292879663628798090591215582716411811098912144002286370385534823333870313047005601948675465989393489326003711336871491936834806198146222567219791941922922810940237628762489314870322271483298230250800638428538362026720027349214024151165152311224027387270941242057292979797234585235616401592599807487711881422252990155561382946927062429840716294909556112624798317322001582359094203357061799479745201433443561333778820628062628613821311422864908454351439510340739936671264289528646399760663829498229962252005072984626361986652623035609730528032263439520510126937864264091384320097728448051707818454864390234505086162644318787629101364594228710030937910398123832021768784903062605078471307043878395235197625498037469234713456206304212733192788443141357688849649119678369099988636726102832701872268181032532247553501770432061272916389184220497997840231595008859203585170017376192085128356685816172654911191176633406775279636172539666166875734260273651331810802991008004964039432084644521426906233216813471675264938964329374559828905556935081496965658345566249024632168391636686992391932419497253255893903945759492577620269909347104093995499415668576398488808408000456250507428228862190520025890539318384034692806267828005629765545036903311119606157752711824725712029242356487952805925882172388666909637347888346864299038192846968633384553683078585153589807934783876293358709294058831033648522351472679922349538898399481443286069494944317291587746171640790064033407347250772182578359103683230214991092977135871743382593782271995400893982667658584149571681060006004288403287402392484263317962246989641976666959465114784659074481166773884070297471251403980773516053848960908128458751642269206640445691033948407073921802596203587263308463519993461174044301789274294872652651575655532537532204124024096636804656723784272651781976252863823877712263564679437016139974223358658085044980948987054992203647058545320799952872954734350368104287852518340975264997086890306282400249761114759007177060032911557558837192399618697507702591406359942641936312679816825849090166583060484954689899894063730443745026176341684110815186658323569705452131811982262458088898485946676518914314239120418313236879364673371020596944478875144622672037985203546756757427723318023888888512601316825045880897559846263548855479198564823262869712614808273239705025340435653907194172739704841542956801501889187880327552995970986711802404933999991449826642451507772275931984249690592832339145548865605060173123048062371848860916076625217145607146009276478594809953508080071517363744968268089214214733182656443240423669276476160226100937035072469044361660127501749530429124219010666771902587895332566718224853938415099692012021456133530793455934707213150653495720989837969648420893375193369489378431505761355073627489659697917298067459067341117272642650378813841891688589629404354995757264128909173610914458431326665483495091012437691215133216407840624380253692885752031843474112538700844343223497332478387765230854386464932879687752354739352207260465166212541497527262706988272748823892498317704968462912482479196424431738614277355951943949114608804756665983703719763450330545876387319348817412789681338912206077463162026135073018736001177562273371402341735066848481175368112504876174115135012295733260869155074620710651947509912230620978167331902061517157662581309136922535364138080736852086812720452902799688269718155180333724428091413948734626995177977452653084961624555710241422579891733898640852506766135645422409630665797830797196267620742789250309515453036475977152649432100049111880226522452667322090883445958219958784655450860242982481136945320041097810133853072216722884061912451650753115037673310081369982287504696615972737054786713903587504821749260607827984171260162794989141659849850513694380009948221836646264019218514494746326707595790680831812854910401139869943773930763912247359394155375757076363718676986626813080915419218996317880337530418441597993892168263731250737239133834214166828203126530988348946796314425681410124149993776827630935802534375298447526886072618536801951906799937423991602712241156458246460767070442325224713525075160584856698853232511532318891981755512131881734575157735380155610597700944242872459735857564538131781593295053778292932813277797571471951603070454078763905960063703901810646695108956624365577513455263275498559257845926299537841464474147353323528493522461459904309348122846753279103414406562481677592894118064903423609965674095465431020480221747682700063107043953446034640398958064299562854635545228520416797193021564929605225834187305462326015004731545959435372419126991935561217885424842426854331204645541564549896393934657898481901425431344745607176770378165715113457282091009928251045624606891997374893002856544340646843350459618025009155154448892636698442594653144879813673851194447146813334920432608571101841382052552010511396995472423053617314385349624841001187589071402756240739384549858211929760062328327935550895587468840572407057865799939114570313063164845259709931113798364774331054558073317064835626301392619966235294291051640765563674333187614420152653263456051815627257008445490990308599813822817246995024620449171752849947760986305952497514438036484601371371267068033508075082170121465243091192625197551511337771327959752719599255719793870864964411164429885729278719230385324830650122679110304116076433423568819721197344800406367656292407092458014450748207045383301358586394539449044005673392252044079368212933678297303982118186031749866125784544313403194411566022018337305322285053576950462310845049444740638255479236923118953049560993743018023538417804888627257540398006539684197138295409579983264835676026438985509930643133668604470669058571221584319963670950852218088259649842244060431468524232129822135786084432620660187351480532593063540460606740906649374080012881368173494824745949601615404419855499904004189135784484692459561423983426642246326951920763579665590670895594584142882182730047718732087529613712188791589793166646262065945780313652195836642188688508593620649438270280896266826972270477076285883381854514943099688186828714634184949333796742058211001540250167352052126173825959387088148412016059888306827785086986474983744890285452629480305319321341906725530914284277384501122772473226297021636168841417060491494426949928158350673311399965429366120335381231467861312382290350882465141941331691172767559198547493456216641331053024223760686207897540892536965573090605162895757732092125023186368037408818439242946008979571362218035162115288728634560815259443998665345300364383480256638915702133192941170018546571127388416431105003923656469888071173089683355230330437466869725504948430657014697975265035487643103676725650073119131994516380868219271113903672792475418989229937415244773061513999393913219378099080533048097858207509410026147404368897963708539199041025387392914399367171680778353318458159802807724262051752002229638918525426463641677459955868961092922214590989189144598377746891361759441652001893879452495632339706879660358332762502559158340624159873745193518238430705906620978080350261099920181272469306733762496828816520742373120672421694199785402703904916512801678833754982952486482323787062148608505715278172963796798772582527428522874435906083653001558560616814017164222423024251491928739059685795245094733451966230442331816130135766878449719601768911090184334092171394179229651727698490341204206103531434560316357672560305399017127416365373972199374803424541901718095607602156450315131801276328957337857139999225369694331835715967411697243014908325281898908942492759120332831805857829808421848531327752691380759218489008900426807880645846301005548510571074969956761704776881397275982008106200064342583094643247448387345716303918124202666140658117181894245257145494328048435357047945674521104623087578798628482163344671390674555375967607279332133712724678543901727778818090068075659187090175092443010390023935497626005025520324082380234115511890747217549710706075896948084324184662354958885892138265408319637875383909046129645980675577531611091185011970275461639121983099353821375851645189638238298083978246357600821680786316574134307651326751300813526393628452477834878718255889364893339433568543233658913602785191460779729318120943363336750467888335455871170907153565144543919121065001334796136429951799700284180016922877011835481383261765236214116344925972142699959650582519948059351509455214940914655089625226226195308041132698819690441850234758909793463203989459149787573421585718737423028992792836645326880817261667589488507145363380586172769295101643805921062706017951844072864443027102698617438167497803081984479201001407311924804394554329089861225673562872701579532442868791860361640373415854205756283216911124309644266595068452777033500037180051508949177484915488139537903914314723162402885143328871333563282758634984426887091318390296749336041899274243823115968587824633411021414922931078709983967698108377353689477681244715492841727577462786422737822004854091100884546506755457918727348799487831026356219835902077088155575683821225971039268673587384002499368970673458034972214969263873076878343805628970829553846252440668850640532623618608786918785849061744951826534450946035785331840816135490522611810337736360781182856998558908613050565841632688027980703323915783317528462755129635007443077744555206350511632737958567205343622989377144786659803822843052343061199101398397871496322943729151693582273636623702211261906968824552117999459852307207957357671704953790218530625840253226671174911293290589894655416628402204276918910859811948855107283096372917584881204129321410118466574261312078675119695455431850093783522495312950160837860114052772420581756599966226713804688507136578503122693427343960324882203582690919607212904185387599308132860344376319369374322996902955964621060906561515768371457292530415729023158039092237165179614696602609551876176799445080916420305933023538688050340324835066157030241854051954461204250337007307488222725784406348675367815265172853640747727196695586337222587466849097033765940991381789079631359348865459038235449870455334429143405422480044198913774762543796061552717636883457350044368778722203798265601099599485637995183340939667200666534996192370885576499475965142220911153246405073976531819272060899486629937766090697279566454977639775807369559998741749380330552354223998286501328206234790570866156961819210723083541601139094671504885182101555306292482195947864638203792090999050823298382324268841131735590699898177735444412759799659427031163649816083131695097904223254937316863795851818358680321819846198273728522925247371425354315117445965986565363412539637613605061911699025623796988267280388826398002221152769620564549526700702237126194477346925971062592635114705343542848470672335668815911204429046180145617348816095546829919619014415540504196694871603780540704178268989651420234747834905222677800178149680823893342248647681261513872936394775530521367127951058112856924646494958661295526233160558962939088509747502215961215687979365663317298282237554877224973317211578337350868920535407222497990485580369716313671055339855866039762205005976664417001086966821148309919278546253316552376471293577193410168453156451176859174201275039625342197056631814765227260770232049775768696452231821623024333803722345243273265445895409318040004098309244313203412152709556791109367326465498561862522979077529893567866263323589627315699824233375491732264996214809977660101625583196229156981339337067934625897651502776152294723803477682888890755668744506290308271831096270997647180172318742635085166143110603393564955144692078406865039363268814571037582990993502872796280999299892363340419877359415205863709055205960372802268869066159032944833890970139961362955569804030374719083524690557425169503783053637847393112723965310815860819505251290796083239058754742160106348265154747959010423943253694921728721486455296026669802747047459245723325153595195019623074198098191639879332182145636858213809136748782037670071088155793226023759339732688900001560218020512235104176632679021421834640975383162994914391562715041231032629998094911040055140348705943851230690855996635099601026601248337549788954989856820332824014158173564900567968595179589283179267632931467170304640421098514314446850077647480159674671911030229090537982930960570135152976662648807857944240568079429983220967763115075942044753156476551741878291044267988761397685420423386073834458957308379732488102830238359174977516794096980060982624975097159357201240562395102844999738671232160897630192802325368740246945789741186193012865254663559264874560788795073071159062107033528502635985517580231999005275823988084403613114789928590709501465715364154984360475763974881287968545765194605659266565947385680922722994132991532777377358916103842237819441184982898257639951268218297380931743141888915199610214721207165720115731340989755750131208782731599279496138203925465584555659436431730694237768973053859393553891584199085291065015742751428623853325123081431598734469074363466218814055905978623626759122391344248399733705186866570998238144327189370545975635376074349053430889293552525735549889225849927907723921805480751699998020508324078931280068222311015394548173272151364407148823159783514784939010595628994825437971112726080921255526572734944723561497200976717218461761744143376962783344482714122618749201808906097804833995202157666414005772815803840464056555306347912648445306725396572523521219638814958001206480987237668996001333843349975218884678623225003708395244697053474395829415299438493384085428564695864380031936392148433686073877990934620708103620507105816500108662957777006494500972273820233479271435230470204180374296397695002179519276106403135906264834618443590495808769517966749982057091680162184706861903357924212932926271879475305202061634358918261801805403204813539195976696621726591901844852034999064109011480854183249638002560559511850578217749241221642064132253235208608223843783197179203702777847340738573309749738232887173970575354231814760555214704814922369523336286286252778469210146798918201905782376800847740705794296123467339477555045684038031112486358174587736780803118415652947263649814095405712032266266606922718093895787812260736232492198775067824672079351948478700558124259326135969692706442163502756959428618683"
      ]
     },
     "execution_count": 1,
     "metadata": {},
     "output_type": "execute_result"
    }
   ],
   "source": [
    ">>> 67**66251"
   ]
  },
  {
   "cell_type": "code",
   "execution_count": null,
   "metadata": {},
   "outputs": [],
   "source": []
  },
  {
   "cell_type": "code",
   "execution_count": null,
   "metadata": {},
   "outputs": [],
   "source": []
  },
  {
   "cell_type": "code",
   "execution_count": null,
   "metadata": {},
   "outputs": [],
   "source": []
  },
  {
   "cell_type": "code",
   "execution_count": null,
   "metadata": {},
   "outputs": [],
   "source": []
  },
  {
   "cell_type": "code",
   "execution_count": null,
   "metadata": {},
   "outputs": [],
   "source": []
  },
  {
   "cell_type": "code",
   "execution_count": null,
   "metadata": {},
   "outputs": [],
   "source": []
  },
  {
   "cell_type": "code",
   "execution_count": null,
   "metadata": {},
   "outputs": [],
   "source": []
  },
  {
   "cell_type": "code",
   "execution_count": null,
   "metadata": {},
   "outputs": [],
   "source": []
  }
 ],
 "metadata": {
  "kernelspec": {
   "display_name": "Python (testenv)",
   "language": "python",
   "name": "testenv"
  },
  "language_info": {
   "codemirror_mode": {
    "name": "ipython",
    "version": 3
   },
   "file_extension": ".py",
   "mimetype": "text/x-python",
   "name": "python",
   "nbconvert_exporter": "python",
   "pygments_lexer": "ipython3",
   "version": "3.7.3"
  }
 },
 "nbformat": 4,
 "nbformat_minor": 2
}
