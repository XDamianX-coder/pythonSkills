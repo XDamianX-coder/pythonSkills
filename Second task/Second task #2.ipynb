{
 "cells": [
  {
   "cell_type": "code",
   "execution_count": 1,
   "metadata": {},
   "outputs": [],
   "source": [
    "from rdkit.Chem.Descriptors import *\n",
    "from rdkit import Chem\n",
    "import pandas as pd\n",
    "from rdkit.Chem import Descriptors\n",
    "import sys\n",
    "from rdkit import Chem\n",
    "from rdkit.Chem import AllChem, TorsionFingerprints\n",
    "from rdkit.ML.Cluster import Butina"
   ]
  },
  {
   "cell_type": "code",
   "execution_count": 2,
   "metadata": {},
   "outputs": [],
   "source": [
    "data = pd.read_csv(\"sampleMolecules.csv\")"
   ]
  },
  {
   "cell_type": "code",
   "execution_count": 3,
   "metadata": {},
   "outputs": [],
   "source": [
    "SmilesCode = data['canonicalSmiles'].values"
   ]
  },
  {
   "cell_type": "code",
   "execution_count": 4,
   "metadata": {},
   "outputs": [
    {
     "data": {
      "text/plain": [
       "'CNC(=O)C1(C)CCC2(C)CCC3(C)C4=CC=C5C(=CC(=O)C(O)=C5C)C4(C)CCC3(C)C2C1'"
      ]
     },
     "execution_count": 4,
     "metadata": {},
     "output_type": "execute_result"
    }
   ],
   "source": [
    "SmilesCode[5]"
   ]
  },
  {
   "cell_type": "code",
   "execution_count": 5,
   "metadata": {},
   "outputs": [],
   "source": [
    "def formSMILESintoMOL(SmilesCode):\n",
    "    m = Chem.MolFromSmiles(SmilesCode)\n",
    "    return Descriptors.MolWt(m),Descriptors.Chem.AddHs(m),MolWt(m)"
   ]
  },
  {
   "cell_type": "code",
   "execution_count": 6,
   "metadata": {},
   "outputs": [
    {
     "data": {
      "text/plain": [
       "'CC(C)c1cccc(C(C)C)c1-n1sc2ncccc2c1=O'"
      ]
     },
     "execution_count": 6,
     "metadata": {},
     "output_type": "execute_result"
    }
   ],
   "source": [
    "SmilesCode[2]"
   ]
  },
  {
   "cell_type": "code",
   "execution_count": 7,
   "metadata": {},
   "outputs": [
    {
     "data": {
      "text/plain": [
       "(312.43800000000005, <rdkit.Chem.rdchem.Mol at 0x104eea70>, 312.43800000000005)"
      ]
     },
     "execution_count": 7,
     "metadata": {},
     "output_type": "execute_result"
    }
   ],
   "source": [
    "formSMILESintoMOL(SmilesCode[2])"
   ]
  },
  {
   "cell_type": "code",
   "execution_count": 8,
   "metadata": {},
   "outputs": [],
   "source": [
    "def formSMILESintoMOL(SmilesCode):\n",
    "    m = Chem.MolFromSmiles(SmilesCode)\n",
    "    return Descriptors.MolWt(m)\n",
    "    m_H = Descriptors.Chem.AddHs(SmilesCode)\n",
    "    return Descriptors.MolWt(m_H)"
   ]
  },
  {
   "cell_type": "code",
   "execution_count": 9,
   "metadata": {},
   "outputs": [
    {
     "data": {
      "text/plain": [
       "568.4330000000001"
      ]
     },
     "execution_count": 9,
     "metadata": {},
     "output_type": "execute_result"
    }
   ],
   "source": [
    "formSMILESintoMOL(SmilesCode[3])"
   ]
  },
  {
   "cell_type": "code",
   "execution_count": 10,
   "metadata": {},
   "outputs": [
    {
     "data": {
      "text/plain": [
       "312.43800000000005"
      ]
     },
     "execution_count": 10,
     "metadata": {},
     "output_type": "execute_result"
    }
   ],
   "source": [
    "formSMILESintoMOL(SmilesCode[2])"
   ]
  },
  {
   "cell_type": "code",
   "execution_count": 11,
   "metadata": {},
   "outputs": [],
   "source": [
    "def formSMILESintoMOL(SmilesCode):\n",
    "    m = Chem.MolFromSmiles(SmilesCode)\n",
    "    return Descriptors.MolWt(m)\n",
    "def addHs(SmilesCode):\n",
    "    m_H = Descriptors.Chem.AddHs(SmilesCode)\n",
    "    return Descriptors.MolWt(m_H)"
   ]
  },
  {
   "cell_type": "code",
   "execution_count": 12,
   "metadata": {},
   "outputs": [
    {
     "ename": "ArgumentError",
     "evalue": "Python argument types in\n    rdkit.Chem.rdmolops.AddHs(str)\ndid not match C++ signature:\n    AddHs(class RDKit::ROMol mol, bool explicitOnly=False, bool addCoords=False, class boost::python::api::object onlyOnAtoms=None)",
     "output_type": "error",
     "traceback": [
      "\u001b[1;31m---------------------------------------------------------------------------\u001b[0m",
      "\u001b[1;31mArgumentError\u001b[0m                             Traceback (most recent call last)",
      "\u001b[1;32m<ipython-input-12-b8ceb96284d8>\u001b[0m in \u001b[0;36m<module>\u001b[1;34m()\u001b[0m\n\u001b[1;32m----> 1\u001b[1;33m \u001b[0mformSMILESintoMOL\u001b[0m\u001b[1;33m(\u001b[0m\u001b[0mSmilesCode\u001b[0m\u001b[1;33m[\u001b[0m\u001b[1;36m3\u001b[0m\u001b[1;33m]\u001b[0m\u001b[1;33m)\u001b[0m\u001b[1;33m,\u001b[0m\u001b[0maddHs\u001b[0m\u001b[1;33m(\u001b[0m\u001b[0mSmilesCode\u001b[0m\u001b[1;33m[\u001b[0m\u001b[1;36m3\u001b[0m\u001b[1;33m]\u001b[0m\u001b[1;33m)\u001b[0m\u001b[1;33m\u001b[0m\u001b[0m\n\u001b[0m",
      "\u001b[1;32m<ipython-input-11-9f2079c3f55b>\u001b[0m in \u001b[0;36maddHs\u001b[1;34m(SmilesCode)\u001b[0m\n\u001b[0;32m      3\u001b[0m     \u001b[1;32mreturn\u001b[0m \u001b[0mDescriptors\u001b[0m\u001b[1;33m.\u001b[0m\u001b[0mMolWt\u001b[0m\u001b[1;33m(\u001b[0m\u001b[0mm\u001b[0m\u001b[1;33m)\u001b[0m\u001b[1;33m\u001b[0m\u001b[0m\n\u001b[0;32m      4\u001b[0m \u001b[1;32mdef\u001b[0m \u001b[0maddHs\u001b[0m\u001b[1;33m(\u001b[0m\u001b[0mSmilesCode\u001b[0m\u001b[1;33m)\u001b[0m\u001b[1;33m:\u001b[0m\u001b[1;33m\u001b[0m\u001b[0m\n\u001b[1;32m----> 5\u001b[1;33m     \u001b[0mm_H\u001b[0m \u001b[1;33m=\u001b[0m \u001b[0mDescriptors\u001b[0m\u001b[1;33m.\u001b[0m\u001b[0mChem\u001b[0m\u001b[1;33m.\u001b[0m\u001b[0mAddHs\u001b[0m\u001b[1;33m(\u001b[0m\u001b[0mSmilesCode\u001b[0m\u001b[1;33m)\u001b[0m\u001b[1;33m\u001b[0m\u001b[0m\n\u001b[0m\u001b[0;32m      6\u001b[0m     \u001b[1;32mreturn\u001b[0m \u001b[0mDescriptors\u001b[0m\u001b[1;33m.\u001b[0m\u001b[0mMolWt\u001b[0m\u001b[1;33m(\u001b[0m\u001b[0mm_H\u001b[0m\u001b[1;33m)\u001b[0m\u001b[1;33m\u001b[0m\u001b[0m\n",
      "\u001b[1;31mArgumentError\u001b[0m: Python argument types in\n    rdkit.Chem.rdmolops.AddHs(str)\ndid not match C++ signature:\n    AddHs(class RDKit::ROMol mol, bool explicitOnly=False, bool addCoords=False, class boost::python::api::object onlyOnAtoms=None)"
     ]
    }
   ],
   "source": [
    "formSMILESintoMOL(SmilesCode[3]),addHs(SmilesCode[3])"
   ]
  },
  {
   "cell_type": "code",
   "execution_count": 21,
   "metadata": {},
   "outputs": [],
   "source": [
    "def formSMILESintoMOL(SmilesCode):\n",
    "    m = Chem.MolFromSmiles(SmilesCode)\n",
    "    return Descriptors.MolWt(m)"
   ]
  },
  {
   "cell_type": "code",
   "execution_count": 25,
   "metadata": {},
   "outputs": [
    {
     "data": {
      "text/plain": [
       "312.43800000000005"
      ]
     },
     "execution_count": 25,
     "metadata": {},
     "output_type": "execute_result"
    }
   ],
   "source": [
    "formSMILESintoMOL(SmilesCode[2])"
   ]
  },
  {
   "cell_type": "code",
   "execution_count": 30,
   "metadata": {},
   "outputs": [
    {
     "ename": "TypeError",
     "evalue": "'float' object has no attribute '__getitem__'",
     "output_type": "error",
     "traceback": [
      "\u001b[1;31m---------------------------------------------------------------------------\u001b[0m",
      "\u001b[1;31mTypeError\u001b[0m                                 Traceback (most recent call last)",
      "\u001b[1;32m<ipython-input-30-cc4d28234ce8>\u001b[0m in \u001b[0;36m<module>\u001b[1;34m()\u001b[0m\n\u001b[0;32m      2\u001b[0m \u001b[1;32mfor\u001b[0m \u001b[0mitem\u001b[0m \u001b[1;32min\u001b[0m \u001b[0mSmilesCode\u001b[0m\u001b[1;33m:\u001b[0m\u001b[1;33m\u001b[0m\u001b[0m\n\u001b[0;32m      3\u001b[0m     \u001b[0mdescriptors\u001b[0m \u001b[1;33m=\u001b[0m \u001b[0mformSMILESintoMOL\u001b[0m\u001b[1;33m(\u001b[0m\u001b[0mitem\u001b[0m\u001b[1;33m)\u001b[0m\u001b[1;33m\u001b[0m\u001b[0m\n\u001b[1;32m----> 4\u001b[1;33m     \u001b[0mresults\u001b[0m\u001b[1;33m.\u001b[0m\u001b[0mappend\u001b[0m\u001b[1;33m(\u001b[0m\u001b[1;33m[\u001b[0m\u001b[0mitem\u001b[0m\u001b[1;33m,\u001b[0m \u001b[0mdescriptors\u001b[0m\u001b[1;33m[\u001b[0m\u001b[1;36m1\u001b[0m\u001b[1;33m]\u001b[0m\u001b[1;33m]\u001b[0m\u001b[1;33m)\u001b[0m\u001b[1;33m\u001b[0m\u001b[0m\n\u001b[0m",
      "\u001b[1;31mTypeError\u001b[0m: 'float' object has no attribute '__getitem__'"
     ]
    }
   ],
   "source": [
    "results = []\n",
    "for item in SmilesCode:\n",
    "    descriptors = formSMILESintoMOL(item)\n",
    "    results.append([item, descriptors[1]])"
   ]
  },
  {
   "cell_type": "code",
   "execution_count": null,
   "metadata": {},
   "outputs": [],
   "source": []
  },
  {
   "cell_type": "code",
   "execution_count": null,
   "metadata": {},
   "outputs": [],
   "source": []
  },
  {
   "cell_type": "code",
   "execution_count": 19,
   "metadata": {},
   "outputs": [],
   "source": [
    "def gen_conformers(SmilesCode, numConfs=100, maxAttempts=1000, pruneRmsThresh=0.1, useExpTorsionAnglePrefs=True, useBasicKnowledge=True, enforceChirality=True):\n",
    "    ids = AllChem.EmbedMultipleConfs(mol, numConfs=numConfs, maxAttempts=maxAttempts, pruneRmsThresh=pruneRmsThresh, useExpTorsionAnglePrefs=useExpTorsionAnglePrefs, useBasicKnowledge=useBasicKnowledge, enforceChirality=enforceChirality, numThreads=0)\n",
    "    return list(ids)"
   ]
  },
  {
   "cell_type": "code",
   "execution_count": 20,
   "metadata": {},
   "outputs": [
    {
     "ename": "ArgumentError",
     "evalue": "Python argument types in\n    rdkit.Chem.rdDistGeom.EmbedMultipleConfs(str)\ndid not match C++ signature:\n    EmbedMultipleConfs(class RDKit::ROMol {lvalue} mol, unsigned int numConfs, struct RDKit::DGeomHelpers::EmbedParameters {lvalue} params)\n    EmbedMultipleConfs(class RDKit::ROMol {lvalue} mol, unsigned int numConfs=10, unsigned int maxAttempts=0, int randomSeed=-1, bool clearConfs=True, bool useRandomCoords=False, double boxSizeMult=2.0, bool randNegEig=True, unsigned int numZeroFail=1, double pruneRmsThresh=-1.0, class boost::python::dict {lvalue} coordMap={}, double forceTol=0.001, bool ignoreSmoothingFailures=False, bool enforceChirality=True, int numThreads=1, bool useExpTorsionAnglePrefs=False, bool useBasicKnowledge=False, bool printExpTorsionAngles=False)",
     "output_type": "error",
     "traceback": [
      "\u001b[1;31m---------------------------------------------------------------------------\u001b[0m",
      "\u001b[1;31mArgumentError\u001b[0m                             Traceback (most recent call last)",
      "\u001b[1;32m<ipython-input-20-36dcfd748638>\u001b[0m in \u001b[0;36m<module>\u001b[1;34m()\u001b[0m\n\u001b[1;32m----> 1\u001b[1;33m \u001b[0mgen_conformers\u001b[0m\u001b[1;33m(\u001b[0m\u001b[0mSmilesCode\u001b[0m\u001b[1;33m[\u001b[0m\u001b[1;36m1\u001b[0m\u001b[1;33m]\u001b[0m\u001b[1;33m)\u001b[0m\u001b[1;33m\u001b[0m\u001b[0m\n\u001b[0m",
      "\u001b[1;32m<ipython-input-19-ac7ea93a440f>\u001b[0m in \u001b[0;36mgen_conformers\u001b[1;34m(mol, numConfs, maxAttempts, pruneRmsThresh, useExpTorsionAnglePrefs, useBasicKnowledge, enforceChirality)\u001b[0m\n\u001b[0;32m      1\u001b[0m \u001b[1;32mdef\u001b[0m \u001b[0mgen_conformers\u001b[0m\u001b[1;33m(\u001b[0m\u001b[0mmol\u001b[0m\u001b[1;33m,\u001b[0m \u001b[0mnumConfs\u001b[0m\u001b[1;33m=\u001b[0m\u001b[1;36m100\u001b[0m\u001b[1;33m,\u001b[0m \u001b[0mmaxAttempts\u001b[0m\u001b[1;33m=\u001b[0m\u001b[1;36m1000\u001b[0m\u001b[1;33m,\u001b[0m \u001b[0mpruneRmsThresh\u001b[0m\u001b[1;33m=\u001b[0m\u001b[1;36m0.1\u001b[0m\u001b[1;33m,\u001b[0m \u001b[0museExpTorsionAnglePrefs\u001b[0m\u001b[1;33m=\u001b[0m\u001b[0mTrue\u001b[0m\u001b[1;33m,\u001b[0m \u001b[0museBasicKnowledge\u001b[0m\u001b[1;33m=\u001b[0m\u001b[0mTrue\u001b[0m\u001b[1;33m,\u001b[0m \u001b[0menforceChirality\u001b[0m\u001b[1;33m=\u001b[0m\u001b[0mTrue\u001b[0m\u001b[1;33m)\u001b[0m\u001b[1;33m:\u001b[0m\u001b[1;33m\u001b[0m\u001b[0m\n\u001b[1;32m----> 2\u001b[1;33m     \u001b[0mids\u001b[0m \u001b[1;33m=\u001b[0m \u001b[0mAllChem\u001b[0m\u001b[1;33m.\u001b[0m\u001b[0mEmbedMultipleConfs\u001b[0m\u001b[1;33m(\u001b[0m\u001b[0mmol\u001b[0m\u001b[1;33m,\u001b[0m \u001b[0mnumConfs\u001b[0m\u001b[1;33m=\u001b[0m\u001b[0mnumConfs\u001b[0m\u001b[1;33m,\u001b[0m \u001b[0mmaxAttempts\u001b[0m\u001b[1;33m=\u001b[0m\u001b[0mmaxAttempts\u001b[0m\u001b[1;33m,\u001b[0m \u001b[0mpruneRmsThresh\u001b[0m\u001b[1;33m=\u001b[0m\u001b[0mpruneRmsThresh\u001b[0m\u001b[1;33m,\u001b[0m \u001b[0museExpTorsionAnglePrefs\u001b[0m\u001b[1;33m=\u001b[0m\u001b[0museExpTorsionAnglePrefs\u001b[0m\u001b[1;33m,\u001b[0m \u001b[0museBasicKnowledge\u001b[0m\u001b[1;33m=\u001b[0m\u001b[0museBasicKnowledge\u001b[0m\u001b[1;33m,\u001b[0m \u001b[0menforceChirality\u001b[0m\u001b[1;33m=\u001b[0m\u001b[0menforceChirality\u001b[0m\u001b[1;33m,\u001b[0m \u001b[0mnumThreads\u001b[0m\u001b[1;33m=\u001b[0m\u001b[1;36m0\u001b[0m\u001b[1;33m)\u001b[0m\u001b[1;33m\u001b[0m\u001b[0m\n\u001b[0m\u001b[0;32m      3\u001b[0m     \u001b[1;32mreturn\u001b[0m \u001b[0mlist\u001b[0m\u001b[1;33m(\u001b[0m\u001b[0mids\u001b[0m\u001b[1;33m)\u001b[0m\u001b[1;33m\u001b[0m\u001b[0m\n",
      "\u001b[1;31mArgumentError\u001b[0m: Python argument types in\n    rdkit.Chem.rdDistGeom.EmbedMultipleConfs(str)\ndid not match C++ signature:\n    EmbedMultipleConfs(class RDKit::ROMol {lvalue} mol, unsigned int numConfs, struct RDKit::DGeomHelpers::EmbedParameters {lvalue} params)\n    EmbedMultipleConfs(class RDKit::ROMol {lvalue} mol, unsigned int numConfs=10, unsigned int maxAttempts=0, int randomSeed=-1, bool clearConfs=True, bool useRandomCoords=False, double boxSizeMult=2.0, bool randNegEig=True, unsigned int numZeroFail=1, double pruneRmsThresh=-1.0, class boost::python::dict {lvalue} coordMap={}, double forceTol=0.001, bool ignoreSmoothingFailures=False, bool enforceChirality=True, int numThreads=1, bool useExpTorsionAnglePrefs=False, bool useBasicKnowledge=False, bool printExpTorsionAngles=False)"
     ]
    }
   ],
   "source": [
    "gen_conformers(SmilesCode[1])"
   ]
  },
  {
   "cell_type": "code",
   "execution_count": null,
   "metadata": {},
   "outputs": [],
   "source": []
  },
  {
   "cell_type": "code",
   "execution_count": null,
   "metadata": {},
   "outputs": [],
   "source": []
  },
  {
   "cell_type": "code",
   "execution_count": null,
   "metadata": {},
   "outputs": [],
   "source": []
  },
  {
   "cell_type": "code",
   "execution_count": null,
   "metadata": {},
   "outputs": [],
   "source": []
  },
  {
   "cell_type": "code",
   "execution_count": 14,
   "metadata": {},
   "outputs": [
    {
     "ename": "NameError",
     "evalue": "name 'ids' is not defined",
     "output_type": "error",
     "traceback": [
      "\u001b[1;31m---------------------------------------------------------------------------\u001b[0m",
      "\u001b[1;31mNameError\u001b[0m                                 Traceback (most recent call last)",
      "\u001b[1;32m<ipython-input-14-5eb592cda338>\u001b[0m in \u001b[0;36m<module>\u001b[1;34m()\u001b[0m\n\u001b[1;32m----> 1\u001b[1;33m \u001b[0mlist\u001b[0m\u001b[1;33m(\u001b[0m\u001b[0mids\u001b[0m\u001b[1;33m)\u001b[0m\u001b[1;33m\u001b[0m\u001b[0m\n\u001b[0m",
      "\u001b[1;31mNameError\u001b[0m: name 'ids' is not defined"
     ]
    }
   ],
   "source": []
  },
  {
   "cell_type": "code",
   "execution_count": 16,
   "metadata": {},
   "outputs": [],
   "source": [
    "def write_conformers_to_sdf(mol, filename, rmsClusters, conformerPropsDict, minEnergy):\n",
    "\tw = Chem.SDWriter(filename)\n",
    "\tfor cluster in rmsClusters:\n",
    "\t\tfor confId in cluster:\n",
    "\t\t\tfor name in mol.GetPropNames():\n",
    "\t\t\t\tmol.ClearProp(name)\n",
    "\t\t\tconformerProps = conformerPropsDict[confId]\n",
    "\t\t\tmol.SetIntProp(\"conformer_id\", confId + 1)\n",
    "\t\t\tfor key in conformerProps.keys():\n",
    "\t\t\t\tmol.SetProp(key, str(conformerProps[key]))\n",
    "\t\t\te = conformerProps[\"energy_abs\"]\n",
    "\t\t\tif e:\n",
    "\t\t\t\tmol.SetDoubleProp(\"energy_delta\", e - minEnergy)\n",
    "\t\t\tw.write(mol, confId=confId)\n",
    "\tw.flush()\n",
    "\tw.close()"
   ]
  },
  {
   "cell_type": "code",
   "execution_count": 17,
   "metadata": {},
   "outputs": [],
   "source": [
    "def calc_energy(mol, conformerId, minimizeIts):\n",
    "\tff = AllChem.MMFFGetMoleculeForceField(mol, AllChem.MMFFGetMoleculeProperties(mol), confId=conformerId)\n",
    "\tff.Initialize()\n",
    "\tff.CalcEnergy()\n",
    "\tresults = {}\n",
    "\tif minimizeIts > 0:\n",
    "\t\tresults[\"converged\"] = ff.Minimize(maxIts=minimizeIts)\n",
    "\tresults[\"energy_abs\"] = ff.CalcEnergy()\n",
    "\treturn results"
   ]
  },
  {
   "cell_type": "code",
   "execution_count": null,
   "metadata": {},
   "outputs": [],
   "source": []
  },
  {
   "cell_type": "code",
   "execution_count": null,
   "metadata": {},
   "outputs": [],
   "source": []
  },
  {
   "cell_type": "code",
   "execution_count": null,
   "metadata": {},
   "outputs": [],
   "source": []
  }
 ],
 "metadata": {
  "kernelspec": {
   "display_name": "Python (testenv)",
   "language": "python",
   "name": "testenv"
  },
  "language_info": {
   "codemirror_mode": {
    "name": "ipython",
    "version": 2
   },
   "file_extension": ".py",
   "mimetype": "text/x-python",
   "name": "python",
   "nbconvert_exporter": "python",
   "pygments_lexer": "ipython2",
   "version": "2.7.16"
  }
 },
 "nbformat": 4,
 "nbformat_minor": 2
}
