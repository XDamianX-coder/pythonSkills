{
 "cells": [
  {
   "cell_type": "code",
   "execution_count": 1,
   "metadata": {},
   "outputs": [],
   "source": [
    "from rdkit.Chem.Descriptors import *\n",
    "from rdkit import Chem\n",
    "import pandas as pd\n",
    "from rdkit.Chem import Descriptors\n",
    "import sys\n",
    "from rdkit import Chem\n",
    "from rdkit.Chem import AllChem, TorsionFingerprints\n",
    "from rdkit.ML.Cluster import Butina"
   ]
  },
  {
   "cell_type": "code",
   "execution_count": 2,
   "metadata": {},
   "outputs": [],
   "source": [
    "data = pd.read_csv(\"sampleMolecules.csv\")"
   ]
  },
  {
   "cell_type": "code",
   "execution_count": 3,
   "metadata": {},
   "outputs": [],
   "source": [
    "SmilesCode = data['canonicalSmiles'].values"
   ]
  },
  {
   "cell_type": "code",
   "execution_count": 7,
   "metadata": {},
   "outputs": [],
   "source": [
    "def formSMILESintoMOL(SmilesCode):\n",
    "    m = Chem.MolFromSmiles(SmilesCode)\n",
    "    return Descriptors.MolWt(m)"
   ]
  },
  {
   "cell_type": "code",
   "execution_count": 8,
   "metadata": {},
   "outputs": [
    {
     "data": {
      "text/plain": [
       "312.43800000000005"
      ]
     },
     "execution_count": 8,
     "metadata": {},
     "output_type": "execute_result"
    }
   ],
   "source": [
    "formSMILESintoMOL(SmilesCode[2])"
   ]
  },
  {
   "cell_type": "code",
   "execution_count": 9,
   "metadata": {},
   "outputs": [
    {
     "ename": "TypeError",
     "evalue": "'float' object has no attribute '__getitem__'",
     "output_type": "error",
     "traceback": [
      "\u001b[1;31m---------------------------------------------------------------------------\u001b[0m",
      "\u001b[1;31mTypeError\u001b[0m                                 Traceback (most recent call last)",
      "\u001b[1;32m<ipython-input-9-e7c19783b0d1>\u001b[0m in \u001b[0;36m<module>\u001b[1;34m()\u001b[0m\n\u001b[0;32m      2\u001b[0m \u001b[1;32mfor\u001b[0m \u001b[0mitem\u001b[0m \u001b[1;32min\u001b[0m \u001b[0mSmilesCode\u001b[0m\u001b[1;33m:\u001b[0m\u001b[1;33m\u001b[0m\u001b[0m\n\u001b[0;32m      3\u001b[0m     \u001b[0mdescriptors\u001b[0m \u001b[1;33m=\u001b[0m \u001b[0mformSMILESintoMOL\u001b[0m\u001b[1;33m(\u001b[0m\u001b[0mitem\u001b[0m\u001b[1;33m)\u001b[0m\u001b[1;33m\u001b[0m\u001b[0m\n\u001b[1;32m----> 4\u001b[1;33m     \u001b[0mresults\u001b[0m\u001b[1;33m.\u001b[0m\u001b[0mappend\u001b[0m\u001b[1;33m(\u001b[0m\u001b[1;33m[\u001b[0m\u001b[0mitem\u001b[0m\u001b[1;33m,\u001b[0m \u001b[0mdescriptors\u001b[0m\u001b[1;33m[\u001b[0m\u001b[1;36m0\u001b[0m\u001b[1;33m]\u001b[0m\u001b[1;33m]\u001b[0m\u001b[1;33m)\u001b[0m\u001b[1;33m\u001b[0m\u001b[0m\n\u001b[0m",
      "\u001b[1;31mTypeError\u001b[0m: 'float' object has no attribute '__getitem__'"
     ]
    }
   ],
   "source": [
    "results = []\n",
    "for item in SmilesCode:\n",
    "    descriptors = formSMILESintoMOL(item)\n",
    "    results.append([item, descriptors[0]])"
   ]
  },
  {
   "cell_type": "code",
   "execution_count": 10,
   "metadata": {},
   "outputs": [
    {
     "data": {
      "text/html": [
       "<div>\n",
       "<style scoped>\n",
       "    .dataframe tbody tr th:only-of-type {\n",
       "        vertical-align: middle;\n",
       "    }\n",
       "\n",
       "    .dataframe tbody tr th {\n",
       "        vertical-align: top;\n",
       "    }\n",
       "\n",
       "    .dataframe thead th {\n",
       "        text-align: right;\n",
       "    }\n",
       "</style>\n",
       "<table border=\"1\" class=\"dataframe\">\n",
       "  <thead>\n",
       "    <tr style=\"text-align: right;\">\n",
       "      <th></th>\n",
       "      <th>molregNoMin</th>\n",
       "      <th>molregNoCount</th>\n",
       "      <th>chemblSmiles</th>\n",
       "      <th>standardMin</th>\n",
       "      <th>standardMax</th>\n",
       "      <th>standardMean</th>\n",
       "      <th>publishedMain</th>\n",
       "      <th>publishedMax</th>\n",
       "      <th>publishedMean</th>\n",
       "      <th>canonicalSmiles</th>\n",
       "      <th>negativeCharged</th>\n",
       "      <th>positiveCharged</th>\n",
       "      <th>elementsSet</th>\n",
       "      <th>numberOfRings</th>\n",
       "      <th>organicChemistryElementsOnly</th>\n",
       "      <th>smilesLength</th>\n",
       "      <th>encodedSmiles</th>\n",
       "      <th>encodedSmilesPostprocessed</th>\n",
       "    </tr>\n",
       "  </thead>\n",
       "  <tbody>\n",
       "    <tr>\n",
       "      <th>0</th>\n",
       "      <td>1522827</td>\n",
       "      <td>2</td>\n",
       "      <td>CNC(=S)N\\N=C(\\c1ccc(OC)c(OC)c1)/c2cccc(C)n2</td>\n",
       "      <td>6250.0</td>\n",
       "      <td>6250.0</td>\n",
       "      <td>6250.0</td>\n",
       "      <td>6.25</td>\n",
       "      <td>6.25</td>\n",
       "      <td>6.25</td>\n",
       "      <td>CNC(=S)NN=C(c1ccc(OC)c(OC)c1)c1cccc(C)n1</td>\n",
       "      <td>0.0</td>\n",
       "      <td>0.0</td>\n",
       "      <td>['S', 'N', 'C', 'O']</td>\n",
       "      <td>2.0</td>\n",
       "      <td>True</td>\n",
       "      <td>40</td>\n",
       "      <td>CNC(=S)NN=C(c1ccc(OC)c(OC)c1)c1cccc(C)n1</td>\n",
       "      <td>CNC(=S)NN=C(c1ccc(OC)c(OC)c1)c1cccc(C)n1Q</td>\n",
       "    </tr>\n",
       "    <tr>\n",
       "      <th>1</th>\n",
       "      <td>612901</td>\n",
       "      <td>2</td>\n",
       "      <td>Cn1cc(C2=C(C(=O)NC2=O)c3cccc(NCC(O)CO)c3)c4cc(...</td>\n",
       "      <td>0.4</td>\n",
       "      <td>260.0</td>\n",
       "      <td>130.2</td>\n",
       "      <td>0.40</td>\n",
       "      <td>260.00</td>\n",
       "      <td>130.20</td>\n",
       "      <td>Cn1cc(C2=C(c3cccc(NCC(O)CO)c3)C(=O)NC2=O)c2cc(...</td>\n",
       "      <td>0.0</td>\n",
       "      <td>0.0</td>\n",
       "      <td>['Cl', 'N', 'C', 'O']</td>\n",
       "      <td>4.0</td>\n",
       "      <td>True</td>\n",
       "      <td>54</td>\n",
       "      <td>Cn1cc(C2=C(c3cccc(NCC(O)CO)c3)C(=O)NC2=O)c2cc(...</td>\n",
       "      <td>Cn1cc(C2=C(c3cccc(NCC(O)CO)c3)C(=O)NC2=O)c2cc(...</td>\n",
       "    </tr>\n",
       "    <tr>\n",
       "      <th>2</th>\n",
       "      <td>171018</td>\n",
       "      <td>1</td>\n",
       "      <td>CC(C)c1cccc(C(C)C)c1N2Sc3ncccc3C2=O</td>\n",
       "      <td>12000.0</td>\n",
       "      <td>12000.0</td>\n",
       "      <td>12000.0</td>\n",
       "      <td>12.00</td>\n",
       "      <td>12.00</td>\n",
       "      <td>12.00</td>\n",
       "      <td>CC(C)c1cccc(C(C)C)c1-n1sc2ncccc2c1=O</td>\n",
       "      <td>0.0</td>\n",
       "      <td>0.0</td>\n",
       "      <td>['S', 'N', 'C', 'O']</td>\n",
       "      <td>3.0</td>\n",
       "      <td>True</td>\n",
       "      <td>36</td>\n",
       "      <td>CC(C)c1cccc(C(C)C)c1-n1sc2ncccc2c1=O</td>\n",
       "      <td>CC(C)c1cccc(C(C)C)c1-n1sc2ncccc2c1=OQ</td>\n",
       "    </tr>\n",
       "    <tr>\n",
       "      <th>3</th>\n",
       "      <td>11414</td>\n",
       "      <td>4</td>\n",
       "      <td>O[C@@H](CNCCc1ccc(NS(=O)(=O)c2ccc(I)cc2)cc1)CO...</td>\n",
       "      <td>120.0</td>\n",
       "      <td>170.0</td>\n",
       "      <td>145.0</td>\n",
       "      <td>120.00</td>\n",
       "      <td>170.00</td>\n",
       "      <td>145.00</td>\n",
       "      <td>O=S(=O)(Nc1ccc(CCNCC(O)COc2ccc(O)cc2)cc1)c1ccc...</td>\n",
       "      <td>0.0</td>\n",
       "      <td>0.0</td>\n",
       "      <td>['N', 'S', 'C', 'O', 'I']</td>\n",
       "      <td>3.0</td>\n",
       "      <td>True</td>\n",
       "      <td>52</td>\n",
       "      <td>O=S(=O)(Nc1ccc(CCNCC(O)COc2ccc(O)cc2)cc1)c1ccc...</td>\n",
       "      <td>O=S(=O)(Nc1ccc(CCNCC(O)COc2ccc(O)cc2)cc1)c1ccc...</td>\n",
       "    </tr>\n",
       "    <tr>\n",
       "      <th>4</th>\n",
       "      <td>135826</td>\n",
       "      <td>1</td>\n",
       "      <td>C\\C(=C/C\\C(=C\\CCC1=CC(=O)OC1O)\\C)\\CCC2=C(C)CCC...</td>\n",
       "      <td>990000.0</td>\n",
       "      <td>990000.0</td>\n",
       "      <td>990000.0</td>\n",
       "      <td>990.00</td>\n",
       "      <td>990.00</td>\n",
       "      <td>990.00</td>\n",
       "      <td>CC(=CCCC1=CC(=O)OC1O)CC=C(C)CCC1=C(C)CCCC1(C)C</td>\n",
       "      <td>0.0</td>\n",
       "      <td>0.0</td>\n",
       "      <td>['C', 'O']</td>\n",
       "      <td>2.0</td>\n",
       "      <td>True</td>\n",
       "      <td>46</td>\n",
       "      <td>CC(=CCCC1=CC(=O)OC1O)CC=C(C)CCC1=C(C)CCCC1(C)C</td>\n",
       "      <td>CC(=CCCC1=CC(=O)OC1O)CC=C(C)CCC1=C(C)CCCC1(C)CQ</td>\n",
       "    </tr>\n",
       "    <tr>\n",
       "      <th>5</th>\n",
       "      <td>1840523</td>\n",
       "      <td>5</td>\n",
       "      <td>CNC(=O)[C@]1(C)CC[C@]2(C)CC[C@]3(C)C4=CC=C5C(=...</td>\n",
       "      <td>7620.0</td>\n",
       "      <td>24100.0</td>\n",
       "      <td>13360.0</td>\n",
       "      <td>7.62</td>\n",
       "      <td>24.10</td>\n",
       "      <td>13.36</td>\n",
       "      <td>CNC(=O)C1(C)CCC2(C)CCC3(C)C4=CC=C5C(=CC(=O)C(O...</td>\n",
       "      <td>0.0</td>\n",
       "      <td>0.0</td>\n",
       "      <td>['N', 'C', 'O']</td>\n",
       "      <td>5.0</td>\n",
       "      <td>True</td>\n",
       "      <td>68</td>\n",
       "      <td>CNC(=O)C1(C)CCC2(C)CCC3(C)C4=CC=C5C(=CC(=O)C(O...</td>\n",
       "      <td>CNC(=O)C1(C)CCC2(C)CCC3(C)C4=CC=C5C(=CC(=O)C(O...</td>\n",
       "    </tr>\n",
       "    <tr>\n",
       "      <th>6</th>\n",
       "      <td>1973470</td>\n",
       "      <td>1</td>\n",
       "      <td>C#Cc1cncc(c1)c2ccsc2</td>\n",
       "      <td>12900.0</td>\n",
       "      <td>12900.0</td>\n",
       "      <td>12900.0</td>\n",
       "      <td>12900.00</td>\n",
       "      <td>12900.00</td>\n",
       "      <td>12900.00</td>\n",
       "      <td>C#Cc1cncc(-c2ccsc2)c1</td>\n",
       "      <td>0.0</td>\n",
       "      <td>0.0</td>\n",
       "      <td>['S', 'N', 'C']</td>\n",
       "      <td>2.0</td>\n",
       "      <td>True</td>\n",
       "      <td>21</td>\n",
       "      <td>C#Cc1cncc(-c2ccsc2)c1</td>\n",
       "      <td>C#Cc1cncc(-c2ccsc2)c1Q</td>\n",
       "    </tr>\n",
       "    <tr>\n",
       "      <th>7</th>\n",
       "      <td>1970195</td>\n",
       "      <td>1</td>\n",
       "      <td>C[C@H](C[C@H](O)[C@H](O)C(=C)C)C1=C2C=C[C@H]3[...</td>\n",
       "      <td>8680.0</td>\n",
       "      <td>8680.0</td>\n",
       "      <td>8680.0</td>\n",
       "      <td>8.68</td>\n",
       "      <td>8.68</td>\n",
       "      <td>8.68</td>\n",
       "      <td>C=C(C)C(O)C(O)CC(C)C1=C2C=CC3C4(C)CCC(=O)C(C)(...</td>\n",
       "      <td>0.0</td>\n",
       "      <td>0.0</td>\n",
       "      <td>['C', 'O']</td>\n",
       "      <td>4.0</td>\n",
       "      <td>True</td>\n",
       "      <td>67</td>\n",
       "      <td>C=C(C)C(O)C(O)CC(C)C1=C2C=CC3C4(C)CCC(=O)C(C)(...</td>\n",
       "      <td>C=C(C)C(O)C(O)CC(C)C1=C2C=CC3C4(C)CCC(=O)C(C)(...</td>\n",
       "    </tr>\n",
       "    <tr>\n",
       "      <th>8</th>\n",
       "      <td>1576644</td>\n",
       "      <td>3</td>\n",
       "      <td>CNCCCOc1c(Br)cc(cc1Br)C2=CNC(=O)C(=N2)Cc3c[nH]...</td>\n",
       "      <td>4000.0</td>\n",
       "      <td>5770.0</td>\n",
       "      <td>4700.0</td>\n",
       "      <td>4.00</td>\n",
       "      <td>5.77</td>\n",
       "      <td>4.70</td>\n",
       "      <td>CNCCCOc1c(Br)cc(-c2c[nH]c(=O)c(Cc3c[nH]c4ccccc...</td>\n",
       "      <td>0.0</td>\n",
       "      <td>0.0</td>\n",
       "      <td>['Br', 'N', 'C', 'O']</td>\n",
       "      <td>4.0</td>\n",
       "      <td>True</td>\n",
       "      <td>57</td>\n",
       "      <td>CNCCCOc1c(G)cc(-c2cWc(=O)c(Cc3cWc4ccccc34)n2)cc1G</td>\n",
       "      <td>CNCCCOc1c(G)cc(-c2cWc(=O)c(Cc3cWc4ccccc34)n2)c...</td>\n",
       "    </tr>\n",
       "  </tbody>\n",
       "</table>\n",
       "</div>"
      ],
      "text/plain": [
       "   molregNoMin  molregNoCount  \\\n",
       "0      1522827              2   \n",
       "1       612901              2   \n",
       "2       171018              1   \n",
       "3        11414              4   \n",
       "4       135826              1   \n",
       "5      1840523              5   \n",
       "6      1973470              1   \n",
       "7      1970195              1   \n",
       "8      1576644              3   \n",
       "\n",
       "                                        chemblSmiles  standardMin  \\\n",
       "0        CNC(=S)N\\N=C(\\c1ccc(OC)c(OC)c1)/c2cccc(C)n2       6250.0   \n",
       "1  Cn1cc(C2=C(C(=O)NC2=O)c3cccc(NCC(O)CO)c3)c4cc(...          0.4   \n",
       "2                CC(C)c1cccc(C(C)C)c1N2Sc3ncccc3C2=O      12000.0   \n",
       "3  O[C@@H](CNCCc1ccc(NS(=O)(=O)c2ccc(I)cc2)cc1)CO...        120.0   \n",
       "4  C\\C(=C/C\\C(=C\\CCC1=CC(=O)OC1O)\\C)\\CCC2=C(C)CCC...     990000.0   \n",
       "5  CNC(=O)[C@]1(C)CC[C@]2(C)CC[C@]3(C)C4=CC=C5C(=...       7620.0   \n",
       "6                               C#Cc1cncc(c1)c2ccsc2      12900.0   \n",
       "7  C[C@H](C[C@H](O)[C@H](O)C(=C)C)C1=C2C=C[C@H]3[...       8680.0   \n",
       "8  CNCCCOc1c(Br)cc(cc1Br)C2=CNC(=O)C(=N2)Cc3c[nH]...       4000.0   \n",
       "\n",
       "   standardMax  standardMean  publishedMain  publishedMax  publishedMean  \\\n",
       "0       6250.0        6250.0           6.25          6.25           6.25   \n",
       "1        260.0         130.2           0.40        260.00         130.20   \n",
       "2      12000.0       12000.0          12.00         12.00          12.00   \n",
       "3        170.0         145.0         120.00        170.00         145.00   \n",
       "4     990000.0      990000.0         990.00        990.00         990.00   \n",
       "5      24100.0       13360.0           7.62         24.10          13.36   \n",
       "6      12900.0       12900.0       12900.00      12900.00       12900.00   \n",
       "7       8680.0        8680.0           8.68          8.68           8.68   \n",
       "8       5770.0        4700.0           4.00          5.77           4.70   \n",
       "\n",
       "                                     canonicalSmiles  negativeCharged  \\\n",
       "0           CNC(=S)NN=C(c1ccc(OC)c(OC)c1)c1cccc(C)n1              0.0   \n",
       "1  Cn1cc(C2=C(c3cccc(NCC(O)CO)c3)C(=O)NC2=O)c2cc(...              0.0   \n",
       "2               CC(C)c1cccc(C(C)C)c1-n1sc2ncccc2c1=O              0.0   \n",
       "3  O=S(=O)(Nc1ccc(CCNCC(O)COc2ccc(O)cc2)cc1)c1ccc...              0.0   \n",
       "4     CC(=CCCC1=CC(=O)OC1O)CC=C(C)CCC1=C(C)CCCC1(C)C              0.0   \n",
       "5  CNC(=O)C1(C)CCC2(C)CCC3(C)C4=CC=C5C(=CC(=O)C(O...              0.0   \n",
       "6                              C#Cc1cncc(-c2ccsc2)c1              0.0   \n",
       "7  C=C(C)C(O)C(O)CC(C)C1=C2C=CC3C4(C)CCC(=O)C(C)(...              0.0   \n",
       "8  CNCCCOc1c(Br)cc(-c2c[nH]c(=O)c(Cc3c[nH]c4ccccc...              0.0   \n",
       "\n",
       "   positiveCharged                elementsSet  numberOfRings  \\\n",
       "0              0.0       ['S', 'N', 'C', 'O']            2.0   \n",
       "1              0.0      ['Cl', 'N', 'C', 'O']            4.0   \n",
       "2              0.0       ['S', 'N', 'C', 'O']            3.0   \n",
       "3              0.0  ['N', 'S', 'C', 'O', 'I']            3.0   \n",
       "4              0.0                 ['C', 'O']            2.0   \n",
       "5              0.0            ['N', 'C', 'O']            5.0   \n",
       "6              0.0            ['S', 'N', 'C']            2.0   \n",
       "7              0.0                 ['C', 'O']            4.0   \n",
       "8              0.0      ['Br', 'N', 'C', 'O']            4.0   \n",
       "\n",
       "   organicChemistryElementsOnly  smilesLength  \\\n",
       "0                          True            40   \n",
       "1                          True            54   \n",
       "2                          True            36   \n",
       "3                          True            52   \n",
       "4                          True            46   \n",
       "5                          True            68   \n",
       "6                          True            21   \n",
       "7                          True            67   \n",
       "8                          True            57   \n",
       "\n",
       "                                       encodedSmiles  \\\n",
       "0           CNC(=S)NN=C(c1ccc(OC)c(OC)c1)c1cccc(C)n1   \n",
       "1  Cn1cc(C2=C(c3cccc(NCC(O)CO)c3)C(=O)NC2=O)c2cc(...   \n",
       "2               CC(C)c1cccc(C(C)C)c1-n1sc2ncccc2c1=O   \n",
       "3  O=S(=O)(Nc1ccc(CCNCC(O)COc2ccc(O)cc2)cc1)c1ccc...   \n",
       "4     CC(=CCCC1=CC(=O)OC1O)CC=C(C)CCC1=C(C)CCCC1(C)C   \n",
       "5  CNC(=O)C1(C)CCC2(C)CCC3(C)C4=CC=C5C(=CC(=O)C(O...   \n",
       "6                              C#Cc1cncc(-c2ccsc2)c1   \n",
       "7  C=C(C)C(O)C(O)CC(C)C1=C2C=CC3C4(C)CCC(=O)C(C)(...   \n",
       "8  CNCCCOc1c(G)cc(-c2cWc(=O)c(Cc3cWc4ccccc34)n2)cc1G   \n",
       "\n",
       "                          encodedSmilesPostprocessed  \n",
       "0          CNC(=S)NN=C(c1ccc(OC)c(OC)c1)c1cccc(C)n1Q  \n",
       "1  Cn1cc(C2=C(c3cccc(NCC(O)CO)c3)C(=O)NC2=O)c2cc(...  \n",
       "2              CC(C)c1cccc(C(C)C)c1-n1sc2ncccc2c1=OQ  \n",
       "3  O=S(=O)(Nc1ccc(CCNCC(O)COc2ccc(O)cc2)cc1)c1ccc...  \n",
       "4    CC(=CCCC1=CC(=O)OC1O)CC=C(C)CCC1=C(C)CCCC1(C)CQ  \n",
       "5  CNC(=O)C1(C)CCC2(C)CCC3(C)C4=CC=C5C(=CC(=O)C(O...  \n",
       "6                             C#Cc1cncc(-c2ccsc2)c1Q  \n",
       "7  C=C(C)C(O)C(O)CC(C)C1=C2C=CC3C4(C)CCC(=O)C(C)(...  \n",
       "8  CNCCCOc1c(G)cc(-c2cWc(=O)c(Cc3cWc4ccccc34)n2)c...  "
      ]
     },
     "execution_count": 10,
     "metadata": {},
     "output_type": "execute_result"
    }
   ],
   "source": [
    "data"
   ]
  },
  {
   "cell_type": "code",
   "execution_count": 11,
   "metadata": {},
   "outputs": [
    {
     "data": {
      "text/plain": [
       "array(['CNC(=S)NN=C(c1ccc(OC)c(OC)c1)c1cccc(C)n1',\n",
       "       'Cn1cc(C2=C(c3cccc(NCC(O)CO)c3)C(=O)NC2=O)c2cc(Cl)ccc21',\n",
       "       'CC(C)c1cccc(C(C)C)c1-n1sc2ncccc2c1=O',\n",
       "       'O=S(=O)(Nc1ccc(CCNCC(O)COc2ccc(O)cc2)cc1)c1ccc(I)cc1',\n",
       "       'CC(=CCCC1=CC(=O)OC1O)CC=C(C)CCC1=C(C)CCCC1(C)C',\n",
       "       'CNC(=O)C1(C)CCC2(C)CCC3(C)C4=CC=C5C(=CC(=O)C(O)=C5C)C4(C)CCC3(C)C2C1',\n",
       "       'C#Cc1cncc(-c2ccsc2)c1',\n",
       "       'C=C(C)C(O)C(O)CC(C)C1=C2C=CC3C4(C)CCC(=O)C(C)(C)C4CCC3(C)C2(C)CC1=O',\n",
       "       'CNCCCOc1c(Br)cc(-c2c[nH]c(=O)c(Cc3c[nH]c4ccccc34)n2)cc1Br'],\n",
       "      dtype=object)"
      ]
     },
     "execution_count": 11,
     "metadata": {},
     "output_type": "execute_result"
    }
   ],
   "source": [
    "SmilesCode"
   ]
  },
  {
   "cell_type": "code",
   "execution_count": 13,
   "metadata": {},
   "outputs": [
    {
     "ename": "NameError",
     "evalue": "name 'DataFrame' is not defined",
     "output_type": "error",
     "traceback": [
      "\u001b[1;31m---------------------------------------------------------------------------\u001b[0m",
      "\u001b[1;31mNameError\u001b[0m                                 Traceback (most recent call last)",
      "\u001b[1;32m<ipython-input-13-c8c20dd85f74>\u001b[0m in \u001b[0;36m<module>\u001b[1;34m()\u001b[0m\n\u001b[1;32m----> 1\u001b[1;33m \u001b[0mSMILES\u001b[0m \u001b[1;33m=\u001b[0m \u001b[0mDataFrame\u001b[0m\u001b[1;33m(\u001b[0m\u001b[0mSmilesCode\u001b[0m\u001b[1;33m)\u001b[0m\u001b[1;33m\u001b[0m\u001b[0m\n\u001b[0m",
      "\u001b[1;31mNameError\u001b[0m: name 'DataFrame' is not defined"
     ]
    }
   ],
   "source": [
    "SMILES = DataFrame(SmilesCode)"
   ]
  },
  {
   "cell_type": "code",
   "execution_count": 14,
   "metadata": {},
   "outputs": [],
   "source": [
    "from pandas import DataFrame"
   ]
  },
  {
   "cell_type": "code",
   "execution_count": 15,
   "metadata": {},
   "outputs": [],
   "source": [
    "SMILES = DataFrame(SmilesCode)"
   ]
  },
  {
   "cell_type": "code",
   "execution_count": 16,
   "metadata": {},
   "outputs": [
    {
     "data": {
      "text/html": [
       "<div>\n",
       "<style scoped>\n",
       "    .dataframe tbody tr th:only-of-type {\n",
       "        vertical-align: middle;\n",
       "    }\n",
       "\n",
       "    .dataframe tbody tr th {\n",
       "        vertical-align: top;\n",
       "    }\n",
       "\n",
       "    .dataframe thead th {\n",
       "        text-align: right;\n",
       "    }\n",
       "</style>\n",
       "<table border=\"1\" class=\"dataframe\">\n",
       "  <thead>\n",
       "    <tr style=\"text-align: right;\">\n",
       "      <th></th>\n",
       "      <th>0</th>\n",
       "    </tr>\n",
       "  </thead>\n",
       "  <tbody>\n",
       "    <tr>\n",
       "      <th>0</th>\n",
       "      <td>CNC(=S)NN=C(c1ccc(OC)c(OC)c1)c1cccc(C)n1</td>\n",
       "    </tr>\n",
       "    <tr>\n",
       "      <th>1</th>\n",
       "      <td>Cn1cc(C2=C(c3cccc(NCC(O)CO)c3)C(=O)NC2=O)c2cc(...</td>\n",
       "    </tr>\n",
       "    <tr>\n",
       "      <th>2</th>\n",
       "      <td>CC(C)c1cccc(C(C)C)c1-n1sc2ncccc2c1=O</td>\n",
       "    </tr>\n",
       "    <tr>\n",
       "      <th>3</th>\n",
       "      <td>O=S(=O)(Nc1ccc(CCNCC(O)COc2ccc(O)cc2)cc1)c1ccc...</td>\n",
       "    </tr>\n",
       "    <tr>\n",
       "      <th>4</th>\n",
       "      <td>CC(=CCCC1=CC(=O)OC1O)CC=C(C)CCC1=C(C)CCCC1(C)C</td>\n",
       "    </tr>\n",
       "    <tr>\n",
       "      <th>5</th>\n",
       "      <td>CNC(=O)C1(C)CCC2(C)CCC3(C)C4=CC=C5C(=CC(=O)C(O...</td>\n",
       "    </tr>\n",
       "    <tr>\n",
       "      <th>6</th>\n",
       "      <td>C#Cc1cncc(-c2ccsc2)c1</td>\n",
       "    </tr>\n",
       "    <tr>\n",
       "      <th>7</th>\n",
       "      <td>C=C(C)C(O)C(O)CC(C)C1=C2C=CC3C4(C)CCC(=O)C(C)(...</td>\n",
       "    </tr>\n",
       "    <tr>\n",
       "      <th>8</th>\n",
       "      <td>CNCCCOc1c(Br)cc(-c2c[nH]c(=O)c(Cc3c[nH]c4ccccc...</td>\n",
       "    </tr>\n",
       "  </tbody>\n",
       "</table>\n",
       "</div>"
      ],
      "text/plain": [
       "                                                   0\n",
       "0           CNC(=S)NN=C(c1ccc(OC)c(OC)c1)c1cccc(C)n1\n",
       "1  Cn1cc(C2=C(c3cccc(NCC(O)CO)c3)C(=O)NC2=O)c2cc(...\n",
       "2               CC(C)c1cccc(C(C)C)c1-n1sc2ncccc2c1=O\n",
       "3  O=S(=O)(Nc1ccc(CCNCC(O)COc2ccc(O)cc2)cc1)c1ccc...\n",
       "4     CC(=CCCC1=CC(=O)OC1O)CC=C(C)CCC1=C(C)CCCC1(C)C\n",
       "5  CNC(=O)C1(C)CCC2(C)CCC3(C)C4=CC=C5C(=CC(=O)C(O...\n",
       "6                              C#Cc1cncc(-c2ccsc2)c1\n",
       "7  C=C(C)C(O)C(O)CC(C)C1=C2C=CC3C4(C)CCC(=O)C(C)(...\n",
       "8  CNCCCOc1c(Br)cc(-c2c[nH]c(=O)c(Cc3c[nH]c4ccccc..."
      ]
     },
     "execution_count": 16,
     "metadata": {},
     "output_type": "execute_result"
    }
   ],
   "source": [
    "SMILES"
   ]
  },
  {
   "cell_type": "code",
   "execution_count": 17,
   "metadata": {},
   "outputs": [],
   "source": [
    "def formSMILESintoMOL(SmilesCode):\n",
    "    m = Chem.MolFromSmiles(SmilesCode)\n",
    "    return Descriptors.MolWt(m)"
   ]
  },
  {
   "cell_type": "code",
   "execution_count": 18,
   "metadata": {},
   "outputs": [
    {
     "ename": "TypeError",
     "evalue": "'float' object has no attribute '__getitem__'",
     "output_type": "error",
     "traceback": [
      "\u001b[1;31m---------------------------------------------------------------------------\u001b[0m",
      "\u001b[1;31mTypeError\u001b[0m                                 Traceback (most recent call last)",
      "\u001b[1;32m<ipython-input-18-e7c19783b0d1>\u001b[0m in \u001b[0;36m<module>\u001b[1;34m()\u001b[0m\n\u001b[0;32m      2\u001b[0m \u001b[1;32mfor\u001b[0m \u001b[0mitem\u001b[0m \u001b[1;32min\u001b[0m \u001b[0mSmilesCode\u001b[0m\u001b[1;33m:\u001b[0m\u001b[1;33m\u001b[0m\u001b[0m\n\u001b[0;32m      3\u001b[0m     \u001b[0mdescriptors\u001b[0m \u001b[1;33m=\u001b[0m \u001b[0mformSMILESintoMOL\u001b[0m\u001b[1;33m(\u001b[0m\u001b[0mitem\u001b[0m\u001b[1;33m)\u001b[0m\u001b[1;33m\u001b[0m\u001b[0m\n\u001b[1;32m----> 4\u001b[1;33m     \u001b[0mresults\u001b[0m\u001b[1;33m.\u001b[0m\u001b[0mappend\u001b[0m\u001b[1;33m(\u001b[0m\u001b[1;33m[\u001b[0m\u001b[0mitem\u001b[0m\u001b[1;33m,\u001b[0m \u001b[0mdescriptors\u001b[0m\u001b[1;33m[\u001b[0m\u001b[1;36m0\u001b[0m\u001b[1;33m]\u001b[0m\u001b[1;33m]\u001b[0m\u001b[1;33m)\u001b[0m\u001b[1;33m\u001b[0m\u001b[0m\n\u001b[0m",
      "\u001b[1;31mTypeError\u001b[0m: 'float' object has no attribute '__getitem__'"
     ]
    }
   ],
   "source": [
    "results = []\n",
    "for item in SmilesCode:\n",
    "    descriptors = formSMILESintoMOL(item)\n",
    "    results.append([item, descriptors[0]])"
   ]
  },
  {
   "cell_type": "code",
   "execution_count": 19,
   "metadata": {},
   "outputs": [
    {
     "data": {
      "text/html": [
       "<div>\n",
       "<style scoped>\n",
       "    .dataframe tbody tr th:only-of-type {\n",
       "        vertical-align: middle;\n",
       "    }\n",
       "\n",
       "    .dataframe tbody tr th {\n",
       "        vertical-align: top;\n",
       "    }\n",
       "\n",
       "    .dataframe thead th {\n",
       "        text-align: right;\n",
       "    }\n",
       "</style>\n",
       "<table border=\"1\" class=\"dataframe\">\n",
       "  <thead>\n",
       "    <tr style=\"text-align: right;\">\n",
       "      <th></th>\n",
       "      <th>0</th>\n",
       "    </tr>\n",
       "  </thead>\n",
       "  <tbody>\n",
       "    <tr>\n",
       "      <th>0</th>\n",
       "      <td>CNC(=S)NN=C(c1ccc(OC)c(OC)c1)c1cccc(C)n1</td>\n",
       "    </tr>\n",
       "    <tr>\n",
       "      <th>1</th>\n",
       "      <td>Cn1cc(C2=C(c3cccc(NCC(O)CO)c3)C(=O)NC2=O)c2cc(...</td>\n",
       "    </tr>\n",
       "    <tr>\n",
       "      <th>2</th>\n",
       "      <td>CC(C)c1cccc(C(C)C)c1-n1sc2ncccc2c1=O</td>\n",
       "    </tr>\n",
       "    <tr>\n",
       "      <th>3</th>\n",
       "      <td>O=S(=O)(Nc1ccc(CCNCC(O)COc2ccc(O)cc2)cc1)c1ccc...</td>\n",
       "    </tr>\n",
       "    <tr>\n",
       "      <th>4</th>\n",
       "      <td>CC(=CCCC1=CC(=O)OC1O)CC=C(C)CCC1=C(C)CCCC1(C)C</td>\n",
       "    </tr>\n",
       "  </tbody>\n",
       "</table>\n",
       "</div>"
      ],
      "text/plain": [
       "                                                   0\n",
       "0           CNC(=S)NN=C(c1ccc(OC)c(OC)c1)c1cccc(C)n1\n",
       "1  Cn1cc(C2=C(c3cccc(NCC(O)CO)c3)C(=O)NC2=O)c2cc(...\n",
       "2               CC(C)c1cccc(C(C)C)c1-n1sc2ncccc2c1=O\n",
       "3  O=S(=O)(Nc1ccc(CCNCC(O)COc2ccc(O)cc2)cc1)c1ccc...\n",
       "4     CC(=CCCC1=CC(=O)OC1O)CC=C(C)CCC1=C(C)CCCC1(C)C"
      ]
     },
     "execution_count": 19,
     "metadata": {},
     "output_type": "execute_result"
    }
   ],
   "source": [
    "SMILES.head()"
   ]
  },
  {
   "cell_type": "code",
   "execution_count": 20,
   "metadata": {},
   "outputs": [],
   "source": [
    "SMILES = pd.DataFrame(SMILES)"
   ]
  },
  {
   "cell_type": "code",
   "execution_count": 21,
   "metadata": {},
   "outputs": [
    {
     "data": {
      "text/html": [
       "<div>\n",
       "<style scoped>\n",
       "    .dataframe tbody tr th:only-of-type {\n",
       "        vertical-align: middle;\n",
       "    }\n",
       "\n",
       "    .dataframe tbody tr th {\n",
       "        vertical-align: top;\n",
       "    }\n",
       "\n",
       "    .dataframe thead th {\n",
       "        text-align: right;\n",
       "    }\n",
       "</style>\n",
       "<table border=\"1\" class=\"dataframe\">\n",
       "  <thead>\n",
       "    <tr style=\"text-align: right;\">\n",
       "      <th></th>\n",
       "      <th>0</th>\n",
       "    </tr>\n",
       "  </thead>\n",
       "  <tbody>\n",
       "    <tr>\n",
       "      <th>0</th>\n",
       "      <td>CNC(=S)NN=C(c1ccc(OC)c(OC)c1)c1cccc(C)n1</td>\n",
       "    </tr>\n",
       "    <tr>\n",
       "      <th>1</th>\n",
       "      <td>Cn1cc(C2=C(c3cccc(NCC(O)CO)c3)C(=O)NC2=O)c2cc(...</td>\n",
       "    </tr>\n",
       "    <tr>\n",
       "      <th>2</th>\n",
       "      <td>CC(C)c1cccc(C(C)C)c1-n1sc2ncccc2c1=O</td>\n",
       "    </tr>\n",
       "    <tr>\n",
       "      <th>3</th>\n",
       "      <td>O=S(=O)(Nc1ccc(CCNCC(O)COc2ccc(O)cc2)cc1)c1ccc...</td>\n",
       "    </tr>\n",
       "    <tr>\n",
       "      <th>4</th>\n",
       "      <td>CC(=CCCC1=CC(=O)OC1O)CC=C(C)CCC1=C(C)CCCC1(C)C</td>\n",
       "    </tr>\n",
       "    <tr>\n",
       "      <th>5</th>\n",
       "      <td>CNC(=O)C1(C)CCC2(C)CCC3(C)C4=CC=C5C(=CC(=O)C(O...</td>\n",
       "    </tr>\n",
       "    <tr>\n",
       "      <th>6</th>\n",
       "      <td>C#Cc1cncc(-c2ccsc2)c1</td>\n",
       "    </tr>\n",
       "    <tr>\n",
       "      <th>7</th>\n",
       "      <td>C=C(C)C(O)C(O)CC(C)C1=C2C=CC3C4(C)CCC(=O)C(C)(...</td>\n",
       "    </tr>\n",
       "    <tr>\n",
       "      <th>8</th>\n",
       "      <td>CNCCCOc1c(Br)cc(-c2c[nH]c(=O)c(Cc3c[nH]c4ccccc...</td>\n",
       "    </tr>\n",
       "  </tbody>\n",
       "</table>\n",
       "</div>"
      ],
      "text/plain": [
       "                                                   0\n",
       "0           CNC(=S)NN=C(c1ccc(OC)c(OC)c1)c1cccc(C)n1\n",
       "1  Cn1cc(C2=C(c3cccc(NCC(O)CO)c3)C(=O)NC2=O)c2cc(...\n",
       "2               CC(C)c1cccc(C(C)C)c1-n1sc2ncccc2c1=O\n",
       "3  O=S(=O)(Nc1ccc(CCNCC(O)COc2ccc(O)cc2)cc1)c1ccc...\n",
       "4     CC(=CCCC1=CC(=O)OC1O)CC=C(C)CCC1=C(C)CCCC1(C)C\n",
       "5  CNC(=O)C1(C)CCC2(C)CCC3(C)C4=CC=C5C(=CC(=O)C(O...\n",
       "6                              C#Cc1cncc(-c2ccsc2)c1\n",
       "7  C=C(C)C(O)C(O)CC(C)C1=C2C=CC3C4(C)CCC(=O)C(C)(...\n",
       "8  CNCCCOc1c(Br)cc(-c2c[nH]c(=O)c(Cc3c[nH]c4ccccc..."
      ]
     },
     "execution_count": 21,
     "metadata": {},
     "output_type": "execute_result"
    }
   ],
   "source": [
    "SMILES"
   ]
  },
  {
   "cell_type": "code",
   "execution_count": 22,
   "metadata": {},
   "outputs": [
    {
     "data": {
      "text/plain": [
       "'O=S(=O)(Nc1ccc(CCNCC(O)COc2ccc(O)cc2)cc1)c1ccc(I)cc1'"
      ]
     },
     "execution_count": 22,
     "metadata": {},
     "output_type": "execute_result"
    }
   ],
   "source": [
    "SmilesCode[3]"
   ]
  },
  {
   "cell_type": "code",
   "execution_count": 26,
   "metadata": {},
   "outputs": [],
   "source": [
    "SML = SMILES[0].values"
   ]
  },
  {
   "cell_type": "code",
   "execution_count": 27,
   "metadata": {},
   "outputs": [
    {
     "data": {
      "text/plain": [
       "'CC(=CCCC1=CC(=O)OC1O)CC=C(C)CCC1=C(C)CCCC1(C)C'"
      ]
     },
     "execution_count": 27,
     "metadata": {},
     "output_type": "execute_result"
    }
   ],
   "source": [
    "SML[4]"
   ]
  },
  {
   "cell_type": "code",
   "execution_count": 38,
   "metadata": {},
   "outputs": [],
   "source": [
    "def formSMILESintoMOL(SML):\n",
    "    m = Chem.MolFromSmiles(SML)\n",
    "    return Descriptors.MolWt(m)"
   ]
  },
  {
   "cell_type": "code",
   "execution_count": 39,
   "metadata": {},
   "outputs": [
    {
     "ename": "TypeError",
     "evalue": "'float' object has no attribute '__getitem__'",
     "output_type": "error",
     "traceback": [
      "\u001b[1;31m---------------------------------------------------------------------------\u001b[0m",
      "\u001b[1;31mTypeError\u001b[0m                                 Traceback (most recent call last)",
      "\u001b[1;32m<ipython-input-39-c15488557e54>\u001b[0m in \u001b[0;36m<module>\u001b[1;34m()\u001b[0m\n\u001b[0;32m      2\u001b[0m \u001b[1;32mfor\u001b[0m \u001b[0mitem\u001b[0m \u001b[1;32min\u001b[0m \u001b[0mSML\u001b[0m\u001b[1;33m:\u001b[0m\u001b[1;33m\u001b[0m\u001b[0m\n\u001b[0;32m      3\u001b[0m     \u001b[0mdescriptors\u001b[0m \u001b[1;33m=\u001b[0m \u001b[0mformSMILESintoMOL\u001b[0m\u001b[1;33m(\u001b[0m\u001b[0mitem\u001b[0m\u001b[1;33m)\u001b[0m\u001b[1;33m\u001b[0m\u001b[0m\n\u001b[1;32m----> 4\u001b[1;33m     \u001b[0mresults\u001b[0m\u001b[1;33m.\u001b[0m\u001b[0mappend\u001b[0m\u001b[1;33m(\u001b[0m\u001b[1;33m[\u001b[0m\u001b[0mitem\u001b[0m\u001b[1;33m,\u001b[0m \u001b[0mdescriptors\u001b[0m\u001b[1;33m[\u001b[0m\u001b[1;36m0\u001b[0m\u001b[1;33m]\u001b[0m\u001b[1;33m]\u001b[0m\u001b[1;33m)\u001b[0m\u001b[1;33m\u001b[0m\u001b[0m\n\u001b[0m",
      "\u001b[1;31mTypeError\u001b[0m: 'float' object has no attribute '__getitem__'"
     ]
    }
   ],
   "source": [
    "results = []\n",
    "for item in SML:\n",
    "    descriptors = formSMILESintoMOL(item)\n",
    "    results.append([item, descriptors[0]])"
   ]
  },
  {
   "cell_type": "code",
   "execution_count": 30,
   "metadata": {},
   "outputs": [
    {
     "data": {
      "text/plain": [
       "array(['CNC(=S)NN=C(c1ccc(OC)c(OC)c1)c1cccc(C)n1',\n",
       "       'Cn1cc(C2=C(c3cccc(NCC(O)CO)c3)C(=O)NC2=O)c2cc(Cl)ccc21',\n",
       "       'CC(C)c1cccc(C(C)C)c1-n1sc2ncccc2c1=O',\n",
       "       'O=S(=O)(Nc1ccc(CCNCC(O)COc2ccc(O)cc2)cc1)c1ccc(I)cc1',\n",
       "       'CC(=CCCC1=CC(=O)OC1O)CC=C(C)CCC1=C(C)CCCC1(C)C',\n",
       "       'CNC(=O)C1(C)CCC2(C)CCC3(C)C4=CC=C5C(=CC(=O)C(O)=C5C)C4(C)CCC3(C)C2C1',\n",
       "       'C#Cc1cncc(-c2ccsc2)c1',\n",
       "       'C=C(C)C(O)C(O)CC(C)C1=C2C=CC3C4(C)CCC(=O)C(C)(C)C4CCC3(C)C2(C)CC1=O',\n",
       "       'CNCCCOc1c(Br)cc(-c2c[nH]c(=O)c(Cc3c[nH]c4ccccc34)n2)cc1Br'],\n",
       "      dtype=object)"
      ]
     },
     "execution_count": 30,
     "metadata": {},
     "output_type": "execute_result"
    }
   ],
   "source": [
    "SML"
   ]
  },
  {
   "cell_type": "code",
   "execution_count": 31,
   "metadata": {},
   "outputs": [],
   "source": [
    "import pandas as pd    \n",
    "import numpy as np"
   ]
  },
  {
   "cell_type": "code",
   "execution_count": 35,
   "metadata": {},
   "outputs": [],
   "source": [
    "SML1 = pd.DataFrame(SML)"
   ]
  },
  {
   "cell_type": "code",
   "execution_count": 36,
   "metadata": {},
   "outputs": [
    {
     "data": {
      "text/html": [
       "<div>\n",
       "<style scoped>\n",
       "    .dataframe tbody tr th:only-of-type {\n",
       "        vertical-align: middle;\n",
       "    }\n",
       "\n",
       "    .dataframe tbody tr th {\n",
       "        vertical-align: top;\n",
       "    }\n",
       "\n",
       "    .dataframe thead th {\n",
       "        text-align: right;\n",
       "    }\n",
       "</style>\n",
       "<table border=\"1\" class=\"dataframe\">\n",
       "  <thead>\n",
       "    <tr style=\"text-align: right;\">\n",
       "      <th></th>\n",
       "      <th>0</th>\n",
       "    </tr>\n",
       "  </thead>\n",
       "  <tbody>\n",
       "    <tr>\n",
       "      <th>0</th>\n",
       "      <td>CNC(=S)NN=C(c1ccc(OC)c(OC)c1)c1cccc(C)n1</td>\n",
       "    </tr>\n",
       "    <tr>\n",
       "      <th>1</th>\n",
       "      <td>Cn1cc(C2=C(c3cccc(NCC(O)CO)c3)C(=O)NC2=O)c2cc(...</td>\n",
       "    </tr>\n",
       "    <tr>\n",
       "      <th>2</th>\n",
       "      <td>CC(C)c1cccc(C(C)C)c1-n1sc2ncccc2c1=O</td>\n",
       "    </tr>\n",
       "    <tr>\n",
       "      <th>3</th>\n",
       "      <td>O=S(=O)(Nc1ccc(CCNCC(O)COc2ccc(O)cc2)cc1)c1ccc...</td>\n",
       "    </tr>\n",
       "    <tr>\n",
       "      <th>4</th>\n",
       "      <td>CC(=CCCC1=CC(=O)OC1O)CC=C(C)CCC1=C(C)CCCC1(C)C</td>\n",
       "    </tr>\n",
       "    <tr>\n",
       "      <th>5</th>\n",
       "      <td>CNC(=O)C1(C)CCC2(C)CCC3(C)C4=CC=C5C(=CC(=O)C(O...</td>\n",
       "    </tr>\n",
       "    <tr>\n",
       "      <th>6</th>\n",
       "      <td>C#Cc1cncc(-c2ccsc2)c1</td>\n",
       "    </tr>\n",
       "    <tr>\n",
       "      <th>7</th>\n",
       "      <td>C=C(C)C(O)C(O)CC(C)C1=C2C=CC3C4(C)CCC(=O)C(C)(...</td>\n",
       "    </tr>\n",
       "    <tr>\n",
       "      <th>8</th>\n",
       "      <td>CNCCCOc1c(Br)cc(-c2c[nH]c(=O)c(Cc3c[nH]c4ccccc...</td>\n",
       "    </tr>\n",
       "  </tbody>\n",
       "</table>\n",
       "</div>"
      ],
      "text/plain": [
       "                                                   0\n",
       "0           CNC(=S)NN=C(c1ccc(OC)c(OC)c1)c1cccc(C)n1\n",
       "1  Cn1cc(C2=C(c3cccc(NCC(O)CO)c3)C(=O)NC2=O)c2cc(...\n",
       "2               CC(C)c1cccc(C(C)C)c1-n1sc2ncccc2c1=O\n",
       "3  O=S(=O)(Nc1ccc(CCNCC(O)COc2ccc(O)cc2)cc1)c1ccc...\n",
       "4     CC(=CCCC1=CC(=O)OC1O)CC=C(C)CCC1=C(C)CCCC1(C)C\n",
       "5  CNC(=O)C1(C)CCC2(C)CCC3(C)C4=CC=C5C(=CC(=O)C(O...\n",
       "6                              C#Cc1cncc(-c2ccsc2)c1\n",
       "7  C=C(C)C(O)C(O)CC(C)C1=C2C=CC3C4(C)CCC(=O)C(C)(...\n",
       "8  CNCCCOc1c(Br)cc(-c2c[nH]c(=O)c(Cc3c[nH]c4ccccc..."
      ]
     },
     "execution_count": 36,
     "metadata": {},
     "output_type": "execute_result"
    }
   ],
   "source": [
    "SML1"
   ]
  },
  {
   "cell_type": "code",
   "execution_count": 37,
   "metadata": {},
   "outputs": [],
   "source": [
    "def formSMILESintoMOL(SML1):\n",
    "    m = Chem.MolFromSmiles(SML1)\n",
    "    return Descriptors.MolWt(m)"
   ]
  },
  {
   "cell_type": "code",
   "execution_count": 40,
   "metadata": {},
   "outputs": [
    {
     "ename": "TypeError",
     "evalue": "No registered converter was able to produce a C++ rvalue of type class std::basic_string<wchar_t,struct std::char_traits<wchar_t>,class std::allocator<wchar_t> > from this Python object of type long",
     "output_type": "error",
     "traceback": [
      "\u001b[1;31m---------------------------------------------------------------------------\u001b[0m",
      "\u001b[1;31mTypeError\u001b[0m                                 Traceback (most recent call last)",
      "\u001b[1;32m<ipython-input-40-378fd918b46d>\u001b[0m in \u001b[0;36m<module>\u001b[1;34m()\u001b[0m\n\u001b[0;32m      1\u001b[0m \u001b[0mresults\u001b[0m \u001b[1;33m=\u001b[0m \u001b[1;33m[\u001b[0m\u001b[1;33m]\u001b[0m\u001b[1;33m\u001b[0m\u001b[0m\n\u001b[0;32m      2\u001b[0m \u001b[1;32mfor\u001b[0m \u001b[0mitem\u001b[0m \u001b[1;32min\u001b[0m \u001b[0mSML1\u001b[0m\u001b[1;33m:\u001b[0m\u001b[1;33m\u001b[0m\u001b[0m\n\u001b[1;32m----> 3\u001b[1;33m     \u001b[0mdescriptors\u001b[0m \u001b[1;33m=\u001b[0m \u001b[0mformSMILESintoMOL\u001b[0m\u001b[1;33m(\u001b[0m\u001b[0mitem\u001b[0m\u001b[1;33m)\u001b[0m\u001b[1;33m\u001b[0m\u001b[0m\n\u001b[0m\u001b[0;32m      4\u001b[0m     \u001b[0mresults\u001b[0m\u001b[1;33m.\u001b[0m\u001b[0mappend\u001b[0m\u001b[1;33m(\u001b[0m\u001b[1;33m[\u001b[0m\u001b[0mitem\u001b[0m\u001b[1;33m,\u001b[0m \u001b[0mdescriptors\u001b[0m\u001b[1;33m[\u001b[0m\u001b[1;36m0\u001b[0m\u001b[1;33m]\u001b[0m\u001b[1;33m]\u001b[0m\u001b[1;33m)\u001b[0m\u001b[1;33m\u001b[0m\u001b[0m\n",
      "\u001b[1;32m<ipython-input-38-849feaba3504>\u001b[0m in \u001b[0;36mformSMILESintoMOL\u001b[1;34m(SML)\u001b[0m\n\u001b[0;32m      1\u001b[0m \u001b[1;32mdef\u001b[0m \u001b[0mformSMILESintoMOL\u001b[0m\u001b[1;33m(\u001b[0m\u001b[0mSML\u001b[0m\u001b[1;33m)\u001b[0m\u001b[1;33m:\u001b[0m\u001b[1;33m\u001b[0m\u001b[0m\n\u001b[1;32m----> 2\u001b[1;33m     \u001b[0mm\u001b[0m \u001b[1;33m=\u001b[0m \u001b[0mChem\u001b[0m\u001b[1;33m.\u001b[0m\u001b[0mMolFromSmiles\u001b[0m\u001b[1;33m(\u001b[0m\u001b[0mSML\u001b[0m\u001b[1;33m)\u001b[0m\u001b[1;33m\u001b[0m\u001b[0m\n\u001b[0m\u001b[0;32m      3\u001b[0m     \u001b[1;32mreturn\u001b[0m \u001b[0mDescriptors\u001b[0m\u001b[1;33m.\u001b[0m\u001b[0mMolWt\u001b[0m\u001b[1;33m(\u001b[0m\u001b[0mm\u001b[0m\u001b[1;33m)\u001b[0m\u001b[1;33m\u001b[0m\u001b[0m\n",
      "\u001b[1;31mTypeError\u001b[0m: No registered converter was able to produce a C++ rvalue of type class std::basic_string<wchar_t,struct std::char_traits<wchar_t>,class std::allocator<wchar_t> > from this Python object of type long"
     ]
    }
   ],
   "source": [
    "results = []\n",
    "for item in SML1:\n",
    "    descriptors = formSMILESintoMOL(item)\n",
    "    results.append([item, descriptors[0]])"
   ]
  },
  {
   "cell_type": "code",
   "execution_count": null,
   "metadata": {},
   "outputs": [],
   "source": []
  },
  {
   "cell_type": "code",
   "execution_count": null,
   "metadata": {},
   "outputs": [],
   "source": []
  },
  {
   "cell_type": "code",
   "execution_count": null,
   "metadata": {},
   "outputs": [],
   "source": []
  },
  {
   "cell_type": "code",
   "execution_count": null,
   "metadata": {},
   "outputs": [],
   "source": []
  }
 ],
 "metadata": {
  "kernelspec": {
   "display_name": "Python (testenv)",
   "language": "python",
   "name": "testenv"
  },
  "language_info": {
   "codemirror_mode": {
    "name": "ipython",
    "version": 2
   },
   "file_extension": ".py",
   "mimetype": "text/x-python",
   "name": "python",
   "nbconvert_exporter": "python",
   "pygments_lexer": "ipython2",
   "version": "2.7.16"
  }
 },
 "nbformat": 4,
 "nbformat_minor": 2
}
