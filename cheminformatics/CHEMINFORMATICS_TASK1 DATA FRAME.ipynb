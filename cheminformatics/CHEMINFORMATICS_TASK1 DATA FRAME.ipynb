{
 "cells": [
  {
   "cell_type": "code",
   "execution_count": 2,
   "metadata": {},
   "outputs": [
    {
     "ename": "ImportError",
     "evalue": "Unable to import required dependencies:\nnumpy: \n\nIMPORTANT: PLEASE READ THIS FOR ADVICE ON HOW TO SOLVE THIS ISSUE!\n\nImporting the numpy c-extensions failed.\n- Try uninstalling and reinstalling numpy.\n- If you have already done that, then:\n  1. Check that you expected to use Python3.7 from \"C:\\Users\\DamianAleksanderMiko\\Anaconda3\\envs\\testenv\\python.exe\",\n     and that you have no directories in your PATH or PYTHONPATH that can\n     interfere with the Python and numpy version \"1.17.0\" you're trying to use.\n  2. If (1) looks fine, you can open a new issue at\n     https://github.com/numpy/numpy/issues.  Please include details on:\n     - how you installed Python\n     - how you installed numpy\n     - your operating system\n     - whether or not you have multiple versions of Python installed\n     - if you built from source, your compiler versions and ideally a build log\n\n- If you're working with a numpy git repository, try `git clean -xdf`\n  (removes all files not under version control) and rebuild numpy.\n\nNote: this error has many possible causes, so please don't comment on\nan existing issue about this - open a new one instead.\n\nOriginal error was: DLL load failed: Nie można odnaleźć określonego modułu.\n",
     "output_type": "error",
     "traceback": [
      "\u001b[1;31m---------------------------------------------------------------------------\u001b[0m",
      "\u001b[1;31mImportError\u001b[0m                               Traceback (most recent call last)",
      "\u001b[1;32m<ipython-input-2-7dd3504c366f>\u001b[0m in \u001b[0;36m<module>\u001b[1;34m\u001b[0m\n\u001b[1;32m----> 1\u001b[1;33m \u001b[1;32mimport\u001b[0m \u001b[0mpandas\u001b[0m \u001b[1;32mas\u001b[0m \u001b[0mpd\u001b[0m\u001b[1;33m\u001b[0m\u001b[1;33m\u001b[0m\u001b[0m\n\u001b[0m",
      "\u001b[1;32m~\\Anaconda3\\envs\\testenv\\lib\\site-packages\\pandas\\__init__.py\u001b[0m in \u001b[0;36m<module>\u001b[1;34m\u001b[0m\n\u001b[0;32m     15\u001b[0m \u001b[1;32mif\u001b[0m \u001b[0mmissing_dependencies\u001b[0m\u001b[1;33m:\u001b[0m\u001b[1;33m\u001b[0m\u001b[1;33m\u001b[0m\u001b[0m\n\u001b[0;32m     16\u001b[0m     raise ImportError(\n\u001b[1;32m---> 17\u001b[1;33m         \u001b[1;34m\"Unable to import required dependencies:\\n\"\u001b[0m \u001b[1;33m+\u001b[0m \u001b[1;34m\"\\n\"\u001b[0m\u001b[1;33m.\u001b[0m\u001b[0mjoin\u001b[0m\u001b[1;33m(\u001b[0m\u001b[0mmissing_dependencies\u001b[0m\u001b[1;33m)\u001b[0m\u001b[1;33m\u001b[0m\u001b[1;33m\u001b[0m\u001b[0m\n\u001b[0m\u001b[0;32m     18\u001b[0m     )\n\u001b[0;32m     19\u001b[0m \u001b[1;32mdel\u001b[0m \u001b[0mhard_dependencies\u001b[0m\u001b[1;33m,\u001b[0m \u001b[0mdependency\u001b[0m\u001b[1;33m,\u001b[0m \u001b[0mmissing_dependencies\u001b[0m\u001b[1;33m\u001b[0m\u001b[1;33m\u001b[0m\u001b[0m\n",
      "\u001b[1;31mImportError\u001b[0m: Unable to import required dependencies:\nnumpy: \n\nIMPORTANT: PLEASE READ THIS FOR ADVICE ON HOW TO SOLVE THIS ISSUE!\n\nImporting the numpy c-extensions failed.\n- Try uninstalling and reinstalling numpy.\n- If you have already done that, then:\n  1. Check that you expected to use Python3.7 from \"C:\\Users\\DamianAleksanderMiko\\Anaconda3\\envs\\testenv\\python.exe\",\n     and that you have no directories in your PATH or PYTHONPATH that can\n     interfere with the Python and numpy version \"1.17.0\" you're trying to use.\n  2. If (1) looks fine, you can open a new issue at\n     https://github.com/numpy/numpy/issues.  Please include details on:\n     - how you installed Python\n     - how you installed numpy\n     - your operating system\n     - whether or not you have multiple versions of Python installed\n     - if you built from source, your compiler versions and ideally a build log\n\n- If you're working with a numpy git repository, try `git clean -xdf`\n  (removes all files not under version control) and rebuild numpy.\n\nNote: this error has many possible causes, so please don't comment on\nan existing issue about this - open a new one instead.\n\nOriginal error was: DLL load failed: Nie można odnaleźć określonego modułu.\n"
     ]
    }
   ],
   "source": [
    "import pandas as pd"
   ]
  },
  {
   "cell_type": "code",
   "execution_count": 3,
   "metadata": {},
   "outputs": [
    {
     "ename": "NameError",
     "evalue": "name 'pandas' is not defined",
     "output_type": "error",
     "traceback": [
      "\u001b[1;31m---------------------------------------------------------------------------\u001b[0m",
      "\u001b[1;31mNameError\u001b[0m                                 Traceback (most recent call last)",
      "\u001b[1;32m<ipython-input-3-8da8ac5c135d>\u001b[0m in \u001b[0;36m<module>\u001b[1;34m\u001b[0m\n\u001b[1;32m----> 1\u001b[1;33m \u001b[0mdf\u001b[0m \u001b[1;33m=\u001b[0m \u001b[0mpandas\u001b[0m\u001b[1;33m.\u001b[0m\u001b[0mDataFrame\u001b[0m\u001b[1;33m(\u001b[0m\u001b[0mnone\u001b[0m\u001b[1;33m)\u001b[0m\u001b[1;33m\u001b[0m\u001b[1;33m\u001b[0m\u001b[0m\n\u001b[0m",
      "\u001b[1;31mNameError\u001b[0m: name 'pandas' is not defined"
     ]
    }
   ],
   "source": [
    "df = pandas.DataFrame(none)"
   ]
  },
  {
   "cell_type": "code",
   "execution_count": 1,
   "metadata": {},
   "outputs": [],
   "source": [
    "import pandas as pd"
   ]
  },
  {
   "cell_type": "markdown",
   "metadata": {},
   "source": [
    "yeee, it is working now "
   ]
  },
  {
   "cell_type": "code",
   "execution_count": 4,
   "metadata": {},
   "outputs": [],
   "source": [
    "lst = ['1522827', '612901', '171018', '11414', '135826', '1840523', '1973470', '1970195', '1576644']"
   ]
  },
  {
   "cell_type": "code",
   "execution_count": 5,
   "metadata": {},
   "outputs": [
    {
     "name": "stdout",
     "output_type": "stream",
     "text": [
      "         0\n",
      "0  1522827\n",
      "1   612901\n",
      "2   171018\n",
      "3    11414\n",
      "4   135826\n",
      "5  1840523\n",
      "6  1973470\n",
      "7  1970195\n",
      "8  1576644\n"
     ]
    }
   ],
   "source": [
    "df = pd.DataFrame(lst)\n",
    "print(df)"
   ]
  },
  {
   "cell_type": "code",
   "execution_count": 1,
   "metadata": {},
   "outputs": [
    {
     "ename": "SyntaxError",
     "evalue": "unexpected character after line continuation character (<ipython-input-1-99b96f6318a7>, line 3)",
     "output_type": "error",
     "traceback": [
      "\u001b[1;36m  File \u001b[1;32m\"<ipython-input-1-99b96f6318a7>\"\u001b[1;36m, line \u001b[1;32m3\u001b[0m\n\u001b[1;33m    'chemblSmiles':['CNC(=S)N'\\'N=C(\\c1ccc(OC)c(OC)c1)/c2cccc(C)n2', 'Cn1cc(C2=C(C(=O)NC2=O)c3cccc(NCC(O)CO)c3)c4cc(Cl)ccc14', 'CC(C)c1cccc(C(C)C)c1N2Sc3ncccc3C2=O', 'O[C@@H](CNCCc1ccc(NS(=O)(=O)c2ccc(I)cc2)cc1)COc3ccc(O)cc3', 'C\\C(=C/C\\C(=C\\CCC1=CC(=O)OC1O)\\C)\\CCC2=C(C)CCCC2(C)C', 'CNC(=O)[C@]1(C)CC[C@]2(C)CC[C@]3(C)C4=CC=C5C(=C(O)C(=O)C=C5[C@]4(C)CC[C@@]3(C)[C@@H]2C1)C', 'C#Cc1cncc(c1)c2ccsc2', 'C[C@H](C[C@H](O)[C@H](O)C(=C)C)C1=C2C=C[C@H]3[C@@]4(C)CCC(=O)C(C)(C)[C@@H]4CC[C@]3(C)[C@@]2(C)CC1=O', 'CNCCCOc1c(Br)cc(cc1Br)C2=CNC(=O)C(=N2)Cc3c[nH]c4ccccc34']}\u001b[0m\n\u001b[1;37m                                                                                                                                                                                                                                                                                                                                                                                                                                                                                                                                                                                  ^\u001b[0m\n\u001b[1;31mSyntaxError\u001b[0m\u001b[1;31m:\u001b[0m unexpected character after line continuation character\n"
     ]
    }
   ],
   "source": [
    "data = {'molregNoMin':['1522827', '612901', '171018', '11414', '135826', '1840523', '1973470', '1970195', '1576644'], \n",
    "       'molregNoCount':['2', '2', '1', '4', '1', '5', '1', '1', '3'], \n",
    "       'chemblSmiles':['CNC(=S)N'\\'N=C(\\c1ccc(OC)c(OC)c1)/c2cccc(C)n2', 'Cn1cc(C2=C(C(=O)NC2=O)c3cccc(NCC(O)CO)c3)c4cc(Cl)ccc14', 'CC(C)c1cccc(C(C)C)c1N2Sc3ncccc3C2=O', 'O[C@@H](CNCCc1ccc(NS(=O)(=O)c2ccc(I)cc2)cc1)COc3ccc(O)cc3', 'C\\C(=C/C\\C(=C\\CCC1=CC(=O)OC1O)\\C)\\CCC2=C(C)CCCC2(C)C', 'CNC(=O)[C@]1(C)CC[C@]2(C)CC[C@]3(C)C4=CC=C5C(=C(O)C(=O)C=C5[C@]4(C)CC[C@@]3(C)[C@@H]2C1)C', 'C#Cc1cncc(c1)c2ccsc2', 'C[C@H](C[C@H](O)[C@H](O)C(=C)C)C1=C2C=C[C@H]3[C@@]4(C)CCC(=O)C(C)(C)[C@@H]4CC[C@]3(C)[C@@]2(C)CC1=O', 'CNCCCOc1c(Br)cc(cc1Br)C2=CNC(=O)C(=N2)Cc3c[nH]c4ccccc34']}"
   ]
  },
  {
   "cell_type": "code",
   "execution_count": 11,
   "metadata": {},
   "outputs": [
    {
     "ename": "ValueError",
     "evalue": "Index Name invalid",
     "output_type": "error",
     "traceback": [
      "\u001b[1;31m---------------------------------------------------------------------------\u001b[0m",
      "\u001b[1;31mValueError\u001b[0m                                Traceback (most recent call last)",
      "\u001b[1;32m<ipython-input-11-645cb08a90d5>\u001b[0m in \u001b[0;36m<module>\u001b[1;34m\u001b[0m\n\u001b[1;32m----> 1\u001b[1;33m \u001b[0mdata\u001b[0m \u001b[1;33m=\u001b[0m \u001b[0mpd\u001b[0m\u001b[1;33m.\u001b[0m\u001b[0mread_csv\u001b[0m\u001b[1;33m(\u001b[0m\u001b[1;34m\"sampleMolecules.csv\"\u001b[0m\u001b[1;33m,\u001b[0m \u001b[0mindex_col\u001b[0m \u001b[1;33m=\u001b[0m \u001b[1;34m\"Name\"\u001b[0m\u001b[1;33m)\u001b[0m\u001b[1;33m\u001b[0m\u001b[1;33m\u001b[0m\u001b[0m\n\u001b[0m",
      "\u001b[1;32m~\\Anaconda3\\envs\\testenv\\lib\\site-packages\\pandas\\io\\parsers.py\u001b[0m in \u001b[0;36mparser_f\u001b[1;34m(filepath_or_buffer, sep, delimiter, header, names, index_col, usecols, squeeze, prefix, mangle_dupe_cols, dtype, engine, converters, true_values, false_values, skipinitialspace, skiprows, skipfooter, nrows, na_values, keep_default_na, na_filter, verbose, skip_blank_lines, parse_dates, infer_datetime_format, keep_date_col, date_parser, dayfirst, cache_dates, iterator, chunksize, compression, thousands, decimal, lineterminator, quotechar, quoting, doublequote, escapechar, comment, encoding, dialect, error_bad_lines, warn_bad_lines, delim_whitespace, low_memory, memory_map, float_precision)\u001b[0m\n\u001b[0;32m    683\u001b[0m         )\n\u001b[0;32m    684\u001b[0m \u001b[1;33m\u001b[0m\u001b[0m\n\u001b[1;32m--> 685\u001b[1;33m         \u001b[1;32mreturn\u001b[0m \u001b[0m_read\u001b[0m\u001b[1;33m(\u001b[0m\u001b[0mfilepath_or_buffer\u001b[0m\u001b[1;33m,\u001b[0m \u001b[0mkwds\u001b[0m\u001b[1;33m)\u001b[0m\u001b[1;33m\u001b[0m\u001b[1;33m\u001b[0m\u001b[0m\n\u001b[0m\u001b[0;32m    686\u001b[0m \u001b[1;33m\u001b[0m\u001b[0m\n\u001b[0;32m    687\u001b[0m     \u001b[0mparser_f\u001b[0m\u001b[1;33m.\u001b[0m\u001b[0m__name__\u001b[0m \u001b[1;33m=\u001b[0m \u001b[0mname\u001b[0m\u001b[1;33m\u001b[0m\u001b[1;33m\u001b[0m\u001b[0m\n",
      "\u001b[1;32m~\\Anaconda3\\envs\\testenv\\lib\\site-packages\\pandas\\io\\parsers.py\u001b[0m in \u001b[0;36m_read\u001b[1;34m(filepath_or_buffer, kwds)\u001b[0m\n\u001b[0;32m    461\u001b[0m \u001b[1;33m\u001b[0m\u001b[0m\n\u001b[0;32m    462\u001b[0m     \u001b[1;32mtry\u001b[0m\u001b[1;33m:\u001b[0m\u001b[1;33m\u001b[0m\u001b[1;33m\u001b[0m\u001b[0m\n\u001b[1;32m--> 463\u001b[1;33m         \u001b[0mdata\u001b[0m \u001b[1;33m=\u001b[0m \u001b[0mparser\u001b[0m\u001b[1;33m.\u001b[0m\u001b[0mread\u001b[0m\u001b[1;33m(\u001b[0m\u001b[0mnrows\u001b[0m\u001b[1;33m)\u001b[0m\u001b[1;33m\u001b[0m\u001b[1;33m\u001b[0m\u001b[0m\n\u001b[0m\u001b[0;32m    464\u001b[0m     \u001b[1;32mfinally\u001b[0m\u001b[1;33m:\u001b[0m\u001b[1;33m\u001b[0m\u001b[1;33m\u001b[0m\u001b[0m\n\u001b[0;32m    465\u001b[0m         \u001b[0mparser\u001b[0m\u001b[1;33m.\u001b[0m\u001b[0mclose\u001b[0m\u001b[1;33m(\u001b[0m\u001b[1;33m)\u001b[0m\u001b[1;33m\u001b[0m\u001b[1;33m\u001b[0m\u001b[0m\n",
      "\u001b[1;32m~\\Anaconda3\\envs\\testenv\\lib\\site-packages\\pandas\\io\\parsers.py\u001b[0m in \u001b[0;36mread\u001b[1;34m(self, nrows)\u001b[0m\n\u001b[0;32m   1152\u001b[0m     \u001b[1;32mdef\u001b[0m \u001b[0mread\u001b[0m\u001b[1;33m(\u001b[0m\u001b[0mself\u001b[0m\u001b[1;33m,\u001b[0m \u001b[0mnrows\u001b[0m\u001b[1;33m=\u001b[0m\u001b[1;32mNone\u001b[0m\u001b[1;33m)\u001b[0m\u001b[1;33m:\u001b[0m\u001b[1;33m\u001b[0m\u001b[1;33m\u001b[0m\u001b[0m\n\u001b[0;32m   1153\u001b[0m         \u001b[0mnrows\u001b[0m \u001b[1;33m=\u001b[0m \u001b[0m_validate_integer\u001b[0m\u001b[1;33m(\u001b[0m\u001b[1;34m\"nrows\"\u001b[0m\u001b[1;33m,\u001b[0m \u001b[0mnrows\u001b[0m\u001b[1;33m)\u001b[0m\u001b[1;33m\u001b[0m\u001b[1;33m\u001b[0m\u001b[0m\n\u001b[1;32m-> 1154\u001b[1;33m         \u001b[0mret\u001b[0m \u001b[1;33m=\u001b[0m \u001b[0mself\u001b[0m\u001b[1;33m.\u001b[0m\u001b[0m_engine\u001b[0m\u001b[1;33m.\u001b[0m\u001b[0mread\u001b[0m\u001b[1;33m(\u001b[0m\u001b[0mnrows\u001b[0m\u001b[1;33m)\u001b[0m\u001b[1;33m\u001b[0m\u001b[1;33m\u001b[0m\u001b[0m\n\u001b[0m\u001b[0;32m   1155\u001b[0m \u001b[1;33m\u001b[0m\u001b[0m\n\u001b[0;32m   1156\u001b[0m         \u001b[1;31m# May alter columns / col_dict\u001b[0m\u001b[1;33m\u001b[0m\u001b[1;33m\u001b[0m\u001b[1;33m\u001b[0m\u001b[0m\n",
      "\u001b[1;32m~\\Anaconda3\\envs\\testenv\\lib\\site-packages\\pandas\\io\\parsers.py\u001b[0m in \u001b[0;36mread\u001b[1;34m(self, nrows)\u001b[0m\n\u001b[0;32m   2122\u001b[0m \u001b[1;33m\u001b[0m\u001b[0m\n\u001b[0;32m   2123\u001b[0m             \u001b[0mnames\u001b[0m\u001b[1;33m,\u001b[0m \u001b[0mdata\u001b[0m \u001b[1;33m=\u001b[0m \u001b[0mself\u001b[0m\u001b[1;33m.\u001b[0m\u001b[0m_do_date_conversions\u001b[0m\u001b[1;33m(\u001b[0m\u001b[0mnames\u001b[0m\u001b[1;33m,\u001b[0m \u001b[0mdata\u001b[0m\u001b[1;33m)\u001b[0m\u001b[1;33m\u001b[0m\u001b[1;33m\u001b[0m\u001b[0m\n\u001b[1;32m-> 2124\u001b[1;33m             \u001b[0mindex\u001b[0m\u001b[1;33m,\u001b[0m \u001b[0mnames\u001b[0m \u001b[1;33m=\u001b[0m \u001b[0mself\u001b[0m\u001b[1;33m.\u001b[0m\u001b[0m_make_index\u001b[0m\u001b[1;33m(\u001b[0m\u001b[0mdata\u001b[0m\u001b[1;33m,\u001b[0m \u001b[0malldata\u001b[0m\u001b[1;33m,\u001b[0m \u001b[0mnames\u001b[0m\u001b[1;33m)\u001b[0m\u001b[1;33m\u001b[0m\u001b[1;33m\u001b[0m\u001b[0m\n\u001b[0m\u001b[0;32m   2125\u001b[0m \u001b[1;33m\u001b[0m\u001b[0m\n\u001b[0;32m   2126\u001b[0m         \u001b[1;31m# maybe create a mi on the columns\u001b[0m\u001b[1;33m\u001b[0m\u001b[1;33m\u001b[0m\u001b[1;33m\u001b[0m\u001b[0m\n",
      "\u001b[1;32m~\\Anaconda3\\envs\\testenv\\lib\\site-packages\\pandas\\io\\parsers.py\u001b[0m in \u001b[0;36m_make_index\u001b[1;34m(self, data, alldata, columns, indexnamerow)\u001b[0m\n\u001b[0;32m   1566\u001b[0m \u001b[1;33m\u001b[0m\u001b[0m\n\u001b[0;32m   1567\u001b[0m         \u001b[1;32melif\u001b[0m \u001b[1;32mnot\u001b[0m \u001b[0mself\u001b[0m\u001b[1;33m.\u001b[0m\u001b[0m_has_complex_date_col\u001b[0m\u001b[1;33m:\u001b[0m\u001b[1;33m\u001b[0m\u001b[1;33m\u001b[0m\u001b[0m\n\u001b[1;32m-> 1568\u001b[1;33m             \u001b[0mindex\u001b[0m \u001b[1;33m=\u001b[0m \u001b[0mself\u001b[0m\u001b[1;33m.\u001b[0m\u001b[0m_get_simple_index\u001b[0m\u001b[1;33m(\u001b[0m\u001b[0malldata\u001b[0m\u001b[1;33m,\u001b[0m \u001b[0mcolumns\u001b[0m\u001b[1;33m)\u001b[0m\u001b[1;33m\u001b[0m\u001b[1;33m\u001b[0m\u001b[0m\n\u001b[0m\u001b[0;32m   1569\u001b[0m             \u001b[0mindex\u001b[0m \u001b[1;33m=\u001b[0m \u001b[0mself\u001b[0m\u001b[1;33m.\u001b[0m\u001b[0m_agg_index\u001b[0m\u001b[1;33m(\u001b[0m\u001b[0mindex\u001b[0m\u001b[1;33m)\u001b[0m\u001b[1;33m\u001b[0m\u001b[1;33m\u001b[0m\u001b[0m\n\u001b[0;32m   1570\u001b[0m         \u001b[1;32melif\u001b[0m \u001b[0mself\u001b[0m\u001b[1;33m.\u001b[0m\u001b[0m_has_complex_date_col\u001b[0m\u001b[1;33m:\u001b[0m\u001b[1;33m\u001b[0m\u001b[1;33m\u001b[0m\u001b[0m\n",
      "\u001b[1;32m~\\Anaconda3\\envs\\testenv\\lib\\site-packages\\pandas\\io\\parsers.py\u001b[0m in \u001b[0;36m_get_simple_index\u001b[1;34m(self, data, columns)\u001b[0m\n\u001b[0;32m   1598\u001b[0m         \u001b[0mindex\u001b[0m \u001b[1;33m=\u001b[0m \u001b[1;33m[\u001b[0m\u001b[1;33m]\u001b[0m\u001b[1;33m\u001b[0m\u001b[1;33m\u001b[0m\u001b[0m\n\u001b[0;32m   1599\u001b[0m         \u001b[1;32mfor\u001b[0m \u001b[0midx\u001b[0m \u001b[1;32min\u001b[0m \u001b[0mself\u001b[0m\u001b[1;33m.\u001b[0m\u001b[0mindex_col\u001b[0m\u001b[1;33m:\u001b[0m\u001b[1;33m\u001b[0m\u001b[1;33m\u001b[0m\u001b[0m\n\u001b[1;32m-> 1600\u001b[1;33m             \u001b[0mi\u001b[0m \u001b[1;33m=\u001b[0m \u001b[0mix\u001b[0m\u001b[1;33m(\u001b[0m\u001b[0midx\u001b[0m\u001b[1;33m)\u001b[0m\u001b[1;33m\u001b[0m\u001b[1;33m\u001b[0m\u001b[0m\n\u001b[0m\u001b[0;32m   1601\u001b[0m             \u001b[0mto_remove\u001b[0m\u001b[1;33m.\u001b[0m\u001b[0mappend\u001b[0m\u001b[1;33m(\u001b[0m\u001b[0mi\u001b[0m\u001b[1;33m)\u001b[0m\u001b[1;33m\u001b[0m\u001b[1;33m\u001b[0m\u001b[0m\n\u001b[0;32m   1602\u001b[0m             \u001b[0mindex\u001b[0m\u001b[1;33m.\u001b[0m\u001b[0mappend\u001b[0m\u001b[1;33m(\u001b[0m\u001b[0mdata\u001b[0m\u001b[1;33m[\u001b[0m\u001b[0mi\u001b[0m\u001b[1;33m]\u001b[0m\u001b[1;33m)\u001b[0m\u001b[1;33m\u001b[0m\u001b[1;33m\u001b[0m\u001b[0m\n",
      "\u001b[1;32m~\\Anaconda3\\envs\\testenv\\lib\\site-packages\\pandas\\io\\parsers.py\u001b[0m in \u001b[0;36mix\u001b[1;34m(col)\u001b[0m\n\u001b[0;32m   1593\u001b[0m             \u001b[1;32mif\u001b[0m \u001b[1;32mnot\u001b[0m \u001b[0misinstance\u001b[0m\u001b[1;33m(\u001b[0m\u001b[0mcol\u001b[0m\u001b[1;33m,\u001b[0m \u001b[0mstr\u001b[0m\u001b[1;33m)\u001b[0m\u001b[1;33m:\u001b[0m\u001b[1;33m\u001b[0m\u001b[1;33m\u001b[0m\u001b[0m\n\u001b[0;32m   1594\u001b[0m                 \u001b[1;32mreturn\u001b[0m \u001b[0mcol\u001b[0m\u001b[1;33m\u001b[0m\u001b[1;33m\u001b[0m\u001b[0m\n\u001b[1;32m-> 1595\u001b[1;33m             \u001b[1;32mraise\u001b[0m \u001b[0mValueError\u001b[0m\u001b[1;33m(\u001b[0m\u001b[1;34m\"Index {col} invalid\"\u001b[0m\u001b[1;33m.\u001b[0m\u001b[0mformat\u001b[0m\u001b[1;33m(\u001b[0m\u001b[0mcol\u001b[0m\u001b[1;33m=\u001b[0m\u001b[0mcol\u001b[0m\u001b[1;33m)\u001b[0m\u001b[1;33m)\u001b[0m\u001b[1;33m\u001b[0m\u001b[1;33m\u001b[0m\u001b[0m\n\u001b[0m\u001b[0;32m   1596\u001b[0m \u001b[1;33m\u001b[0m\u001b[0m\n\u001b[0;32m   1597\u001b[0m         \u001b[0mto_remove\u001b[0m \u001b[1;33m=\u001b[0m \u001b[1;33m[\u001b[0m\u001b[1;33m]\u001b[0m\u001b[1;33m\u001b[0m\u001b[1;33m\u001b[0m\u001b[0m\n",
      "\u001b[1;31mValueError\u001b[0m: Index Name invalid"
     ]
    }
   ],
   "source": [
    "data = pd.read_csv(\"sampleMolecules.csv\", index_col = \"chemblSmiles\")"
   ]
  },
  {
   "cell_type": "code",
   "execution_count": 12,
   "metadata": {},
   "outputs": [],
   "source": [
    "import pandas as pd"
   ]
  },
  {
   "cell_type": "code",
   "execution_count": 13,
   "metadata": {},
   "outputs": [],
   "source": [
    "data = {'Name':['Jai', 'Princi', 'Gaurav', 'Anuj'],\n",
    "        'Age':[27, 24, 22, 32],\n",
    "        'Address':['Delhi', 'Kanpur', 'Allahabad', 'Kannauj'],\n",
    "        'Qualification':['Msc', 'MA', 'MCA', 'Phd']}"
   ]
  },
  {
   "cell_type": "code",
   "execution_count": 14,
   "metadata": {},
   "outputs": [],
   "source": [
    "df = pd.DataFrame(data)"
   ]
  },
  {
   "cell_type": "code",
   "execution_count": 15,
   "metadata": {},
   "outputs": [
    {
     "name": "stdout",
     "output_type": "stream",
     "text": [
      "     Name  Age\n",
      "0     Jai   27\n",
      "1  Princi   24\n",
      "2  Gaurav   22\n",
      "3    Anuj   32\n"
     ]
    }
   ],
   "source": [
    "print(df[['Name', 'Age']])"
   ]
  },
  {
   "cell_type": "code",
   "execution_count": 17,
   "metadata": {},
   "outputs": [],
   "source": [
    "data = {'molregNoMin':['1522827', '612901', '171018', '11414', '135826', '1840523', '1973470', '1970195', '1576644'], \n",
    "       'molregNoCount':['2', '2', '1', '4', '1', '5', '1', '1', '3']}"
   ]
  },
  {
   "cell_type": "code",
   "execution_count": 18,
   "metadata": {},
   "outputs": [
    {
     "name": "stdout",
     "output_type": "stream",
     "text": [
      "{'molregNoMin': ['1522827', '612901', '171018', '11414', '135826', '1840523', '1973470', '1970195', '1576644'], 'molregNoCount': ['2', '2', '1', '4', '1', '5', '1', '1', '3']}\n"
     ]
    }
   ],
   "source": [
    "print(data)"
   ]
  },
  {
   "cell_type": "code",
   "execution_count": 19,
   "metadata": {},
   "outputs": [],
   "source": [
    "df = pd.DataFrame(data)"
   ]
  },
  {
   "cell_type": "code",
   "execution_count": 20,
   "metadata": {},
   "outputs": [
    {
     "name": "stdout",
     "output_type": "stream",
     "text": [
      "  molregNoMin molregNoCount\n",
      "0     1522827             2\n",
      "1      612901             2\n",
      "2      171018             1\n",
      "3       11414             4\n",
      "4      135826             1\n",
      "5     1840523             5\n",
      "6     1973470             1\n",
      "7     1970195             1\n",
      "8     1576644             3\n"
     ]
    }
   ],
   "source": [
    "print(df)"
   ]
  },
  {
   "cell_type": "code",
   "execution_count": 21,
   "metadata": {},
   "outputs": [],
   "source": [
    "data = pd.read_csv(\"sampleMolecules.csv\", index_col = \"chemblSmiles\")"
   ]
  },
  {
   "cell_type": "code",
   "execution_count": 22,
   "metadata": {},
   "outputs": [],
   "source": [
    "df = pd.DataFrame(data)"
   ]
  },
  {
   "cell_type": "code",
   "execution_count": 23,
   "metadata": {},
   "outputs": [
    {
     "name": "stdout",
     "output_type": "stream",
     "text": [
      "                                                    molregNoMin  \\\n",
      "chemblSmiles                                                      \n",
      "CNC(=S)N\\N=C(\\c1ccc(OC)c(OC)c1)/c2cccc(C)n2             1522827   \n",
      "Cn1cc(C2=C(C(=O)NC2=O)c3cccc(NCC(O)CO)c3)c4cc(C...       612901   \n",
      "CC(C)c1cccc(C(C)C)c1N2Sc3ncccc3C2=O                      171018   \n",
      "O[C@@H](CNCCc1ccc(NS(=O)(=O)c2ccc(I)cc2)cc1)COc...        11414   \n",
      "C\\C(=C/C\\C(=C\\CCC1=CC(=O)OC1O)\\C)\\CCC2=C(C)CCCC...       135826   \n",
      "CNC(=O)[C@]1(C)CC[C@]2(C)CC[C@]3(C)C4=CC=C5C(=C...      1840523   \n",
      "C#Cc1cncc(c1)c2ccsc2                                    1973470   \n",
      "C[C@H](C[C@H](O)[C@H](O)C(=C)C)C1=C2C=C[C@H]3[C...      1970195   \n",
      "CNCCCOc1c(Br)cc(cc1Br)C2=CNC(=O)C(=N2)Cc3c[nH]c...      1576644   \n",
      "\n",
      "                                                    molregNoCount  \\\n",
      "chemblSmiles                                                        \n",
      "CNC(=S)N\\N=C(\\c1ccc(OC)c(OC)c1)/c2cccc(C)n2                     2   \n",
      "Cn1cc(C2=C(C(=O)NC2=O)c3cccc(NCC(O)CO)c3)c4cc(C...              2   \n",
      "CC(C)c1cccc(C(C)C)c1N2Sc3ncccc3C2=O                             1   \n",
      "O[C@@H](CNCCc1ccc(NS(=O)(=O)c2ccc(I)cc2)cc1)COc...              4   \n",
      "C\\C(=C/C\\C(=C\\CCC1=CC(=O)OC1O)\\C)\\CCC2=C(C)CCCC...              1   \n",
      "CNC(=O)[C@]1(C)CC[C@]2(C)CC[C@]3(C)C4=CC=C5C(=C...              5   \n",
      "C#Cc1cncc(c1)c2ccsc2                                            1   \n",
      "C[C@H](C[C@H](O)[C@H](O)C(=C)C)C1=C2C=C[C@H]3[C...              1   \n",
      "CNCCCOc1c(Br)cc(cc1Br)C2=CNC(=O)C(=N2)Cc3c[nH]c...              3   \n",
      "\n",
      "                                                    standardMin  standardMax  \\\n",
      "chemblSmiles                                                                   \n",
      "CNC(=S)N\\N=C(\\c1ccc(OC)c(OC)c1)/c2cccc(C)n2              6250.0       6250.0   \n",
      "Cn1cc(C2=C(C(=O)NC2=O)c3cccc(NCC(O)CO)c3)c4cc(C...          0.4        260.0   \n",
      "CC(C)c1cccc(C(C)C)c1N2Sc3ncccc3C2=O                     12000.0      12000.0   \n",
      "O[C@@H](CNCCc1ccc(NS(=O)(=O)c2ccc(I)cc2)cc1)COc...        120.0        170.0   \n",
      "C\\C(=C/C\\C(=C\\CCC1=CC(=O)OC1O)\\C)\\CCC2=C(C)CCCC...     990000.0     990000.0   \n",
      "CNC(=O)[C@]1(C)CC[C@]2(C)CC[C@]3(C)C4=CC=C5C(=C...       7620.0      24100.0   \n",
      "C#Cc1cncc(c1)c2ccsc2                                    12900.0      12900.0   \n",
      "C[C@H](C[C@H](O)[C@H](O)C(=C)C)C1=C2C=C[C@H]3[C...       8680.0       8680.0   \n",
      "CNCCCOc1c(Br)cc(cc1Br)C2=CNC(=O)C(=N2)Cc3c[nH]c...       4000.0       5770.0   \n",
      "\n",
      "                                                    standardMean  \\\n",
      "chemblSmiles                                                       \n",
      "CNC(=S)N\\N=C(\\c1ccc(OC)c(OC)c1)/c2cccc(C)n2               6250.0   \n",
      "Cn1cc(C2=C(C(=O)NC2=O)c3cccc(NCC(O)CO)c3)c4cc(C...         130.2   \n",
      "CC(C)c1cccc(C(C)C)c1N2Sc3ncccc3C2=O                      12000.0   \n",
      "O[C@@H](CNCCc1ccc(NS(=O)(=O)c2ccc(I)cc2)cc1)COc...         145.0   \n",
      "C\\C(=C/C\\C(=C\\CCC1=CC(=O)OC1O)\\C)\\CCC2=C(C)CCCC...      990000.0   \n",
      "CNC(=O)[C@]1(C)CC[C@]2(C)CC[C@]3(C)C4=CC=C5C(=C...       13360.0   \n",
      "C#Cc1cncc(c1)c2ccsc2                                     12900.0   \n",
      "C[C@H](C[C@H](O)[C@H](O)C(=C)C)C1=C2C=C[C@H]3[C...        8680.0   \n",
      "CNCCCOc1c(Br)cc(cc1Br)C2=CNC(=O)C(=N2)Cc3c[nH]c...        4700.0   \n",
      "\n",
      "                                                    publishedMain  \\\n",
      "chemblSmiles                                                        \n",
      "CNC(=S)N\\N=C(\\c1ccc(OC)c(OC)c1)/c2cccc(C)n2                  6.25   \n",
      "Cn1cc(C2=C(C(=O)NC2=O)c3cccc(NCC(O)CO)c3)c4cc(C...           0.40   \n",
      "CC(C)c1cccc(C(C)C)c1N2Sc3ncccc3C2=O                         12.00   \n",
      "O[C@@H](CNCCc1ccc(NS(=O)(=O)c2ccc(I)cc2)cc1)COc...         120.00   \n",
      "C\\C(=C/C\\C(=C\\CCC1=CC(=O)OC1O)\\C)\\CCC2=C(C)CCCC...         990.00   \n",
      "CNC(=O)[C@]1(C)CC[C@]2(C)CC[C@]3(C)C4=CC=C5C(=C...           7.62   \n",
      "C#Cc1cncc(c1)c2ccsc2                                     12900.00   \n",
      "C[C@H](C[C@H](O)[C@H](O)C(=C)C)C1=C2C=C[C@H]3[C...           8.68   \n",
      "CNCCCOc1c(Br)cc(cc1Br)C2=CNC(=O)C(=N2)Cc3c[nH]c...           4.00   \n",
      "\n",
      "                                                    publishedMax  \\\n",
      "chemblSmiles                                                       \n",
      "CNC(=S)N\\N=C(\\c1ccc(OC)c(OC)c1)/c2cccc(C)n2                 6.25   \n",
      "Cn1cc(C2=C(C(=O)NC2=O)c3cccc(NCC(O)CO)c3)c4cc(C...        260.00   \n",
      "CC(C)c1cccc(C(C)C)c1N2Sc3ncccc3C2=O                        12.00   \n",
      "O[C@@H](CNCCc1ccc(NS(=O)(=O)c2ccc(I)cc2)cc1)COc...        170.00   \n",
      "C\\C(=C/C\\C(=C\\CCC1=CC(=O)OC1O)\\C)\\CCC2=C(C)CCCC...        990.00   \n",
      "CNC(=O)[C@]1(C)CC[C@]2(C)CC[C@]3(C)C4=CC=C5C(=C...         24.10   \n",
      "C#Cc1cncc(c1)c2ccsc2                                    12900.00   \n",
      "C[C@H](C[C@H](O)[C@H](O)C(=C)C)C1=C2C=C[C@H]3[C...          8.68   \n",
      "CNCCCOc1c(Br)cc(cc1Br)C2=CNC(=O)C(=N2)Cc3c[nH]c...          5.77   \n",
      "\n",
      "                                                    publishedMean  \\\n",
      "chemblSmiles                                                        \n",
      "CNC(=S)N\\N=C(\\c1ccc(OC)c(OC)c1)/c2cccc(C)n2                  6.25   \n",
      "Cn1cc(C2=C(C(=O)NC2=O)c3cccc(NCC(O)CO)c3)c4cc(C...         130.20   \n",
      "CC(C)c1cccc(C(C)C)c1N2Sc3ncccc3C2=O                         12.00   \n",
      "O[C@@H](CNCCc1ccc(NS(=O)(=O)c2ccc(I)cc2)cc1)COc...         145.00   \n",
      "C\\C(=C/C\\C(=C\\CCC1=CC(=O)OC1O)\\C)\\CCC2=C(C)CCCC...         990.00   \n",
      "CNC(=O)[C@]1(C)CC[C@]2(C)CC[C@]3(C)C4=CC=C5C(=C...          13.36   \n",
      "C#Cc1cncc(c1)c2ccsc2                                     12900.00   \n",
      "C[C@H](C[C@H](O)[C@H](O)C(=C)C)C1=C2C=C[C@H]3[C...           8.68   \n",
      "CNCCCOc1c(Br)cc(cc1Br)C2=CNC(=O)C(=N2)Cc3c[nH]c...           4.70   \n",
      "\n",
      "                                                                                      canonicalSmiles  \\\n",
      "chemblSmiles                                                                                            \n",
      "CNC(=S)N\\N=C(\\c1ccc(OC)c(OC)c1)/c2cccc(C)n2                  CNC(=S)NN=C(c1ccc(OC)c(OC)c1)c1cccc(C)n1   \n",
      "Cn1cc(C2=C(C(=O)NC2=O)c3cccc(NCC(O)CO)c3)c4cc(C...  Cn1cc(C2=C(c3cccc(NCC(O)CO)c3)C(=O)NC2=O)c2cc(...   \n",
      "CC(C)c1cccc(C(C)C)c1N2Sc3ncccc3C2=O                              CC(C)c1cccc(C(C)C)c1-n1sc2ncccc2c1=O   \n",
      "O[C@@H](CNCCc1ccc(NS(=O)(=O)c2ccc(I)cc2)cc1)COc...  O=S(=O)(Nc1ccc(CCNCC(O)COc2ccc(O)cc2)cc1)c1ccc...   \n",
      "C\\C(=C/C\\C(=C\\CCC1=CC(=O)OC1O)\\C)\\CCC2=C(C)CCCC...     CC(=CCCC1=CC(=O)OC1O)CC=C(C)CCC1=C(C)CCCC1(C)C   \n",
      "CNC(=O)[C@]1(C)CC[C@]2(C)CC[C@]3(C)C4=CC=C5C(=C...  CNC(=O)C1(C)CCC2(C)CCC3(C)C4=CC=C5C(=CC(=O)C(O...   \n",
      "C#Cc1cncc(c1)c2ccsc2                                                            C#Cc1cncc(-c2ccsc2)c1   \n",
      "C[C@H](C[C@H](O)[C@H](O)C(=C)C)C1=C2C=C[C@H]3[C...  C=C(C)C(O)C(O)CC(C)C1=C2C=CC3C4(C)CCC(=O)C(C)(...   \n",
      "CNCCCOc1c(Br)cc(cc1Br)C2=CNC(=O)C(=N2)Cc3c[nH]c...  CNCCCOc1c(Br)cc(-c2c[nH]c(=O)c(Cc3c[nH]c4ccccc...   \n",
      "\n",
      "                                                    negativeCharged  \\\n",
      "chemblSmiles                                                          \n",
      "CNC(=S)N\\N=C(\\c1ccc(OC)c(OC)c1)/c2cccc(C)n2                     0.0   \n",
      "Cn1cc(C2=C(C(=O)NC2=O)c3cccc(NCC(O)CO)c3)c4cc(C...              0.0   \n",
      "CC(C)c1cccc(C(C)C)c1N2Sc3ncccc3C2=O                             0.0   \n",
      "O[C@@H](CNCCc1ccc(NS(=O)(=O)c2ccc(I)cc2)cc1)COc...              0.0   \n",
      "C\\C(=C/C\\C(=C\\CCC1=CC(=O)OC1O)\\C)\\CCC2=C(C)CCCC...              0.0   \n",
      "CNC(=O)[C@]1(C)CC[C@]2(C)CC[C@]3(C)C4=CC=C5C(=C...              0.0   \n",
      "C#Cc1cncc(c1)c2ccsc2                                            0.0   \n",
      "C[C@H](C[C@H](O)[C@H](O)C(=C)C)C1=C2C=C[C@H]3[C...              0.0   \n",
      "CNCCCOc1c(Br)cc(cc1Br)C2=CNC(=O)C(=N2)Cc3c[nH]c...              0.0   \n",
      "\n",
      "                                                    positiveCharged  \\\n",
      "chemblSmiles                                                          \n",
      "CNC(=S)N\\N=C(\\c1ccc(OC)c(OC)c1)/c2cccc(C)n2                     0.0   \n",
      "Cn1cc(C2=C(C(=O)NC2=O)c3cccc(NCC(O)CO)c3)c4cc(C...              0.0   \n",
      "CC(C)c1cccc(C(C)C)c1N2Sc3ncccc3C2=O                             0.0   \n",
      "O[C@@H](CNCCc1ccc(NS(=O)(=O)c2ccc(I)cc2)cc1)COc...              0.0   \n",
      "C\\C(=C/C\\C(=C\\CCC1=CC(=O)OC1O)\\C)\\CCC2=C(C)CCCC...              0.0   \n",
      "CNC(=O)[C@]1(C)CC[C@]2(C)CC[C@]3(C)C4=CC=C5C(=C...              0.0   \n",
      "C#Cc1cncc(c1)c2ccsc2                                            0.0   \n",
      "C[C@H](C[C@H](O)[C@H](O)C(=C)C)C1=C2C=C[C@H]3[C...              0.0   \n",
      "CNCCCOc1c(Br)cc(cc1Br)C2=CNC(=O)C(=N2)Cc3c[nH]c...              0.0   \n",
      "\n",
      "                                                                  elementsSet  \\\n",
      "chemblSmiles                                                                    \n",
      "CNC(=S)N\\N=C(\\c1ccc(OC)c(OC)c1)/c2cccc(C)n2              ['S', 'N', 'C', 'O']   \n",
      "Cn1cc(C2=C(C(=O)NC2=O)c3cccc(NCC(O)CO)c3)c4cc(C...      ['Cl', 'N', 'C', 'O']   \n",
      "CC(C)c1cccc(C(C)C)c1N2Sc3ncccc3C2=O                      ['S', 'N', 'C', 'O']   \n",
      "O[C@@H](CNCCc1ccc(NS(=O)(=O)c2ccc(I)cc2)cc1)COc...  ['N', 'S', 'C', 'O', 'I']   \n",
      "C\\C(=C/C\\C(=C\\CCC1=CC(=O)OC1O)\\C)\\CCC2=C(C)CCCC...                 ['C', 'O']   \n",
      "CNC(=O)[C@]1(C)CC[C@]2(C)CC[C@]3(C)C4=CC=C5C(=C...            ['N', 'C', 'O']   \n",
      "C#Cc1cncc(c1)c2ccsc2                                          ['S', 'N', 'C']   \n",
      "C[C@H](C[C@H](O)[C@H](O)C(=C)C)C1=C2C=C[C@H]3[C...                 ['C', 'O']   \n",
      "CNCCCOc1c(Br)cc(cc1Br)C2=CNC(=O)C(=N2)Cc3c[nH]c...      ['Br', 'N', 'C', 'O']   \n",
      "\n",
      "                                                    numberOfRings  \\\n",
      "chemblSmiles                                                        \n",
      "CNC(=S)N\\N=C(\\c1ccc(OC)c(OC)c1)/c2cccc(C)n2                   2.0   \n",
      "Cn1cc(C2=C(C(=O)NC2=O)c3cccc(NCC(O)CO)c3)c4cc(C...            4.0   \n",
      "CC(C)c1cccc(C(C)C)c1N2Sc3ncccc3C2=O                           3.0   \n",
      "O[C@@H](CNCCc1ccc(NS(=O)(=O)c2ccc(I)cc2)cc1)COc...            3.0   \n",
      "C\\C(=C/C\\C(=C\\CCC1=CC(=O)OC1O)\\C)\\CCC2=C(C)CCCC...            2.0   \n",
      "CNC(=O)[C@]1(C)CC[C@]2(C)CC[C@]3(C)C4=CC=C5C(=C...            5.0   \n",
      "C#Cc1cncc(c1)c2ccsc2                                          2.0   \n",
      "C[C@H](C[C@H](O)[C@H](O)C(=C)C)C1=C2C=C[C@H]3[C...            4.0   \n",
      "CNCCCOc1c(Br)cc(cc1Br)C2=CNC(=O)C(=N2)Cc3c[nH]c...            4.0   \n",
      "\n",
      "                                                    organicChemistryElementsOnly  \\\n",
      "chemblSmiles                                                                       \n",
      "CNC(=S)N\\N=C(\\c1ccc(OC)c(OC)c1)/c2cccc(C)n2                                 True   \n",
      "Cn1cc(C2=C(C(=O)NC2=O)c3cccc(NCC(O)CO)c3)c4cc(C...                          True   \n",
      "CC(C)c1cccc(C(C)C)c1N2Sc3ncccc3C2=O                                         True   \n",
      "O[C@@H](CNCCc1ccc(NS(=O)(=O)c2ccc(I)cc2)cc1)COc...                          True   \n",
      "C\\C(=C/C\\C(=C\\CCC1=CC(=O)OC1O)\\C)\\CCC2=C(C)CCCC...                          True   \n",
      "CNC(=O)[C@]1(C)CC[C@]2(C)CC[C@]3(C)C4=CC=C5C(=C...                          True   \n",
      "C#Cc1cncc(c1)c2ccsc2                                                        True   \n",
      "C[C@H](C[C@H](O)[C@H](O)C(=C)C)C1=C2C=C[C@H]3[C...                          True   \n",
      "CNCCCOc1c(Br)cc(cc1Br)C2=CNC(=O)C(=N2)Cc3c[nH]c...                          True   \n",
      "\n",
      "                                                    smilesLength  \\\n",
      "chemblSmiles                                                       \n",
      "CNC(=S)N\\N=C(\\c1ccc(OC)c(OC)c1)/c2cccc(C)n2                   40   \n",
      "Cn1cc(C2=C(C(=O)NC2=O)c3cccc(NCC(O)CO)c3)c4cc(C...            54   \n",
      "CC(C)c1cccc(C(C)C)c1N2Sc3ncccc3C2=O                           36   \n",
      "O[C@@H](CNCCc1ccc(NS(=O)(=O)c2ccc(I)cc2)cc1)COc...            52   \n",
      "C\\C(=C/C\\C(=C\\CCC1=CC(=O)OC1O)\\C)\\CCC2=C(C)CCCC...            46   \n",
      "CNC(=O)[C@]1(C)CC[C@]2(C)CC[C@]3(C)C4=CC=C5C(=C...            68   \n",
      "C#Cc1cncc(c1)c2ccsc2                                          21   \n",
      "C[C@H](C[C@H](O)[C@H](O)C(=C)C)C1=C2C=C[C@H]3[C...            67   \n",
      "CNCCCOc1c(Br)cc(cc1Br)C2=CNC(=O)C(=N2)Cc3c[nH]c...            57   \n",
      "\n",
      "                                                                                        encodedSmiles  \\\n",
      "chemblSmiles                                                                                            \n",
      "CNC(=S)N\\N=C(\\c1ccc(OC)c(OC)c1)/c2cccc(C)n2                  CNC(=S)NN=C(c1ccc(OC)c(OC)c1)c1cccc(C)n1   \n",
      "Cn1cc(C2=C(C(=O)NC2=O)c3cccc(NCC(O)CO)c3)c4cc(C...  Cn1cc(C2=C(c3cccc(NCC(O)CO)c3)C(=O)NC2=O)c2cc(...   \n",
      "CC(C)c1cccc(C(C)C)c1N2Sc3ncccc3C2=O                              CC(C)c1cccc(C(C)C)c1-n1sc2ncccc2c1=O   \n",
      "O[C@@H](CNCCc1ccc(NS(=O)(=O)c2ccc(I)cc2)cc1)COc...  O=S(=O)(Nc1ccc(CCNCC(O)COc2ccc(O)cc2)cc1)c1ccc...   \n",
      "C\\C(=C/C\\C(=C\\CCC1=CC(=O)OC1O)\\C)\\CCC2=C(C)CCCC...     CC(=CCCC1=CC(=O)OC1O)CC=C(C)CCC1=C(C)CCCC1(C)C   \n",
      "CNC(=O)[C@]1(C)CC[C@]2(C)CC[C@]3(C)C4=CC=C5C(=C...  CNC(=O)C1(C)CCC2(C)CCC3(C)C4=CC=C5C(=CC(=O)C(O...   \n",
      "C#Cc1cncc(c1)c2ccsc2                                                            C#Cc1cncc(-c2ccsc2)c1   \n",
      "C[C@H](C[C@H](O)[C@H](O)C(=C)C)C1=C2C=C[C@H]3[C...  C=C(C)C(O)C(O)CC(C)C1=C2C=CC3C4(C)CCC(=O)C(C)(...   \n",
      "CNCCCOc1c(Br)cc(cc1Br)C2=CNC(=O)C(=N2)Cc3c[nH]c...  CNCCCOc1c(G)cc(-c2cWc(=O)c(Cc3cWc4ccccc34)n2)cc1G   \n",
      "\n",
      "                                                                           encodedSmilesPostprocessed  \n",
      "chemblSmiles                                                                                           \n",
      "CNC(=S)N\\N=C(\\c1ccc(OC)c(OC)c1)/c2cccc(C)n2                 CNC(=S)NN=C(c1ccc(OC)c(OC)c1)c1cccc(C)n1Q  \n",
      "Cn1cc(C2=C(C(=O)NC2=O)c3cccc(NCC(O)CO)c3)c4cc(C...  Cn1cc(C2=C(c3cccc(NCC(O)CO)c3)C(=O)NC2=O)c2cc(...  \n",
      "CC(C)c1cccc(C(C)C)c1N2Sc3ncccc3C2=O                             CC(C)c1cccc(C(C)C)c1-n1sc2ncccc2c1=OQ  \n",
      "O[C@@H](CNCCc1ccc(NS(=O)(=O)c2ccc(I)cc2)cc1)COc...  O=S(=O)(Nc1ccc(CCNCC(O)COc2ccc(O)cc2)cc1)c1ccc...  \n",
      "C\\C(=C/C\\C(=C\\CCC1=CC(=O)OC1O)\\C)\\CCC2=C(C)CCCC...    CC(=CCCC1=CC(=O)OC1O)CC=C(C)CCC1=C(C)CCCC1(C)CQ  \n",
      "CNC(=O)[C@]1(C)CC[C@]2(C)CC[C@]3(C)C4=CC=C5C(=C...  CNC(=O)C1(C)CCC2(C)CCC3(C)C4=CC=C5C(=CC(=O)C(O...  \n",
      "C#Cc1cncc(c1)c2ccsc2                                                           C#Cc1cncc(-c2ccsc2)c1Q  \n",
      "C[C@H](C[C@H](O)[C@H](O)C(=C)C)C1=C2C=C[C@H]3[C...  C=C(C)C(O)C(O)CC(C)C1=C2C=CC3C4(C)CCC(=O)C(C)(...  \n",
      "CNCCCOc1c(Br)cc(cc1Br)C2=CNC(=O)C(=N2)Cc3c[nH]c...  CNCCCOc1c(G)cc(-c2cWc(=O)c(Cc3cWc4ccccc34)n2)c...  \n"
     ]
    }
   ],
   "source": [
    "print(df)"
   ]
  },
  {
   "cell_type": "code",
   "execution_count": 24,
   "metadata": {},
   "outputs": [],
   "source": [
    "data = pd.read_csv(\"sampleMolecules.csv\")"
   ]
  },
  {
   "cell_type": "code",
   "execution_count": 25,
   "metadata": {},
   "outputs": [],
   "source": [
    "df = pd.DataFrame(data)"
   ]
  },
  {
   "cell_type": "code",
   "execution_count": 26,
   "metadata": {},
   "outputs": [
    {
     "name": "stdout",
     "output_type": "stream",
     "text": [
      "   molregNoMin  molregNoCount  \\\n",
      "0      1522827              2   \n",
      "1       612901              2   \n",
      "2       171018              1   \n",
      "3        11414              4   \n",
      "4       135826              1   \n",
      "5      1840523              5   \n",
      "6      1973470              1   \n",
      "7      1970195              1   \n",
      "8      1576644              3   \n",
      "\n",
      "                                        chemblSmiles  standardMin  \\\n",
      "0        CNC(=S)N\\N=C(\\c1ccc(OC)c(OC)c1)/c2cccc(C)n2       6250.0   \n",
      "1  Cn1cc(C2=C(C(=O)NC2=O)c3cccc(NCC(O)CO)c3)c4cc(...          0.4   \n",
      "2                CC(C)c1cccc(C(C)C)c1N2Sc3ncccc3C2=O      12000.0   \n",
      "3  O[C@@H](CNCCc1ccc(NS(=O)(=O)c2ccc(I)cc2)cc1)CO...        120.0   \n",
      "4  C\\C(=C/C\\C(=C\\CCC1=CC(=O)OC1O)\\C)\\CCC2=C(C)CCC...     990000.0   \n",
      "5  CNC(=O)[C@]1(C)CC[C@]2(C)CC[C@]3(C)C4=CC=C5C(=...       7620.0   \n",
      "6                               C#Cc1cncc(c1)c2ccsc2      12900.0   \n",
      "7  C[C@H](C[C@H](O)[C@H](O)C(=C)C)C1=C2C=C[C@H]3[...       8680.0   \n",
      "8  CNCCCOc1c(Br)cc(cc1Br)C2=CNC(=O)C(=N2)Cc3c[nH]...       4000.0   \n",
      "\n",
      "   standardMax  standardMean  publishedMain  publishedMax  publishedMean  \\\n",
      "0       6250.0        6250.0           6.25          6.25           6.25   \n",
      "1        260.0         130.2           0.40        260.00         130.20   \n",
      "2      12000.0       12000.0          12.00         12.00          12.00   \n",
      "3        170.0         145.0         120.00        170.00         145.00   \n",
      "4     990000.0      990000.0         990.00        990.00         990.00   \n",
      "5      24100.0       13360.0           7.62         24.10          13.36   \n",
      "6      12900.0       12900.0       12900.00      12900.00       12900.00   \n",
      "7       8680.0        8680.0           8.68          8.68           8.68   \n",
      "8       5770.0        4700.0           4.00          5.77           4.70   \n",
      "\n",
      "                                     canonicalSmiles  negativeCharged  \\\n",
      "0           CNC(=S)NN=C(c1ccc(OC)c(OC)c1)c1cccc(C)n1              0.0   \n",
      "1  Cn1cc(C2=C(c3cccc(NCC(O)CO)c3)C(=O)NC2=O)c2cc(...              0.0   \n",
      "2               CC(C)c1cccc(C(C)C)c1-n1sc2ncccc2c1=O              0.0   \n",
      "3  O=S(=O)(Nc1ccc(CCNCC(O)COc2ccc(O)cc2)cc1)c1ccc...              0.0   \n",
      "4     CC(=CCCC1=CC(=O)OC1O)CC=C(C)CCC1=C(C)CCCC1(C)C              0.0   \n",
      "5  CNC(=O)C1(C)CCC2(C)CCC3(C)C4=CC=C5C(=CC(=O)C(O...              0.0   \n",
      "6                              C#Cc1cncc(-c2ccsc2)c1              0.0   \n",
      "7  C=C(C)C(O)C(O)CC(C)C1=C2C=CC3C4(C)CCC(=O)C(C)(...              0.0   \n",
      "8  CNCCCOc1c(Br)cc(-c2c[nH]c(=O)c(Cc3c[nH]c4ccccc...              0.0   \n",
      "\n",
      "   positiveCharged                elementsSet  numberOfRings  \\\n",
      "0              0.0       ['S', 'N', 'C', 'O']            2.0   \n",
      "1              0.0      ['Cl', 'N', 'C', 'O']            4.0   \n",
      "2              0.0       ['S', 'N', 'C', 'O']            3.0   \n",
      "3              0.0  ['N', 'S', 'C', 'O', 'I']            3.0   \n",
      "4              0.0                 ['C', 'O']            2.0   \n",
      "5              0.0            ['N', 'C', 'O']            5.0   \n",
      "6              0.0            ['S', 'N', 'C']            2.0   \n",
      "7              0.0                 ['C', 'O']            4.0   \n",
      "8              0.0      ['Br', 'N', 'C', 'O']            4.0   \n",
      "\n",
      "   organicChemistryElementsOnly  smilesLength  \\\n",
      "0                          True            40   \n",
      "1                          True            54   \n",
      "2                          True            36   \n",
      "3                          True            52   \n",
      "4                          True            46   \n",
      "5                          True            68   \n",
      "6                          True            21   \n",
      "7                          True            67   \n",
      "8                          True            57   \n",
      "\n",
      "                                       encodedSmiles  \\\n",
      "0           CNC(=S)NN=C(c1ccc(OC)c(OC)c1)c1cccc(C)n1   \n",
      "1  Cn1cc(C2=C(c3cccc(NCC(O)CO)c3)C(=O)NC2=O)c2cc(...   \n",
      "2               CC(C)c1cccc(C(C)C)c1-n1sc2ncccc2c1=O   \n",
      "3  O=S(=O)(Nc1ccc(CCNCC(O)COc2ccc(O)cc2)cc1)c1ccc...   \n",
      "4     CC(=CCCC1=CC(=O)OC1O)CC=C(C)CCC1=C(C)CCCC1(C)C   \n",
      "5  CNC(=O)C1(C)CCC2(C)CCC3(C)C4=CC=C5C(=CC(=O)C(O...   \n",
      "6                              C#Cc1cncc(-c2ccsc2)c1   \n",
      "7  C=C(C)C(O)C(O)CC(C)C1=C2C=CC3C4(C)CCC(=O)C(C)(...   \n",
      "8  CNCCCOc1c(G)cc(-c2cWc(=O)c(Cc3cWc4ccccc34)n2)cc1G   \n",
      "\n",
      "                          encodedSmilesPostprocessed  \n",
      "0          CNC(=S)NN=C(c1ccc(OC)c(OC)c1)c1cccc(C)n1Q  \n",
      "1  Cn1cc(C2=C(c3cccc(NCC(O)CO)c3)C(=O)NC2=O)c2cc(...  \n",
      "2              CC(C)c1cccc(C(C)C)c1-n1sc2ncccc2c1=OQ  \n",
      "3  O=S(=O)(Nc1ccc(CCNCC(O)COc2ccc(O)cc2)cc1)c1ccc...  \n",
      "4    CC(=CCCC1=CC(=O)OC1O)CC=C(C)CCC1=C(C)CCCC1(C)CQ  \n",
      "5  CNC(=O)C1(C)CCC2(C)CCC3(C)C4=CC=C5C(=CC(=O)C(O...  \n",
      "6                             C#Cc1cncc(-c2ccsc2)c1Q  \n",
      "7  C=C(C)C(O)C(O)CC(C)C1=C2C=CC3C4(C)CCC(=O)C(C)(...  \n",
      "8  CNCCCOc1c(G)cc(-c2cWc(=O)c(Cc3cWc4ccccc34)n2)c...  \n"
     ]
    }
   ],
   "source": [
    "print(df)"
   ]
  },
  {
   "cell_type": "code",
   "execution_count": 29,
   "metadata": {},
   "outputs": [
    {
     "ename": "SyntaxError",
     "evalue": "invalid syntax (<ipython-input-29-67a22899d178>, line 3)",
     "output_type": "error",
     "traceback": [
      "\u001b[1;36m  File \u001b[1;32m\"<ipython-input-29-67a22899d178>\"\u001b[1;36m, line \u001b[1;32m3\u001b[0m\n\u001b[1;33m    'chemblSmiles': \"CNC(=S)N\\N=C(\\c1ccc(OC)c(OC)c1)/c2cccc(C)n2\", \"Cn1cc(C2=C(C(=O)NC2=O)c3cccc(NCC(O)CO)c3)c4cc(Cl)ccc14\", \"\"CC(C)c1cccc(C(C)C)c1N2Sc3ncccc3C2=O\"\", \"\"O[C@@H](CNCCc1ccc(NS(=O)(=O)c2ccc(I)cc2)cc1)COc3ccc(O)cc3\"\", \"\"C\\C(=C/C\\C(=C\\CCC1=CC(=O)OC1O)\\C)\\CCC2=C(C)CCCC2(C)C\"\", \"\"CNC(=O)[C@]1(C)CC[C@]2(C)CC[C@]3(C)C4=CC=C5C(=C(O)C(=O)C=C5[C@]4(C)CC[C@@]3(C)[C@@H]2C1)C\"\", \"\"C#Cc1cncc(c1)c2ccsc2\"\", \"\"C[C@H](C[C@H](O)[C@H](O)C(=C)C)C1=C2C=C[C@H]3[C@@]4(C)CCC(=O)C(C)(C)[C@@H]4CC[C@]3(C)[C@@]2(C)CC1=O\"\", \"\"CNCCCOc1c(Br)cc(cc1Br)C2=CNC(=O)C(=N2)Cc3c[nH]c4ccccc34\"\"}\u001b[0m\n\u001b[1;37m                                                                                                                           ^\u001b[0m\n\u001b[1;31mSyntaxError\u001b[0m\u001b[1;31m:\u001b[0m invalid syntax\n"
     ]
    }
   ],
   "source": [
    "data = {'molregNoMin':['1522827', '612901', '171018', '11414', '135826', '1840523', '1973470', '1970195', '1576644'], \n",
    "       'molregNoCount':['2', '2', '1', '4', '1', '5', '1', '1', '3'],\n",
    "       'chemblSmiles': \"CNC(=S)N\\N=C(\\c1ccc(OC)c(OC)c1)/c2cccc(C)n2\", \"Cn1cc(C2=C(C(=O)NC2=O)c3cccc(NCC(O)CO)c3)c4cc(Cl)ccc14\", \"\"CC(C)c1cccc(C(C)C)c1N2Sc3ncccc3C2=O\"\", \"\"O[C@@H](CNCCc1ccc(NS(=O)(=O)c2ccc(I)cc2)cc1)COc3ccc(O)cc3\"\", \"\"C\\C(=C/C\\C(=C\\CCC1=CC(=O)OC1O)\\C)\\CCC2=C(C)CCCC2(C)C\"\", \"\"CNC(=O)[C@]1(C)CC[C@]2(C)CC[C@]3(C)C4=CC=C5C(=C(O)C(=O)C=C5[C@]4(C)CC[C@@]3(C)[C@@H]2C1)C\"\", \"\"C#Cc1cncc(c1)c2ccsc2\"\", \"\"C[C@H](C[C@H](O)[C@H](O)C(=C)C)C1=C2C=C[C@H]3[C@@]4(C)CCC(=O)C(C)(C)[C@@H]4CC[C@]3(C)[C@@]2(C)CC1=O\"\", \"\"CNCCCOc1c(Br)cc(cc1Br)C2=CNC(=O)C(=N2)Cc3c[nH]c4ccccc34\"\"}"
   ]
  },
  {
   "cell_type": "code",
   "execution_count": 35,
   "metadata": {},
   "outputs": [],
   "source": [
    "data = pd.read_csv(\"sampleMolecules.csv\", index_col = \"molregNoMin\")"
   ]
  },
  {
   "cell_type": "code",
   "execution_count": 36,
   "metadata": {},
   "outputs": [],
   "source": [
    "df = pd.DataFrame(data)"
   ]
  },
  {
   "cell_type": "code",
   "execution_count": 37,
   "metadata": {},
   "outputs": [
    {
     "name": "stdout",
     "output_type": "stream",
     "text": [
      "             molregNoCount                                       chemblSmiles  \\\n",
      "molregNoMin                                                                     \n",
      "1522827                  2        CNC(=S)N\\N=C(\\c1ccc(OC)c(OC)c1)/c2cccc(C)n2   \n",
      "612901                   2  Cn1cc(C2=C(C(=O)NC2=O)c3cccc(NCC(O)CO)c3)c4cc(...   \n",
      "171018                   1                CC(C)c1cccc(C(C)C)c1N2Sc3ncccc3C2=O   \n",
      "11414                    4  O[C@@H](CNCCc1ccc(NS(=O)(=O)c2ccc(I)cc2)cc1)CO...   \n",
      "135826                   1  C\\C(=C/C\\C(=C\\CCC1=CC(=O)OC1O)\\C)\\CCC2=C(C)CCC...   \n",
      "1840523                  5  CNC(=O)[C@]1(C)CC[C@]2(C)CC[C@]3(C)C4=CC=C5C(=...   \n",
      "1973470                  1                               C#Cc1cncc(c1)c2ccsc2   \n",
      "1970195                  1  C[C@H](C[C@H](O)[C@H](O)C(=C)C)C1=C2C=C[C@H]3[...   \n",
      "1576644                  3  CNCCCOc1c(Br)cc(cc1Br)C2=CNC(=O)C(=N2)Cc3c[nH]...   \n",
      "\n",
      "             standardMin  standardMax  standardMean  publishedMain  \\\n",
      "molregNoMin                                                          \n",
      "1522827           6250.0       6250.0        6250.0           6.25   \n",
      "612901               0.4        260.0         130.2           0.40   \n",
      "171018           12000.0      12000.0       12000.0          12.00   \n",
      "11414              120.0        170.0         145.0         120.00   \n",
      "135826          990000.0     990000.0      990000.0         990.00   \n",
      "1840523           7620.0      24100.0       13360.0           7.62   \n",
      "1973470          12900.0      12900.0       12900.0       12900.00   \n",
      "1970195           8680.0       8680.0        8680.0           8.68   \n",
      "1576644           4000.0       5770.0        4700.0           4.00   \n",
      "\n",
      "             publishedMax  publishedMean  \\\n",
      "molregNoMin                                \n",
      "1522827              6.25           6.25   \n",
      "612901             260.00         130.20   \n",
      "171018              12.00          12.00   \n",
      "11414              170.00         145.00   \n",
      "135826             990.00         990.00   \n",
      "1840523             24.10          13.36   \n",
      "1973470          12900.00       12900.00   \n",
      "1970195              8.68           8.68   \n",
      "1576644              5.77           4.70   \n",
      "\n",
      "                                               canonicalSmiles  \\\n",
      "molregNoMin                                                      \n",
      "1522827               CNC(=S)NN=C(c1ccc(OC)c(OC)c1)c1cccc(C)n1   \n",
      "612901       Cn1cc(C2=C(c3cccc(NCC(O)CO)c3)C(=O)NC2=O)c2cc(...   \n",
      "171018                    CC(C)c1cccc(C(C)C)c1-n1sc2ncccc2c1=O   \n",
      "11414        O=S(=O)(Nc1ccc(CCNCC(O)COc2ccc(O)cc2)cc1)c1ccc...   \n",
      "135826          CC(=CCCC1=CC(=O)OC1O)CC=C(C)CCC1=C(C)CCCC1(C)C   \n",
      "1840523      CNC(=O)C1(C)CCC2(C)CCC3(C)C4=CC=C5C(=CC(=O)C(O...   \n",
      "1973470                                  C#Cc1cncc(-c2ccsc2)c1   \n",
      "1970195      C=C(C)C(O)C(O)CC(C)C1=C2C=CC3C4(C)CCC(=O)C(C)(...   \n",
      "1576644      CNCCCOc1c(Br)cc(-c2c[nH]c(=O)c(Cc3c[nH]c4ccccc...   \n",
      "\n",
      "             negativeCharged  positiveCharged                elementsSet  \\\n",
      "molregNoMin                                                                \n",
      "1522827                  0.0              0.0       ['S', 'N', 'C', 'O']   \n",
      "612901                   0.0              0.0      ['Cl', 'N', 'C', 'O']   \n",
      "171018                   0.0              0.0       ['S', 'N', 'C', 'O']   \n",
      "11414                    0.0              0.0  ['N', 'S', 'C', 'O', 'I']   \n",
      "135826                   0.0              0.0                 ['C', 'O']   \n",
      "1840523                  0.0              0.0            ['N', 'C', 'O']   \n",
      "1973470                  0.0              0.0            ['S', 'N', 'C']   \n",
      "1970195                  0.0              0.0                 ['C', 'O']   \n",
      "1576644                  0.0              0.0      ['Br', 'N', 'C', 'O']   \n",
      "\n",
      "             numberOfRings  organicChemistryElementsOnly  smilesLength  \\\n",
      "molregNoMin                                                              \n",
      "1522827                2.0                          True            40   \n",
      "612901                 4.0                          True            54   \n",
      "171018                 3.0                          True            36   \n",
      "11414                  3.0                          True            52   \n",
      "135826                 2.0                          True            46   \n",
      "1840523                5.0                          True            68   \n",
      "1973470                2.0                          True            21   \n",
      "1970195                4.0                          True            67   \n",
      "1576644                4.0                          True            57   \n",
      "\n",
      "                                                 encodedSmiles  \\\n",
      "molregNoMin                                                      \n",
      "1522827               CNC(=S)NN=C(c1ccc(OC)c(OC)c1)c1cccc(C)n1   \n",
      "612901       Cn1cc(C2=C(c3cccc(NCC(O)CO)c3)C(=O)NC2=O)c2cc(...   \n",
      "171018                    CC(C)c1cccc(C(C)C)c1-n1sc2ncccc2c1=O   \n",
      "11414        O=S(=O)(Nc1ccc(CCNCC(O)COc2ccc(O)cc2)cc1)c1ccc...   \n",
      "135826          CC(=CCCC1=CC(=O)OC1O)CC=C(C)CCC1=C(C)CCCC1(C)C   \n",
      "1840523      CNC(=O)C1(C)CCC2(C)CCC3(C)C4=CC=C5C(=CC(=O)C(O...   \n",
      "1973470                                  C#Cc1cncc(-c2ccsc2)c1   \n",
      "1970195      C=C(C)C(O)C(O)CC(C)C1=C2C=CC3C4(C)CCC(=O)C(C)(...   \n",
      "1576644      CNCCCOc1c(G)cc(-c2cWc(=O)c(Cc3cWc4ccccc34)n2)cc1G   \n",
      "\n",
      "                                    encodedSmilesPostprocessed  \n",
      "molregNoMin                                                     \n",
      "1522827              CNC(=S)NN=C(c1ccc(OC)c(OC)c1)c1cccc(C)n1Q  \n",
      "612901       Cn1cc(C2=C(c3cccc(NCC(O)CO)c3)C(=O)NC2=O)c2cc(...  \n",
      "171018                   CC(C)c1cccc(C(C)C)c1-n1sc2ncccc2c1=OQ  \n",
      "11414        O=S(=O)(Nc1ccc(CCNCC(O)COc2ccc(O)cc2)cc1)c1ccc...  \n",
      "135826         CC(=CCCC1=CC(=O)OC1O)CC=C(C)CCC1=C(C)CCCC1(C)CQ  \n",
      "1840523      CNC(=O)C1(C)CCC2(C)CCC3(C)C4=CC=C5C(=CC(=O)C(O...  \n",
      "1973470                                 C#Cc1cncc(-c2ccsc2)c1Q  \n",
      "1970195      C=C(C)C(O)C(O)CC(C)C1=C2C=CC3C4(C)CCC(=O)C(C)(...  \n",
      "1576644      CNCCCOc1c(G)cc(-c2cWc(=O)c(Cc3cWc4ccccc34)n2)c...  \n"
     ]
    }
   ],
   "source": [
    "print(df)"
   ]
  },
  {
   "cell_type": "code",
   "execution_count": null,
   "metadata": {},
   "outputs": [],
   "source": []
  },
  {
   "cell_type": "code",
   "execution_count": null,
   "metadata": {},
   "outputs": [],
   "source": []
  },
  {
   "cell_type": "code",
   "execution_count": null,
   "metadata": {},
   "outputs": [],
   "source": []
  },
  {
   "cell_type": "code",
   "execution_count": null,
   "metadata": {},
   "outputs": [],
   "source": []
  },
  {
   "cell_type": "code",
   "execution_count": null,
   "metadata": {},
   "outputs": [],
   "source": []
  },
  {
   "cell_type": "code",
   "execution_count": null,
   "metadata": {},
   "outputs": [],
   "source": []
  },
  {
   "cell_type": "code",
   "execution_count": null,
   "metadata": {},
   "outputs": [],
   "source": []
  }
 ],
 "metadata": {
  "kernelspec": {
   "display_name": "Python (testenv)",
   "language": "python",
   "name": "testenv"
  },
  "language_info": {
   "codemirror_mode": {
    "name": "ipython",
    "version": 3
   },
   "file_extension": ".py",
   "mimetype": "text/x-python",
   "name": "python",
   "nbconvert_exporter": "python",
   "pygments_lexer": "ipython3",
   "version": "3.7.3"
  }
 },
 "nbformat": 4,
 "nbformat_minor": 2
}
