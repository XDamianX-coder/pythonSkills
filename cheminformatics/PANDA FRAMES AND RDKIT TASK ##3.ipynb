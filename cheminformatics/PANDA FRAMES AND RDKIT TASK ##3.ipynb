{
 "cells": [
  {
   "cell_type": "code",
   "execution_count": 1,
   "metadata": {},
   "outputs": [],
   "source": [
    "from rdkit import Chem\n",
    "import pandas as pd\n",
    "from rdkit.Chem import Descriptors"
   ]
  },
  {
   "cell_type": "code",
   "execution_count": 2,
   "metadata": {},
   "outputs": [],
   "source": [
    "data = pd.read_csv(\"sampleMolecules.csv\")"
   ]
  },
  {
   "cell_type": "code",
   "execution_count": 3,
   "metadata": {},
   "outputs": [
    {
     "data": {
      "text/html": [
       "<div>\n",
       "<style scoped>\n",
       "    .dataframe tbody tr th:only-of-type {\n",
       "        vertical-align: middle;\n",
       "    }\n",
       "\n",
       "    .dataframe tbody tr th {\n",
       "        vertical-align: top;\n",
       "    }\n",
       "\n",
       "    .dataframe thead th {\n",
       "        text-align: right;\n",
       "    }\n",
       "</style>\n",
       "<table border=\"1\" class=\"dataframe\">\n",
       "  <thead>\n",
       "    <tr style=\"text-align: right;\">\n",
       "      <th></th>\n",
       "      <th>molregNoMin</th>\n",
       "      <th>molregNoCount</th>\n",
       "      <th>chemblSmiles</th>\n",
       "      <th>standardMin</th>\n",
       "      <th>standardMax</th>\n",
       "      <th>standardMean</th>\n",
       "      <th>publishedMain</th>\n",
       "      <th>publishedMax</th>\n",
       "      <th>publishedMean</th>\n",
       "      <th>canonicalSmiles</th>\n",
       "      <th>negativeCharged</th>\n",
       "      <th>positiveCharged</th>\n",
       "      <th>elementsSet</th>\n",
       "      <th>numberOfRings</th>\n",
       "      <th>organicChemistryElementsOnly</th>\n",
       "      <th>smilesLength</th>\n",
       "      <th>encodedSmiles</th>\n",
       "      <th>encodedSmilesPostprocessed</th>\n",
       "    </tr>\n",
       "  </thead>\n",
       "  <tbody>\n",
       "    <tr>\n",
       "      <th>0</th>\n",
       "      <td>1522827</td>\n",
       "      <td>2</td>\n",
       "      <td>CNC(=S)N\\N=C(\\c1ccc(OC)c(OC)c1)/c2cccc(C)n2</td>\n",
       "      <td>6250.0</td>\n",
       "      <td>6250.0</td>\n",
       "      <td>6250.0</td>\n",
       "      <td>6.25</td>\n",
       "      <td>6.25</td>\n",
       "      <td>6.25</td>\n",
       "      <td>CNC(=S)NN=C(c1ccc(OC)c(OC)c1)c1cccc(C)n1</td>\n",
       "      <td>0.0</td>\n",
       "      <td>0.0</td>\n",
       "      <td>['S', 'N', 'C', 'O']</td>\n",
       "      <td>2.0</td>\n",
       "      <td>True</td>\n",
       "      <td>40</td>\n",
       "      <td>CNC(=S)NN=C(c1ccc(OC)c(OC)c1)c1cccc(C)n1</td>\n",
       "      <td>CNC(=S)NN=C(c1ccc(OC)c(OC)c1)c1cccc(C)n1Q</td>\n",
       "    </tr>\n",
       "    <tr>\n",
       "      <th>1</th>\n",
       "      <td>612901</td>\n",
       "      <td>2</td>\n",
       "      <td>Cn1cc(C2=C(C(=O)NC2=O)c3cccc(NCC(O)CO)c3)c4cc(...</td>\n",
       "      <td>0.4</td>\n",
       "      <td>260.0</td>\n",
       "      <td>130.2</td>\n",
       "      <td>0.40</td>\n",
       "      <td>260.00</td>\n",
       "      <td>130.20</td>\n",
       "      <td>Cn1cc(C2=C(c3cccc(NCC(O)CO)c3)C(=O)NC2=O)c2cc(...</td>\n",
       "      <td>0.0</td>\n",
       "      <td>0.0</td>\n",
       "      <td>['Cl', 'N', 'C', 'O']</td>\n",
       "      <td>4.0</td>\n",
       "      <td>True</td>\n",
       "      <td>54</td>\n",
       "      <td>Cn1cc(C2=C(c3cccc(NCC(O)CO)c3)C(=O)NC2=O)c2cc(...</td>\n",
       "      <td>Cn1cc(C2=C(c3cccc(NCC(O)CO)c3)C(=O)NC2=O)c2cc(...</td>\n",
       "    </tr>\n",
       "    <tr>\n",
       "      <th>2</th>\n",
       "      <td>171018</td>\n",
       "      <td>1</td>\n",
       "      <td>CC(C)c1cccc(C(C)C)c1N2Sc3ncccc3C2=O</td>\n",
       "      <td>12000.0</td>\n",
       "      <td>12000.0</td>\n",
       "      <td>12000.0</td>\n",
       "      <td>12.00</td>\n",
       "      <td>12.00</td>\n",
       "      <td>12.00</td>\n",
       "      <td>CC(C)c1cccc(C(C)C)c1-n1sc2ncccc2c1=O</td>\n",
       "      <td>0.0</td>\n",
       "      <td>0.0</td>\n",
       "      <td>['S', 'N', 'C', 'O']</td>\n",
       "      <td>3.0</td>\n",
       "      <td>True</td>\n",
       "      <td>36</td>\n",
       "      <td>CC(C)c1cccc(C(C)C)c1-n1sc2ncccc2c1=O</td>\n",
       "      <td>CC(C)c1cccc(C(C)C)c1-n1sc2ncccc2c1=OQ</td>\n",
       "    </tr>\n",
       "    <tr>\n",
       "      <th>3</th>\n",
       "      <td>11414</td>\n",
       "      <td>4</td>\n",
       "      <td>O[C@@H](CNCCc1ccc(NS(=O)(=O)c2ccc(I)cc2)cc1)CO...</td>\n",
       "      <td>120.0</td>\n",
       "      <td>170.0</td>\n",
       "      <td>145.0</td>\n",
       "      <td>120.00</td>\n",
       "      <td>170.00</td>\n",
       "      <td>145.00</td>\n",
       "      <td>O=S(=O)(Nc1ccc(CCNCC(O)COc2ccc(O)cc2)cc1)c1ccc...</td>\n",
       "      <td>0.0</td>\n",
       "      <td>0.0</td>\n",
       "      <td>['N', 'S', 'C', 'O', 'I']</td>\n",
       "      <td>3.0</td>\n",
       "      <td>True</td>\n",
       "      <td>52</td>\n",
       "      <td>O=S(=O)(Nc1ccc(CCNCC(O)COc2ccc(O)cc2)cc1)c1ccc...</td>\n",
       "      <td>O=S(=O)(Nc1ccc(CCNCC(O)COc2ccc(O)cc2)cc1)c1ccc...</td>\n",
       "    </tr>\n",
       "    <tr>\n",
       "      <th>4</th>\n",
       "      <td>135826</td>\n",
       "      <td>1</td>\n",
       "      <td>C\\C(=C/C\\C(=C\\CCC1=CC(=O)OC1O)\\C)\\CCC2=C(C)CCC...</td>\n",
       "      <td>990000.0</td>\n",
       "      <td>990000.0</td>\n",
       "      <td>990000.0</td>\n",
       "      <td>990.00</td>\n",
       "      <td>990.00</td>\n",
       "      <td>990.00</td>\n",
       "      <td>CC(=CCCC1=CC(=O)OC1O)CC=C(C)CCC1=C(C)CCCC1(C)C</td>\n",
       "      <td>0.0</td>\n",
       "      <td>0.0</td>\n",
       "      <td>['C', 'O']</td>\n",
       "      <td>2.0</td>\n",
       "      <td>True</td>\n",
       "      <td>46</td>\n",
       "      <td>CC(=CCCC1=CC(=O)OC1O)CC=C(C)CCC1=C(C)CCCC1(C)C</td>\n",
       "      <td>CC(=CCCC1=CC(=O)OC1O)CC=C(C)CCC1=C(C)CCCC1(C)CQ</td>\n",
       "    </tr>\n",
       "    <tr>\n",
       "      <th>5</th>\n",
       "      <td>1840523</td>\n",
       "      <td>5</td>\n",
       "      <td>CNC(=O)[C@]1(C)CC[C@]2(C)CC[C@]3(C)C4=CC=C5C(=...</td>\n",
       "      <td>7620.0</td>\n",
       "      <td>24100.0</td>\n",
       "      <td>13360.0</td>\n",
       "      <td>7.62</td>\n",
       "      <td>24.10</td>\n",
       "      <td>13.36</td>\n",
       "      <td>CNC(=O)C1(C)CCC2(C)CCC3(C)C4=CC=C5C(=CC(=O)C(O...</td>\n",
       "      <td>0.0</td>\n",
       "      <td>0.0</td>\n",
       "      <td>['N', 'C', 'O']</td>\n",
       "      <td>5.0</td>\n",
       "      <td>True</td>\n",
       "      <td>68</td>\n",
       "      <td>CNC(=O)C1(C)CCC2(C)CCC3(C)C4=CC=C5C(=CC(=O)C(O...</td>\n",
       "      <td>CNC(=O)C1(C)CCC2(C)CCC3(C)C4=CC=C5C(=CC(=O)C(O...</td>\n",
       "    </tr>\n",
       "    <tr>\n",
       "      <th>6</th>\n",
       "      <td>1973470</td>\n",
       "      <td>1</td>\n",
       "      <td>C#Cc1cncc(c1)c2ccsc2</td>\n",
       "      <td>12900.0</td>\n",
       "      <td>12900.0</td>\n",
       "      <td>12900.0</td>\n",
       "      <td>12900.00</td>\n",
       "      <td>12900.00</td>\n",
       "      <td>12900.00</td>\n",
       "      <td>C#Cc1cncc(-c2ccsc2)c1</td>\n",
       "      <td>0.0</td>\n",
       "      <td>0.0</td>\n",
       "      <td>['S', 'N', 'C']</td>\n",
       "      <td>2.0</td>\n",
       "      <td>True</td>\n",
       "      <td>21</td>\n",
       "      <td>C#Cc1cncc(-c2ccsc2)c1</td>\n",
       "      <td>C#Cc1cncc(-c2ccsc2)c1Q</td>\n",
       "    </tr>\n",
       "    <tr>\n",
       "      <th>7</th>\n",
       "      <td>1970195</td>\n",
       "      <td>1</td>\n",
       "      <td>C[C@H](C[C@H](O)[C@H](O)C(=C)C)C1=C2C=C[C@H]3[...</td>\n",
       "      <td>8680.0</td>\n",
       "      <td>8680.0</td>\n",
       "      <td>8680.0</td>\n",
       "      <td>8.68</td>\n",
       "      <td>8.68</td>\n",
       "      <td>8.68</td>\n",
       "      <td>C=C(C)C(O)C(O)CC(C)C1=C2C=CC3C4(C)CCC(=O)C(C)(...</td>\n",
       "      <td>0.0</td>\n",
       "      <td>0.0</td>\n",
       "      <td>['C', 'O']</td>\n",
       "      <td>4.0</td>\n",
       "      <td>True</td>\n",
       "      <td>67</td>\n",
       "      <td>C=C(C)C(O)C(O)CC(C)C1=C2C=CC3C4(C)CCC(=O)C(C)(...</td>\n",
       "      <td>C=C(C)C(O)C(O)CC(C)C1=C2C=CC3C4(C)CCC(=O)C(C)(...</td>\n",
       "    </tr>\n",
       "    <tr>\n",
       "      <th>8</th>\n",
       "      <td>1576644</td>\n",
       "      <td>3</td>\n",
       "      <td>CNCCCOc1c(Br)cc(cc1Br)C2=CNC(=O)C(=N2)Cc3c[nH]...</td>\n",
       "      <td>4000.0</td>\n",
       "      <td>5770.0</td>\n",
       "      <td>4700.0</td>\n",
       "      <td>4.00</td>\n",
       "      <td>5.77</td>\n",
       "      <td>4.70</td>\n",
       "      <td>CNCCCOc1c(Br)cc(-c2c[nH]c(=O)c(Cc3c[nH]c4ccccc...</td>\n",
       "      <td>0.0</td>\n",
       "      <td>0.0</td>\n",
       "      <td>['Br', 'N', 'C', 'O']</td>\n",
       "      <td>4.0</td>\n",
       "      <td>True</td>\n",
       "      <td>57</td>\n",
       "      <td>CNCCCOc1c(G)cc(-c2cWc(=O)c(Cc3cWc4ccccc34)n2)cc1G</td>\n",
       "      <td>CNCCCOc1c(G)cc(-c2cWc(=O)c(Cc3cWc4ccccc34)n2)c...</td>\n",
       "    </tr>\n",
       "  </tbody>\n",
       "</table>\n",
       "</div>"
      ],
      "text/plain": [
       "   molregNoMin  molregNoCount  \\\n",
       "0      1522827              2   \n",
       "1       612901              2   \n",
       "2       171018              1   \n",
       "3        11414              4   \n",
       "4       135826              1   \n",
       "5      1840523              5   \n",
       "6      1973470              1   \n",
       "7      1970195              1   \n",
       "8      1576644              3   \n",
       "\n",
       "                                        chemblSmiles  standardMin  \\\n",
       "0        CNC(=S)N\\N=C(\\c1ccc(OC)c(OC)c1)/c2cccc(C)n2       6250.0   \n",
       "1  Cn1cc(C2=C(C(=O)NC2=O)c3cccc(NCC(O)CO)c3)c4cc(...          0.4   \n",
       "2                CC(C)c1cccc(C(C)C)c1N2Sc3ncccc3C2=O      12000.0   \n",
       "3  O[C@@H](CNCCc1ccc(NS(=O)(=O)c2ccc(I)cc2)cc1)CO...        120.0   \n",
       "4  C\\C(=C/C\\C(=C\\CCC1=CC(=O)OC1O)\\C)\\CCC2=C(C)CCC...     990000.0   \n",
       "5  CNC(=O)[C@]1(C)CC[C@]2(C)CC[C@]3(C)C4=CC=C5C(=...       7620.0   \n",
       "6                               C#Cc1cncc(c1)c2ccsc2      12900.0   \n",
       "7  C[C@H](C[C@H](O)[C@H](O)C(=C)C)C1=C2C=C[C@H]3[...       8680.0   \n",
       "8  CNCCCOc1c(Br)cc(cc1Br)C2=CNC(=O)C(=N2)Cc3c[nH]...       4000.0   \n",
       "\n",
       "   standardMax  standardMean  publishedMain  publishedMax  publishedMean  \\\n",
       "0       6250.0        6250.0           6.25          6.25           6.25   \n",
       "1        260.0         130.2           0.40        260.00         130.20   \n",
       "2      12000.0       12000.0          12.00         12.00          12.00   \n",
       "3        170.0         145.0         120.00        170.00         145.00   \n",
       "4     990000.0      990000.0         990.00        990.00         990.00   \n",
       "5      24100.0       13360.0           7.62         24.10          13.36   \n",
       "6      12900.0       12900.0       12900.00      12900.00       12900.00   \n",
       "7       8680.0        8680.0           8.68          8.68           8.68   \n",
       "8       5770.0        4700.0           4.00          5.77           4.70   \n",
       "\n",
       "                                     canonicalSmiles  negativeCharged  \\\n",
       "0           CNC(=S)NN=C(c1ccc(OC)c(OC)c1)c1cccc(C)n1              0.0   \n",
       "1  Cn1cc(C2=C(c3cccc(NCC(O)CO)c3)C(=O)NC2=O)c2cc(...              0.0   \n",
       "2               CC(C)c1cccc(C(C)C)c1-n1sc2ncccc2c1=O              0.0   \n",
       "3  O=S(=O)(Nc1ccc(CCNCC(O)COc2ccc(O)cc2)cc1)c1ccc...              0.0   \n",
       "4     CC(=CCCC1=CC(=O)OC1O)CC=C(C)CCC1=C(C)CCCC1(C)C              0.0   \n",
       "5  CNC(=O)C1(C)CCC2(C)CCC3(C)C4=CC=C5C(=CC(=O)C(O...              0.0   \n",
       "6                              C#Cc1cncc(-c2ccsc2)c1              0.0   \n",
       "7  C=C(C)C(O)C(O)CC(C)C1=C2C=CC3C4(C)CCC(=O)C(C)(...              0.0   \n",
       "8  CNCCCOc1c(Br)cc(-c2c[nH]c(=O)c(Cc3c[nH]c4ccccc...              0.0   \n",
       "\n",
       "   positiveCharged                elementsSet  numberOfRings  \\\n",
       "0              0.0       ['S', 'N', 'C', 'O']            2.0   \n",
       "1              0.0      ['Cl', 'N', 'C', 'O']            4.0   \n",
       "2              0.0       ['S', 'N', 'C', 'O']            3.0   \n",
       "3              0.0  ['N', 'S', 'C', 'O', 'I']            3.0   \n",
       "4              0.0                 ['C', 'O']            2.0   \n",
       "5              0.0            ['N', 'C', 'O']            5.0   \n",
       "6              0.0            ['S', 'N', 'C']            2.0   \n",
       "7              0.0                 ['C', 'O']            4.0   \n",
       "8              0.0      ['Br', 'N', 'C', 'O']            4.0   \n",
       "\n",
       "   organicChemistryElementsOnly  smilesLength  \\\n",
       "0                          True            40   \n",
       "1                          True            54   \n",
       "2                          True            36   \n",
       "3                          True            52   \n",
       "4                          True            46   \n",
       "5                          True            68   \n",
       "6                          True            21   \n",
       "7                          True            67   \n",
       "8                          True            57   \n",
       "\n",
       "                                       encodedSmiles  \\\n",
       "0           CNC(=S)NN=C(c1ccc(OC)c(OC)c1)c1cccc(C)n1   \n",
       "1  Cn1cc(C2=C(c3cccc(NCC(O)CO)c3)C(=O)NC2=O)c2cc(...   \n",
       "2               CC(C)c1cccc(C(C)C)c1-n1sc2ncccc2c1=O   \n",
       "3  O=S(=O)(Nc1ccc(CCNCC(O)COc2ccc(O)cc2)cc1)c1ccc...   \n",
       "4     CC(=CCCC1=CC(=O)OC1O)CC=C(C)CCC1=C(C)CCCC1(C)C   \n",
       "5  CNC(=O)C1(C)CCC2(C)CCC3(C)C4=CC=C5C(=CC(=O)C(O...   \n",
       "6                              C#Cc1cncc(-c2ccsc2)c1   \n",
       "7  C=C(C)C(O)C(O)CC(C)C1=C2C=CC3C4(C)CCC(=O)C(C)(...   \n",
       "8  CNCCCOc1c(G)cc(-c2cWc(=O)c(Cc3cWc4ccccc34)n2)cc1G   \n",
       "\n",
       "                          encodedSmilesPostprocessed  \n",
       "0          CNC(=S)NN=C(c1ccc(OC)c(OC)c1)c1cccc(C)n1Q  \n",
       "1  Cn1cc(C2=C(c3cccc(NCC(O)CO)c3)C(=O)NC2=O)c2cc(...  \n",
       "2              CC(C)c1cccc(C(C)C)c1-n1sc2ncccc2c1=OQ  \n",
       "3  O=S(=O)(Nc1ccc(CCNCC(O)COc2ccc(O)cc2)cc1)c1ccc...  \n",
       "4    CC(=CCCC1=CC(=O)OC1O)CC=C(C)CCC1=C(C)CCCC1(C)CQ  \n",
       "5  CNC(=O)C1(C)CCC2(C)CCC3(C)C4=CC=C5C(=CC(=O)C(O...  \n",
       "6                             C#Cc1cncc(-c2ccsc2)c1Q  \n",
       "7  C=C(C)C(O)C(O)CC(C)C1=C2C=CC3C4(C)CCC(=O)C(C)(...  \n",
       "8  CNCCCOc1c(G)cc(-c2cWc(=O)c(Cc3cWc4ccccc34)n2)c...  "
      ]
     },
     "execution_count": 3,
     "metadata": {},
     "output_type": "execute_result"
    }
   ],
   "source": [
    "data"
   ]
  },
  {
   "cell_type": "code",
   "execution_count": 4,
   "metadata": {},
   "outputs": [],
   "source": [
    "df = pd.DataFrame(data)"
   ]
  },
  {
   "cell_type": "code",
   "execution_count": 5,
   "metadata": {},
   "outputs": [],
   "source": [
    "smilesCodes = data['canonicalSmiles'].values"
   ]
  },
  {
   "cell_type": "code",
   "execution_count": 6,
   "metadata": {},
   "outputs": [
    {
     "data": {
      "text/plain": [
       "'CNC(=S)NN=C(c1ccc(OC)c(OC)c1)c1cccc(C)n1'"
      ]
     },
     "execution_count": 6,
     "metadata": {},
     "output_type": "execute_result"
    }
   ],
   "source": [
    "smilesCodes[0]"
   ]
  },
  {
   "cell_type": "code",
   "execution_count": 7,
   "metadata": {},
   "outputs": [],
   "source": [
    "def calculateDescriptors(smilesCode):\n",
    "    m = Chem.MolFromSmiles(smilesCode)\n",
    "    return(Descriptors.MolWt(m), Descriptors.NumValenceElectrons(m))"
   ]
  },
  {
   "cell_type": "code",
   "execution_count": 8,
   "metadata": {},
   "outputs": [
    {
     "data": {
      "text/plain": [
       "(344.44000000000005, 126)"
      ]
     },
     "execution_count": 8,
     "metadata": {},
     "output_type": "execute_result"
    }
   ],
   "source": [
    "calculateDescriptors(smilesCodes[0])"
   ]
  },
  {
   "cell_type": "code",
   "execution_count": 9,
   "metadata": {},
   "outputs": [],
   "source": [
    "results = []\n",
    "for item in smilesCodes:\n",
    "    descriptors = calculateDescriptors(item)\n",
    "    results.append([item, descriptors[0], descriptors[1]])"
   ]
  },
  {
   "cell_type": "code",
   "execution_count": 11,
   "metadata": {},
   "outputs": [],
   "source": [
    "resultsDF = pd.DataFrame(results)"
   ]
  },
  {
   "cell_type": "code",
   "execution_count": 12,
   "metadata": {},
   "outputs": [],
   "source": [
    "resultsDF.columns = ['smilesCode', 'molecularWeight', 'numberOfValElectrons']"
   ]
  },
  {
   "cell_type": "code",
   "execution_count": 13,
   "metadata": {},
   "outputs": [
    {
     "data": {
      "text/html": [
       "<div>\n",
       "<style scoped>\n",
       "    .dataframe tbody tr th:only-of-type {\n",
       "        vertical-align: middle;\n",
       "    }\n",
       "\n",
       "    .dataframe tbody tr th {\n",
       "        vertical-align: top;\n",
       "    }\n",
       "\n",
       "    .dataframe thead th {\n",
       "        text-align: right;\n",
       "    }\n",
       "</style>\n",
       "<table border=\"1\" class=\"dataframe\">\n",
       "  <thead>\n",
       "    <tr style=\"text-align: right;\">\n",
       "      <th></th>\n",
       "      <th>smilesCode</th>\n",
       "      <th>molecularWeight</th>\n",
       "      <th>numberOfValElectrons</th>\n",
       "    </tr>\n",
       "  </thead>\n",
       "  <tbody>\n",
       "    <tr>\n",
       "      <th>0</th>\n",
       "      <td>CNC(=S)NN=C(c1ccc(OC)c(OC)c1)c1cccc(C)n1</td>\n",
       "      <td>344.440</td>\n",
       "      <td>126</td>\n",
       "    </tr>\n",
       "    <tr>\n",
       "      <th>1</th>\n",
       "      <td>Cn1cc(C2=C(c3cccc(NCC(O)CO)c3)C(=O)NC2=O)c2cc(...</td>\n",
       "      <td>425.872</td>\n",
       "      <td>154</td>\n",
       "    </tr>\n",
       "    <tr>\n",
       "      <th>2</th>\n",
       "      <td>CC(C)c1cccc(C(C)C)c1-n1sc2ncccc2c1=O</td>\n",
       "      <td>312.438</td>\n",
       "      <td>114</td>\n",
       "    </tr>\n",
       "    <tr>\n",
       "      <th>3</th>\n",
       "      <td>O=S(=O)(Nc1ccc(CCNCC(O)COc2ccc(O)cc2)cc1)c1ccc...</td>\n",
       "      <td>568.433</td>\n",
       "      <td>170</td>\n",
       "    </tr>\n",
       "    <tr>\n",
       "      <th>4</th>\n",
       "      <td>CC(=CCCC1=CC(=O)OC1O)CC=C(C)CCC1=C(C)CCCC1(C)C</td>\n",
       "      <td>372.549</td>\n",
       "      <td>150</td>\n",
       "    </tr>\n",
       "    <tr>\n",
       "      <th>5</th>\n",
       "      <td>CNC(=O)C1(C)CCC2(C)CCC3(C)C4=CC=C5C(=CC(=O)C(O...</td>\n",
       "      <td>463.662</td>\n",
       "      <td>184</td>\n",
       "    </tr>\n",
       "    <tr>\n",
       "      <th>6</th>\n",
       "      <td>C#Cc1cncc(-c2ccsc2)c1</td>\n",
       "      <td>185.251</td>\n",
       "      <td>62</td>\n",
       "    </tr>\n",
       "    <tr>\n",
       "      <th>7</th>\n",
       "      <td>C=C(C)C(O)C(O)CC(C)C1=C2C=CC3C4(C)CCC(=O)C(C)(...</td>\n",
       "      <td>468.678</td>\n",
       "      <td>188</td>\n",
       "    </tr>\n",
       "    <tr>\n",
       "      <th>8</th>\n",
       "      <td>CNCCCOc1c(Br)cc(-c2c[nH]c(=O)c(Cc3c[nH]c4ccccc...</td>\n",
       "      <td>546.263</td>\n",
       "      <td>160</td>\n",
       "    </tr>\n",
       "  </tbody>\n",
       "</table>\n",
       "</div>"
      ],
      "text/plain": [
       "                                          smilesCode  molecularWeight  \\\n",
       "0           CNC(=S)NN=C(c1ccc(OC)c(OC)c1)c1cccc(C)n1          344.440   \n",
       "1  Cn1cc(C2=C(c3cccc(NCC(O)CO)c3)C(=O)NC2=O)c2cc(...          425.872   \n",
       "2               CC(C)c1cccc(C(C)C)c1-n1sc2ncccc2c1=O          312.438   \n",
       "3  O=S(=O)(Nc1ccc(CCNCC(O)COc2ccc(O)cc2)cc1)c1ccc...          568.433   \n",
       "4     CC(=CCCC1=CC(=O)OC1O)CC=C(C)CCC1=C(C)CCCC1(C)C          372.549   \n",
       "5  CNC(=O)C1(C)CCC2(C)CCC3(C)C4=CC=C5C(=CC(=O)C(O...          463.662   \n",
       "6                              C#Cc1cncc(-c2ccsc2)c1          185.251   \n",
       "7  C=C(C)C(O)C(O)CC(C)C1=C2C=CC3C4(C)CCC(=O)C(C)(...          468.678   \n",
       "8  CNCCCOc1c(Br)cc(-c2c[nH]c(=O)c(Cc3c[nH]c4ccccc...          546.263   \n",
       "\n",
       "   numberOfValElectrons  \n",
       "0                   126  \n",
       "1                   154  \n",
       "2                   114  \n",
       "3                   170  \n",
       "4                   150  \n",
       "5                   184  \n",
       "6                    62  \n",
       "7                   188  \n",
       "8                   160  "
      ]
     },
     "execution_count": 13,
     "metadata": {},
     "output_type": "execute_result"
    }
   ],
   "source": [
    "resultsDF"
   ]
  },
  {
   "cell_type": "markdown",
   "metadata": {},
   "source": [
    "CALCULATIONS FOR NEW MOLECUES"
   ]
  },
  {
   "cell_type": "code",
   "execution_count": null,
   "metadata": {},
   "outputs": [],
   "source": [
    "from rdkit import Chem\n",
    "import pandas as pd\n",
    "from rdkit.Chem import Descriptors"
   ]
  },
  {
   "cell_type": "markdown",
   "metadata": {},
   "source": [
    "Import funkcjonalności, jest to jak najbardziej zrozumiałe."
   ]
  },
  {
   "cell_type": "code",
   "execution_count": null,
   "metadata": {},
   "outputs": [],
   "source": [
    "df = pd.read_excel('plikwsadowy.xlsx')"
   ]
  },
  {
   "cell_type": "markdown",
   "metadata": {},
   "source": [
    "Wczytanie pliku z badanymi danymi SMILES. Robiłem to w zły sposób, gdyż zauważyłe, że indeksowałem tabelę wyjściową wg. CanonicalSmiles, co doprowadzało do znacznego skomplikowania danych wyjściowych, gdyż wszystkie one były połączone z powyższymi."
   ]
  },
  {
   "cell_type": "code",
   "execution_count": null,
   "metadata": {},
   "outputs": [],
   "source": [
    "df"
   ]
  },
  {
   "cell_type": "code",
   "execution_count": null,
   "metadata": {},
   "outputs": [],
   "source": [
    "df.head()"
   ]
  },
  {
   "cell_type": "code",
   "execution_count": null,
   "metadata": {},
   "outputs": [],
   "source": [
    "df = pd.DataFrame(df)"
   ]
  },
  {
   "cell_type": "markdown",
   "metadata": {},
   "source": [
    "Przerobienie danych na postać tabeli."
   ]
  },
  {
   "cell_type": "code",
   "execution_count": null,
   "metadata": {},
   "outputs": [],
   "source": [
    "smilesCodes = df['SMILES'].values"
   ]
  },
  {
   "cell_type": "markdown",
   "metadata": {},
   "source": [
    "Określenie i wczytanie wybranych wartości z stworzonej tabeli. Przyznam szczerze, że nie spotkałem się z zapisem .values."
   ]
  },
  {
   "cell_type": "code",
   "execution_count": null,
   "metadata": {},
   "outputs": [],
   "source": [
    "smilesCodes[0]"
   ]
  },
  {
   "cell_type": "code",
   "execution_count": null,
   "metadata": {},
   "outputs": [],
   "source": [
    "smilesCodes[4]"
   ]
  },
  {
   "cell_type": "code",
   "execution_count": null,
   "metadata": {},
   "outputs": [],
   "source": [
    "def calculateDescriptors(smilesCode):\n",
    "    m = Chem.MolFromSmiles(smilesCode)\n",
    "    return(Descriptors.MolWt(m), Descriptors.NumValenceElectrons(m))"
   ]
  },
  {
   "cell_type": "markdown",
   "metadata": {},
   "source": [
    "Funkcja musi być zdefiniowana, czego nie udało mi się zrobić w dobry sposób. Faktycznie należy zdefiniować, że pracujemy na cząsteczce za pomocą m = Chem.MolFromSmiles(smilesCode) i wtedy możemy to odnieść do danych wejściowych."
   ]
  },
  {
   "cell_type": "code",
   "execution_count": null,
   "metadata": {},
   "outputs": [],
   "source": [
    "calculateDescriptors(smilesCodes[3])"
   ]
  },
  {
   "cell_type": "code",
   "execution_count": null,
   "metadata": {},
   "outputs": [],
   "source": [
    "results = []\n",
    "for item in smilesCodes:\n",
    "    descriptors = calculateDescriptors(item)\n",
    "    results.append([item, descriptors[0], descriptors[1]])"
   ]
  },
  {
   "cell_type": "markdown",
   "metadata": {},
   "source": [
    "Zacznę trochę od końca, ale myślę, że nie sprawi to Panu Problemu. Descriptors[0],[1] oznaczają kolejno Descriptors.MolWt(m), Descriptors.NumValenceElectrons(m) i to jest zrozumiałe, gdyż są kolejno indeksowane, począwszy od 0. .append oznacza, o ile dobrze pamiętam dodanie wyniku na końcu. Przedmiot item nie jest nigdzie zdefiniowany, przez co zastanawia mnie skąd Python wie co ma wykonać. Chyba, że 'item' oznacza każdą kolejną wartość ze zbioru smilesCodes i w ten sposób są one wyznaczane kolejno, co w sumie bardzo dobrze wyjaśnia działanie tego skryptu."
   ]
  },
  {
   "cell_type": "markdown",
   "metadata": {},
   "source": [
    "### Rafal\n",
    "* 'item' to jest zmienna wewnętrzna pętli\n",
    "* zapis: 'for item in smilesCodes' oznacza: dla każdego elementu kolekcji zrób to co zdefiniowane poniżej we wcięciu (czyli descriptors = ...)\n",
    "* Pewnie przeczytałeś, że zakres pętli w Pythonie jest definiowany przez wcięcia (4 spacje)"
   ]
  },
  {
   "cell_type": "code",
   "execution_count": null,
   "metadata": {},
   "outputs": [],
   "source": [
    "resultsDF = pd.DataFrame(results)"
   ]
  },
  {
   "cell_type": "markdown",
   "metadata": {},
   "source": [
    "Przerobioenie danych na formę tabeli."
   ]
  },
  {
   "cell_type": "code",
   "execution_count": null,
   "metadata": {},
   "outputs": [],
   "source": [
    "resultsDF.columns = ['smilesCode', 'molecularWeight', 'numberOfValElectrons']"
   ]
  },
  {
   "cell_type": "markdown",
   "metadata": {},
   "source": [
    "Dodanie nazw kolumn."
   ]
  },
  {
   "cell_type": "code",
   "execution_count": null,
   "metadata": {},
   "outputs": [],
   "source": [
    "resultsDF"
   ]
  },
  {
   "cell_type": "markdown",
   "metadata": {},
   "source": [
    "Czy mógłbym poprosić o zadania tego typu do samodzielnego rozwiązania?\n",
    "Raz jeszcze przepraszam za głupotę."
   ]
  },
  {
   "cell_type": "markdown",
   "metadata": {},
   "source": [
    "Nie ma za co przepraszać, wszystko jest ok - uczysz się. :)"
   ]
  },
  {
   "cell_type": "markdown",
   "metadata": {},
   "source": [
    "### Zadanie kolejne"
   ]
  },
  {
   "cell_type": "markdown",
   "metadata": {},
   "source": [
    "* Dla każdej cząsteczki z powyższego zbioru przeprowadź przeszukanie przestrzeni konformerów i znajdź najbardziej stabilny konformer (w ramach dostępnego w RDkit pola siłowego). Kroki/funkcje:\n",
    "    * przeprowadzenie kodu smiles do postaci 3D (należy dodać wodory, których - jak wiesz - nie ma w kodzie SMILES w postaci jawnej; naeży napisać funkcję, która to robi z zwraca obiekt cząsteczki (Mol)\n",
    "    * wygenerować rodzinę konformerów\n",
    "    * przeanalizować energie znalezionych konformerów"
   ]
  },
  {
   "cell_type": "markdown",
   "metadata": {},
   "source": [
    "### Literatura/materiały\n",
    "* https://www.rdkit.org/UGM/2012/Ebejer_20110926_RDKit_1stUGM.pdf\n",
    "* tutaj kawałki kodu, które powinny posłużyć jako inspiracja: https://gist.github.com/tdudgeon/b061dc67f9d879905b50118408c30aac"
   ]
  }
 ],
 "metadata": {
  "kernelspec": {
   "display_name": "Python 3",
   "language": "python",
   "name": "python3"
  },
  "language_info": {
   "codemirror_mode": {
    "name": "ipython",
    "version": 3
   },
   "file_extension": ".py",
   "mimetype": "text/x-python",
   "name": "python",
   "nbconvert_exporter": "python",
   "pygments_lexer": "ipython3",
   "version": "3.7.4"
  }
 },
 "nbformat": 4,
 "nbformat_minor": 2
}
